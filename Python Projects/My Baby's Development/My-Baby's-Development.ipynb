{
 "cells": [
  {
   "cell_type": "markdown",
   "id": "e87c3bbc-36b3-49e8-b4b0-2f26690e0df2",
   "metadata": {
    "tags": []
   },
   "source": [
    "# My Baby's Development"
   ]
  },
  {
   "cell_type": "markdown",
   "id": "0b0df76a-900d-4b5d-8184-a7fe88d60841",
   "metadata": {},
   "source": [
    "## Setup"
   ]
  },
  {
   "cell_type": "markdown",
   "id": "24383a3a-2df6-4da8-8a73-37c6199c9275",
   "metadata": {},
   "source": [
    "##### Import Data & modules"
   ]
  },
  {
   "cell_type": "code",
   "execution_count": 1,
   "id": "67342980-9cb8-49e2-83f0-0dd820baa087",
   "metadata": {
    "tags": []
   },
   "outputs": [
    {
     "data": {
      "text/html": [
       "<div>\n",
       "<style scoped>\n",
       "    .dataframe tbody tr th:only-of-type {\n",
       "        vertical-align: middle;\n",
       "    }\n",
       "\n",
       "    .dataframe tbody tr th {\n",
       "        vertical-align: top;\n",
       "    }\n",
       "\n",
       "    .dataframe thead th {\n",
       "        text-align: right;\n",
       "    }\n",
       "</style>\n",
       "<table border=\"1\" class=\"dataframe\">\n",
       "  <thead>\n",
       "    <tr style=\"text-align: right;\">\n",
       "      <th></th>\n",
       "      <th>Baby Name</th>\n",
       "      <th>Start Time</th>\n",
       "      <th>End Time</th>\n",
       "      <th>Activity</th>\n",
       "      <th>Amount</th>\n",
       "      <th>Percentile</th>\n",
       "      <th>Duration</th>\n",
       "      <th>Info</th>\n",
       "      <th>Notes</th>\n",
       "      <th>Unnamed: 9</th>\n",
       "    </tr>\n",
       "  </thead>\n",
       "  <tbody>\n",
       "    <tr>\n",
       "      <th>0</th>\n",
       "      <td>Elisha Jian Park</td>\n",
       "      <td>03/05/2022 0:00 AM</td>\n",
       "      <td>03/05/2022 0:00 AM</td>\n",
       "      <td>Weight</td>\n",
       "      <td>8.18</td>\n",
       "      <td>0.8411</td>\n",
       "      <td>NaN</td>\n",
       "      <td>NaN</td>\n",
       "      <td>Measured by Nurse</td>\n",
       "      <td>NaN</td>\n",
       "    </tr>\n",
       "    <tr>\n",
       "      <th>1</th>\n",
       "      <td>Elisha Jian Park</td>\n",
       "      <td>03/05/2022 0:00 AM</td>\n",
       "      <td>03/05/2022 0:00 AM</td>\n",
       "      <td>Length</td>\n",
       "      <td>21.5</td>\n",
       "      <td>0.9983</td>\n",
       "      <td>NaN</td>\n",
       "      <td>NaN</td>\n",
       "      <td>Measured by Nurse</td>\n",
       "      <td>NaN</td>\n",
       "    </tr>\n",
       "    <tr>\n",
       "      <th>2</th>\n",
       "      <td>Elisha Jian Park</td>\n",
       "      <td>03/06/2022 0:00 AM</td>\n",
       "      <td>03/06/2022 0:00 AM</td>\n",
       "      <td>Weight</td>\n",
       "      <td>7.875</td>\n",
       "      <td>NaN</td>\n",
       "      <td>NaN</td>\n",
       "      <td>NaN</td>\n",
       "      <td>Measured by Nurse</td>\n",
       "      <td>NaN</td>\n",
       "    </tr>\n",
       "  </tbody>\n",
       "</table>\n",
       "</div>"
      ],
      "text/plain": [
       "          Baby Name          Start Time            End Time Activity Amount  \\\n",
       "0  Elisha Jian Park  03/05/2022 0:00 AM  03/05/2022 0:00 AM   Weight   8.18   \n",
       "1  Elisha Jian Park  03/05/2022 0:00 AM  03/05/2022 0:00 AM   Length   21.5   \n",
       "2  Elisha Jian Park  03/06/2022 0:00 AM  03/06/2022 0:00 AM   Weight  7.875   \n",
       "\n",
       "   Percentile  Duration Info              Notes  Unnamed: 9  \n",
       "0      0.8411       NaN  NaN  Measured by Nurse         NaN  \n",
       "1      0.9983       NaN  NaN  Measured by Nurse         NaN  \n",
       "2         NaN       NaN  NaN  Measured by Nurse         NaN  "
      ]
     },
     "execution_count": 1,
     "metadata": {},
     "output_type": "execute_result"
    }
   ],
   "source": [
    "import pandas as pd\n",
    "import matplotlib.pyplot as plt\n",
    "import matplotlib.dates as mdates\n",
    "from matplotlib import style\n",
    "import numpy as np\n",
    "import datetime\n",
    "from matplotlib.dates import DateFormatter\n",
    "\n",
    "df = pd.read_csv('./HatchBaby_2022-03-05_2022-08-06.csv')\n",
    "df.head(3)"
   ]
  },
  {
   "cell_type": "markdown",
   "id": "c7583356-8813-47b6-9864-99d2a5e2bc61",
   "metadata": {},
   "source": [
    "##### Number of Rows"
   ]
  },
  {
   "cell_type": "code",
   "execution_count": 2,
   "id": "96d9e5f4-99ac-40aa-9f59-3d454d517317",
   "metadata": {},
   "outputs": [
    {
     "data": {
      "text/plain": [
       "1894"
      ]
     },
     "execution_count": 2,
     "metadata": {},
     "output_type": "execute_result"
    }
   ],
   "source": [
    "len(df)"
   ]
  },
  {
   "cell_type": "markdown",
   "id": "248ddb9d-a796-4caa-a3ea-dde3622d1fc1",
   "metadata": {},
   "source": [
    "##### Data Types"
   ]
  },
  {
   "cell_type": "code",
   "execution_count": 3,
   "id": "e0ba4055-09cc-4b3b-9540-f51d61129444",
   "metadata": {},
   "outputs": [
    {
     "data": {
      "text/plain": [
       "Baby Name      object\n",
       "Start Time     object\n",
       "End Time       object\n",
       "Activity       object\n",
       "Amount         object\n",
       "Percentile    float64\n",
       "Duration      float64\n",
       "Info           object\n",
       "Notes          object\n",
       "Unnamed: 9    float64\n",
       "dtype: object"
      ]
     },
     "execution_count": 3,
     "metadata": {},
     "output_type": "execute_result"
    }
   ],
   "source": [
    "df.dtypes"
   ]
  },
  {
   "cell_type": "markdown",
   "id": "2c517856-cf91-4aa9-b870-5c82683b08a2",
   "metadata": {},
   "source": [
    "##### Check For Nulls"
   ]
  },
  {
   "cell_type": "code",
   "execution_count": 4,
   "id": "99bcb3bb-c9c3-4b30-a585-51443d84bf9b",
   "metadata": {},
   "outputs": [
    {
     "data": {
      "text/plain": [
       "Baby Name        1\n",
       "Start Time       0\n",
       "End Time         0\n",
       "Activity         0\n",
       "Amount           8\n",
       "Percentile    1864\n",
       "Duration       712\n",
       "Info           721\n",
       "Notes         1796\n",
       "Unnamed: 9    1894\n",
       "dtype: int64"
      ]
     },
     "execution_count": 4,
     "metadata": {},
     "output_type": "execute_result"
    }
   ],
   "source": [
    "df.isnull().sum()"
   ]
  },
  {
   "cell_type": "markdown",
   "id": "3758967f-7178-4b0d-bc2c-ae9404cf38e5",
   "metadata": {},
   "source": [
    "##### Drop Unused Column"
   ]
  },
  {
   "cell_type": "code",
   "execution_count": 5,
   "id": "2592832a-c73f-466b-b24f-572f900b82b1",
   "metadata": {},
   "outputs": [
    {
     "data": {
      "text/html": [
       "<div>\n",
       "<style scoped>\n",
       "    .dataframe tbody tr th:only-of-type {\n",
       "        vertical-align: middle;\n",
       "    }\n",
       "\n",
       "    .dataframe tbody tr th {\n",
       "        vertical-align: top;\n",
       "    }\n",
       "\n",
       "    .dataframe thead th {\n",
       "        text-align: right;\n",
       "    }\n",
       "</style>\n",
       "<table border=\"1\" class=\"dataframe\">\n",
       "  <thead>\n",
       "    <tr style=\"text-align: right;\">\n",
       "      <th></th>\n",
       "      <th>Baby Name</th>\n",
       "      <th>Start Time</th>\n",
       "      <th>End Time</th>\n",
       "      <th>Activity</th>\n",
       "      <th>Amount</th>\n",
       "      <th>Percentile</th>\n",
       "      <th>Duration</th>\n",
       "      <th>Info</th>\n",
       "      <th>Notes</th>\n",
       "    </tr>\n",
       "  </thead>\n",
       "  <tbody>\n",
       "    <tr>\n",
       "      <th>0</th>\n",
       "      <td>Elisha Jian Park</td>\n",
       "      <td>03/05/2022 0:00 AM</td>\n",
       "      <td>03/05/2022 0:00 AM</td>\n",
       "      <td>Weight</td>\n",
       "      <td>8.18</td>\n",
       "      <td>0.8411</td>\n",
       "      <td>NaN</td>\n",
       "      <td>NaN</td>\n",
       "      <td>Measured by Nurse</td>\n",
       "    </tr>\n",
       "  </tbody>\n",
       "</table>\n",
       "</div>"
      ],
      "text/plain": [
       "          Baby Name          Start Time            End Time Activity Amount  \\\n",
       "0  Elisha Jian Park  03/05/2022 0:00 AM  03/05/2022 0:00 AM   Weight   8.18   \n",
       "\n",
       "   Percentile  Duration Info              Notes  \n",
       "0      0.8411       NaN  NaN  Measured by Nurse  "
      ]
     },
     "execution_count": 5,
     "metadata": {},
     "output_type": "execute_result"
    }
   ],
   "source": [
    "df2 = df.drop(columns = 'Unnamed: 9')\n",
    "df2.head(1)"
   ]
  },
  {
   "cell_type": "markdown",
   "id": "f87bed89-d3fb-4eb6-a50d-0baaa0a29c05",
   "metadata": {},
   "source": [
    "##### 'Activity' types"
   ]
  },
  {
   "cell_type": "code",
   "execution_count": 6,
   "id": "00ab0fb4-fc92-4443-85b6-adf4a8bddd47",
   "metadata": {},
   "outputs": [
    {
     "name": "stdout",
     "output_type": "stream",
     "text": [
      "['Weight' 'Length' 'Feeding' 'Diaper' 'Sleep' 'Pump']\n"
     ]
    }
   ],
   "source": [
    "print(df2['Activity'].unique())"
   ]
  },
  {
   "cell_type": "markdown",
   "id": "fc8aaadd-2944-4946-b52a-624382ffe136",
   "metadata": {},
   "source": [
    "##### 'Amount' has non-numeric values; find these values"
   ]
  },
  {
   "cell_type": "code",
   "execution_count": 7,
   "id": "18c724c8-7a15-45ae-9ee9-4fc5f0826323",
   "metadata": {},
   "outputs": [
    {
     "data": {
      "text/html": [
       "<div>\n",
       "<style scoped>\n",
       "    .dataframe tbody tr th:only-of-type {\n",
       "        vertical-align: middle;\n",
       "    }\n",
       "\n",
       "    .dataframe tbody tr th {\n",
       "        vertical-align: top;\n",
       "    }\n",
       "\n",
       "    .dataframe thead th {\n",
       "        text-align: right;\n",
       "    }\n",
       "</style>\n",
       "<table border=\"1\" class=\"dataframe\">\n",
       "  <thead>\n",
       "    <tr style=\"text-align: right;\">\n",
       "      <th></th>\n",
       "      <th>Baby Name</th>\n",
       "      <th>Start Time</th>\n",
       "      <th>End Time</th>\n",
       "      <th>Activity</th>\n",
       "      <th>Amount</th>\n",
       "      <th>Percentile</th>\n",
       "      <th>Duration</th>\n",
       "      <th>Info</th>\n",
       "      <th>Notes</th>\n",
       "    </tr>\n",
       "  </thead>\n",
       "  <tbody>\n",
       "    <tr>\n",
       "      <th>504</th>\n",
       "      <td>Elisha Jian Park</td>\n",
       "      <td>04/12/2022 17:05 PM</td>\n",
       "      <td>04/12/2022 18:00 PM</td>\n",
       "      <td>Sleep</td>\n",
       "      <td>NaN</td>\n",
       "      <td>NaN</td>\n",
       "      <td>0.916667</td>\n",
       "      <td>NaN</td>\n",
       "      <td>NaN</td>\n",
       "    </tr>\n",
       "    <tr>\n",
       "      <th>508</th>\n",
       "      <td>Elisha Jian Park</td>\n",
       "      <td>04/12/2022 19:05 PM</td>\n",
       "      <td>04/12/2022 20:18 PM</td>\n",
       "      <td>Sleep</td>\n",
       "      <td>NaN</td>\n",
       "      <td>NaN</td>\n",
       "      <td>1.216667</td>\n",
       "      <td>NaN</td>\n",
       "      <td>NaN</td>\n",
       "    </tr>\n",
       "    <tr>\n",
       "      <th>863</th>\n",
       "      <td>Elisha Jian Park</td>\n",
       "      <td>05/08/2022 15:25 PM</td>\n",
       "      <td>05/08/2022 16:10 PM</td>\n",
       "      <td>Sleep</td>\n",
       "      <td>NaN</td>\n",
       "      <td>NaN</td>\n",
       "      <td>0.750000</td>\n",
       "      <td>NaN</td>\n",
       "      <td>NaN</td>\n",
       "    </tr>\n",
       "    <tr>\n",
       "      <th>891</th>\n",
       "      <td>Elisha Jian Park</td>\n",
       "      <td>05/10/2022 10:51 AM</td>\n",
       "      <td>05/10/2022 12:21 PM</td>\n",
       "      <td>Sleep</td>\n",
       "      <td>NaN</td>\n",
       "      <td>NaN</td>\n",
       "      <td>1.500000</td>\n",
       "      <td>NaN</td>\n",
       "      <td>NaN</td>\n",
       "    </tr>\n",
       "    <tr>\n",
       "      <th>906</th>\n",
       "      <td>Elisha Jian Park</td>\n",
       "      <td>05/10/2022 23:55 PM</td>\n",
       "      <td>05/11/2022 1:40 AM</td>\n",
       "      <td>Sleep</td>\n",
       "      <td>NaN</td>\n",
       "      <td>NaN</td>\n",
       "      <td>1.750000</td>\n",
       "      <td>NaN</td>\n",
       "      <td>NaN</td>\n",
       "    </tr>\n",
       "    <tr>\n",
       "      <th>907</th>\n",
       "      <td>Elisha Jian Park</td>\n",
       "      <td>05/11/2022 2:15 AM</td>\n",
       "      <td>05/11/2022 2:56 AM</td>\n",
       "      <td>Sleep</td>\n",
       "      <td>NaN</td>\n",
       "      <td>NaN</td>\n",
       "      <td>0.683333</td>\n",
       "      <td>NaN</td>\n",
       "      <td>NaN</td>\n",
       "    </tr>\n",
       "    <tr>\n",
       "      <th>923</th>\n",
       "      <td>Elisha Jian Park</td>\n",
       "      <td>05/12/2022 3:50 AM</td>\n",
       "      <td>05/12/2022 5:25 AM</td>\n",
       "      <td>Sleep</td>\n",
       "      <td>NaN</td>\n",
       "      <td>NaN</td>\n",
       "      <td>1.583333</td>\n",
       "      <td>NaN</td>\n",
       "      <td>NaN</td>\n",
       "    </tr>\n",
       "    <tr>\n",
       "      <th>924</th>\n",
       "      <td>Elisha Jian Park</td>\n",
       "      <td>05/12/2022 6:10 AM</td>\n",
       "      <td>05/12/2022 8:40 AM</td>\n",
       "      <td>Sleep</td>\n",
       "      <td>NaN</td>\n",
       "      <td>NaN</td>\n",
       "      <td>2.500000</td>\n",
       "      <td>NaN</td>\n",
       "      <td>NaN</td>\n",
       "    </tr>\n",
       "  </tbody>\n",
       "</table>\n",
       "</div>"
      ],
      "text/plain": [
       "            Baby Name           Start Time             End Time Activity  \\\n",
       "504  Elisha Jian Park  04/12/2022 17:05 PM  04/12/2022 18:00 PM    Sleep   \n",
       "508  Elisha Jian Park  04/12/2022 19:05 PM  04/12/2022 20:18 PM    Sleep   \n",
       "863  Elisha Jian Park  05/08/2022 15:25 PM  05/08/2022 16:10 PM    Sleep   \n",
       "891  Elisha Jian Park  05/10/2022 10:51 AM  05/10/2022 12:21 PM    Sleep   \n",
       "906  Elisha Jian Park  05/10/2022 23:55 PM   05/11/2022 1:40 AM    Sleep   \n",
       "907  Elisha Jian Park   05/11/2022 2:15 AM   05/11/2022 2:56 AM    Sleep   \n",
       "923  Elisha Jian Park   05/12/2022 3:50 AM   05/12/2022 5:25 AM    Sleep   \n",
       "924  Elisha Jian Park   05/12/2022 6:10 AM   05/12/2022 8:40 AM    Sleep   \n",
       "\n",
       "    Amount  Percentile  Duration Info Notes  \n",
       "504    NaN         NaN  0.916667  NaN   NaN  \n",
       "508    NaN         NaN  1.216667  NaN   NaN  \n",
       "863    NaN         NaN  0.750000  NaN   NaN  \n",
       "891    NaN         NaN  1.500000  NaN   NaN  \n",
       "906    NaN         NaN  1.750000  NaN   NaN  \n",
       "907    NaN         NaN  0.683333  NaN   NaN  \n",
       "923    NaN         NaN  1.583333  NaN   NaN  \n",
       "924    NaN         NaN  2.500000  NaN   NaN  "
      ]
     },
     "execution_count": 7,
     "metadata": {},
     "output_type": "execute_result"
    }
   ],
   "source": [
    "df2[df2['Amount'].isnull()]"
   ]
  },
  {
   "cell_type": "code",
   "execution_count": 8,
   "id": "9a59db74-7a73-4ec0-a8e4-610e5d8520e6",
   "metadata": {},
   "outputs": [
    {
     "name": "stdout",
     "output_type": "stream",
     "text": [
      "['Wet + Dirty' 'Wet' 'Dirty']\n"
     ]
    }
   ],
   "source": [
    "#print(df2[df2['Amount'].str.match('\\d+') == False]['Amount'].unique())\n",
    "\n",
    "df_amount_nn = df2[df2['Amount'].str.match('\\d+') == False]\n",
    "print(df_amount_nn['Amount'].unique())"
   ]
  },
  {
   "cell_type": "markdown",
   "id": "2008eb0d-e0f1-4731-aaee-79b01266e3d7",
   "metadata": {
    "tags": []
   },
   "source": [
    "##### Convert Non-numeric 'Amount' to Float"
   ]
  },
  {
   "cell_type": "code",
   "execution_count": 9,
   "id": "da79a17c-87a8-491c-9d41-7ba1bb8ef12e",
   "metadata": {},
   "outputs": [],
   "source": [
    "#df_amount_nn['Amount'] = df_amount_nn['Amount'].astype(float)"
   ]
  },
  {
   "cell_type": "markdown",
   "id": "fa7b2021-6408-4ca7-998b-e28dca792194",
   "metadata": {
    "tags": []
   },
   "source": [
    "##### Add 'Date' Column"
   ]
  },
  {
   "cell_type": "code",
   "execution_count": 10,
   "id": "b9146d45-e667-4d9b-b1dc-9e24eae7a3bb",
   "metadata": {},
   "outputs": [],
   "source": [
    "df2['Date'] = pd.to_datetime(df2['Start Time'], format = '%m/%d/%Y %H:%M %p').dt.floor('d')\n",
    "#df2['Date'] = pd.to_datetime(df2['Start Time'], format = '%m/%d/%Y %H:%M %p').dt.date"
   ]
  },
  {
   "cell_type": "markdown",
   "id": "1afcb459-4728-4e7d-b6b2-033ab5820cf0",
   "metadata": {
    "tags": []
   },
   "source": [
    "##### Add 'Month' Column"
   ]
  },
  {
   "cell_type": "code",
   "execution_count": 11,
   "id": "4b1344b9-f406-424b-9b4b-73384f680178",
   "metadata": {},
   "outputs": [],
   "source": [
    "df2['Month'] = pd.to_datetime(df2['Start Time'], format = '%m/%d/%Y %H:%M %p').dt.month"
   ]
  },
  {
   "cell_type": "markdown",
   "id": "45142e5c-130c-4e22-82c7-1bfc42112f80",
   "metadata": {},
   "source": [
    "##### Add 'DOW' Column"
   ]
  },
  {
   "cell_type": "code",
   "execution_count": 12,
   "id": "8d826c05-d920-47a9-89fc-5248c03a5ed2",
   "metadata": {},
   "outputs": [],
   "source": [
    "df2['DOW #'] = pd.to_datetime(df2['Start Time'], format = '%m/%d/%Y %H:%M %p').dt.dayofweek\n",
    "df2['DOW'] = pd.to_datetime(df2['Start Time'], format = '%m/%d/%Y %H:%M %p').dt.day_name()"
   ]
  },
  {
   "cell_type": "markdown",
   "id": "a2216def-27b5-439c-b79d-70469abf3720",
   "metadata": {},
   "source": [
    "##### Add 'Time' Column"
   ]
  },
  {
   "cell_type": "code",
   "execution_count": 13,
   "id": "80a9e0b9-cff4-4174-8b79-34e2db66b316",
   "metadata": {},
   "outputs": [],
   "source": [
    "df2['Time'] = pd.to_datetime(df2['Start Time'], format = '%m/%d/%Y %H:%M %p').dt.time"
   ]
  },
  {
   "cell_type": "markdown",
   "id": "323c2d68-3c9a-40da-aa18-69f2ca5ed679",
   "metadata": {},
   "source": [
    "##### Add 'Hour' Column"
   ]
  },
  {
   "cell_type": "code",
   "execution_count": 14,
   "id": "0177364d-b5ff-48f3-91e6-08d5eefc50b8",
   "metadata": {},
   "outputs": [],
   "source": [
    "df2['Hour(int)'] = pd.to_datetime(df2['Start Time'], format = '%m/%d/%Y %H:%M %p').dt.hour\n",
    "\n",
    "#df2['Hour(dt)'] = pd.to_datetime(df2['Start Time'], format = '%m/%d/%Y %H:%M %p').dt.floor('H').dt.time\n",
    "df2['Hour(dt)'] = pd.to_datetime('2022-01-01') + pd.to_timedelta(df2['Hour(int)'], unit='H')\n",
    "df2['Hour(dt)'] = pd.to_datetime(df2['Hour(dt)'])"
   ]
  },
  {
   "cell_type": "markdown",
   "id": "e1faafcb-fd98-4bdc-8733-2c11ad5fc4aa",
   "metadata": {},
   "source": [
    "##### Sort"
   ]
  },
  {
   "cell_type": "code",
   "execution_count": 15,
   "id": "6040fe9e-df79-4450-b36d-1372783ad9aa",
   "metadata": {},
   "outputs": [
    {
     "data": {
      "text/html": [
       "<div>\n",
       "<style scoped>\n",
       "    .dataframe tbody tr th:only-of-type {\n",
       "        vertical-align: middle;\n",
       "    }\n",
       "\n",
       "    .dataframe tbody tr th {\n",
       "        vertical-align: top;\n",
       "    }\n",
       "\n",
       "    .dataframe thead th {\n",
       "        text-align: right;\n",
       "    }\n",
       "</style>\n",
       "<table border=\"1\" class=\"dataframe\">\n",
       "  <thead>\n",
       "    <tr style=\"text-align: right;\">\n",
       "      <th></th>\n",
       "      <th>Baby Name</th>\n",
       "      <th>Start Time</th>\n",
       "      <th>End Time</th>\n",
       "      <th>Activity</th>\n",
       "      <th>Amount</th>\n",
       "      <th>Percentile</th>\n",
       "      <th>Duration</th>\n",
       "      <th>Info</th>\n",
       "      <th>Notes</th>\n",
       "      <th>Date</th>\n",
       "      <th>Month</th>\n",
       "      <th>DOW #</th>\n",
       "      <th>DOW</th>\n",
       "      <th>Time</th>\n",
       "      <th>Hour(int)</th>\n",
       "      <th>Hour(dt)</th>\n",
       "    </tr>\n",
       "  </thead>\n",
       "  <tbody>\n",
       "    <tr>\n",
       "      <th>1890</th>\n",
       "      <td>Elisha Jian Park</td>\n",
       "      <td>08/06/2022 15:30 PM</td>\n",
       "      <td>08/06/2022 15:30 PM</td>\n",
       "      <td>Feeding</td>\n",
       "      <td>5</td>\n",
       "      <td>NaN</td>\n",
       "      <td>0.0</td>\n",
       "      <td>Bottle</td>\n",
       "      <td>NaN</td>\n",
       "      <td>2022-08-06</td>\n",
       "      <td>8</td>\n",
       "      <td>5</td>\n",
       "      <td>Saturday</td>\n",
       "      <td>15:30:00</td>\n",
       "      <td>15</td>\n",
       "      <td>2022-01-01 15:00:00</td>\n",
       "    </tr>\n",
       "    <tr>\n",
       "      <th>1892</th>\n",
       "      <td>Elisha Jian Park</td>\n",
       "      <td>08/06/2022 18:44 PM</td>\n",
       "      <td>08/06/2022 18:44 PM</td>\n",
       "      <td>Feeding</td>\n",
       "      <td>6</td>\n",
       "      <td>NaN</td>\n",
       "      <td>0.0</td>\n",
       "      <td>Bottle</td>\n",
       "      <td>NaN</td>\n",
       "      <td>2022-08-06</td>\n",
       "      <td>8</td>\n",
       "      <td>5</td>\n",
       "      <td>Saturday</td>\n",
       "      <td>18:44:00</td>\n",
       "      <td>18</td>\n",
       "      <td>2022-01-01 18:00:00</td>\n",
       "    </tr>\n",
       "    <tr>\n",
       "      <th>1888</th>\n",
       "      <td>Elisha Jian Park</td>\n",
       "      <td>08/06/2022 5:55 AM</td>\n",
       "      <td>08/06/2022 5:55 AM</td>\n",
       "      <td>Feeding</td>\n",
       "      <td>4</td>\n",
       "      <td>NaN</td>\n",
       "      <td>0.0</td>\n",
       "      <td>Bottle</td>\n",
       "      <td>NaN</td>\n",
       "      <td>2022-08-06</td>\n",
       "      <td>8</td>\n",
       "      <td>5</td>\n",
       "      <td>Saturday</td>\n",
       "      <td>05:55:00</td>\n",
       "      <td>5</td>\n",
       "      <td>2022-01-01 05:00:00</td>\n",
       "    </tr>\n",
       "    <tr>\n",
       "      <th>1887</th>\n",
       "      <td>Elisha Jian Park</td>\n",
       "      <td>08/06/2022 6:44 AM</td>\n",
       "      <td>08/06/2022 6:44 AM</td>\n",
       "      <td>Feeding</td>\n",
       "      <td>2</td>\n",
       "      <td>NaN</td>\n",
       "      <td>0.0</td>\n",
       "      <td>Bottle</td>\n",
       "      <td>NaN</td>\n",
       "      <td>2022-08-06</td>\n",
       "      <td>8</td>\n",
       "      <td>5</td>\n",
       "      <td>Saturday</td>\n",
       "      <td>06:44:00</td>\n",
       "      <td>6</td>\n",
       "      <td>2022-01-01 06:00:00</td>\n",
       "    </tr>\n",
       "    <tr>\n",
       "      <th>1889</th>\n",
       "      <td>Elisha Jian Park</td>\n",
       "      <td>08/06/2022 9:28 AM</td>\n",
       "      <td>08/06/2022 9:28 AM</td>\n",
       "      <td>Feeding</td>\n",
       "      <td>5.8</td>\n",
       "      <td>NaN</td>\n",
       "      <td>0.0</td>\n",
       "      <td>Bottle</td>\n",
       "      <td>NaN</td>\n",
       "      <td>2022-08-06</td>\n",
       "      <td>8</td>\n",
       "      <td>5</td>\n",
       "      <td>Saturday</td>\n",
       "      <td>09:28:00</td>\n",
       "      <td>9</td>\n",
       "      <td>2022-01-01 09:00:00</td>\n",
       "    </tr>\n",
       "  </tbody>\n",
       "</table>\n",
       "</div>"
      ],
      "text/plain": [
       "             Baby Name           Start Time             End Time Activity  \\\n",
       "1890  Elisha Jian Park  08/06/2022 15:30 PM  08/06/2022 15:30 PM  Feeding   \n",
       "1892  Elisha Jian Park  08/06/2022 18:44 PM  08/06/2022 18:44 PM  Feeding   \n",
       "1888  Elisha Jian Park   08/06/2022 5:55 AM   08/06/2022 5:55 AM  Feeding   \n",
       "1887  Elisha Jian Park   08/06/2022 6:44 AM   08/06/2022 6:44 AM  Feeding   \n",
       "1889  Elisha Jian Park   08/06/2022 9:28 AM   08/06/2022 9:28 AM  Feeding   \n",
       "\n",
       "     Amount  Percentile  Duration    Info Notes       Date  Month  DOW #  \\\n",
       "1890      5         NaN       0.0  Bottle   NaN 2022-08-06      8      5   \n",
       "1892      6         NaN       0.0  Bottle   NaN 2022-08-06      8      5   \n",
       "1888      4         NaN       0.0  Bottle   NaN 2022-08-06      8      5   \n",
       "1887      2         NaN       0.0  Bottle   NaN 2022-08-06      8      5   \n",
       "1889    5.8         NaN       0.0  Bottle   NaN 2022-08-06      8      5   \n",
       "\n",
       "           DOW      Time  Hour(int)            Hour(dt)  \n",
       "1890  Saturday  15:30:00         15 2022-01-01 15:00:00  \n",
       "1892  Saturday  18:44:00         18 2022-01-01 18:00:00  \n",
       "1888  Saturday  05:55:00          5 2022-01-01 05:00:00  \n",
       "1887  Saturday  06:44:00          6 2022-01-01 06:00:00  \n",
       "1889  Saturday  09:28:00          9 2022-01-01 09:00:00  "
      ]
     },
     "execution_count": 15,
     "metadata": {},
     "output_type": "execute_result"
    }
   ],
   "source": [
    "df2 = df2.sort_values('Start Time', ascending=True)\n",
    "\n",
    "df2.tail(5)"
   ]
  },
  {
   "cell_type": "markdown",
   "id": "f5ac56bf-0795-4e72-8070-985ab8b81f14",
   "metadata": {},
   "source": [
    "##### Set Style"
   ]
  },
  {
   "cell_type": "code",
   "execution_count": 16,
   "id": "ed98915a-2f5c-4bd0-a0e5-74753174389c",
   "metadata": {},
   "outputs": [],
   "source": [
    "plt.style.use('Solarize_Light2')\n",
    "#print(style.available)"
   ]
  },
  {
   "cell_type": "markdown",
   "id": "17d6f32d-e06f-4362-8019-04f60ee1ce64",
   "metadata": {},
   "source": [
    "## Weight"
   ]
  },
  {
   "cell_type": "markdown",
   "id": "ad948809-39d0-46ab-9fd6-8b66eba06ab1",
   "metadata": {},
   "source": [
    "##### Filter Weight; Drop Null Values from 'Amount'"
   ]
  },
  {
   "cell_type": "code",
   "execution_count": 17,
   "id": "0250a95f-8370-4f18-8363-f5bac2e2b7b4",
   "metadata": {
    "tags": []
   },
   "outputs": [
    {
     "data": {
      "text/html": [
       "<div>\n",
       "<style scoped>\n",
       "    .dataframe tbody tr th:only-of-type {\n",
       "        vertical-align: middle;\n",
       "    }\n",
       "\n",
       "    .dataframe tbody tr th {\n",
       "        vertical-align: top;\n",
       "    }\n",
       "\n",
       "    .dataframe thead th {\n",
       "        text-align: right;\n",
       "    }\n",
       "</style>\n",
       "<table border=\"1\" class=\"dataframe\">\n",
       "  <thead>\n",
       "    <tr style=\"text-align: right;\">\n",
       "      <th></th>\n",
       "      <th>Baby Name</th>\n",
       "      <th>Start Time</th>\n",
       "      <th>End Time</th>\n",
       "      <th>Activity</th>\n",
       "      <th>Amount</th>\n",
       "      <th>Percentile</th>\n",
       "      <th>Duration</th>\n",
       "      <th>Info</th>\n",
       "      <th>Notes</th>\n",
       "      <th>Date</th>\n",
       "      <th>Month</th>\n",
       "      <th>DOW #</th>\n",
       "      <th>DOW</th>\n",
       "      <th>Time</th>\n",
       "      <th>Hour(int)</th>\n",
       "      <th>Hour(dt)</th>\n",
       "    </tr>\n",
       "  </thead>\n",
       "  <tbody>\n",
       "    <tr>\n",
       "      <th>0</th>\n",
       "      <td>Elisha Jian Park</td>\n",
       "      <td>03/05/2022 0:00 AM</td>\n",
       "      <td>03/05/2022 0:00 AM</td>\n",
       "      <td>Weight</td>\n",
       "      <td>8.18</td>\n",
       "      <td>0.8411</td>\n",
       "      <td>NaN</td>\n",
       "      <td>NaN</td>\n",
       "      <td>Measured by Nurse</td>\n",
       "      <td>2022-03-05</td>\n",
       "      <td>3</td>\n",
       "      <td>5</td>\n",
       "      <td>Saturday</td>\n",
       "      <td>00:00:00</td>\n",
       "      <td>0</td>\n",
       "      <td>2022-01-01</td>\n",
       "    </tr>\n",
       "    <tr>\n",
       "      <th>2</th>\n",
       "      <td>Elisha Jian Park</td>\n",
       "      <td>03/06/2022 0:00 AM</td>\n",
       "      <td>03/06/2022 0:00 AM</td>\n",
       "      <td>Weight</td>\n",
       "      <td>7.875</td>\n",
       "      <td>NaN</td>\n",
       "      <td>NaN</td>\n",
       "      <td>NaN</td>\n",
       "      <td>Measured by Nurse</td>\n",
       "      <td>2022-03-06</td>\n",
       "      <td>3</td>\n",
       "      <td>6</td>\n",
       "      <td>Sunday</td>\n",
       "      <td>00:00:00</td>\n",
       "      <td>0</td>\n",
       "      <td>2022-01-01</td>\n",
       "    </tr>\n",
       "    <tr>\n",
       "      <th>4</th>\n",
       "      <td>Elisha Jian Park</td>\n",
       "      <td>03/09/2022 0:00 AM</td>\n",
       "      <td>03/09/2022 0:00 AM</td>\n",
       "      <td>Weight</td>\n",
       "      <td>7.53</td>\n",
       "      <td>0.5487</td>\n",
       "      <td>NaN</td>\n",
       "      <td>NaN</td>\n",
       "      <td>Measured by Nurse</td>\n",
       "      <td>2022-03-09</td>\n",
       "      <td>3</td>\n",
       "      <td>2</td>\n",
       "      <td>Wednesday</td>\n",
       "      <td>00:00:00</td>\n",
       "      <td>0</td>\n",
       "      <td>2022-01-01</td>\n",
       "    </tr>\n",
       "  </tbody>\n",
       "</table>\n",
       "</div>"
      ],
      "text/plain": [
       "          Baby Name          Start Time            End Time Activity Amount  \\\n",
       "0  Elisha Jian Park  03/05/2022 0:00 AM  03/05/2022 0:00 AM   Weight   8.18   \n",
       "2  Elisha Jian Park  03/06/2022 0:00 AM  03/06/2022 0:00 AM   Weight  7.875   \n",
       "4  Elisha Jian Park  03/09/2022 0:00 AM  03/09/2022 0:00 AM   Weight   7.53   \n",
       "\n",
       "   Percentile  Duration Info              Notes       Date  Month  DOW #  \\\n",
       "0      0.8411       NaN  NaN  Measured by Nurse 2022-03-05      3      5   \n",
       "2         NaN       NaN  NaN  Measured by Nurse 2022-03-06      3      6   \n",
       "4      0.5487       NaN  NaN  Measured by Nurse 2022-03-09      3      2   \n",
       "\n",
       "         DOW      Time  Hour(int)   Hour(dt)  \n",
       "0   Saturday  00:00:00          0 2022-01-01  \n",
       "2     Sunday  00:00:00          0 2022-01-01  \n",
       "4  Wednesday  00:00:00          0 2022-01-01  "
      ]
     },
     "execution_count": 17,
     "metadata": {},
     "output_type": "execute_result"
    }
   ],
   "source": [
    "df_weight = df2[df2['Activity'] == 'Weight']\n",
    "df_weight = df_weight[df_weight['Amount'].notna()]\n",
    "df_weight.head(3)"
   ]
  },
  {
   "cell_type": "markdown",
   "id": "20796aec-1626-4af1-97ee-56505d8c2ab4",
   "metadata": {},
   "source": [
    "##### Convert 'Amount' to Float"
   ]
  },
  {
   "cell_type": "code",
   "execution_count": 18,
   "id": "80f7dd37-3188-43e9-8770-9e7c3e172406",
   "metadata": {},
   "outputs": [],
   "source": [
    "df_weight['Amount'] = df_weight['Amount'].astype(float)"
   ]
  },
  {
   "cell_type": "markdown",
   "id": "2cd4a7b6-b457-486f-82b6-d5c71c9f91b2",
   "metadata": {},
   "source": [
    "##### Plot Weight"
   ]
  },
  {
   "cell_type": "code",
   "execution_count": 19,
   "id": "8691befc-8ce1-42d6-81f9-5c05f23e9c9e",
   "metadata": {},
   "outputs": [
    {
     "data": {
      "text/plain": [
       "Text(0, 0.5, 'Pounds')"
      ]
     },
     "execution_count": 19,
     "metadata": {},
     "output_type": "execute_result"
    },
    {
     "data": {
      "image/png": "[encoded data removed]",
      "text/plain": [
       "<Figure size 432x288 with 1 Axes>"
      ]
     },
     "metadata": {},
     "output_type": "display_data"
    }
   ],
   "source": [
    "plt.yticks(np.arange(0, (max(df_weight['Amount'])+1), 4))\n",
    "plt.plot(df_weight['Date'], df_weight['Amount'])\n",
    "plt.title('Weight')\n",
    "plt.ylabel('Pounds')"
   ]
  },
  {
   "cell_type": "markdown",
   "id": "ada1a463-d364-42e2-8fd5-acf31ec6f6f6",
   "metadata": {},
   "source": [
    "##### Plot Weight Percentile"
   ]
  },
  {
   "cell_type": "code",
   "execution_count": 20,
   "id": "fbc01259-e2b5-46a4-9696-e39d2972668a",
   "metadata": {},
   "outputs": [
    {
     "data": {
      "text/plain": [
       "Text(0.5, 1.0, 'Weight Percentile')"
      ]
     },
     "execution_count": 20,
     "metadata": {},
     "output_type": "execute_result"
    },
    {
     "data": {
      "image/png": "[encoded data removed]",
      "text/plain": [
       "<Figure size 432x288 with 1 Axes>"
      ]
     },
     "metadata": {},
     "output_type": "display_data"
    }
   ],
   "source": [
    "df_weight_p = df_weight[df_weight['Percentile'].notna()]\n",
    "plt.plot(df_weight_p['Date'], df_weight_p['Percentile'])\n",
    "plt.gca().xaxis.set_major_locator(mdates.MonthLocator(interval=1))\n",
    "plt.yticks(np.arange(0, 1, .1))\n",
    "plt.title('Weight Percentile')"
   ]
  },
  {
   "cell_type": "markdown",
   "id": "a25ea34b-84eb-43b1-af4f-9273c9acab98",
   "metadata": {},
   "source": [
    "## Length"
   ]
  },
  {
   "cell_type": "markdown",
   "id": "dfa89432-538d-4ac5-93c2-00194753de4d",
   "metadata": {},
   "source": [
    "##### Filter Length; Drop Null Values from 'Amount'"
   ]
  },
  {
   "cell_type": "code",
   "execution_count": 21,
   "id": "38ddf8a2-49d8-48d6-a107-28767999392c",
   "metadata": {},
   "outputs": [
    {
     "data": {
      "text/html": [
       "<div>\n",
       "<style scoped>\n",
       "    .dataframe tbody tr th:only-of-type {\n",
       "        vertical-align: middle;\n",
       "    }\n",
       "\n",
       "    .dataframe tbody tr th {\n",
       "        vertical-align: top;\n",
       "    }\n",
       "\n",
       "    .dataframe thead th {\n",
       "        text-align: right;\n",
       "    }\n",
       "</style>\n",
       "<table border=\"1\" class=\"dataframe\">\n",
       "  <thead>\n",
       "    <tr style=\"text-align: right;\">\n",
       "      <th></th>\n",
       "      <th>Baby Name</th>\n",
       "      <th>Start Time</th>\n",
       "      <th>End Time</th>\n",
       "      <th>Activity</th>\n",
       "      <th>Amount</th>\n",
       "      <th>Percentile</th>\n",
       "      <th>Duration</th>\n",
       "      <th>Info</th>\n",
       "      <th>Notes</th>\n",
       "      <th>Date</th>\n",
       "      <th>Month</th>\n",
       "      <th>DOW #</th>\n",
       "      <th>DOW</th>\n",
       "      <th>Time</th>\n",
       "      <th>Hour(int)</th>\n",
       "      <th>Hour(dt)</th>\n",
       "    </tr>\n",
       "  </thead>\n",
       "  <tbody>\n",
       "    <tr>\n",
       "      <th>1</th>\n",
       "      <td>Elisha Jian Park</td>\n",
       "      <td>03/05/2022 0:00 AM</td>\n",
       "      <td>03/05/2022 0:00 AM</td>\n",
       "      <td>Length</td>\n",
       "      <td>21.5</td>\n",
       "      <td>0.9983</td>\n",
       "      <td>NaN</td>\n",
       "      <td>NaN</td>\n",
       "      <td>Measured by Nurse</td>\n",
       "      <td>2022-03-05</td>\n",
       "      <td>3</td>\n",
       "      <td>5</td>\n",
       "      <td>Saturday</td>\n",
       "      <td>00:00:00</td>\n",
       "      <td>0</td>\n",
       "      <td>2022-01-01</td>\n",
       "    </tr>\n",
       "    <tr>\n",
       "      <th>3</th>\n",
       "      <td>Elisha Jian Park</td>\n",
       "      <td>03/09/2022 0:00 AM</td>\n",
       "      <td>03/09/2022 0:00 AM</td>\n",
       "      <td>Length</td>\n",
       "      <td>21.3</td>\n",
       "      <td>0.9884</td>\n",
       "      <td>NaN</td>\n",
       "      <td>NaN</td>\n",
       "      <td>Measured by Nurse</td>\n",
       "      <td>2022-03-09</td>\n",
       "      <td>3</td>\n",
       "      <td>2</td>\n",
       "      <td>Wednesday</td>\n",
       "      <td>00:00:00</td>\n",
       "      <td>0</td>\n",
       "      <td>2022-01-01</td>\n",
       "    </tr>\n",
       "    <tr>\n",
       "      <th>7</th>\n",
       "      <td>Elisha Jian Park</td>\n",
       "      <td>03/24/2022 0:00 AM</td>\n",
       "      <td>03/24/2022 0:00 AM</td>\n",
       "      <td>Length</td>\n",
       "      <td>22.2</td>\n",
       "      <td>0.9884</td>\n",
       "      <td>NaN</td>\n",
       "      <td>NaN</td>\n",
       "      <td>Measured by Nurse</td>\n",
       "      <td>2022-03-24</td>\n",
       "      <td>3</td>\n",
       "      <td>3</td>\n",
       "      <td>Thursday</td>\n",
       "      <td>00:00:00</td>\n",
       "      <td>0</td>\n",
       "      <td>2022-01-01</td>\n",
       "    </tr>\n",
       "  </tbody>\n",
       "</table>\n",
       "</div>"
      ],
      "text/plain": [
       "          Baby Name          Start Time            End Time Activity Amount  \\\n",
       "1  Elisha Jian Park  03/05/2022 0:00 AM  03/05/2022 0:00 AM   Length   21.5   \n",
       "3  Elisha Jian Park  03/09/2022 0:00 AM  03/09/2022 0:00 AM   Length   21.3   \n",
       "7  Elisha Jian Park  03/24/2022 0:00 AM  03/24/2022 0:00 AM   Length   22.2   \n",
       "\n",
       "   Percentile  Duration Info              Notes       Date  Month  DOW #  \\\n",
       "1      0.9983       NaN  NaN  Measured by Nurse 2022-03-05      3      5   \n",
       "3      0.9884       NaN  NaN  Measured by Nurse 2022-03-09      3      2   \n",
       "7      0.9884       NaN  NaN  Measured by Nurse 2022-03-24      3      3   \n",
       "\n",
       "         DOW      Time  Hour(int)   Hour(dt)  \n",
       "1   Saturday  00:00:00          0 2022-01-01  \n",
       "3  Wednesday  00:00:00          0 2022-01-01  \n",
       "7   Thursday  00:00:00          0 2022-01-01  "
      ]
     },
     "execution_count": 21,
     "metadata": {},
     "output_type": "execute_result"
    }
   ],
   "source": [
    "df_len = df2[df2['Activity'] == 'Length']\n",
    "df_len = df_len[df_len['Amount'].notna()]\n",
    "df_len.head(3)"
   ]
  },
  {
   "cell_type": "markdown",
   "id": "b20edc4d-85bd-449e-8b23-5225baec6b14",
   "metadata": {},
   "source": [
    "##### Convert 'Amount' to Float"
   ]
  },
  {
   "cell_type": "code",
   "execution_count": 22,
   "id": "e0a08285-8d37-44ac-a439-4e19a1e49e92",
   "metadata": {},
   "outputs": [],
   "source": [
    "df_len['Amount'] = df_len['Amount'].astype(float)"
   ]
  },
  {
   "cell_type": "markdown",
   "id": "083c9b94-535e-4da2-af15-ecda62c2176d",
   "metadata": {},
   "source": [
    "##### Plot-Length"
   ]
  },
  {
   "cell_type": "code",
   "execution_count": 23,
   "id": "856fe46c-2db6-401d-9daf-9cf9a40a7b47",
   "metadata": {},
   "outputs": [
    {
     "data": {
      "text/plain": [
       "Text(0, 0.5, 'Inches')"
      ]
     },
     "execution_count": 23,
     "metadata": {},
     "output_type": "execute_result"
    },
    {
     "data": {
      "image/png": "[encoded data removed]",
      "text/plain": [
       "<Figure size 432x288 with 1 Axes>"
      ]
     },
     "metadata": {},
     "output_type": "display_data"
    }
   ],
   "source": [
    "plt.plot(df_len['Date'], df_len['Amount'])\n",
    "plt.yticks(np.arange(20, (max(df_len['Amount'])+1), 2))\n",
    "plt.gca().xaxis.set_major_locator(mdates.MonthLocator(interval=1))\n",
    "plt.title('Length')\n",
    "plt.ylabel('Inches')"
   ]
  },
  {
   "cell_type": "markdown",
   "id": "aca4ef5c-0423-4193-b84d-e240b5539219",
   "metadata": {},
   "source": [
    "##### Plot-Length Percentile"
   ]
  },
  {
   "cell_type": "code",
   "execution_count": 24,
   "id": "d2a3d736-fc93-44c6-93df-9413ef13a001",
   "metadata": {},
   "outputs": [
    {
     "data": {
      "text/plain": [
       "Text(0.5, 1.0, 'Length Percentile')"
      ]
     },
     "execution_count": 24,
     "metadata": {},
     "output_type": "execute_result"
    },
    {
     "data": {
      "image/png": "[encoded data removed]",
      "text/plain": [
       "<Figure size 432x288 with 1 Axes>"
      ]
     },
     "metadata": {},
     "output_type": "display_data"
    }
   ],
   "source": [
    "df_len_p = df_len[df_len['Percentile'].notna()]\n",
    "plt.plot(df_len_p['Date'], df_len_p['Percentile'])\n",
    "plt.gca().xaxis.set_major_locator(mdates.MonthLocator(interval=1))\n",
    "plt.yticks(np.arange(0, 1, .1))\n",
    "plt.title('Length Percentile')"
   ]
  },
  {
   "cell_type": "markdown",
   "id": "72d6d5dc-5d74-47cb-868c-ae3cc0fc33d2",
   "metadata": {},
   "source": [
    "## Feeding"
   ]
  },
  {
   "cell_type": "markdown",
   "id": "fe3d195a-64db-4bec-9ace-d8cb6093f358",
   "metadata": {},
   "source": [
    "##### Filter Feeding; Drop Null Values"
   ]
  },
  {
   "cell_type": "code",
   "execution_count": 25,
   "id": "28445ca4-2d8b-4975-936d-79c627647ce1",
   "metadata": {},
   "outputs": [
    {
     "data": {
      "text/html": [
       "<div>\n",
       "<style scoped>\n",
       "    .dataframe tbody tr th:only-of-type {\n",
       "        vertical-align: middle;\n",
       "    }\n",
       "\n",
       "    .dataframe tbody tr th {\n",
       "        vertical-align: top;\n",
       "    }\n",
       "\n",
       "    .dataframe thead th {\n",
       "        text-align: right;\n",
       "    }\n",
       "</style>\n",
       "<table border=\"1\" class=\"dataframe\">\n",
       "  <thead>\n",
       "    <tr style=\"text-align: right;\">\n",
       "      <th></th>\n",
       "      <th>Baby Name</th>\n",
       "      <th>Start Time</th>\n",
       "      <th>End Time</th>\n",
       "      <th>Activity</th>\n",
       "      <th>Amount</th>\n",
       "      <th>Percentile</th>\n",
       "      <th>Duration</th>\n",
       "      <th>Info</th>\n",
       "      <th>Notes</th>\n",
       "      <th>Date</th>\n",
       "      <th>Month</th>\n",
       "      <th>DOW #</th>\n",
       "      <th>DOW</th>\n",
       "      <th>Time</th>\n",
       "      <th>Hour(int)</th>\n",
       "      <th>Hour(dt)</th>\n",
       "    </tr>\n",
       "  </thead>\n",
       "  <tbody>\n",
       "    <tr>\n",
       "      <th>18</th>\n",
       "      <td>Elisha Jian Park</td>\n",
       "      <td>03/13/2022 0:56 AM</td>\n",
       "      <td>03/13/2022 0:56 AM</td>\n",
       "      <td>Feeding</td>\n",
       "      <td>2</td>\n",
       "      <td>NaN</td>\n",
       "      <td>0.0</td>\n",
       "      <td>Bottle</td>\n",
       "      <td>NaN</td>\n",
       "      <td>2022-03-13</td>\n",
       "      <td>3</td>\n",
       "      <td>6</td>\n",
       "      <td>Sunday</td>\n",
       "      <td>00:56:00</td>\n",
       "      <td>0</td>\n",
       "      <td>2022-01-01 00:00:00</td>\n",
       "    </tr>\n",
       "    <tr>\n",
       "      <th>13</th>\n",
       "      <td>Elisha Jian Park</td>\n",
       "      <td>03/13/2022 11:45 AM</td>\n",
       "      <td>03/13/2022 11:45 AM</td>\n",
       "      <td>Feeding</td>\n",
       "      <td>2.5</td>\n",
       "      <td>NaN</td>\n",
       "      <td>0.0</td>\n",
       "      <td>Bottle</td>\n",
       "      <td>NaN</td>\n",
       "      <td>2022-03-13</td>\n",
       "      <td>3</td>\n",
       "      <td>6</td>\n",
       "      <td>Sunday</td>\n",
       "      <td>11:45:00</td>\n",
       "      <td>11</td>\n",
       "      <td>2022-01-01 11:00:00</td>\n",
       "    </tr>\n",
       "    <tr>\n",
       "      <th>24</th>\n",
       "      <td>Elisha Jian Park</td>\n",
       "      <td>03/13/2022 14:45 PM</td>\n",
       "      <td>03/13/2022 14:45 PM</td>\n",
       "      <td>Feeding</td>\n",
       "      <td>2.5</td>\n",
       "      <td>NaN</td>\n",
       "      <td>0.0</td>\n",
       "      <td>Bottle</td>\n",
       "      <td>NaN</td>\n",
       "      <td>2022-03-13</td>\n",
       "      <td>3</td>\n",
       "      <td>6</td>\n",
       "      <td>Sunday</td>\n",
       "      <td>14:45:00</td>\n",
       "      <td>14</td>\n",
       "      <td>2022-01-01 14:00:00</td>\n",
       "    </tr>\n",
       "  </tbody>\n",
       "</table>\n",
       "</div>"
      ],
      "text/plain": [
       "           Baby Name           Start Time             End Time Activity  \\\n",
       "18  Elisha Jian Park   03/13/2022 0:56 AM   03/13/2022 0:56 AM  Feeding   \n",
       "13  Elisha Jian Park  03/13/2022 11:45 AM  03/13/2022 11:45 AM  Feeding   \n",
       "24  Elisha Jian Park  03/13/2022 14:45 PM  03/13/2022 14:45 PM  Feeding   \n",
       "\n",
       "   Amount  Percentile  Duration    Info Notes       Date  Month  DOW #  \\\n",
       "18      2         NaN       0.0  Bottle   NaN 2022-03-13      3      6   \n",
       "13    2.5         NaN       0.0  Bottle   NaN 2022-03-13      3      6   \n",
       "24    2.5         NaN       0.0  Bottle   NaN 2022-03-13      3      6   \n",
       "\n",
       "       DOW      Time  Hour(int)            Hour(dt)  \n",
       "18  Sunday  00:56:00          0 2022-01-01 00:00:00  \n",
       "13  Sunday  11:45:00         11 2022-01-01 11:00:00  \n",
       "24  Sunday  14:45:00         14 2022-01-01 14:00:00  "
      ]
     },
     "execution_count": 25,
     "metadata": {},
     "output_type": "execute_result"
    }
   ],
   "source": [
    "df_feed = df2[df2['Activity'] == 'Feeding']\n",
    "df_feed = df_feed[df_feed['Amount'].notna()]\n",
    "df_feed.head(3)"
   ]
  },
  {
   "cell_type": "markdown",
   "id": "1a2f4b86-b789-490d-bd95-2c83d6d759c4",
   "metadata": {},
   "source": [
    "##### Convert 'Amount' to Float"
   ]
  },
  {
   "cell_type": "code",
   "execution_count": 26,
   "id": "7056eb66-9353-4241-80b6-dce0f28874b7",
   "metadata": {},
   "outputs": [],
   "source": [
    "df_feed['Amount'] = df_feed['Amount'].astype(float)"
   ]
  },
  {
   "cell_type": "markdown",
   "id": "33a244a0-fee9-4dc1-aae1-16a92da2c100",
   "metadata": {},
   "source": [
    "##### Group & Sum by Day"
   ]
  },
  {
   "cell_type": "code",
   "execution_count": 27,
   "id": "9cdcb2a4-1649-4e6f-9dc9-fb6cbda56029",
   "metadata": {},
   "outputs": [],
   "source": [
    "df_feed_sum_day = df_feed['Amount'].groupby(df_feed['Date']).sum().reset_index(name ='Day Feed Amount')\n",
    "#(df_feed.groupby(['Date']))['Amount'].sum()"
   ]
  },
  {
   "cell_type": "markdown",
   "id": "86ac7530-ba30-4d5e-89c0-d53fe160d610",
   "metadata": {},
   "source": [
    "##### Plot-Feeding Amount By Day"
   ]
  },
  {
   "cell_type": "code",
   "execution_count": 28,
   "id": "ccdf0426-b064-4cb1-bd9a-22230ecedf99",
   "metadata": {},
   "outputs": [
    {
     "data": {
      "text/plain": [
       "Text(0, 0.5, 'Ounces')"
      ]
     },
     "execution_count": 28,
     "metadata": {},
     "output_type": "execute_result"
    },
    {
     "data": {
      "image/png": "[encoded data removed]",
      "text/plain": [
       "<Figure size 432x288 with 1 Axes>"
      ]
     },
     "metadata": {},
     "output_type": "display_data"
    }
   ],
   "source": [
    "plt.yticks(np.arange(0, (max(df_feed_sum_day['Day Feed Amount'])+1), 4))\n",
    "plt.plot(df_feed_sum_day['Date'], df_feed_sum_day['Day Feed Amount'])\n",
    "plt.title('Feeding Amount Per Day')\n",
    "plt.ylabel('Ounces')"
   ]
  },
  {
   "cell_type": "markdown",
   "id": "c22ec769-ef84-497b-a440-5929ca5c6552",
   "metadata": {},
   "source": [
    "##### Group & Sum by Hour-Bar"
   ]
  },
  {
   "cell_type": "code",
   "execution_count": 29,
   "id": "d0fb06c8-9800-4b45-bb9e-809912348584",
   "metadata": {},
   "outputs": [
    {
     "data": {
      "text/html": [
       "<div>\n",
       "<style scoped>\n",
       "    .dataframe tbody tr th:only-of-type {\n",
       "        vertical-align: middle;\n",
       "    }\n",
       "\n",
       "    .dataframe tbody tr th {\n",
       "        vertical-align: top;\n",
       "    }\n",
       "\n",
       "    .dataframe thead tr th {\n",
       "        text-align: left;\n",
       "    }\n",
       "</style>\n",
       "<table border=\"1\" class=\"dataframe\">\n",
       "  <thead>\n",
       "    <tr>\n",
       "      <th></th>\n",
       "      <th>Hour(dt)</th>\n",
       "      <th>Amount</th>\n",
       "    </tr>\n",
       "    <tr>\n",
       "      <th></th>\n",
       "      <th></th>\n",
       "      <th>sum</th>\n",
       "    </tr>\n",
       "  </thead>\n",
       "  <tbody>\n",
       "    <tr>\n",
       "      <th>0</th>\n",
       "      <td>2022-01-01 00:00:00</td>\n",
       "      <td>83.3</td>\n",
       "    </tr>\n",
       "    <tr>\n",
       "      <th>1</th>\n",
       "      <td>2022-01-01 01:00:00</td>\n",
       "      <td>71.6</td>\n",
       "    </tr>\n",
       "    <tr>\n",
       "      <th>2</th>\n",
       "      <td>2022-01-01 02:00:00</td>\n",
       "      <td>73.7</td>\n",
       "    </tr>\n",
       "  </tbody>\n",
       "</table>\n",
       "</div>"
      ],
      "text/plain": [
       "             Hour(dt) Amount\n",
       "                         sum\n",
       "0 2022-01-01 00:00:00   83.3\n",
       "1 2022-01-01 01:00:00   71.6\n",
       "2 2022-01-01 02:00:00   73.7"
      ]
     },
     "execution_count": 29,
     "metadata": {},
     "output_type": "execute_result"
    }
   ],
   "source": [
    "df_feed_sum_hr_bar = df_feed.groupby(['Hour(dt)']).agg({'Amount': ['sum']}).reset_index()\n",
    "df_feed_sum_hr_bar.head(3)"
   ]
  },
  {
   "cell_type": "code",
   "execution_count": 30,
   "id": "bb515121-c985-4df6-b923-90cf89bc3576",
   "metadata": {
    "jupyter": {
     "source_hidden": true
    },
    "tags": []
   },
   "outputs": [
    {
     "data": {
      "text/plain": [
       "\"test\\ndf_feed_grp_hr = df_feed.groupby(['Hour(dt)'])\\ndf_feed_hr_agg = pd.DataFrame()\\ndf_feed_hr_agg['sum_amt'] = df_feed_grp_hr['Amount'].sum()\\ndf_feed_hr_agg['avg_amt'] = df_feed_grp_hr['Amount'].mean()\\n#df_feed_hr_agg.iloc[0,0]\\ndf_feed_hr_agg.head()\\n\""
      ]
     },
     "execution_count": 30,
     "metadata": {},
     "output_type": "execute_result"
    }
   ],
   "source": [
    "'''test\n",
    "df_feed_grp_hr = df_feed.groupby(['Hour(dt)'])\n",
    "df_feed_hr_agg = pd.DataFrame()\n",
    "df_feed_hr_agg['sum_amt'] = df_feed_grp_hr['Amount'].sum()\n",
    "df_feed_hr_agg['avg_amt'] = df_feed_grp_hr['Amount'].mean()\n",
    "#df_feed_hr_agg.iloc[0,0]\n",
    "df_feed_hr_agg.head()\n",
    "'''"
   ]
  },
  {
   "cell_type": "markdown",
   "id": "a598a9ad-ab6c-47fb-ba3d-6ae542c01f87",
   "metadata": {},
   "source": [
    "##### Bar-Feeding Amount By Time"
   ]
  },
  {
   "cell_type": "code",
   "execution_count": 31,
   "id": "2f394705-fe92-4521-9d42-80af7b709839",
   "metadata": {},
   "outputs": [
    {
     "data": {
      "image/png": "[encoded data removed]",
      "text/plain": [
       "<Figure size 432x288 with 1 Axes>"
      ]
     },
     "metadata": {},
     "output_type": "display_data"
    }
   ],
   "source": [
    "fig, ax_fs_h = plt.subplots()\n",
    "\n",
    "x_fs_h = df_feed_sum_hr_bar['Hour(dt)']\n",
    "y_fs_h = df_feed_sum_hr_bar['Amount']['sum']\n",
    "ax_fs_h.bar(x_fs_h, y_fs_h, width=0.02)\n",
    "\n",
    "hours = mdates.HourLocator(interval = 2)\n",
    "hh_mm = mdates.DateFormatter('%H:%M')\n",
    "ax_fs_h.xaxis.set_major_locator(hours)\n",
    "ax_fs_h.xaxis.set_major_formatter(hh_mm)\n",
    "\n",
    "ax_fs_h.set_title('Total Feeding Amount Per Hour')\n",
    "ax_fs_h.set_ylabel('Ounces')\n",
    "\n",
    "ax_fs_h.set_xlim(datetime.datetime(2021, 12, 31, 23, 0), datetime.datetime(2022, 1, 1, 23, 59))\n",
    "#plt.setp(ax_fs_h.get_xticklabels()[-1], visible=False)\n",
    "\n",
    "fig.autofmt_xdate()\n",
    "fig.tight_layout()"
   ]
  },
  {
   "cell_type": "markdown",
   "id": "67f5b7dc-3422-486b-ae63-30c48ac87a9d",
   "metadata": {},
   "source": [
    "##### Group & Sum by Hour-Plot"
   ]
  },
  {
   "cell_type": "code",
   "execution_count": 32,
   "id": "8763e55c-68bc-402b-ac90-9884ea1163c0",
   "metadata": {},
   "outputs": [
    {
     "data": {
      "text/html": [
       "<div>\n",
       "<style scoped>\n",
       "    .dataframe tbody tr th:only-of-type {\n",
       "        vertical-align: middle;\n",
       "    }\n",
       "\n",
       "    .dataframe tbody tr th {\n",
       "        vertical-align: top;\n",
       "    }\n",
       "\n",
       "    .dataframe thead th {\n",
       "        text-align: right;\n",
       "    }\n",
       "</style>\n",
       "<table border=\"1\" class=\"dataframe\">\n",
       "  <thead>\n",
       "    <tr style=\"text-align: right;\">\n",
       "      <th></th>\n",
       "      <th>Hour(int)</th>\n",
       "      <th>Hour Feed Amount</th>\n",
       "    </tr>\n",
       "  </thead>\n",
       "  <tbody>\n",
       "    <tr>\n",
       "      <th>0</th>\n",
       "      <td>0</td>\n",
       "      <td>83.3</td>\n",
       "    </tr>\n",
       "    <tr>\n",
       "      <th>1</th>\n",
       "      <td>1</td>\n",
       "      <td>71.6</td>\n",
       "    </tr>\n",
       "    <tr>\n",
       "      <th>2</th>\n",
       "      <td>2</td>\n",
       "      <td>73.7</td>\n",
       "    </tr>\n",
       "    <tr>\n",
       "      <th>3</th>\n",
       "      <td>3</td>\n",
       "      <td>96.9</td>\n",
       "    </tr>\n",
       "    <tr>\n",
       "      <th>4</th>\n",
       "      <td>4</td>\n",
       "      <td>85.5</td>\n",
       "    </tr>\n",
       "  </tbody>\n",
       "</table>\n",
       "</div>"
      ],
      "text/plain": [
       "   Hour(int)  Hour Feed Amount\n",
       "0          0              83.3\n",
       "1          1              71.6\n",
       "2          2              73.7\n",
       "3          3              96.9\n",
       "4          4              85.5"
      ]
     },
     "execution_count": 32,
     "metadata": {},
     "output_type": "execute_result"
    }
   ],
   "source": [
    "df_feed_sum_hr_plot = df_feed['Amount'].groupby(df_feed['Hour(int)']).sum().reset_index(name ='Hour Feed Amount')\n",
    "df_feed_sum_hr_plot.head()"
   ]
  },
  {
   "cell_type": "markdown",
   "id": "8cb4447b-45bb-4bac-b82c-91cdc19cf33c",
   "metadata": {},
   "source": [
    "##### Plot-Feeding Amount by Time"
   ]
  },
  {
   "cell_type": "code",
   "execution_count": 33,
   "id": "686c66ac-e6e0-4d9b-bd2d-2d266f02d4fe",
   "metadata": {},
   "outputs": [
    {
     "data": {
      "image/png": "[encoded data removed]",
      "text/plain": [
       "<Figure size 432x288 with 1 Axes>"
      ]
     },
     "metadata": {},
     "output_type": "display_data"
    }
   ],
   "source": [
    "plt.yticks(np.arange(0, (max(df_feed_sum_hr_plot['Hour Feed Amount'])+20), 50))\n",
    "plt.xticks(np.arange(0, 23, 2))\n",
    "plt.plot(df_feed_sum_hr_plot['Hour(int)'], df_feed_sum_hr_plot['Hour Feed Amount'])\n",
    "plt.title('Total Feeding Amount Per Hour')\n",
    "plt.ylabel('Ounces')\n",
    "plt.xlabel('Hour')\n",
    "plt.gcf().autofmt_xdate()\n",
    "plt.gcf().tight_layout()"
   ]
  },
  {
   "cell_type": "markdown",
   "id": "d2c4d91b-9c72-49cf-aff3-fff748895f62",
   "metadata": {},
   "source": [
    "##### Group & Avg by Hour"
   ]
  },
  {
   "cell_type": "code",
   "execution_count": 34,
   "id": "8f24aeca-d8a7-4309-94a9-1c1d34ecd4b2",
   "metadata": {},
   "outputs": [
    {
     "data": {
      "text/html": [
       "<div>\n",
       "<style scoped>\n",
       "    .dataframe tbody tr th:only-of-type {\n",
       "        vertical-align: middle;\n",
       "    }\n",
       "\n",
       "    .dataframe tbody tr th {\n",
       "        vertical-align: top;\n",
       "    }\n",
       "\n",
       "    .dataframe thead th {\n",
       "        text-align: right;\n",
       "    }\n",
       "</style>\n",
       "<table border=\"1\" class=\"dataframe\">\n",
       "  <thead>\n",
       "    <tr style=\"text-align: right;\">\n",
       "      <th></th>\n",
       "      <th>Hour(int)</th>\n",
       "      <th>Hour Feed Avg</th>\n",
       "    </tr>\n",
       "  </thead>\n",
       "  <tbody>\n",
       "    <tr>\n",
       "      <th>0</th>\n",
       "      <td>0</td>\n",
       "      <td>2.776667</td>\n",
       "    </tr>\n",
       "    <tr>\n",
       "      <th>1</th>\n",
       "      <td>1</td>\n",
       "      <td>3.113043</td>\n",
       "    </tr>\n",
       "    <tr>\n",
       "      <th>2</th>\n",
       "      <td>2</td>\n",
       "      <td>2.834615</td>\n",
       "    </tr>\n",
       "  </tbody>\n",
       "</table>\n",
       "</div>"
      ],
      "text/plain": [
       "   Hour(int)  Hour Feed Avg\n",
       "0          0       2.776667\n",
       "1          1       3.113043\n",
       "2          2       2.834615"
      ]
     },
     "execution_count": 34,
     "metadata": {},
     "output_type": "execute_result"
    }
   ],
   "source": [
    "df_feed_avg_hr = df_feed['Amount'].groupby(df_feed['Hour(int)']).mean().reset_index(name ='Hour Feed Avg')\n",
    "\n",
    "df_feed_avg_hr.head(3)"
   ]
  },
  {
   "cell_type": "code",
   "execution_count": 35,
   "id": "86f82e0c-48e1-4ad8-91a0-9ad51ed17898",
   "metadata": {},
   "outputs": [
    {
     "data": {
      "text/plain": [
       "Text(0.5, 0, 'Hour')"
      ]
     },
     "execution_count": 35,
     "metadata": {},
     "output_type": "execute_result"
    },
    {
     "data": {
      "image/png": "[encoded data removed]",
      "text/plain": [
       "<Figure size 432x288 with 1 Axes>"
      ]
     },
     "metadata": {},
     "output_type": "display_data"
    }
   ],
   "source": [
    "plt.yticks(np.arange(0, (max(df_feed_avg_hr['Hour Feed Avg'])+1), 1))\n",
    "plt.xticks(np.arange(0, 23, 2))\n",
    "plt.bar(df_feed_avg_hr['Hour(int)'], df_feed_avg_hr['Hour Feed Avg'])\n",
    "plt.title('Avg Feeding Amount Per Hour')\n",
    "plt.ylabel('Ounces')\n",
    "plt.xlabel('Hour')"
   ]
  },
  {
   "cell_type": "markdown",
   "id": "78dce12d-d61e-449c-9495-b8c9e8bb391f",
   "metadata": {},
   "source": [
    "##### Group & Avg by Month, Hour"
   ]
  },
  {
   "cell_type": "code",
   "execution_count": 36,
   "id": "a3a52270-b497-4532-83d7-7248be1676ef",
   "metadata": {},
   "outputs": [
    {
     "data": {
      "text/html": [
       "<div>\n",
       "<style scoped>\n",
       "    .dataframe tbody tr th:only-of-type {\n",
       "        vertical-align: middle;\n",
       "    }\n",
       "\n",
       "    .dataframe tbody tr th {\n",
       "        vertical-align: top;\n",
       "    }\n",
       "\n",
       "    .dataframe thead tr th {\n",
       "        text-align: left;\n",
       "    }\n",
       "</style>\n",
       "<table border=\"1\" class=\"dataframe\">\n",
       "  <thead>\n",
       "    <tr>\n",
       "      <th></th>\n",
       "      <th>Month</th>\n",
       "      <th>Hour(int)</th>\n",
       "      <th>Hour(dt)</th>\n",
       "      <th>Amount</th>\n",
       "    </tr>\n",
       "    <tr>\n",
       "      <th></th>\n",
       "      <th></th>\n",
       "      <th></th>\n",
       "      <th></th>\n",
       "      <th>sum</th>\n",
       "    </tr>\n",
       "  </thead>\n",
       "  <tbody>\n",
       "    <tr>\n",
       "      <th>0</th>\n",
       "      <td>3</td>\n",
       "      <td>0</td>\n",
       "      <td>2022-01-01 00:00:00</td>\n",
       "      <td>24.5</td>\n",
       "    </tr>\n",
       "    <tr>\n",
       "      <th>1</th>\n",
       "      <td>3</td>\n",
       "      <td>1</td>\n",
       "      <td>2022-01-01 01:00:00</td>\n",
       "      <td>9.0</td>\n",
       "    </tr>\n",
       "    <tr>\n",
       "      <th>2</th>\n",
       "      <td>3</td>\n",
       "      <td>2</td>\n",
       "      <td>2022-01-01 02:00:00</td>\n",
       "      <td>14.7</td>\n",
       "    </tr>\n",
       "  </tbody>\n",
       "</table>\n",
       "</div>"
      ],
      "text/plain": [
       "  Month Hour(int)            Hour(dt) Amount\n",
       "                                         sum\n",
       "0     3         0 2022-01-01 00:00:00   24.5\n",
       "1     3         1 2022-01-01 01:00:00    9.0\n",
       "2     3         2 2022-01-01 02:00:00   14.7"
      ]
     },
     "execution_count": 36,
     "metadata": {},
     "output_type": "execute_result"
    }
   ],
   "source": [
    "df_feed_sum_mth_hr = df_feed.groupby(['Month', 'Hour(int)', 'Hour(dt)']).agg({'Amount': ['sum']})\n",
    "#df_feed_avg_mth_hr.rename(index={2: 'Month-Hour Avg Amount'})\n",
    "df_feed_sum_mth_hr = df_feed_sum_mth_hr.reset_index()\n",
    "\n",
    "df_feed_sum_mth_hr.head(3)"
   ]
  },
  {
   "cell_type": "markdown",
   "id": "d774592e-cae3-4bf0-92e9-3316633da051",
   "metadata": {},
   "source": [
    "##### Bar-Total Feeding Amount by Hour/Month"
   ]
  },
  {
   "cell_type": "code",
   "execution_count": 37,
   "id": "17030458-0252-40b4-9c69-5a3260a52e14",
   "metadata": {},
   "outputs": [
    {
     "data": {
      "image/png": "[encoded data removed]",
      "text/plain": [
       "<Figure size 1800x720 with 6 Axes>"
      ]
     },
     "metadata": {},
     "output_type": "display_data"
    }
   ],
   "source": [
    "fig, [[ax1, ax2, ax3], [ax4, ax5, ax6]] = plt.subplots(2, 3, figsize=(25,10), sharey=True)\n",
    "\n",
    "list_of_axes = [ax1, ax2, ax3, ax4, ax5, ax6]\n",
    "n = 3\n",
    "month_name = ['March', 'April', 'May', 'June', 'July', 'August']\n",
    "i = 0\n",
    "\n",
    "for ax in list_of_axes:\n",
    "    df_feed_sum_mth_hr_m = df_feed_sum_mth_hr[df_feed_sum_mth_hr['Month'] == n]\n",
    "    x = df_feed_sum_mth_hr_m['Hour(dt)']\n",
    "    y = df_feed_sum_mth_hr_m['Amount']['sum']\n",
    "    ax.bar(x, y, width=0.03, align='center')\n",
    "    ax.title.set_text(month_name[i])\n",
    "    n = n+1\n",
    "    i = i+1\n",
    "\n",
    "for ax in list_of_axes:\n",
    "    hours = mdates.HourLocator(interval=2)\n",
    "    hh_mm = mdates.DateFormatter('%H:%M')\n",
    "    ax.xaxis.set_major_locator(hours)\n",
    "    ax.xaxis.set_major_formatter(hh_mm)\n",
    "    ax.set_xlim([datetime.datetime(2021,12,31,23,0), datetime.datetime(2022,1,1,23,59)])\n",
    "    plt.setp(ax.get_xticklabels(), rotation=45)  \n",
    "\n",
    "ax1.set_ylabel('Ounces', fontsize=16)\n",
    "ax4.set_ylabel('Ounces', fontsize=16)\n",
    "fig.suptitle('Total Feeding Amount Per Hour & Month', fontsize=24)\n",
    "\n",
    "#fig.autofmt_xdate()\n",
    "fig.tight_layout()"
   ]
  },
  {
   "cell_type": "markdown",
   "id": "0e80ac98-7d03-49cc-830e-f8363932db6e",
   "metadata": {},
   "source": [
    "##### Group & Avg by Month, Hour"
   ]
  },
  {
   "cell_type": "code",
   "execution_count": 38,
   "id": "8f3b4501-9dff-4dc5-8f00-b97599e661ba",
   "metadata": {},
   "outputs": [
    {
     "data": {
      "text/html": [
       "<div>\n",
       "<style scoped>\n",
       "    .dataframe tbody tr th:only-of-type {\n",
       "        vertical-align: middle;\n",
       "    }\n",
       "\n",
       "    .dataframe tbody tr th {\n",
       "        vertical-align: top;\n",
       "    }\n",
       "\n",
       "    .dataframe thead tr th {\n",
       "        text-align: left;\n",
       "    }\n",
       "</style>\n",
       "<table border=\"1\" class=\"dataframe\">\n",
       "  <thead>\n",
       "    <tr>\n",
       "      <th></th>\n",
       "      <th>Month</th>\n",
       "      <th>Hour(int)</th>\n",
       "      <th>Hour(dt)</th>\n",
       "      <th>Amount</th>\n",
       "    </tr>\n",
       "    <tr>\n",
       "      <th></th>\n",
       "      <th></th>\n",
       "      <th></th>\n",
       "      <th></th>\n",
       "      <th>mean</th>\n",
       "    </tr>\n",
       "  </thead>\n",
       "  <tbody>\n",
       "    <tr>\n",
       "      <th>0</th>\n",
       "      <td>3</td>\n",
       "      <td>0</td>\n",
       "      <td>2022-01-01 00:00:00</td>\n",
       "      <td>2.227273</td>\n",
       "    </tr>\n",
       "    <tr>\n",
       "      <th>1</th>\n",
       "      <td>3</td>\n",
       "      <td>1</td>\n",
       "      <td>2022-01-01 01:00:00</td>\n",
       "      <td>2.250000</td>\n",
       "    </tr>\n",
       "    <tr>\n",
       "      <th>2</th>\n",
       "      <td>3</td>\n",
       "      <td>2</td>\n",
       "      <td>2022-01-01 02:00:00</td>\n",
       "      <td>2.100000</td>\n",
       "    </tr>\n",
       "  </tbody>\n",
       "</table>\n",
       "</div>"
      ],
      "text/plain": [
       "  Month Hour(int)            Hour(dt)    Amount\n",
       "                                           mean\n",
       "0     3         0 2022-01-01 00:00:00  2.227273\n",
       "1     3         1 2022-01-01 01:00:00  2.250000\n",
       "2     3         2 2022-01-01 02:00:00  2.100000"
      ]
     },
     "execution_count": 38,
     "metadata": {},
     "output_type": "execute_result"
    }
   ],
   "source": [
    "df_feed_avg_mth_hr = df_feed.groupby(['Month', 'Hour(int)', 'Hour(dt)']).agg({'Amount': ['mean']})\n",
    "#df_feed_avg_mth_hr_m.rename(index={2: 'Month-Hour Avg Amount'})\n",
    "df_feed_avg_mth_hr = df_feed_avg_mth_hr.reset_index()\n",
    "\n",
    "df_feed_avg_mth_hr.head(3)"
   ]
  },
  {
   "cell_type": "markdown",
   "id": "91c702f1-1352-4e7a-9f40-c26a40ffe56c",
   "metadata": {},
   "source": [
    "##### Bar-Avg Feeding Amount by Hour/Month"
   ]
  },
  {
   "cell_type": "code",
   "execution_count": 39,
   "id": "1671812f-7626-4e6b-b6f7-cf0c833b6a8b",
   "metadata": {},
   "outputs": [
    {
     "data": {
      "image/png": "[encoded data removed]",
      "text/plain": [
       "<Figure size 1800x720 with 6 Axes>"
      ]
     },
     "metadata": {},
     "output_type": "display_data"
    }
   ],
   "source": [
    "fig, [[ax1, ax2, ax3], [ax4, ax5, ax6]] = plt.subplots(2, 3, figsize=(25,10), sharey=True)\n",
    "\n",
    "list_of_axes = [ax1, ax2, ax3, ax4, ax5, ax6]\n",
    "n = 3\n",
    "month_name = ['March', 'April', 'May', 'June', 'July', 'August']\n",
    "i = 0\n",
    "\n",
    "for ax in list_of_axes:\n",
    "    df_feed_avg_mth_hr_m = df_feed_avg_mth_hr[df_feed_avg_mth_hr['Month'] == n]\n",
    "    x = df_feed_avg_mth_hr_m['Hour(dt)']\n",
    "    y = df_feed_avg_mth_hr_m['Amount']['mean']\n",
    "    ax.bar(x, y, width=0.03)\n",
    "    ax.title.set_text(month_name[i])\n",
    "    n = n+1\n",
    "    i = i+1\n",
    "\n",
    "for ax in list_of_axes:\n",
    "    hours = mdates.HourLocator(interval=2)\n",
    "    hh_mm = mdates.DateFormatter('%H:%M')\n",
    "    ax.xaxis.set_major_locator(hours)\n",
    "    ax.xaxis.set_major_formatter(hh_mm)\n",
    "    ax.set_xlim([datetime.datetime(2021,12,31,23,0), datetime.datetime(2022,1,1,23,59)])\n",
    "    plt.setp(ax.get_xticklabels(), rotation=45)\n",
    "    \n",
    "ax1.set_ylabel('Ounces', fontsize=16)\n",
    "ax4.set_ylabel('Ounces', fontsize=16)\n",
    "fig.suptitle('Avg Feeding Amount Per Hour & Month', fontsize=24)\n",
    "\n",
    "#fig.autofmt_xdate()\n",
    "fig.tight_layout()"
   ]
  },
  {
   "cell_type": "markdown",
   "id": "edad384b-58b6-4979-8666-ae7decf61f7f",
   "metadata": {},
   "source": [
    "## Dirty Diapers"
   ]
  },
  {
   "cell_type": "markdown",
   "id": "99e5a4c3-56a3-47f0-bad7-4f42ce625471",
   "metadata": {},
   "source": [
    "##### Filter Diapers, Dirty"
   ]
  },
  {
   "cell_type": "code",
   "execution_count": 40,
   "id": "295cccfb-0f61-47ba-9c4e-0494eba77cce",
   "metadata": {},
   "outputs": [
    {
     "data": {
      "text/html": [
       "<div>\n",
       "<style scoped>\n",
       "    .dataframe tbody tr th:only-of-type {\n",
       "        vertical-align: middle;\n",
       "    }\n",
       "\n",
       "    .dataframe tbody tr th {\n",
       "        vertical-align: top;\n",
       "    }\n",
       "\n",
       "    .dataframe thead th {\n",
       "        text-align: right;\n",
       "    }\n",
       "</style>\n",
       "<table border=\"1\" class=\"dataframe\">\n",
       "  <thead>\n",
       "    <tr style=\"text-align: right;\">\n",
       "      <th></th>\n",
       "      <th>Baby Name</th>\n",
       "      <th>Start Time</th>\n",
       "      <th>End Time</th>\n",
       "      <th>Activity</th>\n",
       "      <th>Amount</th>\n",
       "      <th>Percentile</th>\n",
       "      <th>Duration</th>\n",
       "      <th>Info</th>\n",
       "      <th>Notes</th>\n",
       "      <th>Date</th>\n",
       "      <th>Month</th>\n",
       "      <th>DOW #</th>\n",
       "      <th>DOW</th>\n",
       "      <th>Time</th>\n",
       "      <th>Hour(int)</th>\n",
       "      <th>Hour(dt)</th>\n",
       "    </tr>\n",
       "  </thead>\n",
       "  <tbody>\n",
       "    <tr>\n",
       "      <th>1852</th>\n",
       "      <td>Elisha Jian Park</td>\n",
       "      <td>07/31/2022 14:23 PM</td>\n",
       "      <td>07/31/2022 14:23 PM</td>\n",
       "      <td>Diaper</td>\n",
       "      <td>Dirty</td>\n",
       "      <td>NaN</td>\n",
       "      <td>NaN</td>\n",
       "      <td>NaN</td>\n",
       "      <td>NaN</td>\n",
       "      <td>2022-07-31</td>\n",
       "      <td>7</td>\n",
       "      <td>6</td>\n",
       "      <td>Sunday</td>\n",
       "      <td>14:23:00</td>\n",
       "      <td>14</td>\n",
       "      <td>2022-01-01 14:00:00</td>\n",
       "    </tr>\n",
       "    <tr>\n",
       "      <th>1868</th>\n",
       "      <td>Elisha Jian Park</td>\n",
       "      <td>08/03/2022 8:44 AM</td>\n",
       "      <td>08/03/2022 8:44 AM</td>\n",
       "      <td>Diaper</td>\n",
       "      <td>Dirty</td>\n",
       "      <td>NaN</td>\n",
       "      <td>NaN</td>\n",
       "      <td>NaN</td>\n",
       "      <td>NaN</td>\n",
       "      <td>2022-08-03</td>\n",
       "      <td>8</td>\n",
       "      <td>2</td>\n",
       "      <td>Wednesday</td>\n",
       "      <td>08:44:00</td>\n",
       "      <td>8</td>\n",
       "      <td>2022-01-01 08:00:00</td>\n",
       "    </tr>\n",
       "    <tr>\n",
       "      <th>1886</th>\n",
       "      <td>Elisha Jian Park</td>\n",
       "      <td>08/05/2022 17:20 PM</td>\n",
       "      <td>08/05/2022 17:20 PM</td>\n",
       "      <td>Diaper</td>\n",
       "      <td>Dirty</td>\n",
       "      <td>NaN</td>\n",
       "      <td>NaN</td>\n",
       "      <td>NaN</td>\n",
       "      <td>NaN</td>\n",
       "      <td>2022-08-05</td>\n",
       "      <td>8</td>\n",
       "      <td>4</td>\n",
       "      <td>Friday</td>\n",
       "      <td>17:20:00</td>\n",
       "      <td>17</td>\n",
       "      <td>2022-01-01 17:00:00</td>\n",
       "    </tr>\n",
       "  </tbody>\n",
       "</table>\n",
       "</div>"
      ],
      "text/plain": [
       "             Baby Name           Start Time             End Time Activity  \\\n",
       "1852  Elisha Jian Park  07/31/2022 14:23 PM  07/31/2022 14:23 PM   Diaper   \n",
       "1868  Elisha Jian Park   08/03/2022 8:44 AM   08/03/2022 8:44 AM   Diaper   \n",
       "1886  Elisha Jian Park  08/05/2022 17:20 PM  08/05/2022 17:20 PM   Diaper   \n",
       "\n",
       "     Amount  Percentile  Duration Info Notes       Date  Month  DOW #  \\\n",
       "1852  Dirty         NaN       NaN  NaN   NaN 2022-07-31      7      6   \n",
       "1868  Dirty         NaN       NaN  NaN   NaN 2022-08-03      8      2   \n",
       "1886  Dirty         NaN       NaN  NaN   NaN 2022-08-05      8      4   \n",
       "\n",
       "            DOW      Time  Hour(int)            Hour(dt)  \n",
       "1852     Sunday  14:23:00         14 2022-01-01 14:00:00  \n",
       "1868  Wednesday  08:44:00          8 2022-01-01 08:00:00  \n",
       "1886     Friday  17:20:00         17 2022-01-01 17:00:00  "
      ]
     },
     "execution_count": 40,
     "metadata": {},
     "output_type": "execute_result"
    }
   ],
   "source": [
    "df_diapers = df2[df2['Activity']=='Diaper']\n",
    "df_drty_diapers = df_diapers[df_diapers['Amount'].str.contains('Dirty')]\n",
    "df_drty_diapers.tail(3)"
   ]
  },
  {
   "cell_type": "markdown",
   "id": "842f9e95-d4d0-41c5-bc1a-31ac691396bd",
   "metadata": {},
   "source": [
    "##### Bar-Total Dirty Diapers by DOW"
   ]
  },
  {
   "cell_type": "code",
   "execution_count": 41,
   "id": "2ed1782a-446c-4007-8442-a280a22d5257",
   "metadata": {},
   "outputs": [
    {
     "data": {
      "image/png": "[encoded data removed]",
      "text/plain": [
       "<Figure size 432x288 with 1 Axes>"
      ]
     },
     "metadata": {},
     "output_type": "display_data"
    }
   ],
   "source": [
    "ax = pd.value_counts(df_drty_diapers['DOW']).plot.bar()\n",
    "ax.set_title('Total Dirty Diapers By DOW', fontsize=22)\n",
    "ax.set_ylabel('Diapers')\n",
    "ax.tick_params(axis='x', rotation=45)"
   ]
  },
  {
   "cell_type": "markdown",
   "id": "1afe8a67-1603-41f0-92b8-6c8be9a2bf5a",
   "metadata": {},
   "source": [
    "##### Plot-Dirty Diaper Frequency"
   ]
  },
  {
   "cell_type": "code",
   "execution_count": 42,
   "id": "07247d98-57c5-4624-8b7a-e315fd2a5de9",
   "metadata": {},
   "outputs": [
    {
     "data": {
      "image/png": "[encoded data removed]",
      "text/plain": [
       "<Figure size 1800x360 with 1 Axes>"
      ]
     },
     "metadata": {},
     "output_type": "display_data"
    }
   ],
   "source": [
    "df_drty_diapers_plot = df_drty_diapers.copy()\n",
    "df_drty_diapers_plot['Amount'] = df_drty_diapers['Amount'].replace('Wet + Dirty', 'Dirty')\n",
    "\n",
    "x = df_drty_diapers_plot['Date']\n",
    "y = df_drty_diapers_plot['Amount']\n",
    "\n",
    "fig, ax_dd = plt.subplots(1,1, figsize=(25,5))\n",
    "\n",
    "plt.xlim([datetime.date(2022, 3, 5), datetime.date(2022, 8, 6)])\n",
    "plt.tick_params(axis='x', rotation=45)\n",
    "plt.gca().xaxis.set_major_locator(mdates.DayLocator(interval=3))\n",
    "ax_dd.xaxis.set_major_formatter(mdates.DateFormatter('%m/%d'))\n",
    "ax_dd.set_title('Dirty Diaper Frequency', fontsize=20)\n",
    "ax_dd = plt.scatter(x,y)"
   ]
  },
  {
   "cell_type": "markdown",
   "id": "8b7725c3-fbf9-4e7d-9652-91eec314b25a",
   "metadata": {},
   "source": [
    "##### Plot-Dirty Diaper Total by Month"
   ]
  },
  {
   "cell_type": "code",
   "execution_count": 43,
   "id": "5f66db6c-566d-422e-89eb-cb80f6af626c",
   "metadata": {},
   "outputs": [
    {
     "data": {
      "text/plain": [
       "Month\n",
       "3    41\n",
       "4    31\n",
       "5    37\n",
       "6    18\n",
       "7    18\n",
       "8     2\n",
       "Name: Amount, dtype: int64"
      ]
     },
     "execution_count": 43,
     "metadata": {},
     "output_type": "execute_result"
    }
   ],
   "source": [
    "df_drty_diapers_mth = df_drty_diapers_plot.groupby('Month')\n",
    "df_drty_diapers_mth['Amount'].count()"
   ]
  },
  {
   "cell_type": "markdown",
   "id": "ad204945-7e25-4415-8055-65c420a6202c",
   "metadata": {},
   "source": [
    "##### Plot-Dirty Diaper Frequency by Month"
   ]
  },
  {
   "cell_type": "code",
   "execution_count": 44,
   "id": "fe97fa9b-c2d4-48cf-9151-8b6e834795c3",
   "metadata": {},
   "outputs": [
    {
     "data": {
      "text/plain": [
       "Month\n",
       "3    1.322581\n",
       "4    1.000000\n",
       "5    1.193548\n",
       "6    0.580645\n",
       "7    0.580645\n",
       "8    0.064516\n",
       "Name: Amount, dtype: float64"
      ]
     },
     "execution_count": 44,
     "metadata": {},
     "output_type": "execute_result"
    }
   ],
   "source": [
    "df_drty_diapers_mth['Amount'].count().div(31)"
   ]
  }
 ],
 "metadata": {
  "kernelspec": {
   "display_name": "Python 3 (ipykernel)",
   "language": "python",
   "name": "python3"
  },
  "language_info": {
   "codemirror_mode": {
    "name": "ipython",
    "version": 3
   },
   "file_extension": ".py",
   "mimetype": "text/x-python",
   "name": "python",
   "nbconvert_exporter": "python",
   "pygments_lexer": "ipython3",
   "version": "3.10.4"
  }
 },
 "nbformat": 4,
 "nbformat_minor": 5
}
