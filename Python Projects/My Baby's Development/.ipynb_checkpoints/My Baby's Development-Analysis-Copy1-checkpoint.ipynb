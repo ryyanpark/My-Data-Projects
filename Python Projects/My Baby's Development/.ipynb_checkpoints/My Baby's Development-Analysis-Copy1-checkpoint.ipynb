{
 "cells": [
  {
   "cell_type": "markdown",
   "id": "e87c3bbc-36b3-49e8-b4b0-2f26690e0df2",
   "metadata": {
    "tags": []
   },
   "source": [
    "# **My Baby's Development**"
   ]
  },
  {
   "cell_type": "markdown",
   "id": "c83a4a38-9c85-44e2-8fb8-2b86db8ac549",
   "metadata": {},
   "source": [
    "With the birth of our first child, my wife and I did not know what to expect. We were new to the game and we weren't sure if our daugther was growing healthy and strong. However, with apps like Hatchbaby, we were able to chart her growth, feeds, and dirty diapers. This data helped us to make sure she was on the right track!"
   ]
  },
  {
   "cell_type": "markdown",
   "id": "23d98ea9-5606-47f5-b900-1918c6af87b5",
   "metadata": {},
   "source": [
    "## *Data Info*\n",
    "This data is from my daughter's first 5 months of life (March to early August). She was born 8lbs 3oz / 22in, which is heavy and long for her gender. She was born a big baby and continues to grow really well 👶🏻.\n",
    "\n",
    "This dataset includes:\n",
    "* Weight (lb,oz)\n",
    "* Length (in)\n",
    "* Feeding Amount (oz)\n",
    "* Dirty Diaper (stool)"
   ]
  },
  {
   "cell_type": "markdown",
   "id": "023a134b-f602-4fd7-b051-aa9d32ca607d",
   "metadata": {},
   "source": [
    "## *Questions To Answer:*\n",
    "1. What was my baby's growth like (weight and length)?\n",
    "2. Did the feeding amount affect her growth?\n",
    "3. When did feedings become scheduled/consistent?\n",
    "4. Did feeding amount affect dirty diaper frequency?"
   ]
  },
  {
   "cell_type": "markdown",
   "id": "0b0df76a-900d-4b5d-8184-a7fe88d60841",
   "metadata": {
    "jp-MarkdownHeadingCollapsed": true,
    "tags": []
   },
   "source": [
    "##### Initial Setup"
   ]
  },
  {
   "cell_type": "code",
   "execution_count": 1,
   "id": "67342980-9cb8-49e2-83f0-0dd820baa087",
   "metadata": {
    "tags": []
   },
   "outputs": [
    {
     "data": {
      "text/html": [
       "<div>\n",
       "<style scoped>\n",
       "    .dataframe tbody tr th:only-of-type {\n",
       "        vertical-align: middle;\n",
       "    }\n",
       "\n",
       "    .dataframe tbody tr th {\n",
       "        vertical-align: top;\n",
       "    }\n",
       "\n",
       "    .dataframe thead th {\n",
       "        text-align: right;\n",
       "    }\n",
       "</style>\n",
       "<table border=\"1\" class=\"dataframe\">\n",
       "  <thead>\n",
       "    <tr style=\"text-align: right;\">\n",
       "      <th></th>\n",
       "      <th>Baby Name</th>\n",
       "      <th>Start Time</th>\n",
       "      <th>End Time</th>\n",
       "      <th>Activity</th>\n",
       "      <th>Amount</th>\n",
       "      <th>Percentile</th>\n",
       "      <th>Duration</th>\n",
       "      <th>Info</th>\n",
       "      <th>Notes</th>\n",
       "      <th>Unnamed: 9</th>\n",
       "    </tr>\n",
       "  </thead>\n",
       "  <tbody>\n",
       "    <tr>\n",
       "      <th>0</th>\n",
       "      <td>Hidden Name</td>\n",
       "      <td>03/05/2022 0:00 AM</td>\n",
       "      <td>03/05/2022 0:00 AM</td>\n",
       "      <td>Weight</td>\n",
       "      <td>8.18</td>\n",
       "      <td>0.8411</td>\n",
       "      <td>NaN</td>\n",
       "      <td>NaN</td>\n",
       "      <td>Measured by Nurse</td>\n",
       "      <td>NaN</td>\n",
       "    </tr>\n",
       "    <tr>\n",
       "      <th>1</th>\n",
       "      <td>Hidden Name</td>\n",
       "      <td>03/05/2022 0:00 AM</td>\n",
       "      <td>03/05/2022 0:00 AM</td>\n",
       "      <td>Length</td>\n",
       "      <td>21.5</td>\n",
       "      <td>0.9983</td>\n",
       "      <td>NaN</td>\n",
       "      <td>NaN</td>\n",
       "      <td>Measured by Nurse</td>\n",
       "      <td>NaN</td>\n",
       "    </tr>\n",
       "    <tr>\n",
       "      <th>2</th>\n",
       "      <td>Hidden Name</td>\n",
       "      <td>03/06/2022 0:00 AM</td>\n",
       "      <td>03/06/2022 0:00 AM</td>\n",
       "      <td>Weight</td>\n",
       "      <td>7.875</td>\n",
       "      <td>NaN</td>\n",
       "      <td>NaN</td>\n",
       "      <td>NaN</td>\n",
       "      <td>Measured by Nurse</td>\n",
       "      <td>NaN</td>\n",
       "    </tr>\n",
       "  </tbody>\n",
       "</table>\n",
       "</div>"
      ],
      "text/plain": [
       "     Baby Name          Start Time            End Time Activity Amount  \\\n",
       "0  Hidden Name  03/05/2022 0:00 AM  03/05/2022 0:00 AM   Weight   8.18   \n",
       "1  Hidden Name  03/05/2022 0:00 AM  03/05/2022 0:00 AM   Length   21.5   \n",
       "2  Hidden Name  03/06/2022 0:00 AM  03/06/2022 0:00 AM   Weight  7.875   \n",
       "\n",
       "   Percentile  Duration Info              Notes  Unnamed: 9  \n",
       "0      0.8411       NaN  NaN  Measured by Nurse         NaN  \n",
       "1      0.9983       NaN  NaN  Measured by Nurse         NaN  \n",
       "2         NaN       NaN  NaN  Measured by Nurse         NaN  "
      ]
     },
     "execution_count": 1,
     "metadata": {},
     "output_type": "execute_result"
    }
   ],
   "source": [
    "# Import Data & modules\n",
    "import pandas as pd\n",
    "import numpy as np\n",
    "import matplotlib.pyplot as plt\n",
    "import matplotlib.dates as mdates\n",
    "from matplotlib import style\n",
    "import datetime\n",
    "from matplotlib.dates import DateFormatter\n",
    "from matplotlib.pyplot import figure\n",
    "\n",
    "df = pd.read_csv('./HatchBaby_updated')\n",
    "df.head(3)"
   ]
  },
  {
   "cell_type": "code",
   "execution_count": 2,
   "id": "96d9e5f4-99ac-40aa-9f59-3d454d517317",
   "metadata": {
    "tags": []
   },
   "outputs": [
    {
     "data": {
      "text/plain": [
       "1894"
      ]
     },
     "execution_count": 2,
     "metadata": {},
     "output_type": "execute_result"
    }
   ],
   "source": [
    "# Number of Rows\n",
    "len(df)"
   ]
  },
  {
   "cell_type": "code",
   "execution_count": 3,
   "id": "e0ba4055-09cc-4b3b-9540-f51d61129444",
   "metadata": {
    "tags": []
   },
   "outputs": [
    {
     "data": {
      "text/plain": [
       "Baby Name      object\n",
       "Start Time     object\n",
       "End Time       object\n",
       "Activity       object\n",
       "Amount         object\n",
       "Percentile    float64\n",
       "Duration      float64\n",
       "Info           object\n",
       "Notes          object\n",
       "Unnamed: 9    float64\n",
       "dtype: object"
      ]
     },
     "execution_count": 3,
     "metadata": {},
     "output_type": "execute_result"
    }
   ],
   "source": [
    "# Data Types\n",
    "df.dtypes"
   ]
  },
  {
   "cell_type": "code",
   "execution_count": 4,
   "id": "99bcb3bb-c9c3-4b30-a585-51443d84bf9b",
   "metadata": {
    "tags": []
   },
   "outputs": [
    {
     "data": {
      "text/plain": [
       "Baby Name        1\n",
       "Start Time       0\n",
       "End Time         0\n",
       "Activity         0\n",
       "Amount           8\n",
       "Percentile    1864\n",
       "Duration       712\n",
       "Info           721\n",
       "Notes         1796\n",
       "Unnamed: 9    1894\n",
       "dtype: int64"
      ]
     },
     "execution_count": 4,
     "metadata": {},
     "output_type": "execute_result"
    }
   ],
   "source": [
    "# Check For Nulls\n",
    "df.isnull().sum()"
   ]
  },
  {
   "cell_type": "code",
   "execution_count": 5,
   "id": "2592832a-c73f-466b-b24f-572f900b82b1",
   "metadata": {
    "tags": []
   },
   "outputs": [
    {
     "data": {
      "text/html": [
       "<div>\n",
       "<style scoped>\n",
       "    .dataframe tbody tr th:only-of-type {\n",
       "        vertical-align: middle;\n",
       "    }\n",
       "\n",
       "    .dataframe tbody tr th {\n",
       "        vertical-align: top;\n",
       "    }\n",
       "\n",
       "    .dataframe thead th {\n",
       "        text-align: right;\n",
       "    }\n",
       "</style>\n",
       "<table border=\"1\" class=\"dataframe\">\n",
       "  <thead>\n",
       "    <tr style=\"text-align: right;\">\n",
       "      <th></th>\n",
       "      <th>Baby Name</th>\n",
       "      <th>Start Time</th>\n",
       "      <th>End Time</th>\n",
       "      <th>Activity</th>\n",
       "      <th>Amount</th>\n",
       "      <th>Percentile</th>\n",
       "      <th>Duration</th>\n",
       "      <th>Info</th>\n",
       "      <th>Notes</th>\n",
       "    </tr>\n",
       "  </thead>\n",
       "  <tbody>\n",
       "    <tr>\n",
       "      <th>0</th>\n",
       "      <td>Hidden Name</td>\n",
       "      <td>03/05/2022 0:00 AM</td>\n",
       "      <td>03/05/2022 0:00 AM</td>\n",
       "      <td>Weight</td>\n",
       "      <td>8.18</td>\n",
       "      <td>0.8411</td>\n",
       "      <td>NaN</td>\n",
       "      <td>NaN</td>\n",
       "      <td>Measured by Nurse</td>\n",
       "    </tr>\n",
       "  </tbody>\n",
       "</table>\n",
       "</div>"
      ],
      "text/plain": [
       "     Baby Name          Start Time            End Time Activity Amount  \\\n",
       "0  Hidden Name  03/05/2022 0:00 AM  03/05/2022 0:00 AM   Weight   8.18   \n",
       "\n",
       "   Percentile  Duration Info              Notes  \n",
       "0      0.8411       NaN  NaN  Measured by Nurse  "
      ]
     },
     "execution_count": 5,
     "metadata": {},
     "output_type": "execute_result"
    }
   ],
   "source": [
    "# Drop Unused Column\n",
    "df2 = df.drop(columns = 'Unnamed: 9')\n",
    "df2.head(1)"
   ]
  },
  {
   "cell_type": "code",
   "execution_count": 6,
   "id": "00ab0fb4-fc92-4443-85b6-adf4a8bddd47",
   "metadata": {
    "tags": []
   },
   "outputs": [
    {
     "name": "stdout",
     "output_type": "stream",
     "text": [
      "['Weight' 'Length' 'Feeding' 'Diaper' 'Sleep' 'Pump']\n"
     ]
    }
   ],
   "source": [
    "# 'Activity' types\n",
    "print(df2['Activity'].unique())"
   ]
  },
  {
   "cell_type": "code",
   "execution_count": 7,
   "id": "18c724c8-7a15-45ae-9ee9-4fc5f0826323",
   "metadata": {
    "tags": []
   },
   "outputs": [
    {
     "data": {
      "text/html": [
       "<div>\n",
       "<style scoped>\n",
       "    .dataframe tbody tr th:only-of-type {\n",
       "        vertical-align: middle;\n",
       "    }\n",
       "\n",
       "    .dataframe tbody tr th {\n",
       "        vertical-align: top;\n",
       "    }\n",
       "\n",
       "    .dataframe thead th {\n",
       "        text-align: right;\n",
       "    }\n",
       "</style>\n",
       "<table border=\"1\" class=\"dataframe\">\n",
       "  <thead>\n",
       "    <tr style=\"text-align: right;\">\n",
       "      <th></th>\n",
       "      <th>Baby Name</th>\n",
       "      <th>Start Time</th>\n",
       "      <th>End Time</th>\n",
       "      <th>Activity</th>\n",
       "      <th>Amount</th>\n",
       "      <th>Percentile</th>\n",
       "      <th>Duration</th>\n",
       "      <th>Info</th>\n",
       "      <th>Notes</th>\n",
       "    </tr>\n",
       "  </thead>\n",
       "  <tbody>\n",
       "    <tr>\n",
       "      <th>504</th>\n",
       "      <td>Hidden Name</td>\n",
       "      <td>04/12/2022 17:05 PM</td>\n",
       "      <td>04/12/2022 18:00 PM</td>\n",
       "      <td>Sleep</td>\n",
       "      <td>NaN</td>\n",
       "      <td>NaN</td>\n",
       "      <td>0.916667</td>\n",
       "      <td>NaN</td>\n",
       "      <td>NaN</td>\n",
       "    </tr>\n",
       "    <tr>\n",
       "      <th>508</th>\n",
       "      <td>Hidden Name</td>\n",
       "      <td>04/12/2022 19:05 PM</td>\n",
       "      <td>04/12/2022 20:18 PM</td>\n",
       "      <td>Sleep</td>\n",
       "      <td>NaN</td>\n",
       "      <td>NaN</td>\n",
       "      <td>1.216667</td>\n",
       "      <td>NaN</td>\n",
       "      <td>NaN</td>\n",
       "    </tr>\n",
       "    <tr>\n",
       "      <th>863</th>\n",
       "      <td>Hidden Name</td>\n",
       "      <td>05/08/2022 15:25 PM</td>\n",
       "      <td>05/08/2022 16:10 PM</td>\n",
       "      <td>Sleep</td>\n",
       "      <td>NaN</td>\n",
       "      <td>NaN</td>\n",
       "      <td>0.750000</td>\n",
       "      <td>NaN</td>\n",
       "      <td>NaN</td>\n",
       "    </tr>\n",
       "    <tr>\n",
       "      <th>891</th>\n",
       "      <td>Hidden Name</td>\n",
       "      <td>05/10/2022 10:51 AM</td>\n",
       "      <td>05/10/2022 12:21 PM</td>\n",
       "      <td>Sleep</td>\n",
       "      <td>NaN</td>\n",
       "      <td>NaN</td>\n",
       "      <td>1.500000</td>\n",
       "      <td>NaN</td>\n",
       "      <td>NaN</td>\n",
       "    </tr>\n",
       "    <tr>\n",
       "      <th>906</th>\n",
       "      <td>Hidden Name</td>\n",
       "      <td>05/10/2022 23:55 PM</td>\n",
       "      <td>05/11/2022 1:40 AM</td>\n",
       "      <td>Sleep</td>\n",
       "      <td>NaN</td>\n",
       "      <td>NaN</td>\n",
       "      <td>1.750000</td>\n",
       "      <td>NaN</td>\n",
       "      <td>NaN</td>\n",
       "    </tr>\n",
       "    <tr>\n",
       "      <th>907</th>\n",
       "      <td>Hidden Name</td>\n",
       "      <td>05/11/2022 2:15 AM</td>\n",
       "      <td>05/11/2022 2:56 AM</td>\n",
       "      <td>Sleep</td>\n",
       "      <td>NaN</td>\n",
       "      <td>NaN</td>\n",
       "      <td>0.683333</td>\n",
       "      <td>NaN</td>\n",
       "      <td>NaN</td>\n",
       "    </tr>\n",
       "    <tr>\n",
       "      <th>923</th>\n",
       "      <td>Hidden Name</td>\n",
       "      <td>05/12/2022 3:50 AM</td>\n",
       "      <td>05/12/2022 5:25 AM</td>\n",
       "      <td>Sleep</td>\n",
       "      <td>NaN</td>\n",
       "      <td>NaN</td>\n",
       "      <td>1.583333</td>\n",
       "      <td>NaN</td>\n",
       "      <td>NaN</td>\n",
       "    </tr>\n",
       "    <tr>\n",
       "      <th>924</th>\n",
       "      <td>Hidden Name</td>\n",
       "      <td>05/12/2022 6:10 AM</td>\n",
       "      <td>05/12/2022 8:40 AM</td>\n",
       "      <td>Sleep</td>\n",
       "      <td>NaN</td>\n",
       "      <td>NaN</td>\n",
       "      <td>2.500000</td>\n",
       "      <td>NaN</td>\n",
       "      <td>NaN</td>\n",
       "    </tr>\n",
       "  </tbody>\n",
       "</table>\n",
       "</div>"
      ],
      "text/plain": [
       "       Baby Name           Start Time             End Time Activity Amount  \\\n",
       "504  Hidden Name  04/12/2022 17:05 PM  04/12/2022 18:00 PM    Sleep    NaN   \n",
       "508  Hidden Name  04/12/2022 19:05 PM  04/12/2022 20:18 PM    Sleep    NaN   \n",
       "863  Hidden Name  05/08/2022 15:25 PM  05/08/2022 16:10 PM    Sleep    NaN   \n",
       "891  Hidden Name  05/10/2022 10:51 AM  05/10/2022 12:21 PM    Sleep    NaN   \n",
       "906  Hidden Name  05/10/2022 23:55 PM   05/11/2022 1:40 AM    Sleep    NaN   \n",
       "907  Hidden Name   05/11/2022 2:15 AM   05/11/2022 2:56 AM    Sleep    NaN   \n",
       "923  Hidden Name   05/12/2022 3:50 AM   05/12/2022 5:25 AM    Sleep    NaN   \n",
       "924  Hidden Name   05/12/2022 6:10 AM   05/12/2022 8:40 AM    Sleep    NaN   \n",
       "\n",
       "     Percentile  Duration Info Notes  \n",
       "504         NaN  0.916667  NaN   NaN  \n",
       "508         NaN  1.216667  NaN   NaN  \n",
       "863         NaN  0.750000  NaN   NaN  \n",
       "891         NaN  1.500000  NaN   NaN  \n",
       "906         NaN  1.750000  NaN   NaN  \n",
       "907         NaN  0.683333  NaN   NaN  \n",
       "923         NaN  1.583333  NaN   NaN  \n",
       "924         NaN  2.500000  NaN   NaN  "
      ]
     },
     "execution_count": 7,
     "metadata": {},
     "output_type": "execute_result"
    }
   ],
   "source": [
    "# 'Amount' has non-numeric values; find these values\n",
    "df2[df2['Amount'].isnull()]"
   ]
  },
  {
   "cell_type": "code",
   "execution_count": 8,
   "id": "9a59db74-7a73-4ec0-a8e4-610e5d8520e6",
   "metadata": {
    "tags": []
   },
   "outputs": [
    {
     "name": "stdout",
     "output_type": "stream",
     "text": [
      "['Wet + Dirty' 'Wet' 'Dirty']\n"
     ]
    }
   ],
   "source": [
    "# 'Amount' has non-numeric values; find these values\n",
    "df_amount_nn = df2[df2['Amount'].str.match('\\d+') == False]\n",
    "print(df_amount_nn['Amount'].unique())"
   ]
  },
  {
   "cell_type": "code",
   "execution_count": 9,
   "id": "b9146d45-e667-4d9b-b1dc-9e24eae7a3bb",
   "metadata": {
    "tags": []
   },
   "outputs": [],
   "source": [
    "# Add 'Date' Column\n",
    "df2['Date'] = pd.to_datetime(df2['Start Time'], format = '%m/%d/%Y %H:%M %p').dt.floor('d')\n",
    "#df2['Date'] = pd.to_datetime(df2['Start Time'], format = '%m/%d/%Y %H:%M %p').dt.date"
   ]
  },
  {
   "cell_type": "code",
   "execution_count": 10,
   "id": "4b1344b9-f406-424b-9b4b-73384f680178",
   "metadata": {
    "tags": []
   },
   "outputs": [],
   "source": [
    "# Add 'Month' Column\n",
    "df2['Month'] = pd.to_datetime(df2['Start Time'], format = '%m/%d/%Y %H:%M %p').dt.month"
   ]
  },
  {
   "cell_type": "code",
   "execution_count": 11,
   "id": "8d826c05-d920-47a9-89fc-5248c03a5ed2",
   "metadata": {
    "tags": []
   },
   "outputs": [],
   "source": [
    "# Add 'DOW' Column\n",
    "df2['DOW #'] = pd.to_datetime(df2['Start Time'], format = '%m/%d/%Y %H:%M %p').dt.dayofweek\n",
    "df2['DOW'] = pd.to_datetime(df2['Start Time'], format = '%m/%d/%Y %H:%M %p').dt.day_name()"
   ]
  },
  {
   "cell_type": "code",
   "execution_count": 12,
   "id": "80a9e0b9-cff4-4174-8b79-34e2db66b316",
   "metadata": {
    "tags": []
   },
   "outputs": [],
   "source": [
    "# Add 'Time' Column\n",
    "df2['Time'] = pd.to_datetime(df2['Start Time'], format = '%m/%d/%Y %H:%M %p').dt.time"
   ]
  },
  {
   "cell_type": "code",
   "execution_count": 13,
   "id": "0177364d-b5ff-48f3-91e6-08d5eefc50b8",
   "metadata": {
    "tags": []
   },
   "outputs": [],
   "source": [
    "# Add 'Hour' Column\n",
    "df2['Hour(int)'] = pd.to_datetime(df2['Start Time'], format = '%m/%d/%Y %H:%M %p').dt.hour\n",
    "df2['Hour(dt)'] = pd.to_datetime('2022-01-01') + pd.to_timedelta(df2['Hour(int)'], unit='H')\n",
    "df2['Hour(dt)'] = pd.to_datetime(df2['Hour(dt)'])"
   ]
  },
  {
   "cell_type": "code",
   "execution_count": 14,
   "id": "6040fe9e-df79-4450-b36d-1372783ad9aa",
   "metadata": {
    "tags": []
   },
   "outputs": [
    {
     "data": {
      "text/html": [
       "<div>\n",
       "<style scoped>\n",
       "    .dataframe tbody tr th:only-of-type {\n",
       "        vertical-align: middle;\n",
       "    }\n",
       "\n",
       "    .dataframe tbody tr th {\n",
       "        vertical-align: top;\n",
       "    }\n",
       "\n",
       "    .dataframe thead th {\n",
       "        text-align: right;\n",
       "    }\n",
       "</style>\n",
       "<table border=\"1\" class=\"dataframe\">\n",
       "  <thead>\n",
       "    <tr style=\"text-align: right;\">\n",
       "      <th></th>\n",
       "      <th>Baby Name</th>\n",
       "      <th>Start Time</th>\n",
       "      <th>End Time</th>\n",
       "      <th>Activity</th>\n",
       "      <th>Amount</th>\n",
       "      <th>Percentile</th>\n",
       "      <th>Duration</th>\n",
       "      <th>Info</th>\n",
       "      <th>Notes</th>\n",
       "      <th>Date</th>\n",
       "      <th>Month</th>\n",
       "      <th>DOW #</th>\n",
       "      <th>DOW</th>\n",
       "      <th>Time</th>\n",
       "      <th>Hour(int)</th>\n",
       "      <th>Hour(dt)</th>\n",
       "    </tr>\n",
       "  </thead>\n",
       "  <tbody>\n",
       "    <tr>\n",
       "      <th>1890</th>\n",
       "      <td>Hidden Name</td>\n",
       "      <td>08/06/2022 15:30 PM</td>\n",
       "      <td>08/06/2022 15:30 PM</td>\n",
       "      <td>Feeding</td>\n",
       "      <td>5</td>\n",
       "      <td>NaN</td>\n",
       "      <td>0.0</td>\n",
       "      <td>Bottle</td>\n",
       "      <td>NaN</td>\n",
       "      <td>2022-08-06</td>\n",
       "      <td>8</td>\n",
       "      <td>5</td>\n",
       "      <td>Saturday</td>\n",
       "      <td>15:30:00</td>\n",
       "      <td>15</td>\n",
       "      <td>2022-01-01 15:00:00</td>\n",
       "    </tr>\n",
       "    <tr>\n",
       "      <th>1892</th>\n",
       "      <td>Hidden Name</td>\n",
       "      <td>08/06/2022 18:44 PM</td>\n",
       "      <td>08/06/2022 18:44 PM</td>\n",
       "      <td>Feeding</td>\n",
       "      <td>6</td>\n",
       "      <td>NaN</td>\n",
       "      <td>0.0</td>\n",
       "      <td>Bottle</td>\n",
       "      <td>NaN</td>\n",
       "      <td>2022-08-06</td>\n",
       "      <td>8</td>\n",
       "      <td>5</td>\n",
       "      <td>Saturday</td>\n",
       "      <td>18:44:00</td>\n",
       "      <td>18</td>\n",
       "      <td>2022-01-01 18:00:00</td>\n",
       "    </tr>\n",
       "    <tr>\n",
       "      <th>1888</th>\n",
       "      <td>Hidden Name</td>\n",
       "      <td>08/06/2022 5:55 AM</td>\n",
       "      <td>08/06/2022 5:55 AM</td>\n",
       "      <td>Feeding</td>\n",
       "      <td>4</td>\n",
       "      <td>NaN</td>\n",
       "      <td>0.0</td>\n",
       "      <td>Bottle</td>\n",
       "      <td>NaN</td>\n",
       "      <td>2022-08-06</td>\n",
       "      <td>8</td>\n",
       "      <td>5</td>\n",
       "      <td>Saturday</td>\n",
       "      <td>05:55:00</td>\n",
       "      <td>5</td>\n",
       "      <td>2022-01-01 05:00:00</td>\n",
       "    </tr>\n",
       "    <tr>\n",
       "      <th>1887</th>\n",
       "      <td>Hidden Name</td>\n",
       "      <td>08/06/2022 6:44 AM</td>\n",
       "      <td>08/06/2022 6:44 AM</td>\n",
       "      <td>Feeding</td>\n",
       "      <td>2</td>\n",
       "      <td>NaN</td>\n",
       "      <td>0.0</td>\n",
       "      <td>Bottle</td>\n",
       "      <td>NaN</td>\n",
       "      <td>2022-08-06</td>\n",
       "      <td>8</td>\n",
       "      <td>5</td>\n",
       "      <td>Saturday</td>\n",
       "      <td>06:44:00</td>\n",
       "      <td>6</td>\n",
       "      <td>2022-01-01 06:00:00</td>\n",
       "    </tr>\n",
       "    <tr>\n",
       "      <th>1889</th>\n",
       "      <td>Hidden Name</td>\n",
       "      <td>08/06/2022 9:28 AM</td>\n",
       "      <td>08/06/2022 9:28 AM</td>\n",
       "      <td>Feeding</td>\n",
       "      <td>5.8</td>\n",
       "      <td>NaN</td>\n",
       "      <td>0.0</td>\n",
       "      <td>Bottle</td>\n",
       "      <td>NaN</td>\n",
       "      <td>2022-08-06</td>\n",
       "      <td>8</td>\n",
       "      <td>5</td>\n",
       "      <td>Saturday</td>\n",
       "      <td>09:28:00</td>\n",
       "      <td>9</td>\n",
       "      <td>2022-01-01 09:00:00</td>\n",
       "    </tr>\n",
       "  </tbody>\n",
       "</table>\n",
       "</div>"
      ],
      "text/plain": [
       "        Baby Name           Start Time             End Time Activity Amount  \\\n",
       "1890  Hidden Name  08/06/2022 15:30 PM  08/06/2022 15:30 PM  Feeding      5   \n",
       "1892  Hidden Name  08/06/2022 18:44 PM  08/06/2022 18:44 PM  Feeding      6   \n",
       "1888  Hidden Name   08/06/2022 5:55 AM   08/06/2022 5:55 AM  Feeding      4   \n",
       "1887  Hidden Name   08/06/2022 6:44 AM   08/06/2022 6:44 AM  Feeding      2   \n",
       "1889  Hidden Name   08/06/2022 9:28 AM   08/06/2022 9:28 AM  Feeding    5.8   \n",
       "\n",
       "      Percentile  Duration    Info Notes       Date  Month  DOW #       DOW  \\\n",
       "1890         NaN       0.0  Bottle   NaN 2022-08-06      8      5  Saturday   \n",
       "1892         NaN       0.0  Bottle   NaN 2022-08-06      8      5  Saturday   \n",
       "1888         NaN       0.0  Bottle   NaN 2022-08-06      8      5  Saturday   \n",
       "1887         NaN       0.0  Bottle   NaN 2022-08-06      8      5  Saturday   \n",
       "1889         NaN       0.0  Bottle   NaN 2022-08-06      8      5  Saturday   \n",
       "\n",
       "          Time  Hour(int)            Hour(dt)  \n",
       "1890  15:30:00         15 2022-01-01 15:00:00  \n",
       "1892  18:44:00         18 2022-01-01 18:00:00  \n",
       "1888  05:55:00          5 2022-01-01 05:00:00  \n",
       "1887  06:44:00          6 2022-01-01 06:00:00  \n",
       "1889  09:28:00          9 2022-01-01 09:00:00  "
      ]
     },
     "execution_count": 14,
     "metadata": {},
     "output_type": "execute_result"
    }
   ],
   "source": [
    "# Sort\n",
    "df2 = df2.sort_values('Start Time', ascending=True)\n",
    "df2.tail(5)"
   ]
  },
  {
   "cell_type": "code",
   "execution_count": 15,
   "id": "ed98915a-2f5c-4bd0-a0e5-74753174389c",
   "metadata": {
    "tags": []
   },
   "outputs": [],
   "source": [
    "# Set Style\n",
    "plt.style.use('Solarize_Light2')"
   ]
  },
  {
   "cell_type": "markdown",
   "id": "17d6f32d-e06f-4362-8019-04f60ee1ce64",
   "metadata": {
    "jp-MarkdownHeadingCollapsed": true,
    "tags": []
   },
   "source": [
    "##### Weight Setup"
   ]
  },
  {
   "cell_type": "code",
   "execution_count": 16,
   "id": "0250a95f-8370-4f18-8363-f5bac2e2b7b4",
   "metadata": {
    "jupyter": {
     "source_hidden": true
    },
    "tags": []
   },
   "outputs": [
    {
     "data": {
      "text/html": [
       "<div>\n",
       "<style scoped>\n",
       "    .dataframe tbody tr th:only-of-type {\n",
       "        vertical-align: middle;\n",
       "    }\n",
       "\n",
       "    .dataframe tbody tr th {\n",
       "        vertical-align: top;\n",
       "    }\n",
       "\n",
       "    .dataframe thead th {\n",
       "        text-align: right;\n",
       "    }\n",
       "</style>\n",
       "<table border=\"1\" class=\"dataframe\">\n",
       "  <thead>\n",
       "    <tr style=\"text-align: right;\">\n",
       "      <th></th>\n",
       "      <th>Baby Name</th>\n",
       "      <th>Start Time</th>\n",
       "      <th>End Time</th>\n",
       "      <th>Activity</th>\n",
       "      <th>Amount</th>\n",
       "      <th>Percentile</th>\n",
       "      <th>Duration</th>\n",
       "      <th>Info</th>\n",
       "      <th>Notes</th>\n",
       "      <th>Date</th>\n",
       "      <th>Month</th>\n",
       "      <th>DOW #</th>\n",
       "      <th>DOW</th>\n",
       "      <th>Time</th>\n",
       "      <th>Hour(int)</th>\n",
       "      <th>Hour(dt)</th>\n",
       "    </tr>\n",
       "  </thead>\n",
       "  <tbody>\n",
       "    <tr>\n",
       "      <th>0</th>\n",
       "      <td>Hidden Name</td>\n",
       "      <td>03/05/2022 0:00 AM</td>\n",
       "      <td>03/05/2022 0:00 AM</td>\n",
       "      <td>Weight</td>\n",
       "      <td>8.18</td>\n",
       "      <td>0.8411</td>\n",
       "      <td>NaN</td>\n",
       "      <td>NaN</td>\n",
       "      <td>Measured by Nurse</td>\n",
       "      <td>2022-03-05</td>\n",
       "      <td>3</td>\n",
       "      <td>5</td>\n",
       "      <td>Saturday</td>\n",
       "      <td>00:00:00</td>\n",
       "      <td>0</td>\n",
       "      <td>2022-01-01</td>\n",
       "    </tr>\n",
       "    <tr>\n",
       "      <th>2</th>\n",
       "      <td>Hidden Name</td>\n",
       "      <td>03/06/2022 0:00 AM</td>\n",
       "      <td>03/06/2022 0:00 AM</td>\n",
       "      <td>Weight</td>\n",
       "      <td>7.875</td>\n",
       "      <td>NaN</td>\n",
       "      <td>NaN</td>\n",
       "      <td>NaN</td>\n",
       "      <td>Measured by Nurse</td>\n",
       "      <td>2022-03-06</td>\n",
       "      <td>3</td>\n",
       "      <td>6</td>\n",
       "      <td>Sunday</td>\n",
       "      <td>00:00:00</td>\n",
       "      <td>0</td>\n",
       "      <td>2022-01-01</td>\n",
       "    </tr>\n",
       "    <tr>\n",
       "      <th>4</th>\n",
       "      <td>Hidden Name</td>\n",
       "      <td>03/09/2022 0:00 AM</td>\n",
       "      <td>03/09/2022 0:00 AM</td>\n",
       "      <td>Weight</td>\n",
       "      <td>7.53</td>\n",
       "      <td>0.5487</td>\n",
       "      <td>NaN</td>\n",
       "      <td>NaN</td>\n",
       "      <td>Measured by Nurse</td>\n",
       "      <td>2022-03-09</td>\n",
       "      <td>3</td>\n",
       "      <td>2</td>\n",
       "      <td>Wednesday</td>\n",
       "      <td>00:00:00</td>\n",
       "      <td>0</td>\n",
       "      <td>2022-01-01</td>\n",
       "    </tr>\n",
       "  </tbody>\n",
       "</table>\n",
       "</div>"
      ],
      "text/plain": [
       "     Baby Name          Start Time            End Time Activity Amount  \\\n",
       "0  Hidden Name  03/05/2022 0:00 AM  03/05/2022 0:00 AM   Weight   8.18   \n",
       "2  Hidden Name  03/06/2022 0:00 AM  03/06/2022 0:00 AM   Weight  7.875   \n",
       "4  Hidden Name  03/09/2022 0:00 AM  03/09/2022 0:00 AM   Weight   7.53   \n",
       "\n",
       "   Percentile  Duration Info              Notes       Date  Month  DOW #  \\\n",
       "0      0.8411       NaN  NaN  Measured by Nurse 2022-03-05      3      5   \n",
       "2         NaN       NaN  NaN  Measured by Nurse 2022-03-06      3      6   \n",
       "4      0.5487       NaN  NaN  Measured by Nurse 2022-03-09      3      2   \n",
       "\n",
       "         DOW      Time  Hour(int)   Hour(dt)  \n",
       "0   Saturday  00:00:00          0 2022-01-01  \n",
       "2     Sunday  00:00:00          0 2022-01-01  \n",
       "4  Wednesday  00:00:00          0 2022-01-01  "
      ]
     },
     "execution_count": 16,
     "metadata": {},
     "output_type": "execute_result"
    }
   ],
   "source": [
    "# Filter Weight; Drop Null Values from 'Amount'\n",
    "df_weight = df2[df2['Activity'] == 'Weight']\n",
    "df_weight = df_weight[df_weight['Amount'].notna()]\n",
    "df_weight.head(3)"
   ]
  },
  {
   "cell_type": "code",
   "execution_count": 17,
   "id": "80f7dd37-3188-43e9-8770-9e7c3e172406",
   "metadata": {
    "jupyter": {
     "source_hidden": true
    },
    "tags": []
   },
   "outputs": [],
   "source": [
    "# Convert 'Amount' to Float\n",
    "df_weight['Amount'] = df_weight['Amount'].astype(float)"
   ]
  },
  {
   "cell_type": "markdown",
   "id": "138257e5-9555-4a1a-95e1-7ee22bffa049",
   "metadata": {},
   "source": [
    "## Weight"
   ]
  },
  {
   "cell_type": "code",
   "execution_count": 18,
   "id": "8691befc-8ce1-42d6-81f9-5c05f23e9c9e",
   "metadata": {
    "tags": []
   },
   "outputs": [
    {
     "data": {
      "text/plain": [
       "Text(0, 0.5, 'Pounds')"
      ]
     },
     "execution_count": 18,
     "metadata": {},
     "output_type": "execute_result"
    },
    {
     "data": {
      "image/png": "[encoded data removed]",
      "text/plain": [
       "<Figure size 720x360 with 1 Axes>"
      ]
     },
     "metadata": {},
     "output_type": "display_data"
    }
   ],
   "source": [
    "# Plot Weight\n",
    "figure(figsize=(10,5))\n",
    "plt.yticks(np.arange(0, (max(df_weight['Amount'])+1), 4))\n",
    "plt.plot(df_weight['Date'], df_weight['Amount'])\n",
    "plt.title('Weight')\n",
    "plt.ylabel('Pounds')"
   ]
  },
  {
   "cell_type": "code",
   "execution_count": 19,
   "id": "fbc01259-e2b5-46a4-9696-e39d2972668a",
   "metadata": {
    "tags": []
   },
   "outputs": [
    {
     "data": {
      "text/plain": [
       "Text(0.5, 1.0, 'Weight Percentile')"
      ]
     },
     "execution_count": 19,
     "metadata": {},
     "output_type": "execute_result"
    },
    {
     "data": {
      "image/png": "[encoded data removed]",
      "text/plain": [
       "<Figure size 720x360 with 1 Axes>"
      ]
     },
     "metadata": {},
     "output_type": "display_data"
    }
   ],
   "source": [
    "# Plot Weight Percentile\n",
    "figure(figsize=(10,5))\n",
    "df_weight_p = df_weight[df_weight['Percentile'].notna()]\n",
    "plt.plot(df_weight_p['Date'], df_weight_p['Percentile'])\n",
    "plt.gca().xaxis.set_major_locator(mdates.MonthLocator(interval=1))\n",
    "plt.yticks(np.arange(0, 1, .1))\n",
    "plt.title('Weight Percentile')"
   ]
  },
  {
   "cell_type": "markdown",
   "id": "36720a0a-15d5-484c-9047-43e92b18c55c",
   "metadata": {},
   "source": [
    "The rate of weight gain seems to be more or less consistent. However, there was a short burst sometime in early May before returning to its normal trajectory. We can later check if there was also an increase in feeding during this time, which may have caused the quick weight gain.\n",
    "\n",
    "My daughter also had jaundice shortly after birth, which is reflected in the weight drop in March. We supplemented her feeding with formula and she has been doing great since! We may have been slightly overfeeding her due to the jaundice scare, causing her to jump to a very high weight percentile. This will be further explored later."
   ]
  },
  {
   "cell_type": "markdown",
   "id": "a25ea34b-84eb-43b1-af4f-9273c9acab98",
   "metadata": {
    "jp-MarkdownHeadingCollapsed": true,
    "tags": []
   },
   "source": [
    "##### Length Setup"
   ]
  },
  {
   "cell_type": "code",
   "execution_count": 20,
   "id": "38ddf8a2-49d8-48d6-a107-28767999392c",
   "metadata": {
    "jupyter": {
     "source_hidden": true
    },
    "tags": []
   },
   "outputs": [
    {
     "data": {
      "text/html": [
       "<div>\n",
       "<style scoped>\n",
       "    .dataframe tbody tr th:only-of-type {\n",
       "        vertical-align: middle;\n",
       "    }\n",
       "\n",
       "    .dataframe tbody tr th {\n",
       "        vertical-align: top;\n",
       "    }\n",
       "\n",
       "    .dataframe thead th {\n",
       "        text-align: right;\n",
       "    }\n",
       "</style>\n",
       "<table border=\"1\" class=\"dataframe\">\n",
       "  <thead>\n",
       "    <tr style=\"text-align: right;\">\n",
       "      <th></th>\n",
       "      <th>Baby Name</th>\n",
       "      <th>Start Time</th>\n",
       "      <th>End Time</th>\n",
       "      <th>Activity</th>\n",
       "      <th>Amount</th>\n",
       "      <th>Percentile</th>\n",
       "      <th>Duration</th>\n",
       "      <th>Info</th>\n",
       "      <th>Notes</th>\n",
       "      <th>Date</th>\n",
       "      <th>Month</th>\n",
       "      <th>DOW #</th>\n",
       "      <th>DOW</th>\n",
       "      <th>Time</th>\n",
       "      <th>Hour(int)</th>\n",
       "      <th>Hour(dt)</th>\n",
       "    </tr>\n",
       "  </thead>\n",
       "  <tbody>\n",
       "    <tr>\n",
       "      <th>1</th>\n",
       "      <td>Hidden Name</td>\n",
       "      <td>03/05/2022 0:00 AM</td>\n",
       "      <td>03/05/2022 0:00 AM</td>\n",
       "      <td>Length</td>\n",
       "      <td>21.5</td>\n",
       "      <td>0.9983</td>\n",
       "      <td>NaN</td>\n",
       "      <td>NaN</td>\n",
       "      <td>Measured by Nurse</td>\n",
       "      <td>2022-03-05</td>\n",
       "      <td>3</td>\n",
       "      <td>5</td>\n",
       "      <td>Saturday</td>\n",
       "      <td>00:00:00</td>\n",
       "      <td>0</td>\n",
       "      <td>2022-01-01</td>\n",
       "    </tr>\n",
       "    <tr>\n",
       "      <th>3</th>\n",
       "      <td>Hidden Name</td>\n",
       "      <td>03/09/2022 0:00 AM</td>\n",
       "      <td>03/09/2022 0:00 AM</td>\n",
       "      <td>Length</td>\n",
       "      <td>21.3</td>\n",
       "      <td>0.9884</td>\n",
       "      <td>NaN</td>\n",
       "      <td>NaN</td>\n",
       "      <td>Measured by Nurse</td>\n",
       "      <td>2022-03-09</td>\n",
       "      <td>3</td>\n",
       "      <td>2</td>\n",
       "      <td>Wednesday</td>\n",
       "      <td>00:00:00</td>\n",
       "      <td>0</td>\n",
       "      <td>2022-01-01</td>\n",
       "    </tr>\n",
       "    <tr>\n",
       "      <th>7</th>\n",
       "      <td>Hidden Name</td>\n",
       "      <td>03/24/2022 0:00 AM</td>\n",
       "      <td>03/24/2022 0:00 AM</td>\n",
       "      <td>Length</td>\n",
       "      <td>22.2</td>\n",
       "      <td>0.9884</td>\n",
       "      <td>NaN</td>\n",
       "      <td>NaN</td>\n",
       "      <td>Measured by Nurse</td>\n",
       "      <td>2022-03-24</td>\n",
       "      <td>3</td>\n",
       "      <td>3</td>\n",
       "      <td>Thursday</td>\n",
       "      <td>00:00:00</td>\n",
       "      <td>0</td>\n",
       "      <td>2022-01-01</td>\n",
       "    </tr>\n",
       "  </tbody>\n",
       "</table>\n",
       "</div>"
      ],
      "text/plain": [
       "     Baby Name          Start Time            End Time Activity Amount  \\\n",
       "1  Hidden Name  03/05/2022 0:00 AM  03/05/2022 0:00 AM   Length   21.5   \n",
       "3  Hidden Name  03/09/2022 0:00 AM  03/09/2022 0:00 AM   Length   21.3   \n",
       "7  Hidden Name  03/24/2022 0:00 AM  03/24/2022 0:00 AM   Length   22.2   \n",
       "\n",
       "   Percentile  Duration Info              Notes       Date  Month  DOW #  \\\n",
       "1      0.9983       NaN  NaN  Measured by Nurse 2022-03-05      3      5   \n",
       "3      0.9884       NaN  NaN  Measured by Nurse 2022-03-09      3      2   \n",
       "7      0.9884       NaN  NaN  Measured by Nurse 2022-03-24      3      3   \n",
       "\n",
       "         DOW      Time  Hour(int)   Hour(dt)  \n",
       "1   Saturday  00:00:00          0 2022-01-01  \n",
       "3  Wednesday  00:00:00          0 2022-01-01  \n",
       "7   Thursday  00:00:00          0 2022-01-01  "
      ]
     },
     "execution_count": 20,
     "metadata": {},
     "output_type": "execute_result"
    }
   ],
   "source": [
    "# Filter Length; Drop Null Values from 'Amount'\n",
    "df_len = df2[df2['Activity'] == 'Length']\n",
    "df_len = df_len[df_len['Amount'].notna()]\n",
    "df_len.head(3)"
   ]
  },
  {
   "cell_type": "code",
   "execution_count": 21,
   "id": "e0a08285-8d37-44ac-a439-4e19a1e49e92",
   "metadata": {
    "jupyter": {
     "source_hidden": true
    },
    "tags": []
   },
   "outputs": [],
   "source": [
    "# Convert 'Amount' to Float\n",
    "df_len['Amount'] = df_len['Amount'].astype(float)"
   ]
  },
  {
   "cell_type": "markdown",
   "id": "0b468eef-f3fa-456e-b6a8-3aea460a8b5a",
   "metadata": {},
   "source": [
    "## Length"
   ]
  },
  {
   "cell_type": "code",
   "execution_count": 22,
   "id": "856fe46c-2db6-401d-9daf-9cf9a40a7b47",
   "metadata": {
    "tags": []
   },
   "outputs": [
    {
     "data": {
      "text/plain": [
       "Text(0, 0.5, 'Inches')"
      ]
     },
     "execution_count": 22,
     "metadata": {},
     "output_type": "execute_result"
    },
    {
     "data": {
      "image/png": "[encoded data removed]",
      "text/plain": [
       "<Figure size 720x360 with 1 Axes>"
      ]
     },
     "metadata": {},
     "output_type": "display_data"
    }
   ],
   "source": [
    "# Plot-Length\n",
    "figure(figsize=(10,5))\n",
    "plt.plot(df_len['Date'], df_len['Amount'])\n",
    "plt.yticks(np.arange(20, (max(df_len['Amount'])+1), 2))\n",
    "plt.gca().xaxis.set_major_locator(mdates.MonthLocator(interval=1))\n",
    "plt.title('Length')\n",
    "plt.ylabel('Inches')"
   ]
  },
  {
   "cell_type": "code",
   "execution_count": 23,
   "id": "d2a3d736-fc93-44c6-93df-9413ef13a001",
   "metadata": {
    "tags": []
   },
   "outputs": [
    {
     "data": {
      "text/plain": [
       "Text(0.5, 1.0, 'Length Percentile')"
      ]
     },
     "execution_count": 23,
     "metadata": {},
     "output_type": "execute_result"
    },
    {
     "data": {
      "image/png": "[encoded data removed]",
      "text/plain": [
       "<Figure size 720x360 with 1 Axes>"
      ]
     },
     "metadata": {},
     "output_type": "display_data"
    }
   ],
   "source": [
    "# Plot-Length Percentile\n",
    "figure(figsize=(10,5))\n",
    "df_len_p = df_len[df_len['Percentile'].notna()]\n",
    "plt.plot(df_len_p['Date'], df_len_p['Percentile'])\n",
    "plt.gca().xaxis.set_major_locator(mdates.MonthLocator(interval=1))\n",
    "plt.yticks(np.arange(0, 1, .1))\n",
    "plt.title('Length Percentile')"
   ]
  },
  {
   "cell_type": "markdown",
   "id": "e00105c8-ae78-4150-b46f-fb0863fb925d",
   "metadata": {},
   "source": [
    "Her rate of length increase seems to be consistent overall, except for the slight March dip, which coincided with the weight drop during jaundice, and another small dip in July. However, this may be negligible as these dips are only off by fractions of an inch. I don't think she actually got shorter. It may be due to the difficulty of getting precise measurements when the baby is squirming and different people (several nurses, me) doing the measuring.\n",
    "\n",
    "***Overall, she seems to always be in the high 90th percentile in length since birth. Weight was lagging due to the jaundice, but it caught up eventually within a few months.*** With both weight and length percentiles about the same, this seems to be a good sign that her growth is going really well!"
   ]
  },
  {
   "cell_type": "markdown",
   "id": "72d6d5dc-5d74-47cb-868c-ae3cc0fc33d2",
   "metadata": {
    "jp-MarkdownHeadingCollapsed": true,
    "tags": []
   },
   "source": [
    "##### Feeding Setup"
   ]
  },
  {
   "cell_type": "code",
   "execution_count": 24,
   "id": "28445ca4-2d8b-4975-936d-79c627647ce1",
   "metadata": {
    "tags": []
   },
   "outputs": [
    {
     "data": {
      "text/html": [
       "<div>\n",
       "<style scoped>\n",
       "    .dataframe tbody tr th:only-of-type {\n",
       "        vertical-align: middle;\n",
       "    }\n",
       "\n",
       "    .dataframe tbody tr th {\n",
       "        vertical-align: top;\n",
       "    }\n",
       "\n",
       "    .dataframe thead th {\n",
       "        text-align: right;\n",
       "    }\n",
       "</style>\n",
       "<table border=\"1\" class=\"dataframe\">\n",
       "  <thead>\n",
       "    <tr style=\"text-align: right;\">\n",
       "      <th></th>\n",
       "      <th>Baby Name</th>\n",
       "      <th>Start Time</th>\n",
       "      <th>End Time</th>\n",
       "      <th>Activity</th>\n",
       "      <th>Amount</th>\n",
       "      <th>Percentile</th>\n",
       "      <th>Duration</th>\n",
       "      <th>Info</th>\n",
       "      <th>Notes</th>\n",
       "      <th>Date</th>\n",
       "      <th>Month</th>\n",
       "      <th>DOW #</th>\n",
       "      <th>DOW</th>\n",
       "      <th>Time</th>\n",
       "      <th>Hour(int)</th>\n",
       "      <th>Hour(dt)</th>\n",
       "    </tr>\n",
       "  </thead>\n",
       "  <tbody>\n",
       "    <tr>\n",
       "      <th>18</th>\n",
       "      <td>Hidden Name</td>\n",
       "      <td>03/13/2022 0:56 AM</td>\n",
       "      <td>03/13/2022 0:56 AM</td>\n",
       "      <td>Feeding</td>\n",
       "      <td>2</td>\n",
       "      <td>NaN</td>\n",
       "      <td>0.0</td>\n",
       "      <td>Bottle</td>\n",
       "      <td>NaN</td>\n",
       "      <td>2022-03-13</td>\n",
       "      <td>3</td>\n",
       "      <td>6</td>\n",
       "      <td>Sunday</td>\n",
       "      <td>00:56:00</td>\n",
       "      <td>0</td>\n",
       "      <td>2022-01-01 00:00:00</td>\n",
       "    </tr>\n",
       "    <tr>\n",
       "      <th>13</th>\n",
       "      <td>Hidden Name</td>\n",
       "      <td>03/13/2022 11:45 AM</td>\n",
       "      <td>03/13/2022 11:45 AM</td>\n",
       "      <td>Feeding</td>\n",
       "      <td>2.5</td>\n",
       "      <td>NaN</td>\n",
       "      <td>0.0</td>\n",
       "      <td>Bottle</td>\n",
       "      <td>NaN</td>\n",
       "      <td>2022-03-13</td>\n",
       "      <td>3</td>\n",
       "      <td>6</td>\n",
       "      <td>Sunday</td>\n",
       "      <td>11:45:00</td>\n",
       "      <td>11</td>\n",
       "      <td>2022-01-01 11:00:00</td>\n",
       "    </tr>\n",
       "    <tr>\n",
       "      <th>24</th>\n",
       "      <td>Hidden Name</td>\n",
       "      <td>03/13/2022 14:45 PM</td>\n",
       "      <td>03/13/2022 14:45 PM</td>\n",
       "      <td>Feeding</td>\n",
       "      <td>2.5</td>\n",
       "      <td>NaN</td>\n",
       "      <td>0.0</td>\n",
       "      <td>Bottle</td>\n",
       "      <td>NaN</td>\n",
       "      <td>2022-03-13</td>\n",
       "      <td>3</td>\n",
       "      <td>6</td>\n",
       "      <td>Sunday</td>\n",
       "      <td>14:45:00</td>\n",
       "      <td>14</td>\n",
       "      <td>2022-01-01 14:00:00</td>\n",
       "    </tr>\n",
       "  </tbody>\n",
       "</table>\n",
       "</div>"
      ],
      "text/plain": [
       "      Baby Name           Start Time             End Time Activity Amount  \\\n",
       "18  Hidden Name   03/13/2022 0:56 AM   03/13/2022 0:56 AM  Feeding      2   \n",
       "13  Hidden Name  03/13/2022 11:45 AM  03/13/2022 11:45 AM  Feeding    2.5   \n",
       "24  Hidden Name  03/13/2022 14:45 PM  03/13/2022 14:45 PM  Feeding    2.5   \n",
       "\n",
       "    Percentile  Duration    Info Notes       Date  Month  DOW #     DOW  \\\n",
       "18         NaN       0.0  Bottle   NaN 2022-03-13      3      6  Sunday   \n",
       "13         NaN       0.0  Bottle   NaN 2022-03-13      3      6  Sunday   \n",
       "24         NaN       0.0  Bottle   NaN 2022-03-13      3      6  Sunday   \n",
       "\n",
       "        Time  Hour(int)            Hour(dt)  \n",
       "18  00:56:00          0 2022-01-01 00:00:00  \n",
       "13  11:45:00         11 2022-01-01 11:00:00  \n",
       "24  14:45:00         14 2022-01-01 14:00:00  "
      ]
     },
     "execution_count": 24,
     "metadata": {},
     "output_type": "execute_result"
    }
   ],
   "source": [
    "# Filter Feeding; Drop Null Values\n",
    "df_feed = df2[df2['Activity'] == 'Feeding']\n",
    "df_feed = df_feed[df_feed['Amount'].notna()]\n",
    "df_feed.head(3)"
   ]
  },
  {
   "cell_type": "code",
   "execution_count": 25,
   "id": "7056eb66-9353-4241-80b6-dce0f28874b7",
   "metadata": {
    "tags": []
   },
   "outputs": [],
   "source": [
    "# Convert 'Amount' to Float\n",
    "df_feed['Amount'] = df_feed['Amount'].astype(float)"
   ]
  },
  {
   "cell_type": "code",
   "execution_count": 26,
   "id": "9cdcb2a4-1649-4e6f-9dc9-fb6cbda56029",
   "metadata": {
    "tags": []
   },
   "outputs": [],
   "source": [
    "# Group & Sum by Day\n",
    "df_feed_sum_day = df_feed['Amount'].groupby(df_feed['Date']).sum().reset_index(name ='Day Feed Amount')"
   ]
  },
  {
   "cell_type": "markdown",
   "id": "62504acb-7aa5-4b5c-8fa6-c5904cf0933e",
   "metadata": {},
   "source": [
    "## Feeding"
   ]
  },
  {
   "cell_type": "markdown",
   "id": "811cb181-f852-42cd-92f9-5231af7e1eb6",
   "metadata": {},
   "source": [
    "#### *-Sum by Day*"
   ]
  },
  {
   "cell_type": "code",
   "execution_count": 27,
   "id": "ccdf0426-b064-4cb1-bd9a-22230ecedf99",
   "metadata": {
    "tags": []
   },
   "outputs": [
    {
     "data": {
      "text/plain": [
       "Text(0, 0.5, 'Ounces')"
      ]
     },
     "execution_count": 27,
     "metadata": {},
     "output_type": "execute_result"
    },
    {
     "data": {
      "image/png": "[encoded data removed]",
      "text/plain": [
       "<Figure size 720x360 with 1 Axes>"
      ]
     },
     "metadata": {},
     "output_type": "display_data"
    }
   ],
   "source": [
    "# Plot-Feeding Amount By Day\n",
    "figure(figsize=(10,5))\n",
    "plt.yticks(np.arange(0, (max(df_feed_sum_day['Day Feed Amount'])+1), 4))\n",
    "plt.plot(df_feed_sum_day['Date'], df_feed_sum_day['Day Feed Amount'])\n",
    "plt.title('Feeding Amount Per Day')\n",
    "plt.ylabel('Ounces')"
   ]
  },
  {
   "cell_type": "markdown",
   "id": "be1b3b3a-df4c-4035-9075-dd0681f1d13b",
   "metadata": {},
   "source": [
    "There was a jump of about 10oz in May, which coincides with the slight increase in the rate of weight gain previously mentioned. The feeding amount increased once again in June, until a drop in July to previous levels. This drop was when the doctor told us we needed to slow down on the feeding. ***This increase in feeding from May to early July is also reflected in the increase in weight during the same time. We can safely conclude that feeding amount strongly affected her weight at the very least, which in turn most likely affected her overall growth.***"
   ]
  },
  {
   "cell_type": "markdown",
   "id": "375c4c07-0f47-4627-bb04-6c0b75cc7c74",
   "metadata": {
    "jp-MarkdownHeadingCollapsed": true,
    "tags": []
   },
   "source": [
    "##### *-Sum by Hour Setup*"
   ]
  },
  {
   "cell_type": "code",
   "execution_count": 28,
   "id": "d0fb06c8-9800-4b45-bb9e-809912348584",
   "metadata": {
    "tags": []
   },
   "outputs": [
    {
     "data": {
      "text/html": [
       "<div>\n",
       "<style scoped>\n",
       "    .dataframe tbody tr th:only-of-type {\n",
       "        vertical-align: middle;\n",
       "    }\n",
       "\n",
       "    .dataframe tbody tr th {\n",
       "        vertical-align: top;\n",
       "    }\n",
       "\n",
       "    .dataframe thead tr th {\n",
       "        text-align: left;\n",
       "    }\n",
       "</style>\n",
       "<table border=\"1\" class=\"dataframe\">\n",
       "  <thead>\n",
       "    <tr>\n",
       "      <th></th>\n",
       "      <th>Hour(dt)</th>\n",
       "      <th>Amount</th>\n",
       "    </tr>\n",
       "    <tr>\n",
       "      <th></th>\n",
       "      <th></th>\n",
       "      <th>sum</th>\n",
       "    </tr>\n",
       "  </thead>\n",
       "  <tbody>\n",
       "    <tr>\n",
       "      <th>18</th>\n",
       "      <td>2022-01-01 18:00:00</td>\n",
       "      <td>291.40</td>\n",
       "    </tr>\n",
       "    <tr>\n",
       "      <th>12</th>\n",
       "      <td>2022-01-01 12:00:00</td>\n",
       "      <td>267.70</td>\n",
       "    </tr>\n",
       "    <tr>\n",
       "      <th>16</th>\n",
       "      <td>2022-01-01 16:00:00</td>\n",
       "      <td>247.60</td>\n",
       "    </tr>\n",
       "    <tr>\n",
       "      <th>6</th>\n",
       "      <td>2022-01-01 06:00:00</td>\n",
       "      <td>242.30</td>\n",
       "    </tr>\n",
       "    <tr>\n",
       "      <th>15</th>\n",
       "      <td>2022-01-01 15:00:00</td>\n",
       "      <td>241.75</td>\n",
       "    </tr>\n",
       "    <tr>\n",
       "      <th>14</th>\n",
       "      <td>2022-01-01 14:00:00</td>\n",
       "      <td>239.20</td>\n",
       "    </tr>\n",
       "    <tr>\n",
       "      <th>19</th>\n",
       "      <td>2022-01-01 19:00:00</td>\n",
       "      <td>237.10</td>\n",
       "    </tr>\n",
       "    <tr>\n",
       "      <th>9</th>\n",
       "      <td>2022-01-01 09:00:00</td>\n",
       "      <td>229.80</td>\n",
       "    </tr>\n",
       "    <tr>\n",
       "      <th>17</th>\n",
       "      <td>2022-01-01 17:00:00</td>\n",
       "      <td>224.20</td>\n",
       "    </tr>\n",
       "    <tr>\n",
       "      <th>10</th>\n",
       "      <td>2022-01-01 10:00:00</td>\n",
       "      <td>216.50</td>\n",
       "    </tr>\n",
       "  </tbody>\n",
       "</table>\n",
       "</div>"
      ],
      "text/plain": [
       "              Hour(dt)  Amount\n",
       "                           sum\n",
       "18 2022-01-01 18:00:00  291.40\n",
       "12 2022-01-01 12:00:00  267.70\n",
       "16 2022-01-01 16:00:00  247.60\n",
       "6  2022-01-01 06:00:00  242.30\n",
       "15 2022-01-01 15:00:00  241.75\n",
       "14 2022-01-01 14:00:00  239.20\n",
       "19 2022-01-01 19:00:00  237.10\n",
       "9  2022-01-01 09:00:00  229.80\n",
       "17 2022-01-01 17:00:00  224.20\n",
       "10 2022-01-01 10:00:00  216.50"
      ]
     },
     "execution_count": 28,
     "metadata": {},
     "output_type": "execute_result"
    }
   ],
   "source": [
    "# Group & Sum by Hour-Bar\n",
    "df_feed_sum_hr_bar = df_feed.groupby(['Hour(dt)']).agg({'Amount': ['sum']}).reset_index()\n",
    "df_feed_sum_hr_bar.sort_values(by=('Amount','sum'),ascending=False).head(10)"
   ]
  },
  {
   "cell_type": "markdown",
   "id": "00903a5c-a23c-4667-b231-ca26cf7c7ee0",
   "metadata": {},
   "source": [
    "#### *-Sum by Hour*"
   ]
  },
  {
   "cell_type": "code",
   "execution_count": 29,
   "id": "2f394705-fe92-4521-9d42-80af7b709839",
   "metadata": {
    "tags": []
   },
   "outputs": [
    {
     "data": {
      "image/png": "[encoded data removed]",
      "text/plain": [
       "<Figure size 720x360 with 1 Axes>"
      ]
     },
     "metadata": {},
     "output_type": "display_data"
    }
   ],
   "source": [
    "# Bar-Feeding Amount By Hr\n",
    "fig, ax_fs_h = plt.subplots(figsize=(10,5))\n",
    "\n",
    "x_fs_h = df_feed_sum_hr_bar['Hour(dt)']\n",
    "y_fs_h = df_feed_sum_hr_bar['Amount']['sum']\n",
    "ax_fs_h.bar(x_fs_h, y_fs_h, width=0.02)\n",
    "\n",
    "hours = mdates.HourLocator(interval = 2)\n",
    "hh_mm = mdates.DateFormatter('%H:%M')\n",
    "ax_fs_h.xaxis.set_major_locator(hours)\n",
    "ax_fs_h.xaxis.set_major_formatter(hh_mm)\n",
    "\n",
    "ax_fs_h.set_title('Total Feeding Amount Per Hour')\n",
    "ax_fs_h.set_ylabel('Ounces')\n",
    "\n",
    "ax_fs_h.set_xlim(datetime.datetime(2021, 12, 31, 23, 0), datetime.datetime(2022, 1, 1, 23, 59))\n",
    "#plt.setp(ax_fs_h.get_xticklabels()[-1], visible=False)\n",
    "\n",
    "fig.autofmt_xdate()\n",
    "fig.tight_layout()"
   ]
  },
  {
   "cell_type": "markdown",
   "id": "0f3b48af-e86e-452f-9bda-5cff11784525",
   "metadata": {},
   "source": [
    "Top ten hours for total amount were:\n",
    "1. 6 PM\n",
    "2. 12 PM\n",
    "3. 4 PM\n",
    "4. 6 ***AM***\n",
    "5. 3 PM\n",
    "6. 2 PM\n",
    "7. 7 PM\n",
    "8. 9 ***AM***\n",
    "9. 5 PM\n",
    "10. 10 ***AM***"
   ]
  },
  {
   "cell_type": "markdown",
   "id": "2a933b27-164a-428c-b912-e9badfa5953f",
   "metadata": {
    "jp-MarkdownHeadingCollapsed": true,
    "tags": []
   },
   "source": [
    "##### *-Different View*"
   ]
  },
  {
   "cell_type": "code",
   "execution_count": 30,
   "id": "8763e55c-68bc-402b-ac90-9884ea1163c0",
   "metadata": {
    "tags": []
   },
   "outputs": [
    {
     "data": {
      "text/html": [
       "<div>\n",
       "<style scoped>\n",
       "    .dataframe tbody tr th:only-of-type {\n",
       "        vertical-align: middle;\n",
       "    }\n",
       "\n",
       "    .dataframe tbody tr th {\n",
       "        vertical-align: top;\n",
       "    }\n",
       "\n",
       "    .dataframe thead th {\n",
       "        text-align: right;\n",
       "    }\n",
       "</style>\n",
       "<table border=\"1\" class=\"dataframe\">\n",
       "  <thead>\n",
       "    <tr style=\"text-align: right;\">\n",
       "      <th></th>\n",
       "      <th>Hour(int)</th>\n",
       "      <th>Hour Feed Amount</th>\n",
       "    </tr>\n",
       "  </thead>\n",
       "  <tbody>\n",
       "    <tr>\n",
       "      <th>0</th>\n",
       "      <td>0</td>\n",
       "      <td>83.3</td>\n",
       "    </tr>\n",
       "    <tr>\n",
       "      <th>1</th>\n",
       "      <td>1</td>\n",
       "      <td>71.6</td>\n",
       "    </tr>\n",
       "    <tr>\n",
       "      <th>2</th>\n",
       "      <td>2</td>\n",
       "      <td>73.7</td>\n",
       "    </tr>\n",
       "    <tr>\n",
       "      <th>3</th>\n",
       "      <td>3</td>\n",
       "      <td>96.9</td>\n",
       "    </tr>\n",
       "    <tr>\n",
       "      <th>4</th>\n",
       "      <td>4</td>\n",
       "      <td>85.5</td>\n",
       "    </tr>\n",
       "  </tbody>\n",
       "</table>\n",
       "</div>"
      ],
      "text/plain": [
       "   Hour(int)  Hour Feed Amount\n",
       "0          0              83.3\n",
       "1          1              71.6\n",
       "2          2              73.7\n",
       "3          3              96.9\n",
       "4          4              85.5"
      ]
     },
     "execution_count": 30,
     "metadata": {},
     "output_type": "execute_result"
    }
   ],
   "source": [
    "# Group & Sum by Hour-Plot\n",
    "df_feed_sum_hr_plot = df_feed['Amount'].groupby(df_feed['Hour(int)']).sum().reset_index(name ='Hour Feed Amount')\n",
    "df_feed_sum_hr_plot.head()"
   ]
  },
  {
   "cell_type": "code",
   "execution_count": 31,
   "id": "686c66ac-e6e0-4d9b-bd2d-2d266f02d4fe",
   "metadata": {
    "jupyter": {
     "source_hidden": true
    },
    "tags": []
   },
   "outputs": [
    {
     "data": {
      "image/png": "[encoded data removed]",
      "text/plain": [
       "<Figure size 432x288 with 1 Axes>"
      ]
     },
     "metadata": {},
     "output_type": "display_data"
    }
   ],
   "source": [
    "# Plot-Feeding Amount by Time\n",
    "plt.yticks(np.arange(0, (max(df_feed_sum_hr_plot['Hour Feed Amount'])+20), 50))\n",
    "plt.xticks(np.arange(0, 23, 2))\n",
    "plt.plot(df_feed_sum_hr_plot['Hour(int)'], df_feed_sum_hr_plot['Hour Feed Amount'])\n",
    "plt.title('Total Feeding Amount Per Hour')\n",
    "plt.ylabel('Ounces')\n",
    "plt.xlabel('Hour')\n",
    "plt.gcf().autofmt_xdate()\n",
    "plt.gcf().tight_layout()"
   ]
  },
  {
   "cell_type": "markdown",
   "id": "dbd0e4b4-13bc-4d39-ae68-3d8ab2c236cb",
   "metadata": {
    "jp-MarkdownHeadingCollapsed": true,
    "tags": []
   },
   "source": [
    "##### *-Avg by Hr Setup*"
   ]
  },
  {
   "cell_type": "code",
   "execution_count": 32,
   "id": "8f24aeca-d8a7-4309-94a9-1c1d34ecd4b2",
   "metadata": {
    "tags": []
   },
   "outputs": [
    {
     "data": {
      "text/html": [
       "<div>\n",
       "<style scoped>\n",
       "    .dataframe tbody tr th:only-of-type {\n",
       "        vertical-align: middle;\n",
       "    }\n",
       "\n",
       "    .dataframe tbody tr th {\n",
       "        vertical-align: top;\n",
       "    }\n",
       "\n",
       "    .dataframe thead th {\n",
       "        text-align: right;\n",
       "    }\n",
       "</style>\n",
       "<table border=\"1\" class=\"dataframe\">\n",
       "  <thead>\n",
       "    <tr style=\"text-align: right;\">\n",
       "      <th></th>\n",
       "      <th>Hour(int)</th>\n",
       "      <th>Hour Feed Avg</th>\n",
       "    </tr>\n",
       "  </thead>\n",
       "  <tbody>\n",
       "    <tr>\n",
       "      <th>12</th>\n",
       "      <td>12</td>\n",
       "      <td>4.182812</td>\n",
       "    </tr>\n",
       "    <tr>\n",
       "      <th>7</th>\n",
       "      <td>7</td>\n",
       "      <td>4.108333</td>\n",
       "    </tr>\n",
       "    <tr>\n",
       "      <th>23</th>\n",
       "      <td>23</td>\n",
       "      <td>3.997917</td>\n",
       "    </tr>\n",
       "    <tr>\n",
       "      <th>16</th>\n",
       "      <td>16</td>\n",
       "      <td>3.993548</td>\n",
       "    </tr>\n",
       "    <tr>\n",
       "      <th>13</th>\n",
       "      <td>13</td>\n",
       "      <td>3.967925</td>\n",
       "    </tr>\n",
       "    <tr>\n",
       "      <th>18</th>\n",
       "      <td>18</td>\n",
       "      <td>3.937838</td>\n",
       "    </tr>\n",
       "    <tr>\n",
       "      <th>6</th>\n",
       "      <td>6</td>\n",
       "      <td>3.908065</td>\n",
       "    </tr>\n",
       "    <tr>\n",
       "      <th>15</th>\n",
       "      <td>15</td>\n",
       "      <td>3.837302</td>\n",
       "    </tr>\n",
       "    <tr>\n",
       "      <th>14</th>\n",
       "      <td>14</td>\n",
       "      <td>3.796825</td>\n",
       "    </tr>\n",
       "    <tr>\n",
       "      <th>17</th>\n",
       "      <td>17</td>\n",
       "      <td>3.736667</td>\n",
       "    </tr>\n",
       "  </tbody>\n",
       "</table>\n",
       "</div>"
      ],
      "text/plain": [
       "    Hour(int)  Hour Feed Avg\n",
       "12         12       4.182812\n",
       "7           7       4.108333\n",
       "23         23       3.997917\n",
       "16         16       3.993548\n",
       "13         13       3.967925\n",
       "18         18       3.937838\n",
       "6           6       3.908065\n",
       "15         15       3.837302\n",
       "14         14       3.796825\n",
       "17         17       3.736667"
      ]
     },
     "execution_count": 32,
     "metadata": {},
     "output_type": "execute_result"
    }
   ],
   "source": [
    "# Group & Avg by Hour\n",
    "df_feed_avg_hr = df_feed['Amount'].groupby(df_feed['Hour(int)']).mean().reset_index(name ='Hour Feed Avg')\n",
    "\n",
    "df_feed_avg_hr.sort_values(by='Hour Feed Avg', ascending=False).head(10)"
   ]
  },
  {
   "cell_type": "markdown",
   "id": "fa32dcd5-e92d-4e3b-b7fc-d733b4a47566",
   "metadata": {
    "tags": []
   },
   "source": [
    "#### *-Avg by Hr*"
   ]
  },
  {
   "cell_type": "code",
   "execution_count": 33,
   "id": "86f82e0c-48e1-4ad8-91a0-9ad51ed17898",
   "metadata": {
    "tags": []
   },
   "outputs": [
    {
     "data": {
      "text/plain": [
       "Text(0.5, 0, 'Hour')"
      ]
     },
     "execution_count": 33,
     "metadata": {},
     "output_type": "execute_result"
    },
    {
     "data": {
      "image/png": "[encoded data removed]",
      "text/plain": [
       "<Figure size 720x360 with 1 Axes>"
      ]
     },
     "metadata": {},
     "output_type": "display_data"
    }
   ],
   "source": [
    "# Bar-Avg Feeding Amount Per Hr\n",
    "figure(figsize=(10,5))\n",
    "plt.yticks(np.arange(0, (max(df_feed_avg_hr['Hour Feed Avg'])+1), 1))\n",
    "plt.xticks(np.arange(0, 23, 2))\n",
    "plt.bar(df_feed_avg_hr['Hour(int)'], df_feed_avg_hr['Hour Feed Avg'])\n",
    "plt.title('Avg Feeding Amount Per Hour')\n",
    "plt.ylabel('Ounces')\n",
    "plt.xlabel('Hour')"
   ]
  },
  {
   "cell_type": "markdown",
   "id": "4791264e-ec7c-4c59-bce4-242a66ba755e",
   "metadata": {},
   "source": [
    "Top ten hours for average amount were:\n",
    "1. 12 PM\n",
    "2. 7 ***AM***\n",
    "3. 11 PM\n",
    "4. 4 PM\n",
    "5. 1 PM\n",
    "6. 6 PM\n",
    "7. 6 ***AM***\n",
    "8. 3 PM\n",
    "9. 2 PM\n",
    "10. 5 PM"
   ]
  },
  {
   "cell_type": "markdown",
   "id": "86efebb8-7587-4358-8cfc-fcefc1d2b816",
   "metadata": {},
   "source": [
    "12 PM, 4 PM, and 6 PM are in the top six of both total and average amount, but it may be better to analyze these times within separate months. The feeding amount and number of feedings changed each month, and aggregating by month will give us a better picture of favored times."
   ]
  },
  {
   "cell_type": "markdown",
   "id": "485ba0e6-3273-4835-a17f-32424b14689e",
   "metadata": {
    "jp-MarkdownHeadingCollapsed": true,
    "tags": []
   },
   "source": [
    "##### *-Sum by Hour/Month Setup*"
   ]
  },
  {
   "cell_type": "code",
   "execution_count": 34,
   "id": "a3a52270-b497-4532-83d7-7248be1676ef",
   "metadata": {
    "tags": []
   },
   "outputs": [
    {
     "data": {
      "text/html": [
       "<div>\n",
       "<style scoped>\n",
       "    .dataframe tbody tr th:only-of-type {\n",
       "        vertical-align: middle;\n",
       "    }\n",
       "\n",
       "    .dataframe tbody tr th {\n",
       "        vertical-align: top;\n",
       "    }\n",
       "\n",
       "    .dataframe thead tr th {\n",
       "        text-align: left;\n",
       "    }\n",
       "</style>\n",
       "<table border=\"1\" class=\"dataframe\">\n",
       "  <thead>\n",
       "    <tr>\n",
       "      <th></th>\n",
       "      <th>Month</th>\n",
       "      <th>Hour(int)</th>\n",
       "      <th>Hour(dt)</th>\n",
       "      <th>Amount</th>\n",
       "    </tr>\n",
       "    <tr>\n",
       "      <th></th>\n",
       "      <th></th>\n",
       "      <th></th>\n",
       "      <th></th>\n",
       "      <th>sum</th>\n",
       "    </tr>\n",
       "  </thead>\n",
       "  <tbody>\n",
       "    <tr>\n",
       "      <th>0</th>\n",
       "      <td>3</td>\n",
       "      <td>0</td>\n",
       "      <td>2022-01-01 00:00:00</td>\n",
       "      <td>24.5</td>\n",
       "    </tr>\n",
       "    <tr>\n",
       "      <th>1</th>\n",
       "      <td>3</td>\n",
       "      <td>1</td>\n",
       "      <td>2022-01-01 01:00:00</td>\n",
       "      <td>9.0</td>\n",
       "    </tr>\n",
       "    <tr>\n",
       "      <th>2</th>\n",
       "      <td>3</td>\n",
       "      <td>2</td>\n",
       "      <td>2022-01-01 02:00:00</td>\n",
       "      <td>14.7</td>\n",
       "    </tr>\n",
       "  </tbody>\n",
       "</table>\n",
       "</div>"
      ],
      "text/plain": [
       "  Month Hour(int)            Hour(dt) Amount\n",
       "                                         sum\n",
       "0     3         0 2022-01-01 00:00:00   24.5\n",
       "1     3         1 2022-01-01 01:00:00    9.0\n",
       "2     3         2 2022-01-01 02:00:00   14.7"
      ]
     },
     "execution_count": 34,
     "metadata": {},
     "output_type": "execute_result"
    }
   ],
   "source": [
    "# Group & Avg by Month, Hour\n",
    "df_feed_sum_mth_hr = df_feed.groupby(['Month', 'Hour(int)', 'Hour(dt)']).agg({'Amount': ['sum']})\n",
    "df_feed_sum_mth_hr = df_feed_sum_mth_hr.reset_index()\n",
    "df_feed_sum_mth_hr.head(3)"
   ]
  },
  {
   "cell_type": "markdown",
   "id": "d774592e-cae3-4bf0-92e9-3316633da051",
   "metadata": {
    "tags": []
   },
   "source": [
    "#### *-Sum by Hour/Month*"
   ]
  },
  {
   "cell_type": "code",
   "execution_count": 35,
   "id": "17030458-0252-40b4-9c69-5a3260a52e14",
   "metadata": {
    "tags": []
   },
   "outputs": [
    {
     "data": {
      "image/png": "[encoded data removed]",
      "text/plain": [
       "<Figure size 1800x720 with 6 Axes>"
      ]
     },
     "metadata": {},
     "output_type": "display_data"
    }
   ],
   "source": [
    "# Bar-Total Feeding Amount by Hour/Month\n",
    "fig, [[ax1, ax2, ax3], [ax4, ax5, ax6]] = plt.subplots(2, 3, figsize=(25,10), sharey=True)\n",
    "\n",
    "list_of_axes = [ax1, ax2, ax3, ax4, ax5, ax6]\n",
    "n = 3\n",
    "month_name = ['March', 'April', 'May', 'June', 'July', 'August']\n",
    "i = 0\n",
    "\n",
    "for ax in list_of_axes:\n",
    "    df_feed_sum_mth_hr_m = df_feed_sum_mth_hr[df_feed_sum_mth_hr['Month'] == n]\n",
    "    x = df_feed_sum_mth_hr_m['Hour(dt)']\n",
    "    y = df_feed_sum_mth_hr_m['Amount']['sum']\n",
    "    ax.bar(x, y, width=0.03, align='center')\n",
    "    ax.title.set_text(month_name[i])\n",
    "    n = n+1\n",
    "    i = i+1\n",
    "\n",
    "for ax in list_of_axes:\n",
    "    hours = mdates.HourLocator(interval=2)\n",
    "    hh_mm = mdates.DateFormatter('%H:%M')\n",
    "    ax.xaxis.set_major_locator(hours)\n",
    "    ax.xaxis.set_major_formatter(hh_mm)\n",
    "    ax.set_xlim([datetime.datetime(2021,12,31,23,0), datetime.datetime(2022,1,1,23,59)])\n",
    "    plt.setp(ax.get_xticklabels(), rotation=45)  \n",
    "\n",
    "ax1.set_ylabel('Ounces', fontsize=16)\n",
    "ax4.set_ylabel('Ounces', fontsize=16)\n",
    "fig.suptitle('Total Feeding Amount Per Hour & Month', fontsize=24)\n",
    "\n",
    "fig.tight_layout()"
   ]
  },
  {
   "cell_type": "markdown",
   "id": "9db7f139-6c48-4283-a5bf-581d4cad36e1",
   "metadata": {},
   "source": [
    "Total Feeding Amount - Top 3 Hours by Month:\n",
    "\n",
    "- March: 2 PM, 6 ***AM***, 11 ***AM***\n",
    "- April: 5 PM, 3 PM, 3 ***AM***\n",
    "- May: 4 PM,  1 PM, 6 PM\n",
    "- June: 7 PM, 12 PM, 2 PM\n",
    "- July: 6 PM, 7 ***AM***, 3 PM\n",
    "- August: 12 PM, 6 ***AM***, 9 ***AM***"
   ]
  },
  {
   "cell_type": "markdown",
   "id": "d865a89f-da79-441c-a326-6994c345513a",
   "metadata": {
    "tags": []
   },
   "source": [
    "##### *-Rank*"
   ]
  },
  {
   "cell_type": "code",
   "execution_count": 36,
   "id": "35e2e487-a80c-498e-a756-7c632f153dda",
   "metadata": {
    "jupyter": {
     "source_hidden": true
    },
    "tags": []
   },
   "outputs": [
    {
     "data": {
      "text/html": [
       "<div>\n",
       "<style scoped>\n",
       "    .dataframe tbody tr th:only-of-type {\n",
       "        vertical-align: middle;\n",
       "    }\n",
       "\n",
       "    .dataframe tbody tr th {\n",
       "        vertical-align: top;\n",
       "    }\n",
       "\n",
       "    .dataframe thead tr th {\n",
       "        text-align: left;\n",
       "    }\n",
       "</style>\n",
       "<table border=\"1\" class=\"dataframe\">\n",
       "  <thead>\n",
       "    <tr>\n",
       "      <th></th>\n",
       "      <th>Month</th>\n",
       "      <th>Hour(int)</th>\n",
       "      <th>Hour(dt)</th>\n",
       "      <th>Amount</th>\n",
       "    </tr>\n",
       "    <tr>\n",
       "      <th></th>\n",
       "      <th></th>\n",
       "      <th></th>\n",
       "      <th></th>\n",
       "      <th>sum</th>\n",
       "    </tr>\n",
       "  </thead>\n",
       "  <tbody>\n",
       "    <tr>\n",
       "      <th>119</th>\n",
       "      <td>8</td>\n",
       "      <td>12</td>\n",
       "      <td>2022-01-01 12:00:00</td>\n",
       "      <td>28.75</td>\n",
       "    </tr>\n",
       "    <tr>\n",
       "      <th>115</th>\n",
       "      <td>8</td>\n",
       "      <td>6</td>\n",
       "      <td>2022-01-01 06:00:00</td>\n",
       "      <td>26.00</td>\n",
       "    </tr>\n",
       "    <tr>\n",
       "      <th>117</th>\n",
       "      <td>8</td>\n",
       "      <td>9</td>\n",
       "      <td>2022-01-01 09:00:00</td>\n",
       "      <td>25.80</td>\n",
       "    </tr>\n",
       "  </tbody>\n",
       "</table>\n",
       "</div>"
      ],
      "text/plain": [
       "    Month Hour(int)            Hour(dt) Amount\n",
       "                                           sum\n",
       "119     8        12 2022-01-01 12:00:00  28.75\n",
       "115     8         6 2022-01-01 06:00:00  26.00\n",
       "117     8         9 2022-01-01 09:00:00  25.80"
      ]
     },
     "execution_count": 36,
     "metadata": {},
     "output_type": "execute_result"
    }
   ],
   "source": [
    "df_feed_sum_mth_hr[df_feed_sum_mth_hr['Month'] == 8].sort_values(by=('Amount','sum'),ascending=False).head(3)"
   ]
  },
  {
   "cell_type": "markdown",
   "id": "d961b855",
   "metadata": {},
   "source": [
    "##### *-Avg by Hour/Month Setup*"
   ]
  },
  {
   "cell_type": "code",
   "execution_count": 37,
   "id": "8f3b4501-9dff-4dc5-8f00-b97599e661ba",
   "metadata": {
    "tags": []
   },
   "outputs": [
    {
     "data": {
      "text/html": [
       "<div>\n",
       "<style scoped>\n",
       "    .dataframe tbody tr th:only-of-type {\n",
       "        vertical-align: middle;\n",
       "    }\n",
       "\n",
       "    .dataframe tbody tr th {\n",
       "        vertical-align: top;\n",
       "    }\n",
       "\n",
       "    .dataframe thead tr th {\n",
       "        text-align: left;\n",
       "    }\n",
       "</style>\n",
       "<table border=\"1\" class=\"dataframe\">\n",
       "  <thead>\n",
       "    <tr>\n",
       "      <th></th>\n",
       "      <th>Month</th>\n",
       "      <th>Hour(int)</th>\n",
       "      <th>Hour(dt)</th>\n",
       "      <th>Amount</th>\n",
       "    </tr>\n",
       "    <tr>\n",
       "      <th></th>\n",
       "      <th></th>\n",
       "      <th></th>\n",
       "      <th></th>\n",
       "      <th>mean</th>\n",
       "    </tr>\n",
       "  </thead>\n",
       "  <tbody>\n",
       "    <tr>\n",
       "      <th>0</th>\n",
       "      <td>3</td>\n",
       "      <td>0</td>\n",
       "      <td>2022-01-01 00:00:00</td>\n",
       "      <td>2.227273</td>\n",
       "    </tr>\n",
       "    <tr>\n",
       "      <th>1</th>\n",
       "      <td>3</td>\n",
       "      <td>1</td>\n",
       "      <td>2022-01-01 01:00:00</td>\n",
       "      <td>2.250000</td>\n",
       "    </tr>\n",
       "    <tr>\n",
       "      <th>2</th>\n",
       "      <td>3</td>\n",
       "      <td>2</td>\n",
       "      <td>2022-01-01 02:00:00</td>\n",
       "      <td>2.100000</td>\n",
       "    </tr>\n",
       "  </tbody>\n",
       "</table>\n",
       "</div>"
      ],
      "text/plain": [
       "  Month Hour(int)            Hour(dt)    Amount\n",
       "                                           mean\n",
       "0     3         0 2022-01-01 00:00:00  2.227273\n",
       "1     3         1 2022-01-01 01:00:00  2.250000\n",
       "2     3         2 2022-01-01 02:00:00  2.100000"
      ]
     },
     "execution_count": 37,
     "metadata": {},
     "output_type": "execute_result"
    }
   ],
   "source": [
    "# Group & Avg by Month, Hour\n",
    "df_feed_avg_mth_hr = df_feed.groupby(['Month', 'Hour(int)', 'Hour(dt)']).agg({'Amount': ['mean']})\n",
    "df_feed_avg_mth_hr = df_feed_avg_mth_hr.reset_index()\n",
    "\n",
    "df_feed_avg_mth_hr.head(3)"
   ]
  },
  {
   "cell_type": "markdown",
   "id": "229bddb7-07cf-4ae3-b470-c6c57ad87e82",
   "metadata": {},
   "source": [
    "#### *-Avg by Hour/Month*"
   ]
  },
  {
   "cell_type": "code",
   "execution_count": 38,
   "id": "1671812f-7626-4e6b-b6f7-cf0c833b6a8b",
   "metadata": {
    "tags": []
   },
   "outputs": [
    {
     "data": {
      "image/png": "[encoded data removed]",
      "text/plain": [
       "<Figure size 1800x720 with 6 Axes>"
      ]
     },
     "metadata": {},
     "output_type": "display_data"
    }
   ],
   "source": [
    "# Bar-Avg Feeding Amount by Hour/Month\n",
    "fig, [[ax1, ax2, ax3], [ax4, ax5, ax6]] = plt.subplots(2, 3, figsize=(25,10), sharey=True)\n",
    "\n",
    "list_of_axes = [ax1, ax2, ax3, ax4, ax5, ax6]\n",
    "n = 3\n",
    "month_name = ['March', 'April', 'May', 'June', 'July', 'August']\n",
    "i = 0\n",
    "\n",
    "for ax in list_of_axes:\n",
    "    df_feed_avg_mth_hr_m = df_feed_avg_mth_hr[df_feed_avg_mth_hr['Month'] == n]\n",
    "    x = df_feed_avg_mth_hr_m['Hour(dt)']\n",
    "    y = df_feed_avg_mth_hr_m['Amount']['mean']\n",
    "    ax.bar(x, y, width=0.03)\n",
    "    ax.title.set_text(month_name[i])\n",
    "    n = n+1\n",
    "    i = i+1\n",
    "\n",
    "for ax in list_of_axes:\n",
    "    hours = mdates.HourLocator(interval=2)\n",
    "    hh_mm = mdates.DateFormatter('%H:%M')\n",
    "    ax.xaxis.set_major_locator(hours)\n",
    "    ax.xaxis.set_major_formatter(hh_mm)\n",
    "    ax.set_xlim([datetime.datetime(2021,12,31,23,0), datetime.datetime(2022,1,1,23,59)])\n",
    "    plt.setp(ax.get_xticklabels(), rotation=45)\n",
    "    \n",
    "ax1.set_ylabel('Ounces', fontsize=16)\n",
    "ax4.set_ylabel('Ounces', fontsize=16)\n",
    "fig.suptitle('Avg Feeding Amount Per Hour & Month', fontsize=24)\n",
    "\n",
    "fig.tight_layout()"
   ]
  },
  {
   "cell_type": "markdown",
   "id": "f42af3aa-d90a-4660-b160-f6085d6d6abf",
   "metadata": {},
   "source": [
    "Total Feeding Amount - Top 3 Hours by Month:\n",
    "\n",
    "- March: 11 PM, 8 PM, 11 ***AM***\n",
    "- April: 1 PM, 5 ***AM***, 1 ***AM***\n",
    "- May: 3 ***AM***,  5 PM, 12 ***AM***\n",
    "- June: 12 ***AM***, 12 PM, 11 ***AM***\n",
    "- July: 5 ***AM***, 9 PM, 11 PM\n",
    "- August: 1 PM, 4 PM, 3 PM"
   ]
  },
  {
   "cell_type": "markdown",
   "id": "c06fdea3-ce5e-4ff9-863e-7d0661b57c89",
   "metadata": {},
   "source": [
    "For the first few months, the average feeding times seem to be spread out more or less evenly. However, as June rolls around, a couple late night feeding hours are completely dropped while some hours are slowly being established. At this point, we're slowly starting to get a rhythm and an idea of when she likes to feed. By August, we can see that most of the late night feedings have dropped. Sleep training had been completed and she started sleeping through the night! Hooray! ***A much more consistent feeding schedule has finally appeared by 5 months.***"
   ]
  },
  {
   "cell_type": "markdown",
   "id": "e9e254b3-e019-4079-bdbd-9deb8e01caeb",
   "metadata": {
    "jp-MarkdownHeadingCollapsed": true,
    "tags": []
   },
   "source": [
    "##### *-Rank*"
   ]
  },
  {
   "cell_type": "code",
   "execution_count": 39,
   "id": "51ee7dd0-da61-4b22-b5ab-18a10c379838",
   "metadata": {
    "jupyter": {
     "source_hidden": true
    },
    "tags": []
   },
   "outputs": [
    {
     "data": {
      "text/html": [
       "<div>\n",
       "<style scoped>\n",
       "    .dataframe tbody tr th:only-of-type {\n",
       "        vertical-align: middle;\n",
       "    }\n",
       "\n",
       "    .dataframe tbody tr th {\n",
       "        vertical-align: top;\n",
       "    }\n",
       "\n",
       "    .dataframe thead tr th {\n",
       "        text-align: left;\n",
       "    }\n",
       "</style>\n",
       "<table border=\"1\" class=\"dataframe\">\n",
       "  <thead>\n",
       "    <tr>\n",
       "      <th></th>\n",
       "      <th>Month</th>\n",
       "      <th>Hour(int)</th>\n",
       "      <th>Hour(dt)</th>\n",
       "      <th>Amount</th>\n",
       "    </tr>\n",
       "    <tr>\n",
       "      <th></th>\n",
       "      <th></th>\n",
       "      <th></th>\n",
       "      <th></th>\n",
       "      <th>mean</th>\n",
       "    </tr>\n",
       "  </thead>\n",
       "  <tbody>\n",
       "    <tr>\n",
       "      <th>120</th>\n",
       "      <td>8</td>\n",
       "      <td>13</td>\n",
       "      <td>2022-01-01 13:00:00</td>\n",
       "      <td>6.000</td>\n",
       "    </tr>\n",
       "    <tr>\n",
       "      <th>123</th>\n",
       "      <td>8</td>\n",
       "      <td>16</td>\n",
       "      <td>2022-01-01 16:00:00</td>\n",
       "      <td>6.000</td>\n",
       "    </tr>\n",
       "    <tr>\n",
       "      <th>122</th>\n",
       "      <td>8</td>\n",
       "      <td>15</td>\n",
       "      <td>2022-01-01 15:00:00</td>\n",
       "      <td>5.425</td>\n",
       "    </tr>\n",
       "  </tbody>\n",
       "</table>\n",
       "</div>"
      ],
      "text/plain": [
       "    Month Hour(int)            Hour(dt) Amount\n",
       "                                          mean\n",
       "120     8        13 2022-01-01 13:00:00  6.000\n",
       "123     8        16 2022-01-01 16:00:00  6.000\n",
       "122     8        15 2022-01-01 15:00:00  5.425"
      ]
     },
     "execution_count": 39,
     "metadata": {},
     "output_type": "execute_result"
    }
   ],
   "source": [
    "df_feed_avg_mth_hr[df_feed_avg_mth_hr['Month'] == 8].sort_values(by=('Amount','mean'),ascending=False).head(3)"
   ]
  },
  {
   "cell_type": "markdown",
   "id": "9051631b-4d87-4c01-80e9-464f6e5424a2",
   "metadata": {
    "jp-MarkdownHeadingCollapsed": true,
    "tags": []
   },
   "source": [
    "#### *Number of Feedings Per Day-Setup*"
   ]
  },
  {
   "cell_type": "code",
   "execution_count": 40,
   "id": "479a55f0-f298-4dc7-88e7-4f5bcb84b172",
   "metadata": {},
   "outputs": [
    {
     "data": {
      "text/html": [
       "<div>\n",
       "<style scoped>\n",
       "    .dataframe tbody tr th:only-of-type {\n",
       "        vertical-align: middle;\n",
       "    }\n",
       "\n",
       "    .dataframe tbody tr th {\n",
       "        vertical-align: top;\n",
       "    }\n",
       "\n",
       "    .dataframe thead th {\n",
       "        text-align: right;\n",
       "    }\n",
       "</style>\n",
       "<table border=\"1\" class=\"dataframe\">\n",
       "  <thead>\n",
       "    <tr style=\"text-align: right;\">\n",
       "      <th></th>\n",
       "      <th>Baby Name</th>\n",
       "      <th>Start Time</th>\n",
       "      <th>End Time</th>\n",
       "      <th>Activity</th>\n",
       "      <th>Amount</th>\n",
       "      <th>Percentile</th>\n",
       "      <th>Duration</th>\n",
       "      <th>Info</th>\n",
       "      <th>Notes</th>\n",
       "      <th>Date</th>\n",
       "      <th>Month</th>\n",
       "      <th>DOW #</th>\n",
       "      <th>DOW</th>\n",
       "      <th>Time</th>\n",
       "      <th>Hour(int)</th>\n",
       "      <th>Hour(dt)</th>\n",
       "    </tr>\n",
       "  </thead>\n",
       "  <tbody>\n",
       "    <tr>\n",
       "      <th>18</th>\n",
       "      <td>Hidden Name</td>\n",
       "      <td>03/13/2022 0:56 AM</td>\n",
       "      <td>03/13/2022 0:56 AM</td>\n",
       "      <td>Feeding</td>\n",
       "      <td>2.0</td>\n",
       "      <td>NaN</td>\n",
       "      <td>0.0</td>\n",
       "      <td>Bottle</td>\n",
       "      <td>NaN</td>\n",
       "      <td>2022-03-13</td>\n",
       "      <td>3</td>\n",
       "      <td>6</td>\n",
       "      <td>Sunday</td>\n",
       "      <td>00:56:00</td>\n",
       "      <td>0</td>\n",
       "      <td>2022-01-01 00:00:00</td>\n",
       "    </tr>\n",
       "    <tr>\n",
       "      <th>13</th>\n",
       "      <td>Hidden Name</td>\n",
       "      <td>03/13/2022 11:45 AM</td>\n",
       "      <td>03/13/2022 11:45 AM</td>\n",
       "      <td>Feeding</td>\n",
       "      <td>2.5</td>\n",
       "      <td>NaN</td>\n",
       "      <td>0.0</td>\n",
       "      <td>Bottle</td>\n",
       "      <td>NaN</td>\n",
       "      <td>2022-03-13</td>\n",
       "      <td>3</td>\n",
       "      <td>6</td>\n",
       "      <td>Sunday</td>\n",
       "      <td>11:45:00</td>\n",
       "      <td>11</td>\n",
       "      <td>2022-01-01 11:00:00</td>\n",
       "    </tr>\n",
       "    <tr>\n",
       "      <th>24</th>\n",
       "      <td>Hidden Name</td>\n",
       "      <td>03/13/2022 14:45 PM</td>\n",
       "      <td>03/13/2022 14:45 PM</td>\n",
       "      <td>Feeding</td>\n",
       "      <td>2.5</td>\n",
       "      <td>NaN</td>\n",
       "      <td>0.0</td>\n",
       "      <td>Bottle</td>\n",
       "      <td>NaN</td>\n",
       "      <td>2022-03-13</td>\n",
       "      <td>3</td>\n",
       "      <td>6</td>\n",
       "      <td>Sunday</td>\n",
       "      <td>14:45:00</td>\n",
       "      <td>14</td>\n",
       "      <td>2022-01-01 14:00:00</td>\n",
       "    </tr>\n",
       "  </tbody>\n",
       "</table>\n",
       "</div>"
      ],
      "text/plain": [
       "      Baby Name           Start Time             End Time Activity  Amount  \\\n",
       "18  Hidden Name   03/13/2022 0:56 AM   03/13/2022 0:56 AM  Feeding     2.0   \n",
       "13  Hidden Name  03/13/2022 11:45 AM  03/13/2022 11:45 AM  Feeding     2.5   \n",
       "24  Hidden Name  03/13/2022 14:45 PM  03/13/2022 14:45 PM  Feeding     2.5   \n",
       "\n",
       "    Percentile  Duration    Info Notes       Date  Month  DOW #     DOW  \\\n",
       "18         NaN       0.0  Bottle   NaN 2022-03-13      3      6  Sunday   \n",
       "13         NaN       0.0  Bottle   NaN 2022-03-13      3      6  Sunday   \n",
       "24         NaN       0.0  Bottle   NaN 2022-03-13      3      6  Sunday   \n",
       "\n",
       "        Time  Hour(int)            Hour(dt)  \n",
       "18  00:56:00          0 2022-01-01 00:00:00  \n",
       "13  11:45:00         11 2022-01-01 11:00:00  \n",
       "24  14:45:00         14 2022-01-01 14:00:00  "
      ]
     },
     "execution_count": 40,
     "metadata": {},
     "output_type": "execute_result"
    }
   ],
   "source": [
    "df_feed.head(3)"
   ]
  },
  {
   "cell_type": "code",
   "execution_count": 41,
   "id": "afcacea2-04d2-46c2-acbd-f5632a99790b",
   "metadata": {},
   "outputs": [
    {
     "data": {
      "text/html": [
       "<div>\n",
       "<style scoped>\n",
       "    .dataframe tbody tr th:only-of-type {\n",
       "        vertical-align: middle;\n",
       "    }\n",
       "\n",
       "    .dataframe tbody tr th {\n",
       "        vertical-align: top;\n",
       "    }\n",
       "\n",
       "    .dataframe thead th {\n",
       "        text-align: right;\n",
       "    }\n",
       "</style>\n",
       "<table border=\"1\" class=\"dataframe\">\n",
       "  <thead>\n",
       "    <tr style=\"text-align: right;\">\n",
       "      <th></th>\n",
       "      <th></th>\n",
       "      <th>Baby Name</th>\n",
       "      <th>Start Time</th>\n",
       "      <th>End Time</th>\n",
       "      <th>Activity</th>\n",
       "      <th>Amount</th>\n",
       "      <th>Percentile</th>\n",
       "      <th>Duration</th>\n",
       "      <th>Info</th>\n",
       "      <th>Notes</th>\n",
       "      <th>Month</th>\n",
       "      <th>DOW #</th>\n",
       "      <th>DOW</th>\n",
       "      <th>Time</th>\n",
       "      <th>Hour(dt)</th>\n",
       "    </tr>\n",
       "    <tr>\n",
       "      <th>Date</th>\n",
       "      <th>Hour(int)</th>\n",
       "      <th></th>\n",
       "      <th></th>\n",
       "      <th></th>\n",
       "      <th></th>\n",
       "      <th></th>\n",
       "      <th></th>\n",
       "      <th></th>\n",
       "      <th></th>\n",
       "      <th></th>\n",
       "      <th></th>\n",
       "      <th></th>\n",
       "      <th></th>\n",
       "      <th></th>\n",
       "      <th></th>\n",
       "    </tr>\n",
       "  </thead>\n",
       "  <tbody>\n",
       "    <tr>\n",
       "      <th rowspan=\"4\" valign=\"top\">2022-08-05</th>\n",
       "      <th>6</th>\n",
       "      <td>1</td>\n",
       "      <td>1</td>\n",
       "      <td>1</td>\n",
       "      <td>1</td>\n",
       "      <td>1</td>\n",
       "      <td>0</td>\n",
       "      <td>1</td>\n",
       "      <td>1</td>\n",
       "      <td>0</td>\n",
       "      <td>1</td>\n",
       "      <td>1</td>\n",
       "      <td>1</td>\n",
       "      <td>1</td>\n",
       "      <td>1</td>\n",
       "    </tr>\n",
       "    <tr>\n",
       "      <th>9</th>\n",
       "      <td>2</td>\n",
       "      <td>2</td>\n",
       "      <td>2</td>\n",
       "      <td>2</td>\n",
       "      <td>2</td>\n",
       "      <td>0</td>\n",
       "      <td>2</td>\n",
       "      <td>2</td>\n",
       "      <td>0</td>\n",
       "      <td>2</td>\n",
       "      <td>2</td>\n",
       "      <td>2</td>\n",
       "      <td>2</td>\n",
       "      <td>2</td>\n",
       "    </tr>\n",
       "    <tr>\n",
       "      <th>12</th>\n",
       "      <td>2</td>\n",
       "      <td>2</td>\n",
       "      <td>2</td>\n",
       "      <td>2</td>\n",
       "      <td>2</td>\n",
       "      <td>0</td>\n",
       "      <td>2</td>\n",
       "      <td>2</td>\n",
       "      <td>0</td>\n",
       "      <td>2</td>\n",
       "      <td>2</td>\n",
       "      <td>2</td>\n",
       "      <td>2</td>\n",
       "      <td>2</td>\n",
       "    </tr>\n",
       "    <tr>\n",
       "      <th>15</th>\n",
       "      <td>1</td>\n",
       "      <td>1</td>\n",
       "      <td>1</td>\n",
       "      <td>1</td>\n",
       "      <td>1</td>\n",
       "      <td>0</td>\n",
       "      <td>1</td>\n",
       "      <td>1</td>\n",
       "      <td>0</td>\n",
       "      <td>1</td>\n",
       "      <td>1</td>\n",
       "      <td>1</td>\n",
       "      <td>1</td>\n",
       "      <td>1</td>\n",
       "    </tr>\n",
       "    <tr>\n",
       "      <th rowspan=\"6\" valign=\"top\">2022-08-06</th>\n",
       "      <th>5</th>\n",
       "      <td>1</td>\n",
       "      <td>1</td>\n",
       "      <td>1</td>\n",
       "      <td>1</td>\n",
       "      <td>1</td>\n",
       "      <td>0</td>\n",
       "      <td>1</td>\n",
       "      <td>1</td>\n",
       "      <td>0</td>\n",
       "      <td>1</td>\n",
       "      <td>1</td>\n",
       "      <td>1</td>\n",
       "      <td>1</td>\n",
       "      <td>1</td>\n",
       "    </tr>\n",
       "    <tr>\n",
       "      <th>6</th>\n",
       "      <td>1</td>\n",
       "      <td>1</td>\n",
       "      <td>1</td>\n",
       "      <td>1</td>\n",
       "      <td>1</td>\n",
       "      <td>0</td>\n",
       "      <td>1</td>\n",
       "      <td>1</td>\n",
       "      <td>0</td>\n",
       "      <td>1</td>\n",
       "      <td>1</td>\n",
       "      <td>1</td>\n",
       "      <td>1</td>\n",
       "      <td>1</td>\n",
       "    </tr>\n",
       "    <tr>\n",
       "      <th>9</th>\n",
       "      <td>1</td>\n",
       "      <td>1</td>\n",
       "      <td>1</td>\n",
       "      <td>1</td>\n",
       "      <td>1</td>\n",
       "      <td>0</td>\n",
       "      <td>1</td>\n",
       "      <td>1</td>\n",
       "      <td>0</td>\n",
       "      <td>1</td>\n",
       "      <td>1</td>\n",
       "      <td>1</td>\n",
       "      <td>1</td>\n",
       "      <td>1</td>\n",
       "    </tr>\n",
       "    <tr>\n",
       "      <th>12</th>\n",
       "      <td>1</td>\n",
       "      <td>1</td>\n",
       "      <td>1</td>\n",
       "      <td>1</td>\n",
       "      <td>1</td>\n",
       "      <td>0</td>\n",
       "      <td>1</td>\n",
       "      <td>1</td>\n",
       "      <td>0</td>\n",
       "      <td>1</td>\n",
       "      <td>1</td>\n",
       "      <td>1</td>\n",
       "      <td>1</td>\n",
       "      <td>1</td>\n",
       "    </tr>\n",
       "    <tr>\n",
       "      <th>15</th>\n",
       "      <td>1</td>\n",
       "      <td>1</td>\n",
       "      <td>1</td>\n",
       "      <td>1</td>\n",
       "      <td>1</td>\n",
       "      <td>0</td>\n",
       "      <td>1</td>\n",
       "      <td>1</td>\n",
       "      <td>0</td>\n",
       "      <td>1</td>\n",
       "      <td>1</td>\n",
       "      <td>1</td>\n",
       "      <td>1</td>\n",
       "      <td>1</td>\n",
       "    </tr>\n",
       "    <tr>\n",
       "      <th>18</th>\n",
       "      <td>1</td>\n",
       "      <td>1</td>\n",
       "      <td>1</td>\n",
       "      <td>1</td>\n",
       "      <td>1</td>\n",
       "      <td>0</td>\n",
       "      <td>1</td>\n",
       "      <td>1</td>\n",
       "      <td>0</td>\n",
       "      <td>1</td>\n",
       "      <td>1</td>\n",
       "      <td>1</td>\n",
       "      <td>1</td>\n",
       "      <td>1</td>\n",
       "    </tr>\n",
       "  </tbody>\n",
       "</table>\n",
       "</div>"
      ],
      "text/plain": [
       "                      Baby Name  Start Time  End Time  Activity  Amount  \\\n",
       "Date       Hour(int)                                                      \n",
       "2022-08-05 6                  1           1         1         1       1   \n",
       "           9                  2           2         2         2       2   \n",
       "           12                 2           2         2         2       2   \n",
       "           15                 1           1         1         1       1   \n",
       "2022-08-06 5                  1           1         1         1       1   \n",
       "           6                  1           1         1         1       1   \n",
       "           9                  1           1         1         1       1   \n",
       "           12                 1           1         1         1       1   \n",
       "           15                 1           1         1         1       1   \n",
       "           18                 1           1         1         1       1   \n",
       "\n",
       "                      Percentile  Duration  Info  Notes  Month  DOW #  DOW  \\\n",
       "Date       Hour(int)                                                         \n",
       "2022-08-05 6                   0         1     1      0      1      1    1   \n",
       "           9                   0         2     2      0      2      2    2   \n",
       "           12                  0         2     2      0      2      2    2   \n",
       "           15                  0         1     1      0      1      1    1   \n",
       "2022-08-06 5                   0         1     1      0      1      1    1   \n",
       "           6                   0         1     1      0      1      1    1   \n",
       "           9                   0         1     1      0      1      1    1   \n",
       "           12                  0         1     1      0      1      1    1   \n",
       "           15                  0         1     1      0      1      1    1   \n",
       "           18                  0         1     1      0      1      1    1   \n",
       "\n",
       "                      Time  Hour(dt)  \n",
       "Date       Hour(int)                  \n",
       "2022-08-05 6             1         1  \n",
       "           9             2         2  \n",
       "           12            2         2  \n",
       "           15            1         1  \n",
       "2022-08-06 5             1         1  \n",
       "           6             1         1  \n",
       "           9             1         1  \n",
       "           12            1         1  \n",
       "           15            1         1  \n",
       "           18            1         1  "
      ]
     },
     "execution_count": 41,
     "metadata": {},
     "output_type": "execute_result"
    }
   ],
   "source": [
    "df_feed.groupby(['Date','Hour(int)']).agg('count').tail(10)"
   ]
  },
  {
   "cell_type": "code",
   "execution_count": 42,
   "id": "f4051d38-c323-4bae-9f95-01d4766ae1f1",
   "metadata": {},
   "outputs": [],
   "source": [
    "df_num_feed = df_feed.groupby(['Date','Hour(int)']).agg('count')"
   ]
  },
  {
   "cell_type": "code",
   "execution_count": 43,
   "id": "2917428b-9897-46d6-a306-cd5cf053fa79",
   "metadata": {},
   "outputs": [
    {
     "data": {
      "text/plain": [
       "Date\n",
       "2022-04-01    12\n",
       "2022-04-02    11\n",
       "2022-04-03    14\n",
       "2022-04-04    14\n",
       "2022-04-05    11\n",
       "2022-04-06    14\n",
       "2022-04-07    10\n",
       "2022-04-08    13\n",
       "2022-04-09    13\n",
       "2022-04-10    10\n",
       "2022-04-11    14\n",
       "2022-04-12     9\n",
       "2022-04-13     9\n",
       "2022-04-14    10\n",
       "2022-04-15     9\n",
       "Name: Baby Name, dtype: int64"
      ]
     },
     "execution_count": 43,
     "metadata": {},
     "output_type": "execute_result"
    }
   ],
   "source": [
    "df_test = df_num_feed.groupby(level=0).count()['Baby Name']\n",
    "df_test.loc['2022-04-01':'2022-04-15']"
   ]
  },
  {
   "cell_type": "code",
   "execution_count": 44,
   "id": "9b6020b7-16e7-4d6f-a070-8777133f1b95",
   "metadata": {},
   "outputs": [
    {
     "data": {
      "text/html": [
       "<div>\n",
       "<style scoped>\n",
       "    .dataframe tbody tr th:only-of-type {\n",
       "        vertical-align: middle;\n",
       "    }\n",
       "\n",
       "    .dataframe tbody tr th {\n",
       "        vertical-align: top;\n",
       "    }\n",
       "\n",
       "    .dataframe thead th {\n",
       "        text-align: right;\n",
       "    }\n",
       "</style>\n",
       "<table border=\"1\" class=\"dataframe\">\n",
       "  <thead>\n",
       "    <tr style=\"text-align: right;\">\n",
       "      <th></th>\n",
       "      <th></th>\n",
       "      <th>Baby Name</th>\n",
       "      <th>Start Time</th>\n",
       "      <th>End Time</th>\n",
       "      <th>Activity</th>\n",
       "      <th>Amount</th>\n",
       "      <th>Percentile</th>\n",
       "      <th>Duration</th>\n",
       "      <th>Info</th>\n",
       "      <th>Notes</th>\n",
       "      <th>Month</th>\n",
       "      <th>DOW #</th>\n",
       "      <th>DOW</th>\n",
       "      <th>Time</th>\n",
       "      <th>Hour(dt)</th>\n",
       "    </tr>\n",
       "    <tr>\n",
       "      <th>Date</th>\n",
       "      <th>Hour(int)</th>\n",
       "      <th></th>\n",
       "      <th></th>\n",
       "      <th></th>\n",
       "      <th></th>\n",
       "      <th></th>\n",
       "      <th></th>\n",
       "      <th></th>\n",
       "      <th></th>\n",
       "      <th></th>\n",
       "      <th></th>\n",
       "      <th></th>\n",
       "      <th></th>\n",
       "      <th></th>\n",
       "      <th></th>\n",
       "    </tr>\n",
       "  </thead>\n",
       "  <tbody>\n",
       "    <tr>\n",
       "      <th rowspan=\"12\" valign=\"top\">2022-04-01</th>\n",
       "      <th>0</th>\n",
       "      <td>1</td>\n",
       "      <td>1</td>\n",
       "      <td>1</td>\n",
       "      <td>1</td>\n",
       "      <td>1</td>\n",
       "      <td>0</td>\n",
       "      <td>1</td>\n",
       "      <td>1</td>\n",
       "      <td>0</td>\n",
       "      <td>1</td>\n",
       "      <td>1</td>\n",
       "      <td>1</td>\n",
       "      <td>1</td>\n",
       "      <td>1</td>\n",
       "    </tr>\n",
       "    <tr>\n",
       "      <th>2</th>\n",
       "      <td>1</td>\n",
       "      <td>1</td>\n",
       "      <td>1</td>\n",
       "      <td>1</td>\n",
       "      <td>1</td>\n",
       "      <td>0</td>\n",
       "      <td>1</td>\n",
       "      <td>1</td>\n",
       "      <td>0</td>\n",
       "      <td>1</td>\n",
       "      <td>1</td>\n",
       "      <td>1</td>\n",
       "      <td>1</td>\n",
       "      <td>1</td>\n",
       "    </tr>\n",
       "    <tr>\n",
       "      <th>5</th>\n",
       "      <td>1</td>\n",
       "      <td>1</td>\n",
       "      <td>1</td>\n",
       "      <td>1</td>\n",
       "      <td>1</td>\n",
       "      <td>0</td>\n",
       "      <td>1</td>\n",
       "      <td>1</td>\n",
       "      <td>0</td>\n",
       "      <td>1</td>\n",
       "      <td>1</td>\n",
       "      <td>1</td>\n",
       "      <td>1</td>\n",
       "      <td>1</td>\n",
       "    </tr>\n",
       "    <tr>\n",
       "      <th>8</th>\n",
       "      <td>1</td>\n",
       "      <td>1</td>\n",
       "      <td>1</td>\n",
       "      <td>1</td>\n",
       "      <td>1</td>\n",
       "      <td>0</td>\n",
       "      <td>1</td>\n",
       "      <td>1</td>\n",
       "      <td>0</td>\n",
       "      <td>1</td>\n",
       "      <td>1</td>\n",
       "      <td>1</td>\n",
       "      <td>1</td>\n",
       "      <td>1</td>\n",
       "    </tr>\n",
       "    <tr>\n",
       "      <th>9</th>\n",
       "      <td>1</td>\n",
       "      <td>1</td>\n",
       "      <td>1</td>\n",
       "      <td>1</td>\n",
       "      <td>1</td>\n",
       "      <td>0</td>\n",
       "      <td>1</td>\n",
       "      <td>1</td>\n",
       "      <td>0</td>\n",
       "      <td>1</td>\n",
       "      <td>1</td>\n",
       "      <td>1</td>\n",
       "      <td>1</td>\n",
       "      <td>1</td>\n",
       "    </tr>\n",
       "    <tr>\n",
       "      <th>12</th>\n",
       "      <td>1</td>\n",
       "      <td>1</td>\n",
       "      <td>1</td>\n",
       "      <td>1</td>\n",
       "      <td>1</td>\n",
       "      <td>0</td>\n",
       "      <td>1</td>\n",
       "      <td>1</td>\n",
       "      <td>0</td>\n",
       "      <td>1</td>\n",
       "      <td>1</td>\n",
       "      <td>1</td>\n",
       "      <td>1</td>\n",
       "      <td>1</td>\n",
       "    </tr>\n",
       "    <tr>\n",
       "      <th>14</th>\n",
       "      <td>1</td>\n",
       "      <td>1</td>\n",
       "      <td>1</td>\n",
       "      <td>1</td>\n",
       "      <td>1</td>\n",
       "      <td>0</td>\n",
       "      <td>1</td>\n",
       "      <td>1</td>\n",
       "      <td>0</td>\n",
       "      <td>1</td>\n",
       "      <td>1</td>\n",
       "      <td>1</td>\n",
       "      <td>1</td>\n",
       "      <td>1</td>\n",
       "    </tr>\n",
       "    <tr>\n",
       "      <th>15</th>\n",
       "      <td>1</td>\n",
       "      <td>1</td>\n",
       "      <td>1</td>\n",
       "      <td>1</td>\n",
       "      <td>1</td>\n",
       "      <td>0</td>\n",
       "      <td>1</td>\n",
       "      <td>1</td>\n",
       "      <td>0</td>\n",
       "      <td>1</td>\n",
       "      <td>1</td>\n",
       "      <td>1</td>\n",
       "      <td>1</td>\n",
       "      <td>1</td>\n",
       "    </tr>\n",
       "    <tr>\n",
       "      <th>18</th>\n",
       "      <td>1</td>\n",
       "      <td>1</td>\n",
       "      <td>1</td>\n",
       "      <td>1</td>\n",
       "      <td>1</td>\n",
       "      <td>0</td>\n",
       "      <td>1</td>\n",
       "      <td>1</td>\n",
       "      <td>0</td>\n",
       "      <td>1</td>\n",
       "      <td>1</td>\n",
       "      <td>1</td>\n",
       "      <td>1</td>\n",
       "      <td>1</td>\n",
       "    </tr>\n",
       "    <tr>\n",
       "      <th>20</th>\n",
       "      <td>2</td>\n",
       "      <td>2</td>\n",
       "      <td>2</td>\n",
       "      <td>2</td>\n",
       "      <td>2</td>\n",
       "      <td>0</td>\n",
       "      <td>2</td>\n",
       "      <td>2</td>\n",
       "      <td>0</td>\n",
       "      <td>2</td>\n",
       "      <td>2</td>\n",
       "      <td>2</td>\n",
       "      <td>2</td>\n",
       "      <td>2</td>\n",
       "    </tr>\n",
       "    <tr>\n",
       "      <th>21</th>\n",
       "      <td>2</td>\n",
       "      <td>2</td>\n",
       "      <td>2</td>\n",
       "      <td>2</td>\n",
       "      <td>2</td>\n",
       "      <td>0</td>\n",
       "      <td>2</td>\n",
       "      <td>2</td>\n",
       "      <td>0</td>\n",
       "      <td>2</td>\n",
       "      <td>2</td>\n",
       "      <td>2</td>\n",
       "      <td>2</td>\n",
       "      <td>2</td>\n",
       "    </tr>\n",
       "    <tr>\n",
       "      <th>22</th>\n",
       "      <td>2</td>\n",
       "      <td>2</td>\n",
       "      <td>2</td>\n",
       "      <td>2</td>\n",
       "      <td>2</td>\n",
       "      <td>0</td>\n",
       "      <td>2</td>\n",
       "      <td>2</td>\n",
       "      <td>0</td>\n",
       "      <td>2</td>\n",
       "      <td>2</td>\n",
       "      <td>2</td>\n",
       "      <td>2</td>\n",
       "      <td>2</td>\n",
       "    </tr>\n",
       "    <tr>\n",
       "      <th>2022-04-02</th>\n",
       "      <th>0</th>\n",
       "      <td>1</td>\n",
       "      <td>1</td>\n",
       "      <td>1</td>\n",
       "      <td>1</td>\n",
       "      <td>1</td>\n",
       "      <td>0</td>\n",
       "      <td>1</td>\n",
       "      <td>1</td>\n",
       "      <td>0</td>\n",
       "      <td>1</td>\n",
       "      <td>1</td>\n",
       "      <td>1</td>\n",
       "      <td>1</td>\n",
       "      <td>1</td>\n",
       "    </tr>\n",
       "  </tbody>\n",
       "</table>\n",
       "</div>"
      ],
      "text/plain": [
       "                      Baby Name  Start Time  End Time  Activity  Amount  \\\n",
       "Date       Hour(int)                                                      \n",
       "2022-04-01 0                  1           1         1         1       1   \n",
       "           2                  1           1         1         1       1   \n",
       "           5                  1           1         1         1       1   \n",
       "           8                  1           1         1         1       1   \n",
       "           9                  1           1         1         1       1   \n",
       "           12                 1           1         1         1       1   \n",
       "           14                 1           1         1         1       1   \n",
       "           15                 1           1         1         1       1   \n",
       "           18                 1           1         1         1       1   \n",
       "           20                 2           2         2         2       2   \n",
       "           21                 2           2         2         2       2   \n",
       "           22                 2           2         2         2       2   \n",
       "2022-04-02 0                  1           1         1         1       1   \n",
       "\n",
       "                      Percentile  Duration  Info  Notes  Month  DOW #  DOW  \\\n",
       "Date       Hour(int)                                                         \n",
       "2022-04-01 0                   0         1     1      0      1      1    1   \n",
       "           2                   0         1     1      0      1      1    1   \n",
       "           5                   0         1     1      0      1      1    1   \n",
       "           8                   0         1     1      0      1      1    1   \n",
       "           9                   0         1     1      0      1      1    1   \n",
       "           12                  0         1     1      0      1      1    1   \n",
       "           14                  0         1     1      0      1      1    1   \n",
       "           15                  0         1     1      0      1      1    1   \n",
       "           18                  0         1     1      0      1      1    1   \n",
       "           20                  0         2     2      0      2      2    2   \n",
       "           21                  0         2     2      0      2      2    2   \n",
       "           22                  0         2     2      0      2      2    2   \n",
       "2022-04-02 0                   0         1     1      0      1      1    1   \n",
       "\n",
       "                      Time  Hour(dt)  \n",
       "Date       Hour(int)                  \n",
       "2022-04-01 0             1         1  \n",
       "           2             1         1  \n",
       "           5             1         1  \n",
       "           8             1         1  \n",
       "           9             1         1  \n",
       "           12            1         1  \n",
       "           14            1         1  \n",
       "           15            1         1  \n",
       "           18            1         1  \n",
       "           20            2         2  \n",
       "           21            2         2  \n",
       "           22            2         2  \n",
       "2022-04-02 0             1         1  "
      ]
     },
     "execution_count": 44,
     "metadata": {},
     "output_type": "execute_result"
    }
   ],
   "source": [
    "df_num_feed.loc['2022-04-01':'2022-04-15'].head(13)"
   ]
  },
  {
   "cell_type": "code",
   "execution_count": 45,
   "id": "bf5d8976-bd05-4eeb-81bc-e9c5f30e6f23",
   "metadata": {},
   "outputs": [
    {
     "data": {
      "text/html": [
       "<div>\n",
       "<style scoped>\n",
       "    .dataframe tbody tr th:only-of-type {\n",
       "        vertical-align: middle;\n",
       "    }\n",
       "\n",
       "    .dataframe tbody tr th {\n",
       "        vertical-align: top;\n",
       "    }\n",
       "\n",
       "    .dataframe thead th {\n",
       "        text-align: right;\n",
       "    }\n",
       "</style>\n",
       "<table border=\"1\" class=\"dataframe\">\n",
       "  <thead>\n",
       "    <tr style=\"text-align: right;\">\n",
       "      <th></th>\n",
       "      <th>Baby Name</th>\n",
       "      <th>Start Time</th>\n",
       "      <th>End Time</th>\n",
       "      <th>Activity</th>\n",
       "      <th>Amount</th>\n",
       "      <th>Percentile</th>\n",
       "      <th>Duration</th>\n",
       "      <th>Info</th>\n",
       "      <th>Notes</th>\n",
       "      <th>Date</th>\n",
       "      <th>Month</th>\n",
       "      <th>DOW #</th>\n",
       "      <th>DOW</th>\n",
       "      <th>Time</th>\n",
       "      <th>Hour(int)</th>\n",
       "      <th>Hour(dt)</th>\n",
       "    </tr>\n",
       "  </thead>\n",
       "  <tbody>\n",
       "    <tr>\n",
       "      <th>307</th>\n",
       "      <td>Hidden Name</td>\n",
       "      <td>04/01/2022 0:10 AM</td>\n",
       "      <td>04/01/2022 0:20 AM</td>\n",
       "      <td>Feeding</td>\n",
       "      <td>0.0</td>\n",
       "      <td>NaN</td>\n",
       "      <td>10.0</td>\n",
       "      <td>Left</td>\n",
       "      <td>NaN</td>\n",
       "      <td>2022-04-01</td>\n",
       "      <td>4</td>\n",
       "      <td>4</td>\n",
       "      <td>Friday</td>\n",
       "      <td>00:10:00</td>\n",
       "      <td>0</td>\n",
       "      <td>2022-01-01 00:00:00</td>\n",
       "    </tr>\n",
       "    <tr>\n",
       "      <th>314</th>\n",
       "      <td>Hidden Name</td>\n",
       "      <td>04/01/2022 12:00 PM</td>\n",
       "      <td>04/01/2022 12:00 PM</td>\n",
       "      <td>Feeding</td>\n",
       "      <td>3.0</td>\n",
       "      <td>NaN</td>\n",
       "      <td>0.0</td>\n",
       "      <td>Bottle</td>\n",
       "      <td>NaN</td>\n",
       "      <td>2022-04-01</td>\n",
       "      <td>4</td>\n",
       "      <td>4</td>\n",
       "      <td>Friday</td>\n",
       "      <td>12:00:00</td>\n",
       "      <td>12</td>\n",
       "      <td>2022-01-01 12:00:00</td>\n",
       "    </tr>\n",
       "    <tr>\n",
       "      <th>315</th>\n",
       "      <td>Hidden Name</td>\n",
       "      <td>04/01/2022 14:44 PM</td>\n",
       "      <td>04/01/2022 14:44 PM</td>\n",
       "      <td>Feeding</td>\n",
       "      <td>3.0</td>\n",
       "      <td>NaN</td>\n",
       "      <td>0.0</td>\n",
       "      <td>Bottle</td>\n",
       "      <td>NaN</td>\n",
       "      <td>2022-04-01</td>\n",
       "      <td>4</td>\n",
       "      <td>4</td>\n",
       "      <td>Friday</td>\n",
       "      <td>14:44:00</td>\n",
       "      <td>14</td>\n",
       "      <td>2022-01-01 14:00:00</td>\n",
       "    </tr>\n",
       "    <tr>\n",
       "      <th>317</th>\n",
       "      <td>Hidden Name</td>\n",
       "      <td>04/01/2022 15:40 PM</td>\n",
       "      <td>04/01/2022 15:48 PM</td>\n",
       "      <td>Feeding</td>\n",
       "      <td>0.0</td>\n",
       "      <td>NaN</td>\n",
       "      <td>8.0</td>\n",
       "      <td>Left</td>\n",
       "      <td>NaN</td>\n",
       "      <td>2022-04-01</td>\n",
       "      <td>4</td>\n",
       "      <td>4</td>\n",
       "      <td>Friday</td>\n",
       "      <td>15:40:00</td>\n",
       "      <td>15</td>\n",
       "      <td>2022-01-01 15:00:00</td>\n",
       "    </tr>\n",
       "    <tr>\n",
       "      <th>319</th>\n",
       "      <td>Hidden Name</td>\n",
       "      <td>04/01/2022 18:45 PM</td>\n",
       "      <td>04/01/2022 18:45 PM</td>\n",
       "      <td>Feeding</td>\n",
       "      <td>3.0</td>\n",
       "      <td>NaN</td>\n",
       "      <td>0.0</td>\n",
       "      <td>Bottle</td>\n",
       "      <td>NaN</td>\n",
       "      <td>2022-04-01</td>\n",
       "      <td>4</td>\n",
       "      <td>4</td>\n",
       "      <td>Friday</td>\n",
       "      <td>18:45:00</td>\n",
       "      <td>18</td>\n",
       "      <td>2022-01-01 18:00:00</td>\n",
       "    </tr>\n",
       "    <tr>\n",
       "      <th>322</th>\n",
       "      <td>Hidden Name</td>\n",
       "      <td>04/01/2022 20:20 PM</td>\n",
       "      <td>04/01/2022 20:36 PM</td>\n",
       "      <td>Feeding</td>\n",
       "      <td>0.0</td>\n",
       "      <td>NaN</td>\n",
       "      <td>16.0</td>\n",
       "      <td>Both</td>\n",
       "      <td>NaN</td>\n",
       "      <td>2022-04-01</td>\n",
       "      <td>4</td>\n",
       "      <td>4</td>\n",
       "      <td>Friday</td>\n",
       "      <td>20:20:00</td>\n",
       "      <td>20</td>\n",
       "      <td>2022-01-01 20:00:00</td>\n",
       "    </tr>\n",
       "    <tr>\n",
       "      <th>320</th>\n",
       "      <td>Hidden Name</td>\n",
       "      <td>04/01/2022 20:30 PM</td>\n",
       "      <td>04/01/2022 20:30 PM</td>\n",
       "      <td>Feeding</td>\n",
       "      <td>1.0</td>\n",
       "      <td>NaN</td>\n",
       "      <td>0.0</td>\n",
       "      <td>Bottle</td>\n",
       "      <td>NaN</td>\n",
       "      <td>2022-04-01</td>\n",
       "      <td>4</td>\n",
       "      <td>4</td>\n",
       "      <td>Friday</td>\n",
       "      <td>20:30:00</td>\n",
       "      <td>20</td>\n",
       "      <td>2022-01-01 20:00:00</td>\n",
       "    </tr>\n",
       "    <tr>\n",
       "      <th>323</th>\n",
       "      <td>Hidden Name</td>\n",
       "      <td>04/01/2022 21:30 PM</td>\n",
       "      <td>04/01/2022 21:30 PM</td>\n",
       "      <td>Feeding</td>\n",
       "      <td>1.0</td>\n",
       "      <td>NaN</td>\n",
       "      <td>0.0</td>\n",
       "      <td>Bottle</td>\n",
       "      <td>NaN</td>\n",
       "      <td>2022-04-01</td>\n",
       "      <td>4</td>\n",
       "      <td>4</td>\n",
       "      <td>Friday</td>\n",
       "      <td>21:30:00</td>\n",
       "      <td>21</td>\n",
       "      <td>2022-01-01 21:00:00</td>\n",
       "    </tr>\n",
       "    <tr>\n",
       "      <th>324</th>\n",
       "      <td>Hidden Name</td>\n",
       "      <td>04/01/2022 21:45 PM</td>\n",
       "      <td>04/01/2022 21:45 PM</td>\n",
       "      <td>Feeding</td>\n",
       "      <td>1.0</td>\n",
       "      <td>NaN</td>\n",
       "      <td>0.0</td>\n",
       "      <td>Bottle</td>\n",
       "      <td>NaN</td>\n",
       "      <td>2022-04-01</td>\n",
       "      <td>4</td>\n",
       "      <td>4</td>\n",
       "      <td>Friday</td>\n",
       "      <td>21:45:00</td>\n",
       "      <td>21</td>\n",
       "      <td>2022-01-01 21:00:00</td>\n",
       "    </tr>\n",
       "    <tr>\n",
       "      <th>325</th>\n",
       "      <td>Hidden Name</td>\n",
       "      <td>04/01/2022 22:00 PM</td>\n",
       "      <td>04/01/2022 22:00 PM</td>\n",
       "      <td>Feeding</td>\n",
       "      <td>2.0</td>\n",
       "      <td>NaN</td>\n",
       "      <td>0.0</td>\n",
       "      <td>Bottle</td>\n",
       "      <td>NaN</td>\n",
       "      <td>2022-04-01</td>\n",
       "      <td>4</td>\n",
       "      <td>4</td>\n",
       "      <td>Friday</td>\n",
       "      <td>22:00:00</td>\n",
       "      <td>22</td>\n",
       "      <td>2022-01-01 22:00:00</td>\n",
       "    </tr>\n",
       "    <tr>\n",
       "      <th>326</th>\n",
       "      <td>Hidden Name</td>\n",
       "      <td>04/01/2022 22:40 PM</td>\n",
       "      <td>04/01/2022 22:40 PM</td>\n",
       "      <td>Feeding</td>\n",
       "      <td>3.0</td>\n",
       "      <td>NaN</td>\n",
       "      <td>0.0</td>\n",
       "      <td>Bottle</td>\n",
       "      <td>NaN</td>\n",
       "      <td>2022-04-01</td>\n",
       "      <td>4</td>\n",
       "      <td>4</td>\n",
       "      <td>Friday</td>\n",
       "      <td>22:40:00</td>\n",
       "      <td>22</td>\n",
       "      <td>2022-01-01 22:00:00</td>\n",
       "    </tr>\n",
       "    <tr>\n",
       "      <th>308</th>\n",
       "      <td>Hidden Name</td>\n",
       "      <td>04/01/2022 2:42 AM</td>\n",
       "      <td>04/01/2022 2:42 AM</td>\n",
       "      <td>Feeding</td>\n",
       "      <td>2.0</td>\n",
       "      <td>NaN</td>\n",
       "      <td>0.0</td>\n",
       "      <td>Bottle</td>\n",
       "      <td>NaN</td>\n",
       "      <td>2022-04-01</td>\n",
       "      <td>4</td>\n",
       "      <td>4</td>\n",
       "      <td>Friday</td>\n",
       "      <td>02:42:00</td>\n",
       "      <td>2</td>\n",
       "      <td>2022-01-01 02:00:00</td>\n",
       "    </tr>\n",
       "    <tr>\n",
       "      <th>310</th>\n",
       "      <td>Hidden Name</td>\n",
       "      <td>04/01/2022 5:52 AM</td>\n",
       "      <td>04/01/2022 5:52 AM</td>\n",
       "      <td>Feeding</td>\n",
       "      <td>3.0</td>\n",
       "      <td>NaN</td>\n",
       "      <td>0.0</td>\n",
       "      <td>Bottle</td>\n",
       "      <td>NaN</td>\n",
       "      <td>2022-04-01</td>\n",
       "      <td>4</td>\n",
       "      <td>4</td>\n",
       "      <td>Friday</td>\n",
       "      <td>05:52:00</td>\n",
       "      <td>5</td>\n",
       "      <td>2022-01-01 05:00:00</td>\n",
       "    </tr>\n",
       "    <tr>\n",
       "      <th>311</th>\n",
       "      <td>Hidden Name</td>\n",
       "      <td>04/01/2022 8:00 AM</td>\n",
       "      <td>04/01/2022 8:10 AM</td>\n",
       "      <td>Feeding</td>\n",
       "      <td>0.0</td>\n",
       "      <td>NaN</td>\n",
       "      <td>10.0</td>\n",
       "      <td>Left</td>\n",
       "      <td>NaN</td>\n",
       "      <td>2022-04-01</td>\n",
       "      <td>4</td>\n",
       "      <td>4</td>\n",
       "      <td>Friday</td>\n",
       "      <td>08:00:00</td>\n",
       "      <td>8</td>\n",
       "      <td>2022-01-01 08:00:00</td>\n",
       "    </tr>\n",
       "    <tr>\n",
       "      <th>312</th>\n",
       "      <td>Hidden Name</td>\n",
       "      <td>04/01/2022 9:29 AM</td>\n",
       "      <td>04/01/2022 9:29 AM</td>\n",
       "      <td>Feeding</td>\n",
       "      <td>3.0</td>\n",
       "      <td>NaN</td>\n",
       "      <td>0.0</td>\n",
       "      <td>Bottle</td>\n",
       "      <td>NaN</td>\n",
       "      <td>2022-04-01</td>\n",
       "      <td>4</td>\n",
       "      <td>4</td>\n",
       "      <td>Friday</td>\n",
       "      <td>09:29:00</td>\n",
       "      <td>9</td>\n",
       "      <td>2022-01-01 09:00:00</td>\n",
       "    </tr>\n",
       "  </tbody>\n",
       "</table>\n",
       "</div>"
      ],
      "text/plain": [
       "       Baby Name           Start Time             End Time Activity  Amount  \\\n",
       "307  Hidden Name   04/01/2022 0:10 AM   04/01/2022 0:20 AM  Feeding     0.0   \n",
       "314  Hidden Name  04/01/2022 12:00 PM  04/01/2022 12:00 PM  Feeding     3.0   \n",
       "315  Hidden Name  04/01/2022 14:44 PM  04/01/2022 14:44 PM  Feeding     3.0   \n",
       "317  Hidden Name  04/01/2022 15:40 PM  04/01/2022 15:48 PM  Feeding     0.0   \n",
       "319  Hidden Name  04/01/2022 18:45 PM  04/01/2022 18:45 PM  Feeding     3.0   \n",
       "322  Hidden Name  04/01/2022 20:20 PM  04/01/2022 20:36 PM  Feeding     0.0   \n",
       "320  Hidden Name  04/01/2022 20:30 PM  04/01/2022 20:30 PM  Feeding     1.0   \n",
       "323  Hidden Name  04/01/2022 21:30 PM  04/01/2022 21:30 PM  Feeding     1.0   \n",
       "324  Hidden Name  04/01/2022 21:45 PM  04/01/2022 21:45 PM  Feeding     1.0   \n",
       "325  Hidden Name  04/01/2022 22:00 PM  04/01/2022 22:00 PM  Feeding     2.0   \n",
       "326  Hidden Name  04/01/2022 22:40 PM  04/01/2022 22:40 PM  Feeding     3.0   \n",
       "308  Hidden Name   04/01/2022 2:42 AM   04/01/2022 2:42 AM  Feeding     2.0   \n",
       "310  Hidden Name   04/01/2022 5:52 AM   04/01/2022 5:52 AM  Feeding     3.0   \n",
       "311  Hidden Name   04/01/2022 8:00 AM   04/01/2022 8:10 AM  Feeding     0.0   \n",
       "312  Hidden Name   04/01/2022 9:29 AM   04/01/2022 9:29 AM  Feeding     3.0   \n",
       "\n",
       "     Percentile  Duration    Info Notes       Date  Month  DOW #     DOW  \\\n",
       "307         NaN      10.0    Left   NaN 2022-04-01      4      4  Friday   \n",
       "314         NaN       0.0  Bottle   NaN 2022-04-01      4      4  Friday   \n",
       "315         NaN       0.0  Bottle   NaN 2022-04-01      4      4  Friday   \n",
       "317         NaN       8.0    Left   NaN 2022-04-01      4      4  Friday   \n",
       "319         NaN       0.0  Bottle   NaN 2022-04-01      4      4  Friday   \n",
       "322         NaN      16.0    Both   NaN 2022-04-01      4      4  Friday   \n",
       "320         NaN       0.0  Bottle   NaN 2022-04-01      4      4  Friday   \n",
       "323         NaN       0.0  Bottle   NaN 2022-04-01      4      4  Friday   \n",
       "324         NaN       0.0  Bottle   NaN 2022-04-01      4      4  Friday   \n",
       "325         NaN       0.0  Bottle   NaN 2022-04-01      4      4  Friday   \n",
       "326         NaN       0.0  Bottle   NaN 2022-04-01      4      4  Friday   \n",
       "308         NaN       0.0  Bottle   NaN 2022-04-01      4      4  Friday   \n",
       "310         NaN       0.0  Bottle   NaN 2022-04-01      4      4  Friday   \n",
       "311         NaN      10.0    Left   NaN 2022-04-01      4      4  Friday   \n",
       "312         NaN       0.0  Bottle   NaN 2022-04-01      4      4  Friday   \n",
       "\n",
       "         Time  Hour(int)            Hour(dt)  \n",
       "307  00:10:00          0 2022-01-01 00:00:00  \n",
       "314  12:00:00         12 2022-01-01 12:00:00  \n",
       "315  14:44:00         14 2022-01-01 14:00:00  \n",
       "317  15:40:00         15 2022-01-01 15:00:00  \n",
       "319  18:45:00         18 2022-01-01 18:00:00  \n",
       "322  20:20:00         20 2022-01-01 20:00:00  \n",
       "320  20:30:00         20 2022-01-01 20:00:00  \n",
       "323  21:30:00         21 2022-01-01 21:00:00  \n",
       "324  21:45:00         21 2022-01-01 21:00:00  \n",
       "325  22:00:00         22 2022-01-01 22:00:00  \n",
       "326  22:40:00         22 2022-01-01 22:00:00  \n",
       "308  02:42:00          2 2022-01-01 02:00:00  \n",
       "310  05:52:00          5 2022-01-01 05:00:00  \n",
       "311  08:00:00          8 2022-01-01 08:00:00  \n",
       "312  09:29:00          9 2022-01-01 09:00:00  "
      ]
     },
     "execution_count": 45,
     "metadata": {},
     "output_type": "execute_result"
    }
   ],
   "source": [
    "df_feed[(df_feed['Date']=='2022-04-01')]"
   ]
  },
  {
   "cell_type": "markdown",
   "id": "3b799371-58e6-445b-b7a8-f45bea1b76af",
   "metadata": {},
   "source": [
    "#### *-Number of Feedings Per Day*"
   ]
  },
  {
   "cell_type": "code",
   "execution_count": 46,
   "id": "bcd09a69-88fa-47da-8573-2b7620d02a99",
   "metadata": {},
   "outputs": [
    {
     "data": {
      "image/png": "[encoded data removed]",
      "text/plain": [
       "<Figure size 720x360 with 1 Axes>"
      ]
     },
     "metadata": {},
     "output_type": "display_data"
    }
   ],
   "source": [
    "# Plot-Feeding Amount by Time\n",
    "x = df_num_feed.groupby(level=0).count().index\n",
    "y = df_num_feed.groupby(level=0).count()['Baby Name']\n",
    "\n",
    "figure(figsize=(10,5))\n",
    "plt.yticks(np.arange(0, (max(y)+2), 2))\n",
    "plt.plot(x,y)\n",
    "plt.title('Number of Feedings Per Day')\n",
    "plt.ylabel('Number of Feedings')\n",
    "plt.gcf().tight_layout()"
   ]
  },
  {
   "cell_type": "markdown",
   "id": "8e287557-f8d1-470c-ad29-79416a62af4d",
   "metadata": {},
   "source": [
    "Since we recorded bottle and breastfeedings separately, this will give us a larger number of feedings than reality. For example, we may have given the bottle initially, but if she was still hungry, she was given more through breastfeeding. Even though this should be a single feeding, it was recorded twice because the app cannot combine different types of feeding methods. Therefore, I made these into single feedings by unifying them to each hour.\n",
    "\n",
    "Even with the adjustment, the data shows that there were a large number feedings per day in the first month or so. Newborns can only drink a few ounces at a time, hence more feedings per day, but this was also due to our inexperience. If she was crying, we were unsure if she was still hungry, sleepy, uncomfortable, or something else. This caused many moments where we mistook her cries as feeding cues and attempted to feed her, causing more feeding records. Eventually, we got the hang of it! As she grew, she could drink more per feeding and the number of feedings stabilized to something manageable and consistent."
   ]
  },
  {
   "cell_type": "markdown",
   "id": "f29822f9-4d0c-450c-b004-5b99f04cb48c",
   "metadata": {
    "jp-MarkdownHeadingCollapsed": true,
    "tags": []
   },
   "source": [
    "#### Dirty Diapers Setup"
   ]
  },
  {
   "cell_type": "code",
   "execution_count": 47,
   "id": "295cccfb-0f61-47ba-9c4e-0494eba77cce",
   "metadata": {
    "tags": []
   },
   "outputs": [
    {
     "data": {
      "text/html": [
       "<div>\n",
       "<style scoped>\n",
       "    .dataframe tbody tr th:only-of-type {\n",
       "        vertical-align: middle;\n",
       "    }\n",
       "\n",
       "    .dataframe tbody tr th {\n",
       "        vertical-align: top;\n",
       "    }\n",
       "\n",
       "    .dataframe thead th {\n",
       "        text-align: right;\n",
       "    }\n",
       "</style>\n",
       "<table border=\"1\" class=\"dataframe\">\n",
       "  <thead>\n",
       "    <tr style=\"text-align: right;\">\n",
       "      <th></th>\n",
       "      <th>Baby Name</th>\n",
       "      <th>Start Time</th>\n",
       "      <th>End Time</th>\n",
       "      <th>Activity</th>\n",
       "      <th>Amount</th>\n",
       "      <th>Percentile</th>\n",
       "      <th>Duration</th>\n",
       "      <th>Info</th>\n",
       "      <th>Notes</th>\n",
       "      <th>Date</th>\n",
       "      <th>Month</th>\n",
       "      <th>DOW #</th>\n",
       "      <th>DOW</th>\n",
       "      <th>Time</th>\n",
       "      <th>Hour(int)</th>\n",
       "      <th>Hour(dt)</th>\n",
       "    </tr>\n",
       "  </thead>\n",
       "  <tbody>\n",
       "    <tr>\n",
       "      <th>1852</th>\n",
       "      <td>Hidden Name</td>\n",
       "      <td>07/31/2022 14:23 PM</td>\n",
       "      <td>07/31/2022 14:23 PM</td>\n",
       "      <td>Diaper</td>\n",
       "      <td>Dirty</td>\n",
       "      <td>NaN</td>\n",
       "      <td>NaN</td>\n",
       "      <td>NaN</td>\n",
       "      <td>NaN</td>\n",
       "      <td>2022-07-31</td>\n",
       "      <td>7</td>\n",
       "      <td>6</td>\n",
       "      <td>Sunday</td>\n",
       "      <td>14:23:00</td>\n",
       "      <td>14</td>\n",
       "      <td>2022-01-01 14:00:00</td>\n",
       "    </tr>\n",
       "    <tr>\n",
       "      <th>1868</th>\n",
       "      <td>Hidden Name</td>\n",
       "      <td>08/03/2022 8:44 AM</td>\n",
       "      <td>08/03/2022 8:44 AM</td>\n",
       "      <td>Diaper</td>\n",
       "      <td>Dirty</td>\n",
       "      <td>NaN</td>\n",
       "      <td>NaN</td>\n",
       "      <td>NaN</td>\n",
       "      <td>NaN</td>\n",
       "      <td>2022-08-03</td>\n",
       "      <td>8</td>\n",
       "      <td>2</td>\n",
       "      <td>Wednesday</td>\n",
       "      <td>08:44:00</td>\n",
       "      <td>8</td>\n",
       "      <td>2022-01-01 08:00:00</td>\n",
       "    </tr>\n",
       "    <tr>\n",
       "      <th>1886</th>\n",
       "      <td>Hidden Name</td>\n",
       "      <td>08/05/2022 17:20 PM</td>\n",
       "      <td>08/05/2022 17:20 PM</td>\n",
       "      <td>Diaper</td>\n",
       "      <td>Dirty</td>\n",
       "      <td>NaN</td>\n",
       "      <td>NaN</td>\n",
       "      <td>NaN</td>\n",
       "      <td>NaN</td>\n",
       "      <td>2022-08-05</td>\n",
       "      <td>8</td>\n",
       "      <td>4</td>\n",
       "      <td>Friday</td>\n",
       "      <td>17:20:00</td>\n",
       "      <td>17</td>\n",
       "      <td>2022-01-01 17:00:00</td>\n",
       "    </tr>\n",
       "  </tbody>\n",
       "</table>\n",
       "</div>"
      ],
      "text/plain": [
       "        Baby Name           Start Time             End Time Activity Amount  \\\n",
       "1852  Hidden Name  07/31/2022 14:23 PM  07/31/2022 14:23 PM   Diaper  Dirty   \n",
       "1868  Hidden Name   08/03/2022 8:44 AM   08/03/2022 8:44 AM   Diaper  Dirty   \n",
       "1886  Hidden Name  08/05/2022 17:20 PM  08/05/2022 17:20 PM   Diaper  Dirty   \n",
       "\n",
       "      Percentile  Duration Info Notes       Date  Month  DOW #        DOW  \\\n",
       "1852         NaN       NaN  NaN   NaN 2022-07-31      7      6     Sunday   \n",
       "1868         NaN       NaN  NaN   NaN 2022-08-03      8      2  Wednesday   \n",
       "1886         NaN       NaN  NaN   NaN 2022-08-05      8      4     Friday   \n",
       "\n",
       "          Time  Hour(int)            Hour(dt)  \n",
       "1852  14:23:00         14 2022-01-01 14:00:00  \n",
       "1868  08:44:00          8 2022-01-01 08:00:00  \n",
       "1886  17:20:00         17 2022-01-01 17:00:00  "
      ]
     },
     "execution_count": 47,
     "metadata": {},
     "output_type": "execute_result"
    }
   ],
   "source": [
    "# Filter Diapers, Dirty\n",
    "df_diapers = df2[df2['Activity']=='Diaper']\n",
    "df_drty_diapers = df_diapers[df_diapers['Amount'].str.contains('Dirty')]\n",
    "df_drty_diapers.tail(3)"
   ]
  },
  {
   "cell_type": "markdown",
   "id": "edad384b-58b6-4979-8666-ae7decf61f7f",
   "metadata": {},
   "source": [
    "## Dirty Diapers"
   ]
  },
  {
   "cell_type": "code",
   "execution_count": 48,
   "id": "2ed1782a-446c-4007-8442-a280a22d5257",
   "metadata": {
    "tags": []
   },
   "outputs": [
    {
     "data": {
      "image/png": "[encoded data removed]",
      "text/plain": [
       "<Figure size 720x360 with 1 Axes>"
      ]
     },
     "metadata": {},
     "output_type": "display_data"
    }
   ],
   "source": [
    "# Bar-Total Dirty Diapers by DOW\n",
    "figure(figsize=(10,5))\n",
    "ax = pd.value_counts(df_drty_diapers['DOW']).plot.bar()\n",
    "ax.set_title('Total Dirty Diapers By DOW', fontsize=22)\n",
    "ax.set_ylabel('Diapers')\n",
    "ax.tick_params(axis='x', rotation=45)"
   ]
  },
  {
   "cell_type": "code",
   "execution_count": 49,
   "id": "07247d98-57c5-4624-8b7a-e315fd2a5de9",
   "metadata": {
    "tags": []
   },
   "outputs": [
    {
     "data": {
      "image/png": "[encoded data removed]",
      "text/plain": [
       "<Figure size 1800x360 with 1 Axes>"
      ]
     },
     "metadata": {},
     "output_type": "display_data"
    }
   ],
   "source": [
    "# Plot-Dirty Diaper Frequency\n",
    "df_drty_diapers_plot = df_drty_diapers.copy()\n",
    "df_drty_diapers_plot['Amount'] = df_drty_diapers['Amount'].replace('Wet + Dirty', 'Dirty')\n",
    "\n",
    "x = df_drty_diapers_plot['Date']\n",
    "y = df_drty_diapers_plot['Amount']\n",
    "\n",
    "fig, ax_dd = plt.subplots(1,1, figsize=(25,5))\n",
    "\n",
    "plt.xlim([datetime.date(2022, 3, 5), datetime.date(2022, 8, 6)])\n",
    "plt.tick_params(axis='x', rotation=45)\n",
    "plt.gca().xaxis.set_major_locator(mdates.DayLocator(interval=3))\n",
    "ax_dd.xaxis.set_major_formatter(mdates.DateFormatter('%m/%d'))\n",
    "ax_dd.set_title('Dirty Diaper Frequency', fontsize=20)\n",
    "ax_dd = plt.scatter(x,y)"
   ]
  },
  {
   "cell_type": "markdown",
   "id": "8b7725c3-fbf9-4e7d-9652-91eec314b25a",
   "metadata": {
    "tags": []
   },
   "source": [
    "##### Dirty Diaper Totals by Month"
   ]
  },
  {
   "cell_type": "code",
   "execution_count": 50,
   "id": "5f66db6c-566d-422e-89eb-cb80f6af626c",
   "metadata": {
    "tags": []
   },
   "outputs": [
    {
     "data": {
      "text/plain": [
       "Month\n",
       "3    41\n",
       "4    31\n",
       "5    37\n",
       "6    18\n",
       "7    18\n",
       "8     2\n",
       "Name: Amount, dtype: int64"
      ]
     },
     "execution_count": 50,
     "metadata": {},
     "output_type": "execute_result"
    }
   ],
   "source": [
    "df_drty_diapers_mth = df_drty_diapers_plot.groupby('Month')\n",
    "df_drty_diapers_mth['Amount'].count()"
   ]
  },
  {
   "cell_type": "markdown",
   "id": "ad204945-7e25-4415-8055-65c420a6202c",
   "metadata": {},
   "source": [
    "##### Estimate Dirty Diaper Frequency by Month"
   ]
  },
  {
   "cell_type": "code",
   "execution_count": 51,
   "id": "fe97fa9b-c2d4-48cf-9151-8b6e834795c3",
   "metadata": {
    "tags": []
   },
   "outputs": [
    {
     "data": {
      "text/plain": [
       "Month\n",
       "3    1.322581\n",
       "4    1.000000\n",
       "5    1.193548\n",
       "6    0.580645\n",
       "7    0.580645\n",
       "8    0.064516\n",
       "Name: Amount, dtype: float64"
      ]
     },
     "execution_count": 51,
     "metadata": {},
     "output_type": "execute_result"
    }
   ],
   "source": [
    "df_drty_diapers_mth['Amount'].count().div(31)"
   ]
  },
  {
   "cell_type": "markdown",
   "id": "a1756308-da7e-4070-aaac-cb4e113cb73f",
   "metadata": {},
   "source": [
    "Our daughter's first dirty diaper came on March 13, more than a week after birth. It was certainly relieving to finally have that first dirty diaper, and it became consistent after that. However, it seems that as she got older, she had less frequent dirty diapers. She went from averaging at least one dirty diaper a day to only one dirty diaper about every other day. ***It does seem that around the time we started to feed her more (May), she slowly started to have less dirty diapers.*** Could this be due to other factors such as feeding more formula rather than breastmilk? Further analysis is required, but that's for another day!"
   ]
  },
  {
   "cell_type": "markdown",
   "id": "05755fc7-2bf5-471e-9a4b-b126c705e4ce",
   "metadata": {},
   "source": [
    "## Conclusion\n",
    "\n",
    "Overall, I am so glad that my daughter is growing healthy and strong. From this analysis, it looks like we are on the right track raising our child. Thanks for coming along on this journey with me!"
   ]
  }
 ],
 "metadata": {
  "kernelspec": {
   "display_name": "Python 3 (ipykernel)",
   "language": "python",
   "name": "python3"
  },
  "language_info": {
   "codemirror_mode": {
    "name": "ipython",
    "version": 3
   },
   "file_extension": ".py",
   "mimetype": "text/x-python",
   "name": "python",
   "nbconvert_exporter": "python",
   "pygments_lexer": "ipython3",
   "version": "3.10.4"
  }
 },
 "nbformat": 4,
 "nbformat_minor": 5
}
