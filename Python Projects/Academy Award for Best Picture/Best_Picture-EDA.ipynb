{
 "cells": [
  {
   "cell_type": "markdown",
   "id": "0b808d41-b8dc-4fcf-b409-13a4ac6afbcc",
   "metadata": {},
   "source": [
    "# Every Academy Award for Best Picture Winner\n",
    "## (1927-2021)\n",
    "\n",
    "## Intro\n",
    "What makes an Academy Award Best Picture? This process involves web scraping every movie that was nominated for Best Picture from Wikipedia. Then, the data will be prepared for analysis to find any common threads between these Oscar worthy movies. Are there any quantitative or qualitative measurements that helps a movie get nominated? Let's find out!\n",
    "\n",
    "## Data\n",
    "https://en.wikipedia.org/wiki/Academy_Award_for_Best_Picture\n",
    "\n",
    "## Questions\n",
    "1. What is the budget for most Best Picture nominees?\n",
    "2. How well do they do at the box office?\n",
    "3. Do they have short, medium, or long running times?\n",
    "4. What time of year do most release?\n",
    "5. What countries have the most?\n",
    "6. What production companies have the most?"
   ]
  },
  {
   "cell_type": "markdown",
   "id": "ef0dc496-8d7b-4e11-88e3-f1f28f724210",
   "metadata": {},
   "source": [
    "## Setup"
   ]
  },
  {
   "cell_type": "markdown",
   "id": "42faa28a-29b0-4bb5-8d47-eadfade14f2c",
   "metadata": {
    "jp-MarkdownHeadingCollapsed": true,
    "tags": []
   },
   "source": [
    "### Import Data"
   ]
  },
  {
   "cell_type": "code",
   "execution_count": 1,
   "id": "c69e03cf-a585-4d9d-ade3-5ff192c1576e",
   "metadata": {
    "tags": []
   },
   "outputs": [],
   "source": [
    "import pandas as pd\n",
    "\n",
    "df = pd.read_csv('./Best_Picture_clean.csv',encoding='utf-8')"
   ]
  },
  {
   "cell_type": "code",
   "execution_count": 2,
   "id": "17da4356-da44-42de-bf82-7fc4e7e6ee4f",
   "metadata": {
    "tags": []
   },
   "outputs": [
    {
     "data": {
      "text/html": [
       "<div>\n",
       "<style scoped>\n",
       "    .dataframe tbody tr th:only-of-type {\n",
       "        vertical-align: middle;\n",
       "    }\n",
       "\n",
       "    .dataframe tbody tr th {\n",
       "        vertical-align: top;\n",
       "    }\n",
       "\n",
       "    .dataframe thead th {\n",
       "        text-align: right;\n",
       "    }\n",
       "</style>\n",
       "<table border=\"1\" class=\"dataframe\">\n",
       "  <thead>\n",
       "    <tr style=\"text-align: right;\">\n",
       "      <th></th>\n",
       "      <th>title</th>\n",
       "      <th>Directed by</th>\n",
       "      <th>Written by</th>\n",
       "      <th>Screenplay by</th>\n",
       "      <th>Based on</th>\n",
       "      <th>Produced by</th>\n",
       "      <th>Starring</th>\n",
       "      <th>Cinematography</th>\n",
       "      <th>Edited by</th>\n",
       "      <th>Distributed by</th>\n",
       "      <th>...</th>\n",
       "      <th>Release date</th>\n",
       "      <th>Story by</th>\n",
       "      <th>Music by</th>\n",
       "      <th>Languages</th>\n",
       "      <th>Production companies</th>\n",
       "      <th>Countries</th>\n",
       "      <th>Running time(minutes)</th>\n",
       "      <th>Budget(USD)</th>\n",
       "      <th>Box office(USD)</th>\n",
       "      <th>Release dates(dt)</th>\n",
       "    </tr>\n",
       "  </thead>\n",
       "  <tbody>\n",
       "    <tr>\n",
       "      <th>0</th>\n",
       "      <td>7th Heaven</td>\n",
       "      <td>Frank Borzage</td>\n",
       "      <td>['Harry H. Caldwell (titles)', 'Katharine Hill...</td>\n",
       "      <td>Benjamin Glazer</td>\n",
       "      <td>['Seventh Heaven', 'by Austin Strong']</td>\n",
       "      <td>William Fox</td>\n",
       "      <td>['Janet Gaynor', 'Charles Farrell', 'Ben Bard']</td>\n",
       "      <td>['Ernest Palmer', 'Joseph A. Valentine']</td>\n",
       "      <td>Barney Wolf</td>\n",
       "      <td>Fox Film Corporation</td>\n",
       "      <td>...</td>\n",
       "      <td>NaN</td>\n",
       "      <td>NaN</td>\n",
       "      <td>NaN</td>\n",
       "      <td>NaN</td>\n",
       "      <td>NaN</td>\n",
       "      <td>NaN</td>\n",
       "      <td>110.0</td>\n",
       "      <td>1300000.0</td>\n",
       "      <td>2500000.0</td>\n",
       "      <td>1927-05-06</td>\n",
       "    </tr>\n",
       "    <tr>\n",
       "      <th>1</th>\n",
       "      <td>The Racket</td>\n",
       "      <td>Lewis Milestone</td>\n",
       "      <td>['Bartlett Cormack', 'Tom Miranda', 'Uncredite...</td>\n",
       "      <td>NaN</td>\n",
       "      <td>NaN</td>\n",
       "      <td>Howard Hughes</td>\n",
       "      <td>['Thomas Meighan', 'Marie Prevost', 'Louis Wol...</td>\n",
       "      <td>Tony Gaudio</td>\n",
       "      <td>Eddie Adams</td>\n",
       "      <td>Paramount Pictures</td>\n",
       "      <td>...</td>\n",
       "      <td>['November 1, 1928 (1928-11-01)']</td>\n",
       "      <td>NaN</td>\n",
       "      <td>NaN</td>\n",
       "      <td>NaN</td>\n",
       "      <td>NaN</td>\n",
       "      <td>NaN</td>\n",
       "      <td>84.0</td>\n",
       "      <td>NaN</td>\n",
       "      <td>NaN</td>\n",
       "      <td>NaN</td>\n",
       "    </tr>\n",
       "    <tr>\n",
       "      <th>2</th>\n",
       "      <td>The Broadway Melody</td>\n",
       "      <td>Harry Beaumont</td>\n",
       "      <td>['Sarah Y. Mason', '(continuity)', 'Norman Hou...</td>\n",
       "      <td>NaN</td>\n",
       "      <td>NaN</td>\n",
       "      <td>['Irving Thalberg', 'Lawrence Weingarten']</td>\n",
       "      <td>['Charles King', 'Anita Page', 'Bessie Love']</td>\n",
       "      <td>John Arnold</td>\n",
       "      <td>['Sam S. Zimbalist', 'Uncredited:', 'William L...</td>\n",
       "      <td>Metro-Goldwyn-Mayer</td>\n",
       "      <td>...</td>\n",
       "      <td>NaN</td>\n",
       "      <td>Edmund Goulding</td>\n",
       "      <td>(see article)</td>\n",
       "      <td>NaN</td>\n",
       "      <td>NaN</td>\n",
       "      <td>NaN</td>\n",
       "      <td>100.0</td>\n",
       "      <td>379000.0</td>\n",
       "      <td>4400000.0</td>\n",
       "      <td>1929-02-01</td>\n",
       "    </tr>\n",
       "    <tr>\n",
       "      <th>3</th>\n",
       "      <td>Alibi</td>\n",
       "      <td>Roland West</td>\n",
       "      <td>Elaine Sterne Carrington</td>\n",
       "      <td>NaN</td>\n",
       "      <td>['Nightstick', 'by', 'Elaine Sterne Carrington...</td>\n",
       "      <td>Roland West</td>\n",
       "      <td>['Chester Morris', 'Mae Busch']</td>\n",
       "      <td>Ray June</td>\n",
       "      <td>NaN</td>\n",
       "      <td>United Artists</td>\n",
       "      <td>...</td>\n",
       "      <td>['April 20, 1929 (1929-04-20)']</td>\n",
       "      <td>NaN</td>\n",
       "      <td>NaN</td>\n",
       "      <td>NaN</td>\n",
       "      <td>NaN</td>\n",
       "      <td>NaN</td>\n",
       "      <td>90.0</td>\n",
       "      <td>NaN</td>\n",
       "      <td>NaN</td>\n",
       "      <td>NaN</td>\n",
       "    </tr>\n",
       "    <tr>\n",
       "      <th>4</th>\n",
       "      <td>The Hollywood Revue of 1929</td>\n",
       "      <td>Charles Reisner</td>\n",
       "      <td>['Al Boasberg', 'Robert E. Hopkins', 'Joseph W...</td>\n",
       "      <td>NaN</td>\n",
       "      <td>NaN</td>\n",
       "      <td>['Irving Thalberg', 'Harry Rapf']</td>\n",
       "      <td>['Conrad Nagel', 'Jack Benny']</td>\n",
       "      <td>['John Arnold', 'Max Fabian', 'Irving G. Ries'...</td>\n",
       "      <td>['William S. Gray', 'Cameron K. Wood']</td>\n",
       "      <td>Metro-Goldwyn-Mayer</td>\n",
       "      <td>...</td>\n",
       "      <td>NaN</td>\n",
       "      <td>NaN</td>\n",
       "      <td>['Gus Edwards', 'Arthur Freed', '(\"', \"Singin'...</td>\n",
       "      <td>NaN</td>\n",
       "      <td>NaN</td>\n",
       "      <td>NaN</td>\n",
       "      <td>130.0</td>\n",
       "      <td>426000.0</td>\n",
       "      <td>2421000.0</td>\n",
       "      <td>1929-06-20</td>\n",
       "    </tr>\n",
       "  </tbody>\n",
       "</table>\n",
       "<p>5 rows × 27 columns</p>\n",
       "</div>"
      ],
      "text/plain": [
       "                         title      Directed by  \\\n",
       "0                   7th Heaven    Frank Borzage   \n",
       "1                   The Racket  Lewis Milestone   \n",
       "2          The Broadway Melody   Harry Beaumont   \n",
       "3                        Alibi      Roland West   \n",
       "4  The Hollywood Revue of 1929  Charles Reisner   \n",
       "\n",
       "                                          Written by    Screenplay by  \\\n",
       "0  ['Harry H. Caldwell (titles)', 'Katharine Hill...  Benjamin Glazer   \n",
       "1  ['Bartlett Cormack', 'Tom Miranda', 'Uncredite...              NaN   \n",
       "2  ['Sarah Y. Mason', '(continuity)', 'Norman Hou...              NaN   \n",
       "3                           Elaine Sterne Carrington              NaN   \n",
       "4  ['Al Boasberg', 'Robert E. Hopkins', 'Joseph W...              NaN   \n",
       "\n",
       "                                            Based on  \\\n",
       "0             ['Seventh Heaven', 'by Austin Strong']   \n",
       "1                                                NaN   \n",
       "2                                                NaN   \n",
       "3  ['Nightstick', 'by', 'Elaine Sterne Carrington...   \n",
       "4                                                NaN   \n",
       "\n",
       "                                  Produced by  \\\n",
       "0                                 William Fox   \n",
       "1                               Howard Hughes   \n",
       "2  ['Irving Thalberg', 'Lawrence Weingarten']   \n",
       "3                                 Roland West   \n",
       "4           ['Irving Thalberg', 'Harry Rapf']   \n",
       "\n",
       "                                            Starring  \\\n",
       "0    ['Janet Gaynor', 'Charles Farrell', 'Ben Bard']   \n",
       "1  ['Thomas Meighan', 'Marie Prevost', 'Louis Wol...   \n",
       "2      ['Charles King', 'Anita Page', 'Bessie Love']   \n",
       "3                    ['Chester Morris', 'Mae Busch']   \n",
       "4                     ['Conrad Nagel', 'Jack Benny']   \n",
       "\n",
       "                                      Cinematography  \\\n",
       "0           ['Ernest Palmer', 'Joseph A. Valentine']   \n",
       "1                                        Tony Gaudio   \n",
       "2                                        John Arnold   \n",
       "3                                           Ray June   \n",
       "4  ['John Arnold', 'Max Fabian', 'Irving G. Ries'...   \n",
       "\n",
       "                                           Edited by        Distributed by  \\\n",
       "0                                        Barney Wolf  Fox Film Corporation   \n",
       "1                                        Eddie Adams    Paramount Pictures   \n",
       "2  ['Sam S. Zimbalist', 'Uncredited:', 'William L...   Metro-Goldwyn-Mayer   \n",
       "3                                                NaN        United Artists   \n",
       "4             ['William S. Gray', 'Cameron K. Wood']   Metro-Goldwyn-Mayer   \n",
       "\n",
       "   ...                       Release date         Story by  \\\n",
       "0  ...                                NaN              NaN   \n",
       "1  ...  ['November 1, 1928 (1928-11-01)']              NaN   \n",
       "2  ...                                NaN  Edmund Goulding   \n",
       "3  ...    ['April 20, 1929 (1929-04-20)']              NaN   \n",
       "4  ...                                NaN              NaN   \n",
       "\n",
       "                                            Music by Languages  \\\n",
       "0                                                NaN       NaN   \n",
       "1                                                NaN       NaN   \n",
       "2                                      (see article)       NaN   \n",
       "3                                                NaN       NaN   \n",
       "4  ['Gus Edwards', 'Arthur Freed', '(\"', \"Singin'...       NaN   \n",
       "\n",
       "  Production companies Countries Running time(minutes) Budget(USD)  \\\n",
       "0                  NaN       NaN                 110.0   1300000.0   \n",
       "1                  NaN       NaN                  84.0         NaN   \n",
       "2                  NaN       NaN                 100.0    379000.0   \n",
       "3                  NaN       NaN                  90.0         NaN   \n",
       "4                  NaN       NaN                 130.0    426000.0   \n",
       "\n",
       "  Box office(USD) Release dates(dt)  \n",
       "0       2500000.0        1927-05-06  \n",
       "1             NaN               NaN  \n",
       "2       4400000.0        1929-02-01  \n",
       "3             NaN               NaN  \n",
       "4       2421000.0        1929-06-20  \n",
       "\n",
       "[5 rows x 27 columns]"
      ]
     },
     "execution_count": 2,
     "metadata": {},
     "output_type": "execute_result"
    }
   ],
   "source": [
    "df.head()"
   ]
  },
  {
   "cell_type": "markdown",
   "id": "a81327a3-6395-4aa6-9023-8573d5380c5c",
   "metadata": {
    "jp-MarkdownHeadingCollapsed": true,
    "tags": []
   },
   "source": [
    "### Data Info"
   ]
  },
  {
   "cell_type": "code",
   "execution_count": 3,
   "id": "f40a3cbc-5157-4f5d-bea6-4d917c8eee29",
   "metadata": {
    "tags": []
   },
   "outputs": [
    {
     "data": {
      "text/plain": [
       "title                    580\n",
       "Directed by              580\n",
       "Written by               206\n",
       "Screenplay by            384\n",
       "Based on                 380\n",
       "Produced by              574\n",
       "Starring                 580\n",
       "Cinematography           578\n",
       "Edited by                576\n",
       "Distributed by           579\n",
       "Release dates            287\n",
       "Running time             579\n",
       "Country                  481\n",
       "Language                 513\n",
       "Budget                   519\n",
       "Box office               551\n",
       "Production company       241\n",
       "Release date             293\n",
       "Story by                  57\n",
       "Music by                 540\n",
       "Languages                 59\n",
       "Production companies     235\n",
       "Countries                 96\n",
       "Running time(minutes)    578\n",
       "Budget(USD)              518\n",
       "Box office(USD)          550\n",
       "Release dates(dt)        287\n",
       "dtype: int64"
      ]
     },
     "execution_count": 3,
     "metadata": {},
     "output_type": "execute_result"
    }
   ],
   "source": [
    "df.notna().sum()"
   ]
  },
  {
   "cell_type": "code",
   "execution_count": 4,
   "id": "c1519480-85b0-4623-b226-d5b969183b60",
   "metadata": {
    "tags": []
   },
   "outputs": [
    {
     "data": {
      "text/plain": [
       "Index(['title', 'Directed by', 'Written by', 'Screenplay by', 'Based on',\n",
       "       'Produced by', 'Starring', 'Cinematography', 'Edited by',\n",
       "       'Distributed by', 'Country', 'Language', 'Production company',\n",
       "       'Release date', 'Story by', 'Music by', 'Languages',\n",
       "       'Production companies', 'Countries', 'Running time(minutes)',\n",
       "       'Budget(USD)', 'Box office(USD)', 'Release dates(dt)'],\n",
       "      dtype='object')"
      ]
     },
     "execution_count": 4,
     "metadata": {},
     "output_type": "execute_result"
    }
   ],
   "source": [
    "df.drop(columns=['Running time','Release dates','Box office','Budget'],inplace=True)\n",
    "df.columns"
   ]
  },
  {
   "cell_type": "code",
   "execution_count": 5,
   "id": "aba5e619-3625-4990-8cbe-1766231d5dbe",
   "metadata": {
    "tags": []
   },
   "outputs": [
    {
     "data": {
      "text/plain": [
       "(580, 23)"
      ]
     },
     "execution_count": 5,
     "metadata": {},
     "output_type": "execute_result"
    }
   ],
   "source": [
    "df.shape"
   ]
  },
  {
   "cell_type": "code",
   "execution_count": 6,
   "id": "f0608d85-40ce-4d79-a435-0a27c3869bad",
   "metadata": {
    "tags": []
   },
   "outputs": [
    {
     "data": {
      "text/html": [
       "<div>\n",
       "<style scoped>\n",
       "    .dataframe tbody tr th:only-of-type {\n",
       "        vertical-align: middle;\n",
       "    }\n",
       "\n",
       "    .dataframe tbody tr th {\n",
       "        vertical-align: top;\n",
       "    }\n",
       "\n",
       "    .dataframe thead th {\n",
       "        text-align: right;\n",
       "    }\n",
       "</style>\n",
       "<table border=\"1\" class=\"dataframe\">\n",
       "  <thead>\n",
       "    <tr style=\"text-align: right;\">\n",
       "      <th></th>\n",
       "      <th>title</th>\n",
       "      <th>Directed by</th>\n",
       "      <th>Written by</th>\n",
       "      <th>Screenplay by</th>\n",
       "      <th>Based on</th>\n",
       "      <th>Produced by</th>\n",
       "      <th>Starring</th>\n",
       "      <th>Cinematography</th>\n",
       "      <th>Edited by</th>\n",
       "      <th>Distributed by</th>\n",
       "      <th>Country</th>\n",
       "      <th>Language</th>\n",
       "      <th>Production company</th>\n",
       "      <th>Release date</th>\n",
       "      <th>Story by</th>\n",
       "      <th>Music by</th>\n",
       "      <th>Languages</th>\n",
       "      <th>Production companies</th>\n",
       "      <th>Countries</th>\n",
       "      <th>Running time(minutes)</th>\n",
       "      <th>Budget(USD)</th>\n",
       "      <th>Box office(USD)</th>\n",
       "      <th>Release dates(dt)</th>\n",
       "    </tr>\n",
       "  </thead>\n",
       "  <tbody>\n",
       "    <tr>\n",
       "      <th>0</th>\n",
       "      <td>7th Heaven</td>\n",
       "      <td>Frank Borzage</td>\n",
       "      <td>['Harry H. Caldwell (titles)', 'Katharine Hill...</td>\n",
       "      <td>Benjamin Glazer</td>\n",
       "      <td>['Seventh Heaven', 'by Austin Strong']</td>\n",
       "      <td>William Fox</td>\n",
       "      <td>['Janet Gaynor', 'Charles Farrell', 'Ben Bard']</td>\n",
       "      <td>['Ernest Palmer', 'Joseph A. Valentine']</td>\n",
       "      <td>Barney Wolf</td>\n",
       "      <td>Fox Film Corporation</td>\n",
       "      <td>United States</td>\n",
       "      <td>Silent (English intertitles)</td>\n",
       "      <td>NaN</td>\n",
       "      <td>NaN</td>\n",
       "      <td>NaN</td>\n",
       "      <td>NaN</td>\n",
       "      <td>NaN</td>\n",
       "      <td>NaN</td>\n",
       "      <td>NaN</td>\n",
       "      <td>110.0</td>\n",
       "      <td>1300000.0</td>\n",
       "      <td>2500000.0</td>\n",
       "      <td>1927-05-06</td>\n",
       "    </tr>\n",
       "    <tr>\n",
       "      <th>1</th>\n",
       "      <td>The Racket</td>\n",
       "      <td>Lewis Milestone</td>\n",
       "      <td>['Bartlett Cormack', 'Tom Miranda', 'Uncredite...</td>\n",
       "      <td>NaN</td>\n",
       "      <td>NaN</td>\n",
       "      <td>Howard Hughes</td>\n",
       "      <td>['Thomas Meighan', 'Marie Prevost', 'Louis Wol...</td>\n",
       "      <td>Tony Gaudio</td>\n",
       "      <td>Eddie Adams</td>\n",
       "      <td>Paramount Pictures</td>\n",
       "      <td>United States</td>\n",
       "      <td>Silent (English intertitles)</td>\n",
       "      <td>The Caddo Company</td>\n",
       "      <td>['November 1, 1928 (1928-11-01)']</td>\n",
       "      <td>NaN</td>\n",
       "      <td>NaN</td>\n",
       "      <td>NaN</td>\n",
       "      <td>NaN</td>\n",
       "      <td>NaN</td>\n",
       "      <td>84.0</td>\n",
       "      <td>NaN</td>\n",
       "      <td>NaN</td>\n",
       "      <td>NaN</td>\n",
       "    </tr>\n",
       "    <tr>\n",
       "      <th>2</th>\n",
       "      <td>The Broadway Melody</td>\n",
       "      <td>Harry Beaumont</td>\n",
       "      <td>['Sarah Y. Mason', '(continuity)', 'Norman Hou...</td>\n",
       "      <td>NaN</td>\n",
       "      <td>NaN</td>\n",
       "      <td>['Irving Thalberg', 'Lawrence Weingarten']</td>\n",
       "      <td>['Charles King', 'Anita Page', 'Bessie Love']</td>\n",
       "      <td>John Arnold</td>\n",
       "      <td>['Sam S. Zimbalist', 'Uncredited:', 'William L...</td>\n",
       "      <td>Metro-Goldwyn-Mayer</td>\n",
       "      <td>United States</td>\n",
       "      <td>English</td>\n",
       "      <td>NaN</td>\n",
       "      <td>NaN</td>\n",
       "      <td>Edmund Goulding</td>\n",
       "      <td>(see article)</td>\n",
       "      <td>NaN</td>\n",
       "      <td>NaN</td>\n",
       "      <td>NaN</td>\n",
       "      <td>100.0</td>\n",
       "      <td>379000.0</td>\n",
       "      <td>4400000.0</td>\n",
       "      <td>1929-02-01</td>\n",
       "    </tr>\n",
       "    <tr>\n",
       "      <th>3</th>\n",
       "      <td>Alibi</td>\n",
       "      <td>Roland West</td>\n",
       "      <td>Elaine Sterne Carrington</td>\n",
       "      <td>NaN</td>\n",
       "      <td>['Nightstick', 'by', 'Elaine Sterne Carrington...</td>\n",
       "      <td>Roland West</td>\n",
       "      <td>['Chester Morris', 'Mae Busch']</td>\n",
       "      <td>Ray June</td>\n",
       "      <td>NaN</td>\n",
       "      <td>United Artists</td>\n",
       "      <td>United States</td>\n",
       "      <td>English</td>\n",
       "      <td>NaN</td>\n",
       "      <td>['April 20, 1929 (1929-04-20)']</td>\n",
       "      <td>NaN</td>\n",
       "      <td>NaN</td>\n",
       "      <td>NaN</td>\n",
       "      <td>NaN</td>\n",
       "      <td>NaN</td>\n",
       "      <td>90.0</td>\n",
       "      <td>NaN</td>\n",
       "      <td>NaN</td>\n",
       "      <td>NaN</td>\n",
       "    </tr>\n",
       "    <tr>\n",
       "      <th>4</th>\n",
       "      <td>The Hollywood Revue of 1929</td>\n",
       "      <td>Charles Reisner</td>\n",
       "      <td>['Al Boasberg', 'Robert E. Hopkins', 'Joseph W...</td>\n",
       "      <td>NaN</td>\n",
       "      <td>NaN</td>\n",
       "      <td>['Irving Thalberg', 'Harry Rapf']</td>\n",
       "      <td>['Conrad Nagel', 'Jack Benny']</td>\n",
       "      <td>['John Arnold', 'Max Fabian', 'Irving G. Ries'...</td>\n",
       "      <td>['William S. Gray', 'Cameron K. Wood']</td>\n",
       "      <td>Metro-Goldwyn-Mayer</td>\n",
       "      <td>United States</td>\n",
       "      <td>English</td>\n",
       "      <td>NaN</td>\n",
       "      <td>NaN</td>\n",
       "      <td>NaN</td>\n",
       "      <td>['Gus Edwards', 'Arthur Freed', '(\"', \"Singin'...</td>\n",
       "      <td>NaN</td>\n",
       "      <td>NaN</td>\n",
       "      <td>NaN</td>\n",
       "      <td>130.0</td>\n",
       "      <td>426000.0</td>\n",
       "      <td>2421000.0</td>\n",
       "      <td>1929-06-20</td>\n",
       "    </tr>\n",
       "  </tbody>\n",
       "</table>\n",
       "</div>"
      ],
      "text/plain": [
       "                         title      Directed by  \\\n",
       "0                   7th Heaven    Frank Borzage   \n",
       "1                   The Racket  Lewis Milestone   \n",
       "2          The Broadway Melody   Harry Beaumont   \n",
       "3                        Alibi      Roland West   \n",
       "4  The Hollywood Revue of 1929  Charles Reisner   \n",
       "\n",
       "                                          Written by    Screenplay by  \\\n",
       "0  ['Harry H. Caldwell (titles)', 'Katharine Hill...  Benjamin Glazer   \n",
       "1  ['Bartlett Cormack', 'Tom Miranda', 'Uncredite...              NaN   \n",
       "2  ['Sarah Y. Mason', '(continuity)', 'Norman Hou...              NaN   \n",
       "3                           Elaine Sterne Carrington              NaN   \n",
       "4  ['Al Boasberg', 'Robert E. Hopkins', 'Joseph W...              NaN   \n",
       "\n",
       "                                            Based on  \\\n",
       "0             ['Seventh Heaven', 'by Austin Strong']   \n",
       "1                                                NaN   \n",
       "2                                                NaN   \n",
       "3  ['Nightstick', 'by', 'Elaine Sterne Carrington...   \n",
       "4                                                NaN   \n",
       "\n",
       "                                  Produced by  \\\n",
       "0                                 William Fox   \n",
       "1                               Howard Hughes   \n",
       "2  ['Irving Thalberg', 'Lawrence Weingarten']   \n",
       "3                                 Roland West   \n",
       "4           ['Irving Thalberg', 'Harry Rapf']   \n",
       "\n",
       "                                            Starring  \\\n",
       "0    ['Janet Gaynor', 'Charles Farrell', 'Ben Bard']   \n",
       "1  ['Thomas Meighan', 'Marie Prevost', 'Louis Wol...   \n",
       "2      ['Charles King', 'Anita Page', 'Bessie Love']   \n",
       "3                    ['Chester Morris', 'Mae Busch']   \n",
       "4                     ['Conrad Nagel', 'Jack Benny']   \n",
       "\n",
       "                                      Cinematography  \\\n",
       "0           ['Ernest Palmer', 'Joseph A. Valentine']   \n",
       "1                                        Tony Gaudio   \n",
       "2                                        John Arnold   \n",
       "3                                           Ray June   \n",
       "4  ['John Arnold', 'Max Fabian', 'Irving G. Ries'...   \n",
       "\n",
       "                                           Edited by        Distributed by  \\\n",
       "0                                        Barney Wolf  Fox Film Corporation   \n",
       "1                                        Eddie Adams    Paramount Pictures   \n",
       "2  ['Sam S. Zimbalist', 'Uncredited:', 'William L...   Metro-Goldwyn-Mayer   \n",
       "3                                                NaN        United Artists   \n",
       "4             ['William S. Gray', 'Cameron K. Wood']   Metro-Goldwyn-Mayer   \n",
       "\n",
       "         Country                      Language Production company  \\\n",
       "0  United States  Silent (English intertitles)                NaN   \n",
       "1  United States  Silent (English intertitles)  The Caddo Company   \n",
       "2  United States                       English                NaN   \n",
       "3  United States                       English                NaN   \n",
       "4  United States                       English                NaN   \n",
       "\n",
       "                        Release date         Story by  \\\n",
       "0                                NaN              NaN   \n",
       "1  ['November 1, 1928 (1928-11-01)']              NaN   \n",
       "2                                NaN  Edmund Goulding   \n",
       "3    ['April 20, 1929 (1929-04-20)']              NaN   \n",
       "4                                NaN              NaN   \n",
       "\n",
       "                                            Music by Languages  \\\n",
       "0                                                NaN       NaN   \n",
       "1                                                NaN       NaN   \n",
       "2                                      (see article)       NaN   \n",
       "3                                                NaN       NaN   \n",
       "4  ['Gus Edwards', 'Arthur Freed', '(\"', \"Singin'...       NaN   \n",
       "\n",
       "  Production companies Countries  Running time(minutes)  Budget(USD)  \\\n",
       "0                  NaN       NaN                  110.0    1300000.0   \n",
       "1                  NaN       NaN                   84.0          NaN   \n",
       "2                  NaN       NaN                  100.0     379000.0   \n",
       "3                  NaN       NaN                   90.0          NaN   \n",
       "4                  NaN       NaN                  130.0     426000.0   \n",
       "\n",
       "   Box office(USD) Release dates(dt)  \n",
       "0        2500000.0        1927-05-06  \n",
       "1              NaN               NaN  \n",
       "2        4400000.0        1929-02-01  \n",
       "3              NaN               NaN  \n",
       "4        2421000.0        1929-06-20  "
      ]
     },
     "execution_count": 6,
     "metadata": {},
     "output_type": "execute_result"
    }
   ],
   "source": [
    "pd.set_option('display.max_columns', 23)\n",
    "df.head()"
   ]
  },
  {
   "cell_type": "code",
   "execution_count": 7,
   "id": "314d77f0-8949-4171-a64f-71b88513e77a",
   "metadata": {
    "tags": []
   },
   "outputs": [
    {
     "name": "stdout",
     "output_type": "stream",
     "text": [
      "<class 'pandas.core.frame.DataFrame'>\n",
      "RangeIndex: 580 entries, 0 to 579\n",
      "Data columns (total 23 columns):\n",
      " #   Column                 Non-Null Count  Dtype  \n",
      "---  ------                 --------------  -----  \n",
      " 0   title                  580 non-null    object \n",
      " 1   Directed by            580 non-null    object \n",
      " 2   Written by             206 non-null    object \n",
      " 3   Screenplay by          384 non-null    object \n",
      " 4   Based on               380 non-null    object \n",
      " 5   Produced by            574 non-null    object \n",
      " 6   Starring               580 non-null    object \n",
      " 7   Cinematography         578 non-null    object \n",
      " 8   Edited by              576 non-null    object \n",
      " 9   Distributed by         579 non-null    object \n",
      " 10  Country                481 non-null    object \n",
      " 11  Language               513 non-null    object \n",
      " 12  Production company     241 non-null    object \n",
      " 13  Release date           293 non-null    object \n",
      " 14  Story by               57 non-null     object \n",
      " 15  Music by               540 non-null    object \n",
      " 16  Languages              59 non-null     object \n",
      " 17  Production companies   235 non-null    object \n",
      " 18  Countries              96 non-null     object \n",
      " 19  Running time(minutes)  578 non-null    float64\n",
      " 20  Budget(USD)            518 non-null    float64\n",
      " 21  Box office(USD)        550 non-null    float64\n",
      " 22  Release dates(dt)      287 non-null    object \n",
      "dtypes: float64(3), object(20)\n",
      "memory usage: 104.3+ KB\n"
     ]
    }
   ],
   "source": [
    "df.info()"
   ]
  },
  {
   "cell_type": "markdown",
   "id": "c7326297-3c04-486f-add4-6451b3169b8b",
   "metadata": {},
   "source": [
    "## Exploratory Analysis & Visualizations\n",
    "\n",
    "### Columns we'll analyze:\n",
    "* Budget(USD)\n",
    "* Box office(USD)\n",
    "* Running time(minutes)\n",
    "* Release dates(dt)\n",
    "* Country\n",
    "* Production company"
   ]
  },
  {
   "cell_type": "code",
   "execution_count": 8,
   "id": "45e8e6ab-8362-4164-ae63-2aafa3c3e857",
   "metadata": {},
   "outputs": [],
   "source": [
    "df['title'] = df['title'].astype('str')\n",
    "\n",
    "df['Country'] = df['Country'].astype('category')\n",
    "df['Production company'] = df['Production company'].astype('category')\n",
    "\n",
    "df['Release dates(dt)'] = pd.to_datetime(df['Release dates(dt)'])"
   ]
  },
  {
   "cell_type": "markdown",
   "id": "dde3e5b1-be53-49a0-8cc7-fea87eaea70a",
   "metadata": {},
   "source": [
    "### Budget (USD)"
   ]
  },
  {
   "cell_type": "code",
   "execution_count": 9,
   "id": "9ed513c7-4585-48b5-8d34-f13528e811dc",
   "metadata": {},
   "outputs": [
    {
     "data": {
      "text/plain": [
       "<AxesSubplot:xlabel='Budget(USD)'>"
      ]
     },
     "execution_count": 9,
     "metadata": {},
     "output_type": "execute_result"
    },
    {
     "data": {
      "image/png": "[encoded data removed]",
      "text/plain": [
       "<Figure size 432x288 with 1 Axes>"
      ]
     },
     "metadata": {
      "needs_background": "light"
     },
     "output_type": "display_data"
    }
   ],
   "source": [
    "import seaborn as sns\n",
    "\n",
    "budget = df['Budget(USD)']\n",
    "sns.boxplot(x=budget)"
   ]
  },
  {
   "cell_type": "markdown",
   "id": "84a41fd9-ae48-4300-a207-87a33da77f13",
   "metadata": {},
   "source": [
    "### Box Office (USD)"
   ]
  },
  {
   "cell_type": "code",
   "execution_count": 10,
   "id": "7f2bff46-e842-427d-81ff-02297113399f",
   "metadata": {},
   "outputs": [
    {
     "data": {
      "text/plain": [
       "<AxesSubplot:xlabel='Box office(USD)'>"
      ]
     },
     "execution_count": 10,
     "metadata": {},
     "output_type": "execute_result"
    },
    {
     "data": {
      "image/png": "[encoded data removed]",
      "text/plain": [
       "<Figure size 432x288 with 1 Axes>"
      ]
     },
     "metadata": {
      "needs_background": "light"
     },
     "output_type": "display_data"
    }
   ],
   "source": [
    "box_office = df['Box office(USD)']\n",
    "sns.boxplot(x=box_office)"
   ]
  },
  {
   "cell_type": "markdown",
   "id": "a5b49013-572c-446e-bd0b-47ceea59e82a",
   "metadata": {},
   "source": [
    "### Running Time (minutes)"
   ]
  },
  {
   "cell_type": "code",
   "execution_count": 11,
   "id": "b6df6821-3e9f-4f9b-90e7-59c49833f2a0",
   "metadata": {},
   "outputs": [
    {
     "data": {
      "text/plain": [
       "<AxesSubplot:xlabel='Running time(minutes)'>"
      ]
     },
     "execution_count": 11,
     "metadata": {},
     "output_type": "execute_result"
    },
    {
     "data": {
      "image/png": "[encoded data removed]",
      "text/plain": [
       "<Figure size 432x288 with 1 Axes>"
      ]
     },
     "metadata": {
      "needs_background": "light"
     },
     "output_type": "display_data"
    }
   ],
   "source": [
    "running_time = df['Running time(minutes)']\n",
    "sns.boxplot(x=running_time)"
   ]
  },
  {
   "cell_type": "markdown",
   "id": "d7cc4562-0666-439b-8635-7a70980bd3f2",
   "metadata": {},
   "source": [
    "### Release Date"
   ]
  },
  {
   "cell_type": "code",
   "execution_count": 12,
   "id": "c89c07dc-bd1d-40fb-aa9f-4654cd900cda",
   "metadata": {},
   "outputs": [],
   "source": [
    "import numpy as np\n",
    "import matplotlib\n",
    "import matplotlib.pyplot as plt\n",
    "\n",
    "def time_series_plot(df):\n",
    "    \"\"\"Given dataframe, generate times series plot of numeric data by daily, monthly and yearly frequency\"\"\"\n",
    "    print(\"\\nTo check time series of numeric data  by daily, monthly and yearly frequency\")\n",
    "    if len(df.select_dtypes(include='datetime64').columns)>0:\n",
    "        for p in ['D', 'M', 'Y']:\n",
    "            if p=='D':\n",
    "                print(\"Plotting daily data\")\n",
    "            elif p=='M':\n",
    "                print(\"Plotting monthly data\")\n",
    "            else:\n",
    "                print(\"Plotting yearly data\")\n",
    "            for col_num in df.select_dtypes(include=np.number).columns: #select 'Running time(minutes)', 'Budget(USD)', 'Box office(USD)'\n",
    "                #if col_num == 'Running time(minutes)':\n",
    "                __ = df.copy()\n",
    "                __ = __.set_index(['Release dates(dt)'])\n",
    "                __T = __.resample(p).sum()\n",
    "                ax = __T[[col_num]].plot()\n",
    "                ax.set_ylim(bottom=0)\n",
    "                ax.get_yaxis().set_major_formatter(\n",
    "                matplotlib.ticker.FuncFormatter(lambda x, p: format(int(x), ',')))\n",
    "                plt.show()"
   ]
  },
  {
   "cell_type": "code",
   "execution_count": 13,
   "id": "24ab1add-7538-4246-80fc-e0ad0bf24064",
   "metadata": {},
   "outputs": [
    {
     "data": {
      "text/plain": [
       "Index(['Running time(minutes)', 'Budget(USD)', 'Box office(USD)'], dtype='object')"
      ]
     },
     "execution_count": 13,
     "metadata": {},
     "output_type": "execute_result"
    }
   ],
   "source": [
    "df.select_dtypes(include=np.number).columns"
   ]
  },
  {
   "cell_type": "code",
   "execution_count": 14,
   "id": "25bb634c-696a-4d11-9eb1-69c506d1ecf8",
   "metadata": {},
   "outputs": [
    {
     "data": {
      "text/plain": [
       "<AxesSubplot:xlabel='Release dates(dt)'>"
      ]
     },
     "execution_count": 14,
     "metadata": {},
     "output_type": "execute_result"
    },
    {
     "data": {
      "image/png": "[encoded data removed]",
      "text/plain": [
       "<Figure size 432x288 with 1 Axes>"
      ]
     },
     "metadata": {
      "needs_background": "light"
     },
     "output_type": "display_data"
    }
   ],
   "source": [
    "df.set_index(['Release dates(dt)']).resample('D').sum()['Budget(USD)'].plot()"
   ]
  },
  {
   "cell_type": "code",
   "execution_count": 15,
   "id": "3d64540a-194c-49bb-bd72-ebd9ebd98aa8",
   "metadata": {},
   "outputs": [
    {
     "data": {
      "text/plain": [
       "title                                                                Rocky\n",
       "Directed by                                               John G. Avildsen\n",
       "Written by                                              Sylvester Stallone\n",
       "Screenplay by                                                          NaN\n",
       "Based on                                                               NaN\n",
       "Produced by                           ['Irwin Winkler', 'Robert Chartoff']\n",
       "Starring                 ['Sylvester Stallone', 'Talia Shire', 'Burt Yo...\n",
       "Cinematography                                                 James Crabe\n",
       "Edited by                               ['Richard Halsey', 'Scott Conrad']\n",
       "Distributed by                                              United Artists\n",
       "Country                                                      United States\n",
       "Language                                                           English\n",
       "Production company                            Chartoff-Winkler Productions\n",
       "Release date                                                           NaN\n",
       "Story by                                                               NaN\n",
       "Music by                                                        Bill Conti\n",
       "Languages                                                              NaN\n",
       "Production companies                                                   NaN\n",
       "Countries                                                              NaN\n",
       "Running time(minutes)                                                119.0\n",
       "Budget(USD)                                                       960000.0\n",
       "Box office(USD)                                                225000000.0\n",
       "Name: 1976-11-21 00:00:00, dtype: object"
      ]
     },
     "execution_count": 15,
     "metadata": {},
     "output_type": "execute_result"
    }
   ],
   "source": [
    "df.set_index(['Release dates(dt)']).loc['1976-11-21']"
   ]
  },
  {
   "cell_type": "code",
   "execution_count": 16,
   "id": "9a1513a3-426a-4a5b-bc26-71dd378ef444",
   "metadata": {},
   "outputs": [
    {
     "data": {
      "text/plain": [
       "Index(['Release dates(dt)'], dtype='object')"
      ]
     },
     "execution_count": 16,
     "metadata": {},
     "output_type": "execute_result"
    }
   ],
   "source": [
    "df.select_dtypes(include='datetime64').columns"
   ]
  },
  {
   "cell_type": "code",
   "execution_count": 17,
   "id": "49443ef0-8564-4d9c-b8f1-42cf48d7d067",
   "metadata": {
    "collapsed": true,
    "jupyter": {
     "outputs_hidden": true
    },
    "tags": []
   },
   "outputs": [
    {
     "data": {
      "text/html": [
       "<div>\n",
       "<style scoped>\n",
       "    .dataframe tbody tr th:only-of-type {\n",
       "        vertical-align: middle;\n",
       "    }\n",
       "\n",
       "    .dataframe tbody tr th {\n",
       "        vertical-align: top;\n",
       "    }\n",
       "\n",
       "    .dataframe thead th {\n",
       "        text-align: right;\n",
       "    }\n",
       "</style>\n",
       "<table border=\"1\" class=\"dataframe\">\n",
       "  <thead>\n",
       "    <tr style=\"text-align: right;\">\n",
       "      <th></th>\n",
       "      <th>title</th>\n",
       "      <th>Directed by</th>\n",
       "      <th>Written by</th>\n",
       "      <th>Screenplay by</th>\n",
       "      <th>Based on</th>\n",
       "      <th>Produced by</th>\n",
       "      <th>Starring</th>\n",
       "      <th>Cinematography</th>\n",
       "      <th>Edited by</th>\n",
       "      <th>Distributed by</th>\n",
       "      <th>Country</th>\n",
       "      <th>Language</th>\n",
       "      <th>Production company</th>\n",
       "      <th>Release date</th>\n",
       "      <th>Story by</th>\n",
       "      <th>Music by</th>\n",
       "      <th>Languages</th>\n",
       "      <th>Production companies</th>\n",
       "      <th>Countries</th>\n",
       "      <th>Running time(minutes)</th>\n",
       "      <th>Budget(USD)</th>\n",
       "      <th>Box office(USD)</th>\n",
       "      <th>Release dates(dt)</th>\n",
       "    </tr>\n",
       "  </thead>\n",
       "  <tbody>\n",
       "    <tr>\n",
       "      <th>465</th>\n",
       "      <td>Avatar</td>\n",
       "      <td>James Cameron</td>\n",
       "      <td>James Cameron</td>\n",
       "      <td>NaN</td>\n",
       "      <td>NaN</td>\n",
       "      <td>['James Cameron', 'Jon Landau']</td>\n",
       "      <td>['Sam Worthington', 'Zoe Saldana', 'Stephen La...</td>\n",
       "      <td>Mauro Fiore</td>\n",
       "      <td>['Stephen Rivkin', 'John Refoua', 'James Camer...</td>\n",
       "      <td>20th Century Fox</td>\n",
       "      <td>United States</td>\n",
       "      <td>English</td>\n",
       "      <td>NaN</td>\n",
       "      <td>NaN</td>\n",
       "      <td>NaN</td>\n",
       "      <td>James Horner</td>\n",
       "      <td>NaN</td>\n",
       "      <td>['20th Century Fox', 'Lightstorm Entertainment...</td>\n",
       "      <td>NaN</td>\n",
       "      <td>162.0</td>\n",
       "      <td>237000000.0</td>\n",
       "      <td>2.847000e+09</td>\n",
       "      <td>2009-12-10</td>\n",
       "    </tr>\n",
       "    <tr>\n",
       "      <th>404</th>\n",
       "      <td>Titanic</td>\n",
       "      <td>James Cameron</td>\n",
       "      <td>James Cameron</td>\n",
       "      <td>NaN</td>\n",
       "      <td>NaN</td>\n",
       "      <td>['James Cameron', 'Jon Landau']</td>\n",
       "      <td>['Leonardo DiCaprio', 'Kate Winslet', 'Billy Z...</td>\n",
       "      <td>Russell Carpenter</td>\n",
       "      <td>['Conrad Buff', 'James Cameron', 'Richard A. H...</td>\n",
       "      <td>['Paramount Pictures(North America)', '20th Ce...</td>\n",
       "      <td>United States</td>\n",
       "      <td>English</td>\n",
       "      <td>NaN</td>\n",
       "      <td>NaN</td>\n",
       "      <td>NaN</td>\n",
       "      <td>James Horner</td>\n",
       "      <td>NaN</td>\n",
       "      <td>['Paramount Pictures', '20th Century Fox', 'Li...</td>\n",
       "      <td>NaN</td>\n",
       "      <td>195.0</td>\n",
       "      <td>200000000.0</td>\n",
       "      <td>2.202000e+09</td>\n",
       "      <td>1997-11-01</td>\n",
       "    </tr>\n",
       "    <tr>\n",
       "      <th>481</th>\n",
       "      <td>Toy Story 3</td>\n",
       "      <td>Lee Unkrich</td>\n",
       "      <td>NaN</td>\n",
       "      <td>Michael Arndt</td>\n",
       "      <td>NaN</td>\n",
       "      <td>Darla K. Anderson</td>\n",
       "      <td>['Tom Hanks', 'Tim Allen', 'Joan Cusack', 'Don...</td>\n",
       "      <td>['Jeremy Lasky', 'Kim White']</td>\n",
       "      <td>Ken Schretzmann</td>\n",
       "      <td>['Walt Disney Studios', 'Motion Pictures']</td>\n",
       "      <td>United States</td>\n",
       "      <td>English</td>\n",
       "      <td>NaN</td>\n",
       "      <td>NaN</td>\n",
       "      <td>['John Lasseter', 'Andrew Stanton', 'Lee Unkri...</td>\n",
       "      <td>Randy Newman</td>\n",
       "      <td>NaN</td>\n",
       "      <td>['Walt Disney Pictures', 'Pixar Animation Stud...</td>\n",
       "      <td>NaN</td>\n",
       "      <td>103.0</td>\n",
       "      <td>200000000.0</td>\n",
       "      <td>1.067000e+09</td>\n",
       "      <td>2010-06-12</td>\n",
       "    </tr>\n",
       "    <tr>\n",
       "      <th>546</th>\n",
       "      <td>Black Panther</td>\n",
       "      <td>Ryan Coogler</td>\n",
       "      <td>['Ryan Coogler', 'Joe Robert Cole']</td>\n",
       "      <td>NaN</td>\n",
       "      <td>['Stan Lee', 'Jack Kirby']</td>\n",
       "      <td>Kevin Feige</td>\n",
       "      <td>['Chadwick Boseman', 'Michael B. Jordan', \"Lup...</td>\n",
       "      <td>Rachel Morrison</td>\n",
       "      <td>['Michael P. Shawver', 'Debbie Berman']</td>\n",
       "      <td>['Walt Disney Studios', 'Motion Pictures']</td>\n",
       "      <td>United States</td>\n",
       "      <td>English</td>\n",
       "      <td>Marvel Studios</td>\n",
       "      <td>NaN</td>\n",
       "      <td>NaN</td>\n",
       "      <td>Ludwig Göransson</td>\n",
       "      <td>NaN</td>\n",
       "      <td>NaN</td>\n",
       "      <td>NaN</td>\n",
       "      <td>134.0</td>\n",
       "      <td>200000000.0</td>\n",
       "      <td>1.348000e+09</td>\n",
       "      <td>2018-01-29</td>\n",
       "    </tr>\n",
       "    <tr>\n",
       "      <th>472</th>\n",
       "      <td>Up</td>\n",
       "      <td>Pete Docter</td>\n",
       "      <td>NaN</td>\n",
       "      <td>['Bob Peterson', 'Pete Docter']</td>\n",
       "      <td>NaN</td>\n",
       "      <td>Jonas Rivera</td>\n",
       "      <td>['Ed Asner', 'Christopher Plummer', 'Jordan Na...</td>\n",
       "      <td>['Patrick Lin', 'Jean-Claudie Kalache']</td>\n",
       "      <td>Kevin Nolting</td>\n",
       "      <td>['Walt Disney Studios', 'Motion Pictures']</td>\n",
       "      <td>United States</td>\n",
       "      <td>English</td>\n",
       "      <td>NaN</td>\n",
       "      <td>NaN</td>\n",
       "      <td>['Pete Docter', 'Bob Peterson', 'Tom McCarthy']</td>\n",
       "      <td>Michael Giacchino</td>\n",
       "      <td>NaN</td>\n",
       "      <td>['Walt Disney Pictures', 'Pixar Animation Stud...</td>\n",
       "      <td>NaN</td>\n",
       "      <td>96.0</td>\n",
       "      <td>175000000.0</td>\n",
       "      <td>7.351000e+08</td>\n",
       "      <td>2009-05-13</td>\n",
       "    </tr>\n",
       "    <tr>\n",
       "      <th>...</th>\n",
       "      <td>...</td>\n",
       "      <td>...</td>\n",
       "      <td>...</td>\n",
       "      <td>...</td>\n",
       "      <td>...</td>\n",
       "      <td>...</td>\n",
       "      <td>...</td>\n",
       "      <td>...</td>\n",
       "      <td>...</td>\n",
       "      <td>...</td>\n",
       "      <td>...</td>\n",
       "      <td>...</td>\n",
       "      <td>...</td>\n",
       "      <td>...</td>\n",
       "      <td>...</td>\n",
       "      <td>...</td>\n",
       "      <td>...</td>\n",
       "      <td>...</td>\n",
       "      <td>...</td>\n",
       "      <td>...</td>\n",
       "      <td>...</td>\n",
       "      <td>...</td>\n",
       "      <td>...</td>\n",
       "    </tr>\n",
       "    <tr>\n",
       "      <th>308</th>\n",
       "      <td>The Turning Point</td>\n",
       "      <td>Herbert Ross</td>\n",
       "      <td>Arthur Laurents</td>\n",
       "      <td>NaN</td>\n",
       "      <td>NaN</td>\n",
       "      <td>['Arthur Laurents', 'Herbert Ross', 'Nora Kaye']</td>\n",
       "      <td>['Anne Bancroft', 'Shirley MacLaine', 'Tom Ske...</td>\n",
       "      <td>Robert Surtees</td>\n",
       "      <td>William H. Reynolds</td>\n",
       "      <td>20th Century Fox</td>\n",
       "      <td>United States</td>\n",
       "      <td>English</td>\n",
       "      <td>NaN</td>\n",
       "      <td>['November 14, 1977 (1977-11-14)']</td>\n",
       "      <td>NaN</td>\n",
       "      <td>NaN</td>\n",
       "      <td>NaN</td>\n",
       "      <td>NaN</td>\n",
       "      <td>NaN</td>\n",
       "      <td>119.0</td>\n",
       "      <td>NaN</td>\n",
       "      <td>3.360000e+07</td>\n",
       "      <td>NaT</td>\n",
       "    </tr>\n",
       "    <tr>\n",
       "      <th>360</th>\n",
       "      <td>The Accidental Tourist</td>\n",
       "      <td>Lawrence Kasdan</td>\n",
       "      <td>NaN</td>\n",
       "      <td>['Frank Galati', 'Lawrence Kasdan']</td>\n",
       "      <td>['The Accidental Tourist', 'by', 'Anne Tyler']</td>\n",
       "      <td>['Lawrence Kasdan', 'Charles Okun', 'Michael G...</td>\n",
       "      <td>['William Hurt', 'Kathleen Turner', 'Geena Dav...</td>\n",
       "      <td>John Bailey</td>\n",
       "      <td>Carol Littleton</td>\n",
       "      <td>Warner Bros. Pictures</td>\n",
       "      <td>United States</td>\n",
       "      <td>English</td>\n",
       "      <td>NaN</td>\n",
       "      <td>['December 23, 1988 (1988-12-23)']</td>\n",
       "      <td>NaN</td>\n",
       "      <td>John Williams</td>\n",
       "      <td>NaN</td>\n",
       "      <td>NaN</td>\n",
       "      <td>NaN</td>\n",
       "      <td>121.0</td>\n",
       "      <td>NaN</td>\n",
       "      <td>3.260000e+07</td>\n",
       "      <td>NaT</td>\n",
       "    </tr>\n",
       "    <tr>\n",
       "      <th>553</th>\n",
       "      <td>Parasite</td>\n",
       "      <td>Bong Joon-ho</td>\n",
       "      <td>NaN</td>\n",
       "      <td>['Bong Joon-ho', 'Han Jin-won']</td>\n",
       "      <td>NaN</td>\n",
       "      <td>['Kwak Sin-ae', 'Moon Yang-kwon', 'Bong Joon-h...</td>\n",
       "      <td>['Song Kang-ho', 'Lee Sun-kyun', 'Cho Yeo-jeon...</td>\n",
       "      <td>Hong Kyung-pyo</td>\n",
       "      <td>Yang Jin-mo</td>\n",
       "      <td>CJ Entertainment</td>\n",
       "      <td>South Korea</td>\n",
       "      <td>Korean</td>\n",
       "      <td>Barunson E&amp;A</td>\n",
       "      <td>NaN</td>\n",
       "      <td>Bong Joon-ho</td>\n",
       "      <td>Jung Jae-il</td>\n",
       "      <td>NaN</td>\n",
       "      <td>NaN</td>\n",
       "      <td>NaN</td>\n",
       "      <td>132.0</td>\n",
       "      <td>NaN</td>\n",
       "      <td>2.631000e+08</td>\n",
       "      <td>2019-05-21</td>\n",
       "    </tr>\n",
       "    <tr>\n",
       "      <th>571</th>\n",
       "      <td>Belfast</td>\n",
       "      <td>Kenneth Branagh</td>\n",
       "      <td>Kenneth Branagh</td>\n",
       "      <td>NaN</td>\n",
       "      <td>NaN</td>\n",
       "      <td>['Laura Berwick', 'Kenneth Branagh', 'Becca Ko...</td>\n",
       "      <td>['Caitríona Balfe', 'Judi Dench', 'Jamie Dorna...</td>\n",
       "      <td>Haris Zambarloukos</td>\n",
       "      <td>Úna Ní Dhonghaíle</td>\n",
       "      <td>['Focus Features', '(United States)', 'Univers...</td>\n",
       "      <td>United Kingdom</td>\n",
       "      <td>English</td>\n",
       "      <td>NaN</td>\n",
       "      <td>NaN</td>\n",
       "      <td>NaN</td>\n",
       "      <td>Van Morrison</td>\n",
       "      <td>NaN</td>\n",
       "      <td>['Northern Ireland Screen', 'TKBC']</td>\n",
       "      <td>NaN</td>\n",
       "      <td>97.0</td>\n",
       "      <td>NaN</td>\n",
       "      <td>4.910000e+07</td>\n",
       "      <td>2021-09-02</td>\n",
       "    </tr>\n",
       "    <tr>\n",
       "      <th>573</th>\n",
       "      <td>Drive My Car</td>\n",
       "      <td>Ryusuke Hamaguchi</td>\n",
       "      <td>NaN</td>\n",
       "      <td>['Ryusuke Hamaguchi', 'Takamasa Oe']</td>\n",
       "      <td>['\"', 'Drive My Car', '\"', 'by', 'Haruki Murak...</td>\n",
       "      <td>['Teruhisa Yamamoto']</td>\n",
       "      <td>['Hidetoshi Nishijima', 'Tōko Miura', 'Reika K...</td>\n",
       "      <td>Hidetoshi Shinomiya</td>\n",
       "      <td>Azusa Yamazaki</td>\n",
       "      <td>Bitters End (Japan)</td>\n",
       "      <td>Japan</td>\n",
       "      <td>Japanese</td>\n",
       "      <td>NaN</td>\n",
       "      <td>NaN</td>\n",
       "      <td>NaN</td>\n",
       "      <td>Eiko Ishibashi</td>\n",
       "      <td>NaN</td>\n",
       "      <td>['C&amp;I Entertainment', 'Culture Entertainment',...</td>\n",
       "      <td>NaN</td>\n",
       "      <td>179.0</td>\n",
       "      <td>NaN</td>\n",
       "      <td>1.520000e+07</td>\n",
       "      <td>2021-07-11</td>\n",
       "    </tr>\n",
       "  </tbody>\n",
       "</table>\n",
       "<p>580 rows × 23 columns</p>\n",
       "</div>"
      ],
      "text/plain": [
       "                      title        Directed by  \\\n",
       "465                  Avatar      James Cameron   \n",
       "404                 Titanic      James Cameron   \n",
       "481             Toy Story 3        Lee Unkrich   \n",
       "546           Black Panther       Ryan Coogler   \n",
       "472                      Up        Pete Docter   \n",
       "..                      ...                ...   \n",
       "308       The Turning Point       Herbert Ross   \n",
       "360  The Accidental Tourist    Lawrence Kasdan   \n",
       "553                Parasite       Bong Joon-ho   \n",
       "571                 Belfast    Kenneth Branagh   \n",
       "573            Drive My Car  Ryusuke Hamaguchi   \n",
       "\n",
       "                              Written by  \\\n",
       "465                        James Cameron   \n",
       "404                        James Cameron   \n",
       "481                                  NaN   \n",
       "546  ['Ryan Coogler', 'Joe Robert Cole']   \n",
       "472                                  NaN   \n",
       "..                                   ...   \n",
       "308                      Arthur Laurents   \n",
       "360                                  NaN   \n",
       "553                                  NaN   \n",
       "571                      Kenneth Branagh   \n",
       "573                                  NaN   \n",
       "\n",
       "                            Screenplay by  \\\n",
       "465                                   NaN   \n",
       "404                                   NaN   \n",
       "481                         Michael Arndt   \n",
       "546                                   NaN   \n",
       "472       ['Bob Peterson', 'Pete Docter']   \n",
       "..                                    ...   \n",
       "308                                   NaN   \n",
       "360   ['Frank Galati', 'Lawrence Kasdan']   \n",
       "553       ['Bong Joon-ho', 'Han Jin-won']   \n",
       "571                                   NaN   \n",
       "573  ['Ryusuke Hamaguchi', 'Takamasa Oe']   \n",
       "\n",
       "                                              Based on  \\\n",
       "465                                                NaN   \n",
       "404                                                NaN   \n",
       "481                                                NaN   \n",
       "546                         ['Stan Lee', 'Jack Kirby']   \n",
       "472                                                NaN   \n",
       "..                                                 ...   \n",
       "308                                                NaN   \n",
       "360     ['The Accidental Tourist', 'by', 'Anne Tyler']   \n",
       "553                                                NaN   \n",
       "571                                                NaN   \n",
       "573  ['\"', 'Drive My Car', '\"', 'by', 'Haruki Murak...   \n",
       "\n",
       "                                           Produced by  \\\n",
       "465                    ['James Cameron', 'Jon Landau']   \n",
       "404                    ['James Cameron', 'Jon Landau']   \n",
       "481                                  Darla K. Anderson   \n",
       "546                                        Kevin Feige   \n",
       "472                                       Jonas Rivera   \n",
       "..                                                 ...   \n",
       "308   ['Arthur Laurents', 'Herbert Ross', 'Nora Kaye']   \n",
       "360  ['Lawrence Kasdan', 'Charles Okun', 'Michael G...   \n",
       "553  ['Kwak Sin-ae', 'Moon Yang-kwon', 'Bong Joon-h...   \n",
       "571  ['Laura Berwick', 'Kenneth Branagh', 'Becca Ko...   \n",
       "573                              ['Teruhisa Yamamoto']   \n",
       "\n",
       "                                              Starring  \\\n",
       "465  ['Sam Worthington', 'Zoe Saldana', 'Stephen La...   \n",
       "404  ['Leonardo DiCaprio', 'Kate Winslet', 'Billy Z...   \n",
       "481  ['Tom Hanks', 'Tim Allen', 'Joan Cusack', 'Don...   \n",
       "546  ['Chadwick Boseman', 'Michael B. Jordan', \"Lup...   \n",
       "472  ['Ed Asner', 'Christopher Plummer', 'Jordan Na...   \n",
       "..                                                 ...   \n",
       "308  ['Anne Bancroft', 'Shirley MacLaine', 'Tom Ske...   \n",
       "360  ['William Hurt', 'Kathleen Turner', 'Geena Dav...   \n",
       "553  ['Song Kang-ho', 'Lee Sun-kyun', 'Cho Yeo-jeon...   \n",
       "571  ['Caitríona Balfe', 'Judi Dench', 'Jamie Dorna...   \n",
       "573  ['Hidetoshi Nishijima', 'Tōko Miura', 'Reika K...   \n",
       "\n",
       "                              Cinematography  \\\n",
       "465                              Mauro Fiore   \n",
       "404                        Russell Carpenter   \n",
       "481            ['Jeremy Lasky', 'Kim White']   \n",
       "546                          Rachel Morrison   \n",
       "472  ['Patrick Lin', 'Jean-Claudie Kalache']   \n",
       "..                                       ...   \n",
       "308                           Robert Surtees   \n",
       "360                              John Bailey   \n",
       "553                           Hong Kyung-pyo   \n",
       "571                       Haris Zambarloukos   \n",
       "573                      Hidetoshi Shinomiya   \n",
       "\n",
       "                                             Edited by  \\\n",
       "465  ['Stephen Rivkin', 'John Refoua', 'James Camer...   \n",
       "404  ['Conrad Buff', 'James Cameron', 'Richard A. H...   \n",
       "481                                    Ken Schretzmann   \n",
       "546            ['Michael P. Shawver', 'Debbie Berman']   \n",
       "472                                      Kevin Nolting   \n",
       "..                                                 ...   \n",
       "308                                William H. Reynolds   \n",
       "360                                    Carol Littleton   \n",
       "553                                        Yang Jin-mo   \n",
       "571                                  Úna Ní Dhonghaíle   \n",
       "573                                     Azusa Yamazaki   \n",
       "\n",
       "                                        Distributed by         Country  \\\n",
       "465                                   20th Century Fox   United States   \n",
       "404  ['Paramount Pictures(North America)', '20th Ce...   United States   \n",
       "481         ['Walt Disney Studios', 'Motion Pictures']   United States   \n",
       "546         ['Walt Disney Studios', 'Motion Pictures']   United States   \n",
       "472         ['Walt Disney Studios', 'Motion Pictures']   United States   \n",
       "..                                                 ...             ...   \n",
       "308                                   20th Century Fox   United States   \n",
       "360                              Warner Bros. Pictures   United States   \n",
       "553                                   CJ Entertainment     South Korea   \n",
       "571  ['Focus Features', '(United States)', 'Univers...  United Kingdom   \n",
       "573                                Bitters End (Japan)           Japan   \n",
       "\n",
       "     Language Production company                        Release date  \\\n",
       "465   English                NaN                                 NaN   \n",
       "404   English                NaN                                 NaN   \n",
       "481   English                NaN                                 NaN   \n",
       "546   English     Marvel Studios                                 NaN   \n",
       "472   English                NaN                                 NaN   \n",
       "..        ...                ...                                 ...   \n",
       "308   English                NaN  ['November 14, 1977 (1977-11-14)']   \n",
       "360   English                NaN  ['December 23, 1988 (1988-12-23)']   \n",
       "553    Korean       Barunson E&A                                 NaN   \n",
       "571   English                NaN                                 NaN   \n",
       "573  Japanese                NaN                                 NaN   \n",
       "\n",
       "                                              Story by           Music by  \\\n",
       "465                                                NaN       James Horner   \n",
       "404                                                NaN       James Horner   \n",
       "481  ['John Lasseter', 'Andrew Stanton', 'Lee Unkri...       Randy Newman   \n",
       "546                                                NaN   Ludwig Göransson   \n",
       "472    ['Pete Docter', 'Bob Peterson', 'Tom McCarthy']  Michael Giacchino   \n",
       "..                                                 ...                ...   \n",
       "308                                                NaN                NaN   \n",
       "360                                                NaN      John Williams   \n",
       "553                                       Bong Joon-ho        Jung Jae-il   \n",
       "571                                                NaN       Van Morrison   \n",
       "573                                                NaN     Eiko Ishibashi   \n",
       "\n",
       "    Languages                               Production companies Countries  \\\n",
       "465       NaN  ['20th Century Fox', 'Lightstorm Entertainment...       NaN   \n",
       "404       NaN  ['Paramount Pictures', '20th Century Fox', 'Li...       NaN   \n",
       "481       NaN  ['Walt Disney Pictures', 'Pixar Animation Stud...       NaN   \n",
       "546       NaN                                                NaN       NaN   \n",
       "472       NaN  ['Walt Disney Pictures', 'Pixar Animation Stud...       NaN   \n",
       "..        ...                                                ...       ...   \n",
       "308       NaN                                                NaN       NaN   \n",
       "360       NaN                                                NaN       NaN   \n",
       "553       NaN                                                NaN       NaN   \n",
       "571       NaN                ['Northern Ireland Screen', 'TKBC']       NaN   \n",
       "573       NaN  ['C&I Entertainment', 'Culture Entertainment',...       NaN   \n",
       "\n",
       "     Running time(minutes)  Budget(USD)  Box office(USD) Release dates(dt)  \n",
       "465                  162.0  237000000.0     2.847000e+09        2009-12-10  \n",
       "404                  195.0  200000000.0     2.202000e+09        1997-11-01  \n",
       "481                  103.0  200000000.0     1.067000e+09        2010-06-12  \n",
       "546                  134.0  200000000.0     1.348000e+09        2018-01-29  \n",
       "472                   96.0  175000000.0     7.351000e+08        2009-05-13  \n",
       "..                     ...          ...              ...               ...  \n",
       "308                  119.0          NaN     3.360000e+07               NaT  \n",
       "360                  121.0          NaN     3.260000e+07               NaT  \n",
       "553                  132.0          NaN     2.631000e+08        2019-05-21  \n",
       "571                   97.0          NaN     4.910000e+07        2021-09-02  \n",
       "573                  179.0          NaN     1.520000e+07        2021-07-11  \n",
       "\n",
       "[580 rows x 23 columns]"
      ]
     },
     "execution_count": 17,
     "metadata": {},
     "output_type": "execute_result"
    }
   ],
   "source": [
    "df.sort_values(by='Budget(USD)',ascending=False)"
   ]
  },
  {
   "cell_type": "code",
   "execution_count": 18,
   "id": "87a01da9-f764-425a-9ae7-e344af42fe04",
   "metadata": {},
   "outputs": [
    {
     "name": "stdout",
     "output_type": "stream",
     "text": [
      "\n",
      "To check time series of numeric data  by daily, monthly and yearly frequency\n",
      "Plotting daily data\n"
     ]
    },
    {
     "data": {
      "image/png": "[encoded data removed]",
      "text/plain": [
       "<Figure size 432x288 with 1 Axes>"
      ]
     },
     "metadata": {
      "needs_background": "light"
     },
     "output_type": "display_data"
    },
    {
     "data": {
      "image/png": "[encoded data removed]",
      "text/plain": [
       "<Figure size 432x288 with 1 Axes>"
      ]
     },
     "metadata": {
      "needs_background": "light"
     },
     "output_type": "display_data"
    },
    {
     "data": {
      "image/png": "[encoded data removed]",
      "text/plain": [
       "<Figure size 432x288 with 1 Axes>"
      ]
     },
     "metadata": {
      "needs_background": "light"
     },
     "output_type": "display_data"
    },
    {
     "name": "stdout",
     "output_type": "stream",
     "text": [
      "Plotting monthly data\n"
     ]
    },
    {
     "data": {
      "image/png": "[encoded data removed]",
      "text/plain": [
       "<Figure size 432x288 with 1 Axes>"
      ]
     },
     "metadata": {
      "needs_background": "light"
     },
     "output_type": "display_data"
    },
    {
     "data": {
      "image/png": "[encoded data removed]",
      "text/plain": [
       "<Figure size 432x288 with 1 Axes>"
      ]
     },
     "metadata": {
      "needs_background": "light"
     },
     "output_type": "display_data"
    },
    {
     "data": {
      "image/png": "[encoded data removed]",
      "text/plain": [
       "<Figure size 432x288 with 1 Axes>"
      ]
     },
     "metadata": {
      "needs_background": "light"
     },
     "output_type": "display_data"
    },
    {
     "name": "stdout",
     "output_type": "stream",
     "text": [
      "Plotting yearly data\n"
     ]
    },
    {
     "data": {
      "image/png": "[encoded data removed]",
      "text/plain": [
       "<Figure size 432x288 with 1 Axes>"
      ]
     },
     "metadata": {
      "needs_background": "light"
     },
     "output_type": "display_data"
    },
    {
     "data": {
      "image/png": "[encoded data removed]",
      "text/plain": [
       "<Figure size 432x288 with 1 Axes>"
      ]
     },
     "metadata": {
      "needs_background": "light"
     },
     "output_type": "display_data"
    },
    {
     "data": {
      "image/png": "[encoded data removed]",
      "text/plain": [
       "<Figure size 432x288 with 1 Axes>"
      ]
     },
     "metadata": {
      "needs_background": "light"
     },
     "output_type": "display_data"
    }
   ],
   "source": [
    "release = df['Release dates(dt)']\n",
    "time_series_plot(df)"
   ]
  },
  {
   "cell_type": "markdown",
   "id": "b9cab2cb-e726-4df5-8ce9-495782069721",
   "metadata": {},
   "source": [
    "### Country"
   ]
  },
  {
   "cell_type": "code",
   "execution_count": 19,
   "id": "01c0ef8e-cee8-4495-bf6a-62dc72b29523",
   "metadata": {},
   "outputs": [
    {
     "data": {
      "text/plain": [
       "United States         439\n",
       "United Kingdom         32\n",
       "Australia               2\n",
       "France                  2\n",
       "Sweden                  2\n",
       "Italy                   1\n",
       "Japan                   1\n",
       "South Korea             1\n",
       "['United Kingdom']      1\n",
       "Name: Country, dtype: int64"
      ]
     },
     "execution_count": 19,
     "metadata": {},
     "output_type": "execute_result"
    }
   ],
   "source": [
    "df['Country'].value_counts()"
   ]
  },
  {
   "cell_type": "code",
   "execution_count": 20,
   "id": "46d0f4ca-7447-42a6-9b8e-7fc8bfc056ee",
   "metadata": {},
   "outputs": [],
   "source": [
    "df.replace(\"['United Kingdom']\",\"United Kingdom\",inplace=True)"
   ]
  },
  {
   "cell_type": "code",
   "execution_count": 21,
   "id": "952e241a-f58e-4609-a23e-170abbebfe1f",
   "metadata": {},
   "outputs": [
    {
     "data": {
      "text/plain": [
       "United States     439\n",
       "United Kingdom     33\n",
       "Australia           2\n",
       "France              2\n",
       "Sweden              2\n",
       "Italy               1\n",
       "Japan               1\n",
       "South Korea         1\n",
       "Name: Country, dtype: int64"
      ]
     },
     "execution_count": 21,
     "metadata": {},
     "output_type": "execute_result"
    }
   ],
   "source": [
    "df['Country'].value_counts()"
   ]
  },
  {
   "cell_type": "markdown",
   "id": "20710765-7578-4415-a779-7c3dff4d2bfe",
   "metadata": {},
   "source": [
    "### Production Company"
   ]
  },
  {
   "cell_type": "code",
   "execution_count": 22,
   "id": "9260983e-c7f7-4e67-9864-0e3ee53652b3",
   "metadata": {},
   "outputs": [
    {
     "data": {
      "text/plain": [
       "Metro-Goldwyn-Mayer                               32\n",
       "Columbia Pictures                                 12\n",
       "Paramount Pictures                                11\n",
       "Warner Bros.                                       9\n",
       "RKO Radio Pictures                                 9\n",
       "Samuel Goldwyn Productions                         8\n",
       "20th Century Fox                                   6\n",
       "Warner Bros. Pictures                              5\n",
       "Horizon Pictures                                   4\n",
       "Romulus Films                                      3\n",
       "Universal Pictures                                 3\n",
       "Stanley Kramer Productions                         3\n",
       "Rainbow Productions                                2\n",
       "Mirage Enterprises                                 2\n",
       "Lucasfilm Ltd.                                     2\n",
       "Hal Wallis Productions                             2\n",
       "Selznick International Pictures                    2\n",
       "Goldcrest Films                                    2\n",
       "The Caddo Company                                  2\n",
       "The Mirisch Corporation                            2\n",
       "Svensk Filmindustri                                2\n",
       "A Jack Rollins and Charles H. Joffe Production     2\n",
       "ABC Motion Pictures                                2\n",
       "Castle Rock Entertainment                          2\n",
       "Walter Wanger Productions                          2\n",
       "Twentieth Century Pictures                         2\n",
       "BBS Productions                                    2\n",
       "Name: Production company, dtype: int64"
      ]
     },
     "execution_count": 22,
     "metadata": {},
     "output_type": "execute_result"
    }
   ],
   "source": [
    "vc = df['Production company'].value_counts()\n",
    "vc[vc>1]"
   ]
  },
  {
   "cell_type": "markdown",
   "id": "57a62d0e-07a4-423c-85e2-7406853f14cd",
   "metadata": {},
   "source": [
    "## Summary & Conclusion"
   ]
  },
  {
   "cell_type": "markdown",
   "id": "d82aa218-7098-4816-84db-59837896fc5f",
   "metadata": {},
   "source": [
    "### Insights:\n",
    "* \n",
    "* \n",
    "* \n",
    "* \n",
    "* "
   ]
  }
 ],
 "metadata": {
  "kernelspec": {
   "display_name": "Python 3 (ipykernel)",
   "language": "python",
   "name": "python3"
  },
  "language_info": {
   "codemirror_mode": {
    "name": "ipython",
    "version": 3
   },
   "file_extension": ".py",
   "mimetype": "text/x-python",
   "name": "python",
   "nbconvert_exporter": "python",
   "pygments_lexer": "ipython3",
   "version": "3.10.4"
  }
 },
 "nbformat": 4,
 "nbformat_minor": 5
}
