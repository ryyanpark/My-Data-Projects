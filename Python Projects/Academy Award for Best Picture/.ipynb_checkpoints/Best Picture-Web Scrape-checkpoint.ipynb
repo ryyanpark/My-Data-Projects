{
 "cells": [
  {
   "cell_type": "markdown",
   "id": "d058e767-2414-4f85-9f10-57204deec106",
   "metadata": {},
   "source": [
    "# Every Academy Award for Best Picture Winner\n",
    "## (1927-2021)\n",
    "\n",
    "## Intro\n",
    "What makes an Academy Award Best Picture? This process involves web scraping every movie that was nominated for Best Picture from Wikipedia. Then, the data will be prepared for analysis to find any common threads between these Oscar worthy movies. Are there any quantitative or qualitative measurements that helps a movie get nominated? Let's find out!\n",
    "\n",
    "## Data\n",
    "https://en.wikipedia.org/wiki/Academy_Award_for_Best_Picture"
   ]
  },
  {
   "cell_type": "markdown",
   "id": "ed17fda7-7d71-43da-96bc-3b9bc9c7c9a5",
   "metadata": {},
   "source": [
    "## Setup"
   ]
  },
  {
   "cell_type": "markdown",
   "id": "cd00c760-8fbc-4a16-a7b4-aa9986403a32",
   "metadata": {},
   "source": [
    "##### Import Libraries"
   ]
  },
  {
   "cell_type": "code",
   "execution_count": 1,
   "id": "3b184198-5bb3-4aa4-bbff-7670901f48f4",
   "metadata": {},
   "outputs": [],
   "source": [
    "from bs4 import BeautifulSoup as bs\n",
    "import requests "
   ]
  },
  {
   "cell_type": "markdown",
   "id": "8b533622-d220-4784-8891-d14379728917",
   "metadata": {},
   "source": [
    "##### Test-Load Single Movie"
   ]
  },
  {
   "cell_type": "code",
   "execution_count": 37,
   "id": "4e251f68-def1-4841-bf01-c253af949ef7",
   "metadata": {
    "tags": []
   },
   "outputs": [
    {
     "name": "stdout",
     "output_type": "stream",
     "text": [
      "<tr>\n",
      " <th class=\"infobox-above summary\" colspan=\"2\" style=\"font-size: 125%; font-style: italic;\">\n",
      "  Parasite\n",
      " </th>\n",
      "</tr>\n",
      "\n"
     ]
    }
   ],
   "source": [
    "r = requests.get(\"https://en.wikipedia.org/wiki/Parasite_(2019_film)\")\n",
    "\n",
    "soup = bs(r.content)\n",
    "\n",
    "info_box = soup.find(class_=\"infobox vevent\")\n",
    "info_rows = info_box.find_all(\"tr\")\n",
    "print(info_rows[0].prettify())"
   ]
  },
  {
   "cell_type": "code",
   "execution_count": 41,
   "id": "51ead07e-2d47-4553-b284-40de75c35c86",
   "metadata": {
    "collapsed": true,
    "jupyter": {
     "outputs_hidden": true
    },
    "tags": []
   },
   "outputs": [
    {
     "data": {
      "text/plain": [
       "{'title': 'Parasite',\n",
       " 'Hangul': '기생충',\n",
       " 'Revised Romanization': 'Gisaengchung',\n",
       " 'McCune–Reischauer': \"Kisaengch'ung\",\n",
       " 'Directed by': 'Bong Joon-ho',\n",
       " 'Screenplay by': ['Bong Joon-ho', 'Han Jin-won'],\n",
       " 'Story by': 'Bong Joon-ho',\n",
       " 'Produced by': ['Kwak Sin-ae',\n",
       "  'Moon Yang-kwon',\n",
       "  'Bong Joon-ho',\n",
       "  'Jang Young-hwan'],\n",
       " 'Starring': ['Song Kang-ho',\n",
       "  'Lee Sun-kyun',\n",
       "  'Cho Yeo-jeong',\n",
       "  'Choi Woo-shik',\n",
       "  'Park So-dam',\n",
       "  'Lee Jung-eun',\n",
       "  'Jang Hye-jin'],\n",
       " 'Cinematography': 'Hong Kyung-pyo',\n",
       " 'Edited by': 'Yang Jin-mo',\n",
       " 'Music by': 'Jung Jae-il',\n",
       " 'Production company': 'Barunson E&A',\n",
       " 'Distributed by': 'CJ Entertainment',\n",
       " 'Release dates': ['21 May 2019 (2019-05-21) (Cannes)',\n",
       "  '30 May 2019 (2019-05-30) (South Korea)'],\n",
       " 'Running time': '132 minutes',\n",
       " 'Country': 'South Korea',\n",
       " 'Language': 'Korean',\n",
       " 'Budget': ['₩17.0 billion', '(~', '$15.5 million', ')'],\n",
       " 'Box office': '$263.1 million'}"
      ]
     },
     "execution_count": 41,
     "metadata": {},
     "output_type": "execute_result"
    }
   ],
   "source": [
    "def get_content_value(row_data):\n",
    "    if row_data.find(\"li\"):\n",
    "        return [li.get_text().replace(\"\\xa0\",\" \") for li in row_data.find_all(\"li\")]\n",
    "    elif row_data.find(\"br\"):\n",
    "        return [text for text in row_data.stripped_strings]\n",
    "    else:\n",
    "        return row_data.get_text().replace(\"\\xa0\",\" \")\n",
    "\n",
    "def clean_tags(soup):\n",
    "    for tag in soup.find_all(\"sup\"):\n",
    "        tag.decompose()\n",
    "    \n",
    "def get_movie_info(url):\n",
    "    r = requests.get(url)\n",
    "    soup = bs(r.content)\n",
    "    info_box = soup.find(class_=\"infobox vevent\")\n",
    "    info_rows = info_box.find_all(\"tr\")\n",
    "    \n",
    "    clean_tags(info_box)\n",
    "    \n",
    "    movie_info = {}\n",
    "    for index,row in enumerate(info_rows):\n",
    "        if index == 0:\n",
    "            title = row.find(\"th\").get_text(\" \",strip=True)\n",
    "            movie_info['title'] = title\n",
    "        elif index == 1:\n",
    "            continue\n",
    "        else:\n",
    "            try:\n",
    "                content_key = row.find(\"th\").get_text(\" \",strip=True)\n",
    "                content_value = get_content_value(row.find(\"td\"))\n",
    "                movie_info[content_key] = content_value\n",
    "            except:\n",
    "                continue\n",
    "    return movie_info\n",
    "                \n",
    "get_movie_info(\"https://en.wikipedia.org/wiki/Parasite_(2019_film)\")"
   ]
  },
  {
   "cell_type": "markdown",
   "id": "c571360b-0b63-41b6-9b4a-0215ab8849f2",
   "metadata": {},
   "source": [
    "Find All Movies"
   ]
  },
  {
   "cell_type": "code",
   "execution_count": 59,
   "id": "a8fb8623-950e-406c-a3ee-e216d1113989",
   "metadata": {},
   "outputs": [
    {
     "name": "stdout",
     "output_type": "stream",
     "text": [
      "0\n",
      "10\n",
      "20\n",
      "30\n",
      "40\n",
      "50\n",
      "60\n",
      "70\n",
      "80\n",
      "90\n",
      "100\n",
      "110\n",
      "120\n",
      "130\n",
      "140\n",
      "150\n",
      "160\n",
      "170\n",
      "180\n",
      "190\n",
      "200\n",
      "210\n",
      "220\n",
      "230\n",
      "240\n",
      "250\n",
      "260\n",
      "270\n",
      "280\n",
      "290\n",
      "300\n",
      "310\n",
      "320\n",
      "330\n",
      "340\n",
      "350\n",
      "360\n",
      "370\n",
      "380\n",
      "390\n",
      "400\n",
      "410\n",
      "420\n",
      "430\n",
      "440\n",
      "450\n",
      "460\n",
      "470\n",
      "480\n",
      "490\n",
      "500\n",
      "510\n",
      "520\n",
      "530\n",
      "540\n",
      "550\n",
      "560\n",
      "570\n"
     ]
    }
   ],
   "source": [
    "r = requests.get(\"https://en.wikipedia.org/wiki/Academy_Award_for_Best_Picture\")\n",
    "soup = bs(r.content)\n",
    "movie_page = soup.select(\".wikitable.sortable i a\")\n",
    "\n",
    "base_path = \"http://en.wikipedia.org/\"\n",
    "\n",
    "movie_list = []\n",
    "for index,movie in enumerate(movie_page):\n",
    "    if index%10==0:\n",
    "        print(index)\n",
    "    try:\n",
    "        relative_path = movie['href']\n",
    "        full_path = base_path+relative_path\n",
    "        title = movie['title']\n",
    "        movie_list.append(get_movie_info(full_path))\n",
    "    except Exception as e:\n",
    "        print(e)\n",
    "        print(movie.get_text())"
   ]
  },
  {
   "cell_type": "code",
   "execution_count": 62,
   "id": "bdc9d59c-7e94-44c6-96f8-1b671b3dab06",
   "metadata": {},
   "outputs": [
    {
     "data": {
      "text/plain": [
       "580"
      ]
     },
     "execution_count": 62,
     "metadata": {},
     "output_type": "execute_result"
    }
   ],
   "source": [
    "len(movie_list)"
   ]
  },
  {
   "cell_type": "markdown",
   "id": "23cd4fb1-bd41-4678-98a8-16b88795fc6e",
   "metadata": {},
   "source": [
    "Save Movie List"
   ]
  },
  {
   "cell_type": "code",
   "execution_count": 60,
   "id": "a1cb0f06-d27b-4e41-b7d1-7c1952fc304a",
   "metadata": {},
   "outputs": [],
   "source": [
    "import json\n",
    "\n",
    "def save_data(title,data):\n",
    "    with open(title, 'w', encoding='utf-8') as f:\n",
    "        json.dump(data, f, ensure_ascii=False, indent=2)\n",
    "\n",
    "def load_data(title):\n",
    "    with open(title, encoding='utf-8') as f:\n",
    "        return json.load(f)"
   ]
  },
  {
   "cell_type": "code",
   "execution_count": 61,
   "id": "f450a092-0b55-418d-8a58-d5411de3a7a7",
   "metadata": {},
   "outputs": [],
   "source": [
    "save_data(\"oscars_best_picture\", movie_list)"
   ]
  }
 ],
 "metadata": {
  "kernelspec": {
   "display_name": "Python 3 (ipykernel)",
   "language": "python",
   "name": "python3"
  },
  "language_info": {
   "codemirror_mode": {
    "name": "ipython",
    "version": 3
   },
   "file_extension": ".py",
   "mimetype": "text/x-python",
   "name": "python",
   "nbconvert_exporter": "python",
   "pygments_lexer": "ipython3",
   "version": "3.10.4"
  }
 },
 "nbformat": 4,
 "nbformat_minor": 5
}
