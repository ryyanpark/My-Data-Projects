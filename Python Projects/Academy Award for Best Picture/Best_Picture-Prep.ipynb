{
 "cells": [
  {
   "cell_type": "markdown",
   "id": "0b808d41-b8dc-4fcf-b409-13a4ac6afbcc",
   "metadata": {},
   "source": [
    "# Every Academy Award for Best Picture Winner\n",
    "## (1927-2021)\n",
    "\n",
    "## Intro\n",
    "What makes an Academy Award Best Picture? This process involves web scraping every movie that was nominated for Best Picture from Wikipedia. Then, the data will be prepared for analysis to find any common threads between these Oscar worthy movies. Are there any quantitative or qualitative measurements that helps a movie get nominated? Let's find out!\n",
    "\n",
    "## Data\n",
    "https://en.wikipedia.org/wiki/Academy_Award_for_Best_Picture"
   ]
  },
  {
   "cell_type": "markdown",
   "id": "ef0dc496-8d7b-4e11-88e3-f1f28f724210",
   "metadata": {},
   "source": [
    "## Data Preparation & Cleaning"
   ]
  },
  {
   "cell_type": "markdown",
   "id": "42faa28a-29b0-4bb5-8d47-eadfade14f2c",
   "metadata": {},
   "source": [
    "### Import Data"
   ]
  },
  {
   "cell_type": "code",
   "execution_count": 1,
   "id": "52933e30-a30a-4ade-a85b-aaf47e1dce9f",
   "metadata": {
    "collapsed": true,
    "jupyter": {
     "outputs_hidden": true
    }
   },
   "outputs": [],
   "source": [
    "import json\n",
    "\n",
    "def load_data(title):\n",
    "    with open(title, encoding='utf-8') as f:\n",
    "        return json.load(f)"
   ]
  },
  {
   "cell_type": "code",
   "execution_count": 2,
   "id": "eac95e4f-e0f1-4873-8049-7d222b28be21",
   "metadata": {
    "collapsed": true,
    "jupyter": {
     "outputs_hidden": true
    }
   },
   "outputs": [],
   "source": [
    "data = load_data('Best_Picture_data.json')"
   ]
  },
  {
   "cell_type": "code",
   "execution_count": 3,
   "id": "c69e03cf-a585-4d9d-ade3-5ff192c1576e",
   "metadata": {
    "collapsed": true,
    "jupyter": {
     "outputs_hidden": true
    }
   },
   "outputs": [],
   "source": [
    "import pandas as pd\n",
    "\n",
    "df = pd.DataFrame(data)"
   ]
  },
  {
   "cell_type": "markdown",
   "id": "a81327a3-6395-4aa6-9023-8573d5380c5c",
   "metadata": {},
   "source": [
    "### Data Info"
   ]
  },
  {
   "cell_type": "code",
   "execution_count": 4,
   "id": "f40a3cbc-5157-4f5d-bea6-4d917c8eee29",
   "metadata": {
    "collapsed": true,
    "jupyter": {
     "outputs_hidden": true
    },
    "tags": []
   },
   "outputs": [
    {
     "data": {
      "text/plain": [
       "title                     580\n",
       "Directed by               580\n",
       "Written by                206\n",
       "Screenplay by             384\n",
       "Based on                  380\n",
       "Produced by               574\n",
       "Starring                  580\n",
       "Cinematography            578\n",
       "Edited by                 576\n",
       "Distributed by            579\n",
       "Release dates             287\n",
       "Running time              579\n",
       "Country                   481\n",
       "Language                  513\n",
       "Budget                    519\n",
       "Box office                551\n",
       "Production company        241\n",
       "Release date              293\n",
       "Story by                   57\n",
       "Music by                  540\n",
       "Color process              35\n",
       "Languages                  59\n",
       "Production companies      235\n",
       "Countries                  96\n",
       "Narrated by                18\n",
       "Additional dialogue by      1\n",
       "Suggested by                2\n",
       "Narration by                1\n",
       "Traditional                 1\n",
       "Simplified                  1\n",
       "Mandarin                    1\n",
       "Hangul                      1\n",
       "Revised Romanization        1\n",
       "McCune–Reischauer           1\n",
       "Japanese                    1\n",
       "Hepburn                     1\n",
       "dtype: int64"
      ]
     },
     "execution_count": 4,
     "metadata": {},
     "output_type": "execute_result"
    }
   ],
   "source": [
    "df.notna().sum()"
   ]
  },
  {
   "cell_type": "code",
   "execution_count": 5,
   "id": "c1519480-85b0-4623-b226-d5b969183b60",
   "metadata": {
    "collapsed": true,
    "jupyter": {
     "outputs_hidden": true
    },
    "tags": []
   },
   "outputs": [
    {
     "data": {
      "text/plain": [
       "Index(['title', 'Directed by', 'Written by', 'Screenplay by', 'Based on',\n",
       "       'Produced by', 'Starring', 'Cinematography', 'Edited by',\n",
       "       'Distributed by', 'Release dates', 'Running time', 'Country',\n",
       "       'Language', 'Budget', 'Box office', 'Production company',\n",
       "       'Release date', 'Story by', 'Music by', 'Languages',\n",
       "       'Production companies', 'Countries'],\n",
       "      dtype='object')"
      ]
     },
     "execution_count": 5,
     "metadata": {},
     "output_type": "execute_result"
    }
   ],
   "source": [
    "df.drop(columns=['Color process', 'Narrated by', 'Additional dialogue by', 'Suggested by', 'Narration by', 'Traditional', 'Simplified', 'Mandarin', 'Hangul', 'Revised Romanization',\n",
    "        'McCune–Reischauer', 'Japanese', 'Hepburn'],inplace=True)\n",
    "df.columns"
   ]
  },
  {
   "cell_type": "code",
   "execution_count": 6,
   "id": "aba5e619-3625-4990-8cbe-1766231d5dbe",
   "metadata": {
    "collapsed": true,
    "jupyter": {
     "outputs_hidden": true
    }
   },
   "outputs": [
    {
     "data": {
      "text/plain": [
       "(580, 23)"
      ]
     },
     "execution_count": 6,
     "metadata": {},
     "output_type": "execute_result"
    }
   ],
   "source": [
    "df.shape"
   ]
  },
  {
   "cell_type": "code",
   "execution_count": 7,
   "id": "f0608d85-40ce-4d79-a435-0a27c3869bad",
   "metadata": {
    "collapsed": true,
    "jupyter": {
     "outputs_hidden": true
    },
    "tags": []
   },
   "outputs": [
    {
     "data": {
      "text/html": [
       "<div>\n",
       "<style scoped>\n",
       "    .dataframe tbody tr th:only-of-type {\n",
       "        vertical-align: middle;\n",
       "    }\n",
       "\n",
       "    .dataframe tbody tr th {\n",
       "        vertical-align: top;\n",
       "    }\n",
       "\n",
       "    .dataframe thead th {\n",
       "        text-align: right;\n",
       "    }\n",
       "</style>\n",
       "<table border=\"1\" class=\"dataframe\">\n",
       "  <thead>\n",
       "    <tr style=\"text-align: right;\">\n",
       "      <th></th>\n",
       "      <th>title</th>\n",
       "      <th>Directed by</th>\n",
       "      <th>Written by</th>\n",
       "      <th>Screenplay by</th>\n",
       "      <th>Based on</th>\n",
       "      <th>Produced by</th>\n",
       "      <th>Starring</th>\n",
       "      <th>Cinematography</th>\n",
       "      <th>Edited by</th>\n",
       "      <th>Distributed by</th>\n",
       "      <th>Release dates</th>\n",
       "      <th>Running time</th>\n",
       "      <th>Country</th>\n",
       "      <th>Language</th>\n",
       "      <th>Budget</th>\n",
       "      <th>Box office</th>\n",
       "      <th>Production company</th>\n",
       "      <th>Release date</th>\n",
       "      <th>Story by</th>\n",
       "      <th>Music by</th>\n",
       "      <th>Languages</th>\n",
       "      <th>Production companies</th>\n",
       "      <th>Countries</th>\n",
       "    </tr>\n",
       "  </thead>\n",
       "  <tbody>\n",
       "    <tr>\n",
       "      <th>0</th>\n",
       "      <td>7th Heaven</td>\n",
       "      <td>Frank Borzage</td>\n",
       "      <td>[Harry H. Caldwell (titles), Katharine Hillike...</td>\n",
       "      <td>Benjamin Glazer</td>\n",
       "      <td>[Seventh Heaven, by Austin Strong]</td>\n",
       "      <td>William Fox</td>\n",
       "      <td>[Janet Gaynor, Charles Farrell, Ben Bard]</td>\n",
       "      <td>[Ernest Palmer, Joseph A. Valentine]</td>\n",
       "      <td>Barney Wolf</td>\n",
       "      <td>Fox Film Corporation</td>\n",
       "      <td>[May 6, 1927 (1927-05-06) (Los Angeles), May 2...</td>\n",
       "      <td>110 min</td>\n",
       "      <td>United States</td>\n",
       "      <td>Silent (English intertitles)</td>\n",
       "      <td>$1.3 million</td>\n",
       "      <td>$2.5 million</td>\n",
       "      <td>NaN</td>\n",
       "      <td>NaN</td>\n",
       "      <td>NaN</td>\n",
       "      <td>NaN</td>\n",
       "      <td>NaN</td>\n",
       "      <td>NaN</td>\n",
       "      <td>NaN</td>\n",
       "    </tr>\n",
       "    <tr>\n",
       "      <th>1</th>\n",
       "      <td>The Racket</td>\n",
       "      <td>Lewis Milestone</td>\n",
       "      <td>[Bartlett Cormack, Tom Miranda, Uncredited:, H...</td>\n",
       "      <td>NaN</td>\n",
       "      <td>NaN</td>\n",
       "      <td>Howard Hughes</td>\n",
       "      <td>[Thomas Meighan, Marie Prevost, Louis Wolheim]</td>\n",
       "      <td>Tony Gaudio</td>\n",
       "      <td>Eddie Adams</td>\n",
       "      <td>Paramount Pictures</td>\n",
       "      <td>NaN</td>\n",
       "      <td>84 minutes</td>\n",
       "      <td>United States</td>\n",
       "      <td>Silent (English intertitles)</td>\n",
       "      <td>NaN</td>\n",
       "      <td>NaN</td>\n",
       "      <td>The Caddo Company</td>\n",
       "      <td>[November 1, 1928 (1928-11-01)]</td>\n",
       "      <td>NaN</td>\n",
       "      <td>NaN</td>\n",
       "      <td>NaN</td>\n",
       "      <td>NaN</td>\n",
       "      <td>NaN</td>\n",
       "    </tr>\n",
       "    <tr>\n",
       "      <th>2</th>\n",
       "      <td>The Broadway Melody</td>\n",
       "      <td>Harry Beaumont</td>\n",
       "      <td>[Sarah Y. Mason, (continuity), Norman Houston,...</td>\n",
       "      <td>NaN</td>\n",
       "      <td>NaN</td>\n",
       "      <td>[Irving Thalberg, Lawrence Weingarten]</td>\n",
       "      <td>[Charles King, Anita Page, Bessie Love]</td>\n",
       "      <td>John Arnold</td>\n",
       "      <td>[Sam S. Zimbalist, Uncredited:, William LeVanw...</td>\n",
       "      <td>Metro-Goldwyn-Mayer</td>\n",
       "      <td>[February 1, 1929 (1929-02-01) (Grauman's Chin...</td>\n",
       "      <td>100 minutes</td>\n",
       "      <td>United States</td>\n",
       "      <td>English</td>\n",
       "      <td>$379,000</td>\n",
       "      <td>$4.4 million</td>\n",
       "      <td>NaN</td>\n",
       "      <td>NaN</td>\n",
       "      <td>Edmund Goulding</td>\n",
       "      <td>(see article)</td>\n",
       "      <td>NaN</td>\n",
       "      <td>NaN</td>\n",
       "      <td>NaN</td>\n",
       "    </tr>\n",
       "    <tr>\n",
       "      <th>3</th>\n",
       "      <td>Alibi</td>\n",
       "      <td>Roland West</td>\n",
       "      <td>Elaine Sterne Carrington</td>\n",
       "      <td>NaN</td>\n",
       "      <td>[Nightstick, by, Elaine Sterne Carrington, ,, ...</td>\n",
       "      <td>Roland West</td>\n",
       "      <td>[Chester Morris, Mae Busch]</td>\n",
       "      <td>Ray June</td>\n",
       "      <td>NaN</td>\n",
       "      <td>United Artists</td>\n",
       "      <td>NaN</td>\n",
       "      <td>90 minutes</td>\n",
       "      <td>United States</td>\n",
       "      <td>English</td>\n",
       "      <td>NaN</td>\n",
       "      <td>NaN</td>\n",
       "      <td>NaN</td>\n",
       "      <td>[April 20, 1929 (1929-04-20)]</td>\n",
       "      <td>NaN</td>\n",
       "      <td>NaN</td>\n",
       "      <td>NaN</td>\n",
       "      <td>NaN</td>\n",
       "      <td>NaN</td>\n",
       "    </tr>\n",
       "    <tr>\n",
       "      <th>4</th>\n",
       "      <td>The Hollywood Revue of 1929</td>\n",
       "      <td>Charles Reisner</td>\n",
       "      <td>[Al Boasberg, Robert E. Hopkins, Joseph W. Far...</td>\n",
       "      <td>NaN</td>\n",
       "      <td>NaN</td>\n",
       "      <td>[Irving Thalberg, Harry Rapf]</td>\n",
       "      <td>[Conrad Nagel, Jack Benny]</td>\n",
       "      <td>[John Arnold, Max Fabian, Irving G. Ries, John...</td>\n",
       "      <td>[William S. Gray, Cameron K. Wood]</td>\n",
       "      <td>Metro-Goldwyn-Mayer</td>\n",
       "      <td>[June 20, 1929, (Los Angeles)]</td>\n",
       "      <td>[130 minutes (roadshow), 118 min (Turner libra...</td>\n",
       "      <td>United States</td>\n",
       "      <td>English</td>\n",
       "      <td>$426,000</td>\n",
       "      <td>$2,421,000 (worldwide rental)</td>\n",
       "      <td>NaN</td>\n",
       "      <td>NaN</td>\n",
       "      <td>NaN</td>\n",
       "      <td>[Gus Edwards, Arthur Freed, (\", Singin' in the...</td>\n",
       "      <td>NaN</td>\n",
       "      <td>NaN</td>\n",
       "      <td>NaN</td>\n",
       "    </tr>\n",
       "  </tbody>\n",
       "</table>\n",
       "</div>"
      ],
      "text/plain": [
       "                         title      Directed by  \\\n",
       "0                   7th Heaven    Frank Borzage   \n",
       "1                   The Racket  Lewis Milestone   \n",
       "2          The Broadway Melody   Harry Beaumont   \n",
       "3                        Alibi      Roland West   \n",
       "4  The Hollywood Revue of 1929  Charles Reisner   \n",
       "\n",
       "                                          Written by    Screenplay by  \\\n",
       "0  [Harry H. Caldwell (titles), Katharine Hillike...  Benjamin Glazer   \n",
       "1  [Bartlett Cormack, Tom Miranda, Uncredited:, H...              NaN   \n",
       "2  [Sarah Y. Mason, (continuity), Norman Houston,...              NaN   \n",
       "3                           Elaine Sterne Carrington              NaN   \n",
       "4  [Al Boasberg, Robert E. Hopkins, Joseph W. Far...              NaN   \n",
       "\n",
       "                                            Based on  \\\n",
       "0                 [Seventh Heaven, by Austin Strong]   \n",
       "1                                                NaN   \n",
       "2                                                NaN   \n",
       "3  [Nightstick, by, Elaine Sterne Carrington, ,, ...   \n",
       "4                                                NaN   \n",
       "\n",
       "                              Produced by  \\\n",
       "0                             William Fox   \n",
       "1                           Howard Hughes   \n",
       "2  [Irving Thalberg, Lawrence Weingarten]   \n",
       "3                             Roland West   \n",
       "4           [Irving Thalberg, Harry Rapf]   \n",
       "\n",
       "                                         Starring  \\\n",
       "0       [Janet Gaynor, Charles Farrell, Ben Bard]   \n",
       "1  [Thomas Meighan, Marie Prevost, Louis Wolheim]   \n",
       "2         [Charles King, Anita Page, Bessie Love]   \n",
       "3                     [Chester Morris, Mae Busch]   \n",
       "4                      [Conrad Nagel, Jack Benny]   \n",
       "\n",
       "                                      Cinematography  \\\n",
       "0               [Ernest Palmer, Joseph A. Valentine]   \n",
       "1                                        Tony Gaudio   \n",
       "2                                        John Arnold   \n",
       "3                                           Ray June   \n",
       "4  [John Arnold, Max Fabian, Irving G. Ries, John...   \n",
       "\n",
       "                                           Edited by        Distributed by  \\\n",
       "0                                        Barney Wolf  Fox Film Corporation   \n",
       "1                                        Eddie Adams    Paramount Pictures   \n",
       "2  [Sam S. Zimbalist, Uncredited:, William LeVanw...   Metro-Goldwyn-Mayer   \n",
       "3                                                NaN        United Artists   \n",
       "4                 [William S. Gray, Cameron K. Wood]   Metro-Goldwyn-Mayer   \n",
       "\n",
       "                                       Release dates  \\\n",
       "0  [May 6, 1927 (1927-05-06) (Los Angeles), May 2...   \n",
       "1                                                NaN   \n",
       "2  [February 1, 1929 (1929-02-01) (Grauman's Chin...   \n",
       "3                                                NaN   \n",
       "4                     [June 20, 1929, (Los Angeles)]   \n",
       "\n",
       "                                        Running time        Country  \\\n",
       "0                                            110 min  United States   \n",
       "1                                         84 minutes  United States   \n",
       "2                                        100 minutes  United States   \n",
       "3                                         90 minutes  United States   \n",
       "4  [130 minutes (roadshow), 118 min (Turner libra...  United States   \n",
       "\n",
       "                       Language        Budget                     Box office  \\\n",
       "0  Silent (English intertitles)  $1.3 million                   $2.5 million   \n",
       "1  Silent (English intertitles)           NaN                            NaN   \n",
       "2                       English      $379,000                   $4.4 million   \n",
       "3                       English           NaN                            NaN   \n",
       "4                       English      $426,000  $2,421,000 (worldwide rental)   \n",
       "\n",
       "  Production company                     Release date         Story by  \\\n",
       "0                NaN                              NaN              NaN   \n",
       "1  The Caddo Company  [November 1, 1928 (1928-11-01)]              NaN   \n",
       "2                NaN                              NaN  Edmund Goulding   \n",
       "3                NaN    [April 20, 1929 (1929-04-20)]              NaN   \n",
       "4                NaN                              NaN              NaN   \n",
       "\n",
       "                                            Music by Languages  \\\n",
       "0                                                NaN       NaN   \n",
       "1                                                NaN       NaN   \n",
       "2                                      (see article)       NaN   \n",
       "3                                                NaN       NaN   \n",
       "4  [Gus Edwards, Arthur Freed, (\", Singin' in the...       NaN   \n",
       "\n",
       "  Production companies Countries  \n",
       "0                  NaN       NaN  \n",
       "1                  NaN       NaN  \n",
       "2                  NaN       NaN  \n",
       "3                  NaN       NaN  \n",
       "4                  NaN       NaN  "
      ]
     },
     "execution_count": 7,
     "metadata": {},
     "output_type": "execute_result"
    }
   ],
   "source": [
    "pd.set_option('display.max_columns', 26)\n",
    "df.head()"
   ]
  },
  {
   "cell_type": "code",
   "execution_count": 8,
   "id": "314d77f0-8949-4171-a64f-71b88513e77a",
   "metadata": {
    "collapsed": true,
    "jupyter": {
     "outputs_hidden": true
    },
    "tags": []
   },
   "outputs": [
    {
     "name": "stdout",
     "output_type": "stream",
     "text": [
      "<class 'pandas.core.frame.DataFrame'>\n",
      "RangeIndex: 580 entries, 0 to 579\n",
      "Data columns (total 23 columns):\n",
      " #   Column                Non-Null Count  Dtype \n",
      "---  ------                --------------  ----- \n",
      " 0   title                 580 non-null    object\n",
      " 1   Directed by           580 non-null    object\n",
      " 2   Written by            206 non-null    object\n",
      " 3   Screenplay by         384 non-null    object\n",
      " 4   Based on              380 non-null    object\n",
      " 5   Produced by           574 non-null    object\n",
      " 6   Starring              580 non-null    object\n",
      " 7   Cinematography        578 non-null    object\n",
      " 8   Edited by             576 non-null    object\n",
      " 9   Distributed by        579 non-null    object\n",
      " 10  Release dates         287 non-null    object\n",
      " 11  Running time          579 non-null    object\n",
      " 12  Country               481 non-null    object\n",
      " 13  Language              513 non-null    object\n",
      " 14  Budget                519 non-null    object\n",
      " 15  Box office            551 non-null    object\n",
      " 16  Production company    241 non-null    object\n",
      " 17  Release date          293 non-null    object\n",
      " 18  Story by              57 non-null     object\n",
      " 19  Music by              540 non-null    object\n",
      " 20  Languages             59 non-null     object\n",
      " 21  Production companies  235 non-null    object\n",
      " 22  Countries             96 non-null     object\n",
      "dtypes: object(23)\n",
      "memory usage: 104.3+ KB\n"
     ]
    }
   ],
   "source": [
    "df.info()"
   ]
  },
  {
   "cell_type": "markdown",
   "id": "3d17f556-291b-4f55-b096-6912d5f481f6",
   "metadata": {},
   "source": [
    "### Convert 'Running Time' to Float"
   ]
  },
  {
   "cell_type": "code",
   "execution_count": 9,
   "id": "33e1ef6b-a11f-454b-ad97-390923c8731d",
   "metadata": {
    "collapsed": true,
    "jupyter": {
     "outputs_hidden": true
    },
    "tags": []
   },
   "outputs": [
    {
     "data": {
      "text/plain": [
       "title                                                                1917\n",
       "Directed by                                                    Sam Mendes\n",
       "Written by                             [Sam Mendes, Krysty Wilson-Cairns]\n",
       "Screenplay by                                                         NaN\n",
       "Based on                                                              NaN\n",
       "Produced by             [Sam Mendes, Pippa Harris, Jayne-Ann Tenggren,...\n",
       "Starring                [George MacKay, Dean-Charles Chapman, Mark Str...\n",
       "Cinematography                                              Roger Deakins\n",
       "Edited by                                                       Lee Smith\n",
       "Distributed by          [Universal Pictures (Worldwide), Entertainment...\n",
       "Release dates           [4 December 2019 (2019-12-04) (London), 25 Dec...\n",
       "Running time                                                  119 minutes\n",
       "Country                                                               NaN\n",
       "Language                                                          English\n",
       "Budget                                                    $90–100 million\n",
       "Box office                                                 $384.9 million\n",
       "Production company                                                    NaN\n",
       "Release date                                                          NaN\n",
       "Story by                                                              NaN\n",
       "Music by                                                    Thomas Newman\n",
       "Languages                                                             NaN\n",
       "Production companies    [DreamWorks Pictures, Reliance Entertainment, ...\n",
       "Countries                                 [United Kingdom, United States]\n",
       "Name: 560, dtype: object"
      ]
     },
     "execution_count": 9,
     "metadata": {},
     "output_type": "execute_result"
    }
   ],
   "source": [
    "df.iloc[-20]"
   ]
  },
  {
   "cell_type": "code",
   "execution_count": 10,
   "id": "4a74ead8-612f-40b9-aa58-e2210f7fb144",
   "metadata": {
    "collapsed": true,
    "jupyter": {
     "outputs_hidden": true
    }
   },
   "outputs": [],
   "source": [
    "def convert_running_time(run):\n",
    "    if isinstance(run,list):\n",
    "        return run[0].split(\" \")[0].replace(\",\",\"\")\n",
    "    elif isinstance(run,float):\n",
    "        return str(run).split(\" \")[0].replace(\",\",\"\")\n",
    "    elif \"–\" in run:\n",
    "        run.split(\"–\")[0].replace(\",\",\"\")\n",
    "    else:\n",
    "        return run.split(\" \")[0].replace(\",\",\"\")"
   ]
  },
  {
   "cell_type": "code",
   "execution_count": 11,
   "id": "148098fe-1f4b-4f77-bdf2-59c6062e7974",
   "metadata": {
    "collapsed": true,
    "jupyter": {
     "outputs_hidden": true
    },
    "tags": []
   },
   "outputs": [
    {
     "data": {
      "text/plain": [
       "title                                                      Mister Roberts\n",
       "Directed by             [John Ford, Mervyn LeRoy, Joshua Logan, (uncre...\n",
       "Written by                                                            NaN\n",
       "Screenplay by                             [Frank S. Nugent, Joshua Logan]\n",
       "Based on                [Mister Roberts, (1946 novel), by, Thomas Hegg...\n",
       "Produced by                                                Leland Hayward\n",
       "Starring                [Henry Fonda, James Cagney, William Powell, Ja...\n",
       "Cinematography                                             Winton C. Hoch\n",
       "Edited by                                                     Jack Murray\n",
       "Distributed by                                               Warner Bros.\n",
       "Release dates                                                         NaN\n",
       "Running time                [120,, 123,, or, 120-121, 123 or 126 minutes]\n",
       "Country                                                     United States\n",
       "Language                                                          English\n",
       "Budget                                                       $2.3 million\n",
       "Box office                                                  $21.2 million\n",
       "Production company                                                    NaN\n",
       "Release date                                 [July 30, 1955 (1955-07-30)]\n",
       "Story by                                                              NaN\n",
       "Music by                                                     Franz Waxman\n",
       "Languages                                                             NaN\n",
       "Production companies                                                  NaN\n",
       "Countries                                                             NaN\n",
       "Name: 196, dtype: object"
      ]
     },
     "execution_count": 11,
     "metadata": {},
     "output_type": "execute_result"
    }
   ],
   "source": [
    "df.iloc[196]"
   ]
  },
  {
   "cell_type": "code",
   "execution_count": 12,
   "id": "6243ef68-1158-4d0e-962d-c144138c0412",
   "metadata": {
    "collapsed": true,
    "jupyter": {
     "outputs_hidden": true
    }
   },
   "outputs": [],
   "source": [
    "df['Running time(minutes)'] = [convert_running_time(run) for run in df['Running time']]"
   ]
  },
  {
   "cell_type": "code",
   "execution_count": 13,
   "id": "5af7032c-8709-43b7-b03c-f3aabb19b2aa",
   "metadata": {
    "collapsed": true,
    "jupyter": {
     "outputs_hidden": true
    },
    "tags": []
   },
   "outputs": [
    {
     "name": "stdout",
     "output_type": "stream",
     "text": [
      "<class 'pandas.core.frame.DataFrame'>\n",
      "RangeIndex: 580 entries, 0 to 579\n",
      "Data columns (total 24 columns):\n",
      " #   Column                 Non-Null Count  Dtype  \n",
      "---  ------                 --------------  -----  \n",
      " 0   title                  580 non-null    object \n",
      " 1   Directed by            580 non-null    object \n",
      " 2   Written by             206 non-null    object \n",
      " 3   Screenplay by          384 non-null    object \n",
      " 4   Based on               380 non-null    object \n",
      " 5   Produced by            574 non-null    object \n",
      " 6   Starring               580 non-null    object \n",
      " 7   Cinematography         578 non-null    object \n",
      " 8   Edited by              576 non-null    object \n",
      " 9   Distributed by         579 non-null    object \n",
      " 10  Release dates          287 non-null    object \n",
      " 11  Running time           579 non-null    object \n",
      " 12  Country                481 non-null    object \n",
      " 13  Language               513 non-null    object \n",
      " 14  Budget                 519 non-null    object \n",
      " 15  Box office             551 non-null    object \n",
      " 16  Production company     241 non-null    object \n",
      " 17  Release date           293 non-null    object \n",
      " 18  Story by               57 non-null     object \n",
      " 19  Music by               540 non-null    object \n",
      " 20  Languages              59 non-null     object \n",
      " 21  Production companies   235 non-null    object \n",
      " 22  Countries              96 non-null     object \n",
      " 23  Running time(minutes)  578 non-null    float64\n",
      "dtypes: float64(1), object(23)\n",
      "memory usage: 108.9+ KB\n"
     ]
    }
   ],
   "source": [
    "df['Running time(minutes)'] = df['Running time(minutes)'].astype(float)\n",
    "df.info()"
   ]
  },
  {
   "cell_type": "code",
   "execution_count": 14,
   "id": "512da13b-cfef-412d-b970-d1fd23eedc2c",
   "metadata": {
    "collapsed": true,
    "jupyter": {
     "outputs_hidden": true
    },
    "tags": []
   },
   "outputs": [
    {
     "data": {
      "text/plain": [
       "223      2.0\n",
       "32      66.0\n",
       "136     75.0\n",
       "23      80.0\n",
       "46      80.0\n",
       "       ...  \n",
       "89     221.0\n",
       "229    227.0\n",
       "236    251.0\n",
       "93       NaN\n",
       "161      NaN\n",
       "Name: Running time(minutes), Length: 580, dtype: float64"
      ]
     },
     "execution_count": 14,
     "metadata": {},
     "output_type": "execute_result"
    }
   ],
   "source": [
    "df['Running time(minutes)'].sort_values()"
   ]
  },
  {
   "cell_type": "code",
   "execution_count": 15,
   "id": "e1f0d516-3d2a-42c2-b1a6-29c16636ce24",
   "metadata": {
    "collapsed": true,
    "jupyter": {
     "outputs_hidden": true
    },
    "tags": []
   },
   "outputs": [
    {
     "data": {
      "text/plain": [
       "title                                                        Hacksaw Ridge\n",
       "Directed by                                                     Mel Gibson\n",
       "Written by                                                             NaN\n",
       "Screenplay by                            [Robert Schenkkan, Andrew Knight]\n",
       "Based on                  [The Conscientious Objector, by, Terry Benedict]\n",
       "Produced by              [Bill Mechanic, David Permut, Terry Benedict, ...\n",
       "Starring                 [Andrew Garfield, Sam Worthington, Luke Bracey...\n",
       "Cinematography                                                Simon Duggan\n",
       "Edited by                                                     John Gilbert\n",
       "Distributed by           [Lionsgate (United States and United Kingdom),...\n",
       "Release dates            [September 4, 2016 (2016-09-04) (Venice), Nove...\n",
       "Running time                                                   139 minutes\n",
       "Country                                                                NaN\n",
       "Language                                                           English\n",
       "Budget                                                         $40 million\n",
       "Box office                                                  $180.5 million\n",
       "Production company                                                     NaN\n",
       "Release date                                                           NaN\n",
       "Story by                                                               NaN\n",
       "Music by                                           Rupert Gregson-Williams\n",
       "Languages                                                              NaN\n",
       "Production companies     [Summit Entertainment, Cross Creek Pictures, D...\n",
       "Countries                                       [United States, Australia]\n",
       "Running time(minutes)                                                139.0\n",
       "Name: 530, dtype: object"
      ]
     },
     "execution_count": 15,
     "metadata": {},
     "output_type": "execute_result"
    }
   ],
   "source": [
    "df.iloc[-50]"
   ]
  },
  {
   "cell_type": "markdown",
   "id": "dce6b84e-f595-4fc1-ab04-6cf40f4a54f7",
   "metadata": {},
   "source": [
    "### Convert Money to Float"
   ]
  },
  {
   "cell_type": "code",
   "execution_count": 84,
   "id": "d67a6a9f-83d3-445f-a65d-c317fa39a275",
   "metadata": {
    "tags": []
   },
   "outputs": [],
   "source": [
    "import re\n",
    "\n",
    "number = r\"\\d+(,\\d{3})*\\.*\\d*\"\n",
    "amount = \"thousand|million|billion|trillion\"\n",
    "\n",
    "word_usd = rf\"\\${number}(–|-|\\sto\\s)?({number})?\\s{amount}\"\n",
    "value_usd = rf\"\\${number}\"\n",
    "word_bpound = rf\"\\£{number}(–|-|\\sto\\s)?({number})?\\s{amount}\"\n",
    "value_bpound = rf\"\\£{number}\"\n",
    "\n",
    "def word_to_number(word):\n",
    "    word_dict = {\"thousand\":1000,\"million\":1000000,\"billion\":1000000000,\"trillion\":1000000000000}\n",
    "    return word_dict[word]\n",
    "                 \n",
    "def parse_word_syntax(string):\n",
    "    if string.count(\"$\")>1:\n",
    "        if \"–\" in string:\n",
    "            string=string.split(\"–\")[1]\n",
    "            value_string = re.search(number,string).group()        \n",
    "            value = float(value_string.replace(\",\",\"\").replace(\"$\",\"\"))\n",
    "            word_string = re.search(amount,string).group()\n",
    "            word_value = word_to_number(word_string)\n",
    "        elif \"or\" in string:\n",
    "            string=string.split(\"or\")[0].strip()\n",
    "            value_string = re.search(number,string).group()        \n",
    "            value = float(value_string.replace(\",\",\"\").replace(\"$\",\"\"))\n",
    "            try:\n",
    "                word_string = re.search(amount,string).group()\n",
    "                word_value = word_to_number(word_string)\n",
    "            except Exception as e:\n",
    "                word_value = 1\n",
    "        else:\n",
    "            string=string.split(\"(\")[0].strip()\n",
    "            value_string = re.search(number,string).group()        \n",
    "            value = float(value_string.replace(\",\",\"\").replace(\"$\",\"\"))\n",
    "            try:\n",
    "                word_string = re.search(amount,string).group()\n",
    "                word_value = word_to_number(word_string)\n",
    "            except Exception as e:\n",
    "                word_value = 1\n",
    "        return round(value*word_value,2)\n",
    "    elif \"£\" in string:\n",
    "        string=string.split(\"$\")[1]\n",
    "        value_string = re.search(number,string).group()        \n",
    "        value = float(value_string.replace(\",\",\"\").replace(\"$\",\"\"))\n",
    "        word_string = re.search(amount,string).group()\n",
    "        word_value = word_to_number(word_string)   \n",
    "        return round(value*word_value,2)\n",
    "    elif string.count(\"$\")==1:\n",
    "        value_string = re.search(number,string).group()        \n",
    "        value = float(value_string.replace(\",\",\"\").replace(\"$\",\"\"))\n",
    "        word_string = re.search(amount,string).group()\n",
    "        word_value = word_to_number(word_string)\n",
    "        return round(value*word_value,2)\n",
    "    else:\n",
    "        None\n",
    "                 \n",
    "def parse_value_syntax(string):\n",
    "    value_string = re.search(number,string).group()        \n",
    "    value = float(value_string.replace(\",\",\"\").replace(\"$\",\"\"))\n",
    "    return round(value,2)\n",
    "\n",
    "def parse_bpound_word_syntax(string):\n",
    "    value_string = re.search(number,string).group()\n",
    "    value = float(value_string.replace(\",\",\"\").replace(\"£\",\"\"))\n",
    "    word_string = re.search(amount,string).group()\n",
    "    word_value = word_to_number(word_string)\n",
    "    value_bpound = value*word_value\n",
    "    return round(value_bpound*1.16,2) #as of 9/1/22     \n",
    "                 \n",
    "def parse_bpound_value_syntax(string):\n",
    "    value_string = re.search(number,string).group()\n",
    "    value_bpound = float(value_string.replace(\",\",\"\").replace(\"£\",\"\"))\n",
    "    return round(value_bpound*1.16,2) #as of 9/1/22    \n",
    "\n",
    "def convert_money(money):\n",
    "    if isinstance(money,list):\n",
    "        money=money[0]\n",
    "    \n",
    "    money = str(money)\n",
    "    \n",
    "    if \"N/A\" in money:\n",
    "        return None\n",
    "    \n",
    "    word_syntax = re.search(word_usd,money,flags=re.I)                 \n",
    "    value_syntax = re.search(value_usd,money)\n",
    "    bpound_word_syntax = re.search(word_bpound,money,flags=re.I)\n",
    "    bpound_value_syntax = re.search(value_bpound,money)\n",
    "    \n",
    "    # if (\"$\" in money) & (\"£\" in money):\n",
    "    #     if bpound_word_syntax:\n",
    "    #         return parse_bpound_word_syntax(money)\n",
    "    #     elif bpound_value_syntax:\n",
    "    #         return parse_bpound_value_syntax(money)\n",
    "    #     else:\n",
    "    #         return None\n",
    "    if \"$\" in money:\n",
    "        if word_syntax:\n",
    "            return parse_word_syntax(money)\n",
    "        elif value_syntax:\n",
    "            return parse_value_syntax(money)\n",
    "        else:\n",
    "            return None\n",
    "    elif \"£\" in money:\n",
    "        if bpound_word_syntax:\n",
    "            return parse_bpound_word_syntax(money)\n",
    "        elif bpound_value_syntax:\n",
    "            return parse_bpound_value_syntax(money)\n",
    "        else:\n",
    "            return None\n",
    "    else:\n",
    "        return None"
   ]
  },
  {
   "cell_type": "code",
   "execution_count": 57,
   "id": "40ab1e3f-f449-4849-a3fe-91fc2440468d",
   "metadata": {
    "collapsed": true,
    "jupyter": {
     "outputs_hidden": true
    }
   },
   "outputs": [
    {
     "name": "stdout",
     "output_type": "stream",
     "text": [
      "$11,000,000 or $4.3 million (US rentals)\n",
      "$11,000,000 or $4.3 million (US rentals)!!!!!!!!!!!!!!\n"
     ]
    },
    {
     "data": {
      "text/plain": [
       "11000000.0"
      ]
     },
     "execution_count": 57,
     "metadata": {},
     "output_type": "execute_result"
    }
   ],
   "source": [
    "box = \"$11,000,000 or $4.3 million (US rentals)\"\n",
    "convert_money(box)"
   ]
  },
  {
   "cell_type": "code",
   "execution_count": 58,
   "id": "9a4e01aa-8df3-4072-894f-8f918ee02f66",
   "metadata": {
    "collapsed": true,
    "jupyter": {
     "outputs_hidden": true
    },
    "tags": []
   },
   "outputs": [
    {
     "name": "stdout",
     "output_type": "stream",
     "text": [
      "$1,200\n"
     ]
    },
    {
     "data": {
      "text/plain": [
       "1200.0"
      ]
     },
     "execution_count": 58,
     "metadata": {},
     "output_type": "execute_result"
    }
   ],
   "source": [
    "convert_money(\"$1,200\")"
   ]
  },
  {
   "cell_type": "code",
   "execution_count": 59,
   "id": "60e5867d-6b14-49fe-9e04-d55a575499a8",
   "metadata": {
    "collapsed": true,
    "jupyter": {
     "outputs_hidden": true
    }
   },
   "outputs": [
    {
     "name": "stdout",
     "output_type": "stream",
     "text": [
      "£1 million\n"
     ]
    },
    {
     "data": {
      "text/plain": [
       "1160000.0"
      ]
     },
     "execution_count": 59,
     "metadata": {},
     "output_type": "execute_result"
    }
   ],
   "source": [
    "convert_money(\"£1 million\")"
   ]
  },
  {
   "cell_type": "code",
   "execution_count": 18,
   "id": "140be027-e0ee-439c-bdfc-a18222807940",
   "metadata": {
    "collapsed": true,
    "jupyter": {
     "outputs_hidden": true
    },
    "tags": []
   },
   "outputs": [
    {
     "data": {
      "text/plain": [
       "0        $1.3 million\n",
       "1                 N/A\n",
       "2            $379,000\n",
       "3                 N/A\n",
       "4            $426,000\n",
       "            ...      \n",
       "575       $50 million\n",
       "576       $40 million\n",
       "577       $60 million\n",
       "578    $35–39 million\n",
       "579      $100 million\n",
       "Name: Budget, Length: 580, dtype: object"
      ]
     },
     "execution_count": 18,
     "metadata": {},
     "output_type": "execute_result"
    }
   ],
   "source": [
    "import numpy as np\n",
    "df['Budget'].replace(np.nan,\"N/A\")"
   ]
  },
  {
   "cell_type": "code",
   "execution_count": 85,
   "id": "b37d5570-af33-4ca5-927e-4b8296c45508",
   "metadata": {
    "tags": []
   },
   "outputs": [],
   "source": [
    "df['Budget(USD)'] = df['Budget'].apply(lambda x: convert_money(x))"
   ]
  },
  {
   "cell_type": "code",
   "execution_count": 86,
   "id": "5198c6c9-59a8-4a25-b076-e5fe4dda4d16",
   "metadata": {
    "tags": []
   },
   "outputs": [],
   "source": [
    "df['Box office(USD)'] = df['Box office'].apply(lambda x: convert_money(x))"
   ]
  },
  {
   "cell_type": "code",
   "execution_count": 63,
   "id": "1bf5eac4-8509-4329-a6e0-a836f2a949bd",
   "metadata": {
    "collapsed": true,
    "jupyter": {
     "outputs_hidden": true
    }
   },
   "outputs": [
    {
     "data": {
      "text/plain": [
       "465    237000000.0\n",
       "404    200000000.0\n",
       "481    200000000.0\n",
       "546    200000000.0\n",
       "472    175000000.0\n",
       "          ...     \n",
       "308            NaN\n",
       "360            NaN\n",
       "553            NaN\n",
       "571            NaN\n",
       "573            NaN\n",
       "Name: Budget(USD), Length: 580, dtype: float64"
      ]
     },
     "execution_count": 63,
     "metadata": {},
     "output_type": "execute_result"
    }
   ],
   "source": [
    "df['Budget(USD)'].sort_values(ascending=False)"
   ]
  },
  {
   "cell_type": "code",
   "execution_count": 64,
   "id": "48894798-4cac-4ae0-be25-f95f9493ae4b",
   "metadata": {
    "collapsed": true,
    "jupyter": {
     "outputs_hidden": true
    },
    "tags": []
   },
   "outputs": [
    {
     "data": {
      "text/plain": [
       "465    2.847000e+09\n",
       "404    2.202000e+09\n",
       "546    1.348000e+09\n",
       "434    1.146000e+09\n",
       "557    1.074000e+09\n",
       "           ...     \n",
       "116             NaN\n",
       "235             NaN\n",
       "282             NaN\n",
       "286             NaN\n",
       "301             NaN\n",
       "Name: Box office(USD), Length: 580, dtype: float64"
      ]
     },
     "execution_count": 64,
     "metadata": {},
     "output_type": "execute_result"
    }
   ],
   "source": [
    "df['Box office(USD)'].sort_values(ascending=False)"
   ]
  },
  {
   "cell_type": "code",
   "execution_count": 89,
   "id": "f1b573c7-3dc2-4d94-89b8-10e6b2d114bd",
   "metadata": {},
   "outputs": [],
   "source": [
    "compare_money_convert = df[['Budget','Budget(USD)','Box office','Box office(USD)']]\n",
    "compare_money_convert.to_csv('compare_money_conversion.csv',index=False,encoding='utf-8')"
   ]
  },
  {
   "cell_type": "markdown",
   "id": "f1524e9b-0149-4424-bcbb-be003c7009b6",
   "metadata": {},
   "source": [
    "### Convert 'Release dates' to Datetime"
   ]
  },
  {
   "cell_type": "code",
   "execution_count": 65,
   "id": "9ef2cc26-8b8f-4cdc-942e-c255da6ffa08",
   "metadata": {
    "collapsed": true,
    "jupyter": {
     "outputs_hidden": true
    },
    "tags": []
   },
   "outputs": [
    {
     "data": {
      "text/plain": [
       "0     [May 6, 1927 (1927-05-06) (Los Angeles), May 2...\n",
       "1                                                   NaN\n",
       "2     [February 1, 1929 (1929-02-01) (Grauman's Chin...\n",
       "3                                                   NaN\n",
       "4                        [June 20, 1929, (Los Angeles)]\n",
       "5     [Premiere:, December 25, 1928, (, 1928-12-25, ...\n",
       "6                                                   NaN\n",
       "7                                                   NaN\n",
       "8                                                   NaN\n",
       "9                                                   NaN\n",
       "10                                                  NaN\n",
       "11    [November 19, 1929, (New York City), January 1...\n",
       "12    [January 26, 1931 (1931-01-26) (Premiere-New Y...\n",
       "13    [February 20, 1931 (1931-02-20) (New York City...\n",
       "14                                                  NaN\n",
       "15                                                  NaN\n",
       "16                                                  NaN\n",
       "17    [April 12, 1932 (1932-04-12) (New York City, p...\n",
       "18                                                  NaN\n",
       "19                                                  NaN\n",
       "Name: Release dates, dtype: object"
      ]
     },
     "execution_count": 65,
     "metadata": {},
     "output_type": "execute_result"
    }
   ],
   "source": [
    "df['Release dates'].head(20)"
   ]
  },
  {
   "cell_type": "code",
   "execution_count": 66,
   "id": "cb6cdbf0-c1a5-4373-a87f-6aa7bf65f2bb",
   "metadata": {
    "collapsed": true,
    "jupyter": {
     "outputs_hidden": true
    },
    "tags": []
   },
   "outputs": [
    {
     "data": {
      "text/plain": [
       "Release dates    [December 1, 2021 (2021-12-01) (Alice Tully Ha...\n",
       "Name: 577, dtype: object"
      ]
     },
     "execution_count": 66,
     "metadata": {},
     "output_type": "execute_result"
    }
   ],
   "source": [
    "df.loc[577,['Release dates']]"
   ]
  },
  {
   "cell_type": "code",
   "execution_count": 67,
   "id": "aa57b0e7-2fe9-4abd-af55-a7d0dde8bfa2",
   "metadata": {
    "collapsed": true,
    "jupyter": {
     "outputs_hidden": true
    },
    "tags": []
   },
   "outputs": [],
   "source": [
    "from datetime import datetime\n",
    "\n",
    "dates = df['Release dates']\n",
    "\n",
    "def clean_date(date):\n",
    "    if isinstance(date,list):\n",
    "        if date[0] != 'Premiere:':\n",
    "            date=date[0]\n",
    "        else:\n",
    "            date=date[1]\n",
    "        \n",
    "    if isinstance(date,float): \n",
    "        return \"N/A\"\n",
    "    elif date == 'NaN':\n",
    "        return \"N/A\"\n",
    "    else:\n",
    "        date = str(date)\n",
    "        return date.split(\"(\")[0].strip()\n",
    "\n",
    "def convert_date(date):\n",
    "    if date != \"N/A\":\n",
    "        for fmt in ('%B %d, %Y', '%B %Y', '%d %B %Y'):\n",
    "            try:\n",
    "                return datetime.strptime(date, fmt)\n",
    "            except ValueError:\n",
    "                pass\n",
    "        raise ValueError('no valid date format found')\n",
    "            "
   ]
  },
  {
   "cell_type": "code",
   "execution_count": 68,
   "id": "07d3684c-2959-490c-ada9-2e674171c1dc",
   "metadata": {
    "collapsed": true,
    "jupyter": {
     "outputs_hidden": true
    },
    "tags": []
   },
   "outputs": [
    {
     "data": {
      "text/plain": [
       "'December 1, 2021'"
      ]
     },
     "execution_count": 68,
     "metadata": {},
     "output_type": "execute_result"
    }
   ],
   "source": [
    "clean_date(['December 1, 2021 (2021-12-01) (Alice Tully Hall)',\n",
    "  'December 17, 2021 (2021-12-17) (United States)'])"
   ]
  },
  {
   "cell_type": "code",
   "execution_count": 69,
   "id": "2e137c11-02ab-4240-b8c2-b2c202eb1afe",
   "metadata": {
    "collapsed": true,
    "jupyter": {
     "outputs_hidden": true
    },
    "tags": []
   },
   "outputs": [
    {
     "data": {
      "text/plain": [
       "0            May 6, 1927\n",
       "1                    N/A\n",
       "2       February 1, 1929\n",
       "3                    N/A\n",
       "4          June 20, 1929\n",
       "             ...        \n",
       "575    September 2, 2021\n",
       "576                  N/A\n",
       "577     December 1, 2021\n",
       "578    September 2, 2021\n",
       "579    November 29, 2021\n",
       "Name: Release dates(dt), Length: 580, dtype: object"
      ]
     },
     "execution_count": 69,
     "metadata": {},
     "output_type": "execute_result"
    }
   ],
   "source": [
    "df['Release dates(dt)'] = [clean_date(date) for date in df['Release dates']]\n",
    "df['Release dates(dt)']"
   ]
  },
  {
   "cell_type": "code",
   "execution_count": 70,
   "id": "38437d88-77ee-486d-8ff2-0cadda8fcb40",
   "metadata": {
    "collapsed": true,
    "jupyter": {
     "outputs_hidden": true
    },
    "tags": []
   },
   "outputs": [
    {
     "data": {
      "text/plain": [
       "N/A                   293\n",
       "November 11, 2014       2\n",
       "September 2, 2021       2\n",
       "30 August 2018          2\n",
       "September 2, 2005       2\n",
       "May 6, 1927             1\n",
       "September 24, 2010      1\n",
       "January 25, 2010        1\n",
       "July 8, 2010            1\n",
       "December 6, 2010        1\n",
       "September 1, 2010       1\n",
       "6 September 2010        1\n",
       "4 September 2010        1\n",
       "September 5, 2009       1\n",
       "May 13, 2009            1\n",
       "January 15, 2009        1\n",
       "May 20, 2009            1\n",
       "18 January 2009         1\n",
       "13 August 2009          1\n",
       "June 12, 2010           1\n",
       "15 May 2011             1\n",
       "January 21, 2010        1\n",
       "August 31, 2012         1\n",
       "5 December 2012         1\n",
       "October 8, 2012         1\n",
       "September 28, 2012      1\n",
       "December 11, 2012       1\n",
       "January 20, 2012        1\n",
       "20 May 2012             1\n",
       "4 December 2011         1\n",
       "September 4, 2008       1\n",
       "May 16, 2011            1\n",
       "September 9, 2011       1\n",
       "May 11, 2011            1\n",
       "October 10, 2011        1\n",
       "August 9, 2011          1\n",
       "September 10, 2011      1\n",
       "December 10, 2009       1\n",
       "October 28, 2008        1\n",
       "December 12, 2008       1\n",
       "10 December 2001        1\n",
       "December 5, 2004        1\n",
       "August 29, 2003         1\n",
       "1 December 2003         1\n",
       "24 May 2002             1\n",
       "5 December 2002         1\n",
       "9 May 2001              1\n",
       "7 November 2001         1\n",
       "December 10, 2012       1\n",
       "December 13, 2001       1\n",
       "18 May 2000             1\n",
       "December 22, 2000       1\n",
       "May 1, 2000             1\n",
       "August 2, 1999          1\n",
       "September 7, 1999       1\n",
       "December 14, 2004       1\n",
       "September 4, 2004       1\n",
       "September 13, 2004      1\n",
       "September 10, 2004      1\n",
       "September 1, 2005       1\n",
       "Name: Release dates(dt), dtype: int64"
      ]
     },
     "execution_count": 70,
     "metadata": {},
     "output_type": "execute_result"
    }
   ],
   "source": [
    "df['Release dates(dt)'].value_counts().head(60)"
   ]
  },
  {
   "cell_type": "code",
   "execution_count": 71,
   "id": "994dfc3c-62a4-41d1-8aa6-45dd330d9fb7",
   "metadata": {
    "collapsed": true,
    "jupyter": {
     "outputs_hidden": true
    },
    "tags": []
   },
   "outputs": [
    {
     "data": {
      "text/plain": [
       "datetime.datetime(2012, 12, 10, 0, 0)"
      ]
     },
     "execution_count": 71,
     "metadata": {},
     "output_type": "execute_result"
    }
   ],
   "source": [
    "convert_date('9 May 2001')\n",
    "convert_date('December 10, 2012')"
   ]
  },
  {
   "cell_type": "code",
   "execution_count": 72,
   "id": "b91c5f6e-42d3-499f-8020-d4e83763afc7",
   "metadata": {
    "collapsed": true,
    "jupyter": {
     "outputs_hidden": true
    },
    "tags": []
   },
   "outputs": [
    {
     "data": {
      "text/plain": [
       "0     1927-05-06\n",
       "1            NaT\n",
       "2     1929-02-01\n",
       "3            NaT\n",
       "4     1929-06-20\n",
       "         ...    \n",
       "575   2021-09-02\n",
       "576          NaT\n",
       "577   2021-12-01\n",
       "578   2021-09-02\n",
       "579   2021-11-29\n",
       "Name: Release dates(dt), Length: 580, dtype: datetime64[ns]"
      ]
     },
     "execution_count": 72,
     "metadata": {},
     "output_type": "execute_result"
    }
   ],
   "source": [
    "df['Release dates(dt)'] = [convert_date(date) for date in df['Release dates(dt)']]\n",
    "df['Release dates(dt)']"
   ]
  },
  {
   "cell_type": "code",
   "execution_count": 73,
   "id": "6c191d8b-5cbe-4cb4-ae26-744f67c08185",
   "metadata": {
    "collapsed": true,
    "jupyter": {
     "outputs_hidden": true
    }
   },
   "outputs": [
    {
     "data": {
      "text/html": [
       "<div>\n",
       "<style scoped>\n",
       "    .dataframe tbody tr th:only-of-type {\n",
       "        vertical-align: middle;\n",
       "    }\n",
       "\n",
       "    .dataframe tbody tr th {\n",
       "        vertical-align: top;\n",
       "    }\n",
       "\n",
       "    .dataframe thead th {\n",
       "        text-align: right;\n",
       "    }\n",
       "</style>\n",
       "<table border=\"1\" class=\"dataframe\">\n",
       "  <thead>\n",
       "    <tr style=\"text-align: right;\">\n",
       "      <th></th>\n",
       "      <th>title</th>\n",
       "      <th>Directed by</th>\n",
       "      <th>Written by</th>\n",
       "      <th>Screenplay by</th>\n",
       "      <th>Based on</th>\n",
       "      <th>Produced by</th>\n",
       "      <th>Starring</th>\n",
       "      <th>Cinematography</th>\n",
       "      <th>Edited by</th>\n",
       "      <th>Distributed by</th>\n",
       "      <th>Release dates</th>\n",
       "      <th>Running time</th>\n",
       "      <th>Country</th>\n",
       "      <th>...</th>\n",
       "      <th>Budget</th>\n",
       "      <th>Box office</th>\n",
       "      <th>Production company</th>\n",
       "      <th>Release date</th>\n",
       "      <th>Story by</th>\n",
       "      <th>Music by</th>\n",
       "      <th>Languages</th>\n",
       "      <th>Production companies</th>\n",
       "      <th>Countries</th>\n",
       "      <th>Running time(minutes)</th>\n",
       "      <th>Budget(USD)</th>\n",
       "      <th>Box office(USD)</th>\n",
       "      <th>Release dates(dt)</th>\n",
       "    </tr>\n",
       "  </thead>\n",
       "  <tbody>\n",
       "    <tr>\n",
       "      <th>0</th>\n",
       "      <td>7th Heaven</td>\n",
       "      <td>Frank Borzage</td>\n",
       "      <td>[Harry H. Caldwell (titles), Katharine Hillike...</td>\n",
       "      <td>Benjamin Glazer</td>\n",
       "      <td>[Seventh Heaven, by Austin Strong]</td>\n",
       "      <td>William Fox</td>\n",
       "      <td>[Janet Gaynor, Charles Farrell, Ben Bard]</td>\n",
       "      <td>[Ernest Palmer, Joseph A. Valentine]</td>\n",
       "      <td>Barney Wolf</td>\n",
       "      <td>Fox Film Corporation</td>\n",
       "      <td>[May 6, 1927 (1927-05-06) (Los Angeles), May 2...</td>\n",
       "      <td>110 min</td>\n",
       "      <td>United States</td>\n",
       "      <td>...</td>\n",
       "      <td>$1.3 million</td>\n",
       "      <td>$2.5 million</td>\n",
       "      <td>NaN</td>\n",
       "      <td>NaN</td>\n",
       "      <td>NaN</td>\n",
       "      <td>NaN</td>\n",
       "      <td>NaN</td>\n",
       "      <td>NaN</td>\n",
       "      <td>NaN</td>\n",
       "      <td>110.0</td>\n",
       "      <td>1300000.0</td>\n",
       "      <td>2500000.0</td>\n",
       "      <td>1927-05-06</td>\n",
       "    </tr>\n",
       "    <tr>\n",
       "      <th>1</th>\n",
       "      <td>The Racket</td>\n",
       "      <td>Lewis Milestone</td>\n",
       "      <td>[Bartlett Cormack, Tom Miranda, Uncredited:, H...</td>\n",
       "      <td>NaN</td>\n",
       "      <td>NaN</td>\n",
       "      <td>Howard Hughes</td>\n",
       "      <td>[Thomas Meighan, Marie Prevost, Louis Wolheim]</td>\n",
       "      <td>Tony Gaudio</td>\n",
       "      <td>Eddie Adams</td>\n",
       "      <td>Paramount Pictures</td>\n",
       "      <td>NaN</td>\n",
       "      <td>84 minutes</td>\n",
       "      <td>United States</td>\n",
       "      <td>...</td>\n",
       "      <td>NaN</td>\n",
       "      <td>NaN</td>\n",
       "      <td>The Caddo Company</td>\n",
       "      <td>[November 1, 1928 (1928-11-01)]</td>\n",
       "      <td>NaN</td>\n",
       "      <td>NaN</td>\n",
       "      <td>NaN</td>\n",
       "      <td>NaN</td>\n",
       "      <td>NaN</td>\n",
       "      <td>84.0</td>\n",
       "      <td>NaN</td>\n",
       "      <td>NaN</td>\n",
       "      <td>NaT</td>\n",
       "    </tr>\n",
       "    <tr>\n",
       "      <th>2</th>\n",
       "      <td>The Broadway Melody</td>\n",
       "      <td>Harry Beaumont</td>\n",
       "      <td>[Sarah Y. Mason, (continuity), Norman Houston,...</td>\n",
       "      <td>NaN</td>\n",
       "      <td>NaN</td>\n",
       "      <td>[Irving Thalberg, Lawrence Weingarten]</td>\n",
       "      <td>[Charles King, Anita Page, Bessie Love]</td>\n",
       "      <td>John Arnold</td>\n",
       "      <td>[Sam S. Zimbalist, Uncredited:, William LeVanw...</td>\n",
       "      <td>Metro-Goldwyn-Mayer</td>\n",
       "      <td>[February 1, 1929 (1929-02-01) (Grauman's Chin...</td>\n",
       "      <td>100 minutes</td>\n",
       "      <td>United States</td>\n",
       "      <td>...</td>\n",
       "      <td>$379,000</td>\n",
       "      <td>$4.4 million</td>\n",
       "      <td>NaN</td>\n",
       "      <td>NaN</td>\n",
       "      <td>Edmund Goulding</td>\n",
       "      <td>(see article)</td>\n",
       "      <td>NaN</td>\n",
       "      <td>NaN</td>\n",
       "      <td>NaN</td>\n",
       "      <td>100.0</td>\n",
       "      <td>379000.0</td>\n",
       "      <td>4400000.0</td>\n",
       "      <td>1929-02-01</td>\n",
       "    </tr>\n",
       "    <tr>\n",
       "      <th>3</th>\n",
       "      <td>Alibi</td>\n",
       "      <td>Roland West</td>\n",
       "      <td>Elaine Sterne Carrington</td>\n",
       "      <td>NaN</td>\n",
       "      <td>[Nightstick, by, Elaine Sterne Carrington, ,, ...</td>\n",
       "      <td>Roland West</td>\n",
       "      <td>[Chester Morris, Mae Busch]</td>\n",
       "      <td>Ray June</td>\n",
       "      <td>NaN</td>\n",
       "      <td>United Artists</td>\n",
       "      <td>NaN</td>\n",
       "      <td>90 minutes</td>\n",
       "      <td>United States</td>\n",
       "      <td>...</td>\n",
       "      <td>NaN</td>\n",
       "      <td>NaN</td>\n",
       "      <td>NaN</td>\n",
       "      <td>[April 20, 1929 (1929-04-20)]</td>\n",
       "      <td>NaN</td>\n",
       "      <td>NaN</td>\n",
       "      <td>NaN</td>\n",
       "      <td>NaN</td>\n",
       "      <td>NaN</td>\n",
       "      <td>90.0</td>\n",
       "      <td>NaN</td>\n",
       "      <td>NaN</td>\n",
       "      <td>NaT</td>\n",
       "    </tr>\n",
       "    <tr>\n",
       "      <th>4</th>\n",
       "      <td>The Hollywood Revue of 1929</td>\n",
       "      <td>Charles Reisner</td>\n",
       "      <td>[Al Boasberg, Robert E. Hopkins, Joseph W. Far...</td>\n",
       "      <td>NaN</td>\n",
       "      <td>NaN</td>\n",
       "      <td>[Irving Thalberg, Harry Rapf]</td>\n",
       "      <td>[Conrad Nagel, Jack Benny]</td>\n",
       "      <td>[John Arnold, Max Fabian, Irving G. Ries, John...</td>\n",
       "      <td>[William S. Gray, Cameron K. Wood]</td>\n",
       "      <td>Metro-Goldwyn-Mayer</td>\n",
       "      <td>[June 20, 1929, (Los Angeles)]</td>\n",
       "      <td>[130 minutes (roadshow), 118 min (Turner libra...</td>\n",
       "      <td>United States</td>\n",
       "      <td>...</td>\n",
       "      <td>$426,000</td>\n",
       "      <td>$2,421,000 (worldwide rental)</td>\n",
       "      <td>NaN</td>\n",
       "      <td>NaN</td>\n",
       "      <td>NaN</td>\n",
       "      <td>[Gus Edwards, Arthur Freed, (\", Singin' in the...</td>\n",
       "      <td>NaN</td>\n",
       "      <td>NaN</td>\n",
       "      <td>NaN</td>\n",
       "      <td>130.0</td>\n",
       "      <td>426000.0</td>\n",
       "      <td>2421000.0</td>\n",
       "      <td>1929-06-20</td>\n",
       "    </tr>\n",
       "  </tbody>\n",
       "</table>\n",
       "<p>5 rows × 27 columns</p>\n",
       "</div>"
      ],
      "text/plain": [
       "                         title      Directed by  \\\n",
       "0                   7th Heaven    Frank Borzage   \n",
       "1                   The Racket  Lewis Milestone   \n",
       "2          The Broadway Melody   Harry Beaumont   \n",
       "3                        Alibi      Roland West   \n",
       "4  The Hollywood Revue of 1929  Charles Reisner   \n",
       "\n",
       "                                          Written by    Screenplay by  \\\n",
       "0  [Harry H. Caldwell (titles), Katharine Hillike...  Benjamin Glazer   \n",
       "1  [Bartlett Cormack, Tom Miranda, Uncredited:, H...              NaN   \n",
       "2  [Sarah Y. Mason, (continuity), Norman Houston,...              NaN   \n",
       "3                           Elaine Sterne Carrington              NaN   \n",
       "4  [Al Boasberg, Robert E. Hopkins, Joseph W. Far...              NaN   \n",
       "\n",
       "                                            Based on  \\\n",
       "0                 [Seventh Heaven, by Austin Strong]   \n",
       "1                                                NaN   \n",
       "2                                                NaN   \n",
       "3  [Nightstick, by, Elaine Sterne Carrington, ,, ...   \n",
       "4                                                NaN   \n",
       "\n",
       "                              Produced by  \\\n",
       "0                             William Fox   \n",
       "1                           Howard Hughes   \n",
       "2  [Irving Thalberg, Lawrence Weingarten]   \n",
       "3                             Roland West   \n",
       "4           [Irving Thalberg, Harry Rapf]   \n",
       "\n",
       "                                         Starring  \\\n",
       "0       [Janet Gaynor, Charles Farrell, Ben Bard]   \n",
       "1  [Thomas Meighan, Marie Prevost, Louis Wolheim]   \n",
       "2         [Charles King, Anita Page, Bessie Love]   \n",
       "3                     [Chester Morris, Mae Busch]   \n",
       "4                      [Conrad Nagel, Jack Benny]   \n",
       "\n",
       "                                      Cinematography  \\\n",
       "0               [Ernest Palmer, Joseph A. Valentine]   \n",
       "1                                        Tony Gaudio   \n",
       "2                                        John Arnold   \n",
       "3                                           Ray June   \n",
       "4  [John Arnold, Max Fabian, Irving G. Ries, John...   \n",
       "\n",
       "                                           Edited by        Distributed by  \\\n",
       "0                                        Barney Wolf  Fox Film Corporation   \n",
       "1                                        Eddie Adams    Paramount Pictures   \n",
       "2  [Sam S. Zimbalist, Uncredited:, William LeVanw...   Metro-Goldwyn-Mayer   \n",
       "3                                                NaN        United Artists   \n",
       "4                 [William S. Gray, Cameron K. Wood]   Metro-Goldwyn-Mayer   \n",
       "\n",
       "                                       Release dates  \\\n",
       "0  [May 6, 1927 (1927-05-06) (Los Angeles), May 2...   \n",
       "1                                                NaN   \n",
       "2  [February 1, 1929 (1929-02-01) (Grauman's Chin...   \n",
       "3                                                NaN   \n",
       "4                     [June 20, 1929, (Los Angeles)]   \n",
       "\n",
       "                                        Running time        Country  ...  \\\n",
       "0                                            110 min  United States  ...   \n",
       "1                                         84 minutes  United States  ...   \n",
       "2                                        100 minutes  United States  ...   \n",
       "3                                         90 minutes  United States  ...   \n",
       "4  [130 minutes (roadshow), 118 min (Turner libra...  United States  ...   \n",
       "\n",
       "         Budget                     Box office Production company  \\\n",
       "0  $1.3 million                   $2.5 million                NaN   \n",
       "1           NaN                            NaN  The Caddo Company   \n",
       "2      $379,000                   $4.4 million                NaN   \n",
       "3           NaN                            NaN                NaN   \n",
       "4      $426,000  $2,421,000 (worldwide rental)                NaN   \n",
       "\n",
       "                      Release date         Story by  \\\n",
       "0                              NaN              NaN   \n",
       "1  [November 1, 1928 (1928-11-01)]              NaN   \n",
       "2                              NaN  Edmund Goulding   \n",
       "3    [April 20, 1929 (1929-04-20)]              NaN   \n",
       "4                              NaN              NaN   \n",
       "\n",
       "                                            Music by Languages  \\\n",
       "0                                                NaN       NaN   \n",
       "1                                                NaN       NaN   \n",
       "2                                      (see article)       NaN   \n",
       "3                                                NaN       NaN   \n",
       "4  [Gus Edwards, Arthur Freed, (\", Singin' in the...       NaN   \n",
       "\n",
       "  Production companies Countries Running time(minutes)  Budget(USD)  \\\n",
       "0                  NaN       NaN                 110.0    1300000.0   \n",
       "1                  NaN       NaN                  84.0          NaN   \n",
       "2                  NaN       NaN                 100.0     379000.0   \n",
       "3                  NaN       NaN                  90.0          NaN   \n",
       "4                  NaN       NaN                 130.0     426000.0   \n",
       "\n",
       "   Box office(USD)  Release dates(dt)  \n",
       "0        2500000.0         1927-05-06  \n",
       "1              NaN                NaT  \n",
       "2        4400000.0         1929-02-01  \n",
       "3              NaN                NaT  \n",
       "4        2421000.0         1929-06-20  \n",
       "\n",
       "[5 rows x 27 columns]"
      ]
     },
     "execution_count": 73,
     "metadata": {},
     "output_type": "execute_result"
    }
   ],
   "source": [
    "df.head()"
   ]
  },
  {
   "cell_type": "code",
   "execution_count": 74,
   "id": "1fe981c6-0717-444c-aecc-398adab79a18",
   "metadata": {
    "collapsed": true,
    "jupyter": {
     "outputs_hidden": true
    },
    "tags": []
   },
   "outputs": [
    {
     "data": {
      "text/plain": [
       "array([nan, 'United Kingdom', 'United States', 'Australia', 'Greece',\n",
       "       'Italy', 'Algeria', 'France', 'Turkey', 'Canada', 'India',\n",
       "       'Brazil', 'Ireland', 'Japan', 'New Zealand', 'Belgium', 'Taiwan',\n",
       "       'China', 'Hong Kong', 'Germany', 'Poland', 'Mexico', 'Morocco',\n",
       "       'South Africa', 'United Arab Emirates', 'Spain', 'Austria',\n",
       "       'Netherlands', 'Czech Republic'], dtype=object)"
      ]
     },
     "execution_count": 74,
     "metadata": {},
     "output_type": "execute_result"
    }
   ],
   "source": [
    "df['Countries'].explode().unique()"
   ]
  },
  {
   "cell_type": "code",
   "execution_count": 75,
   "id": "4e6aedc1-ff6a-42a1-b76f-49e0cc7f0652",
   "metadata": {
    "collapsed": true,
    "jupyter": {
     "outputs_hidden": true
    },
    "tags": []
   },
   "outputs": [
    {
     "data": {
      "text/plain": [
       "array([nan, 'Silent film', 'English sequences', 'English', 'Italian',\n",
       "       'English (primarily), German, Italian', 'French', 'German',\n",
       "       'English, Cantonese', 'Welsh', 'English, French', 'Irish',\n",
       "       'Japanese', 'Greek', 'Spanish', 'Russian', 'Mandarin', 'Sicilian',\n",
       "       'Vietnamese', 'Turkish', 'Maltese', 'Khmer', 'Swahili',\n",
       "       'Portuguese', 'Pennsylvania Dutch', 'American Sign Language',\n",
       "       'Latin', 'Guaraní', 'Lakota', 'Pawnee', 'Māori',\n",
       "       'British Sign Language', 'Arabic', 'Japanese Sign Language',\n",
       "       'Berber languages', 'Hindi', 'Tamil', 'Somali', 'Bengali',\n",
       "       'Mixtec', 'Korean'], dtype=object)"
      ]
     },
     "execution_count": 75,
     "metadata": {},
     "output_type": "execute_result"
    }
   ],
   "source": [
    "df['Languages'].explode().unique()"
   ]
  },
  {
   "cell_type": "code",
   "execution_count": 76,
   "id": "98ff8303-54a4-4144-be9b-e4587a5bb33a",
   "metadata": {
    "collapsed": true,
    "jupyter": {
     "outputs_hidden": true
    }
   },
   "outputs": [],
   "source": [
    "df.to_csv(\"Best_Picture_clean.csv\",index=False,encoding='utf-8')"
   ]
  }
 ],
 "metadata": {
  "kernelspec": {
   "display_name": "Python 3 (ipykernel)",
   "language": "python",
   "name": "python3"
  },
  "language_info": {
   "codemirror_mode": {
    "name": "ipython",
    "version": 3
   },
   "file_extension": ".py",
   "mimetype": "text/x-python",
   "name": "python",
   "nbconvert_exporter": "python",
   "pygments_lexer": "ipython3",
   "version": "3.10.4"
  }
 },
 "nbformat": 4,
 "nbformat_minor": 5
}
