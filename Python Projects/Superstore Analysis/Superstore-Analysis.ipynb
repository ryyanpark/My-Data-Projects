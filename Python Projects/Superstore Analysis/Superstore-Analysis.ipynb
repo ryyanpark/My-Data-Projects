{
 "cells": [
  {
   "cell_type": "markdown",
   "id": "ae65d922-9705-42c3-8ba6-770a8c70f248",
   "metadata": {},
   "source": [
    "# Superstore Analysis"
   ]
  },
  {
   "cell_type": "markdown",
   "id": "cef48d02-cf49-4dc6-b1f2-801046696b29",
   "metadata": {
    "tags": []
   },
   "source": [
    "## Intro\n",
    "A deep dive into the Superstore dataset!\n",
    "\n",
    "## Goal\n",
    "Management wants to find ways to increase overall profit.\n",
    "\n",
    "## Data\n",
    "US Superstore data (2014-2017)\n",
    "\n",
    "https://www.kaggle.com/datasets/juhi1994/superstore\n",
    "\n",
    "## Questions to Answer\n",
    "\n",
    "1. What category/sub-category brings in the most revenue?\n",
    "2. Which sub-categories have negative profit margins?\n",
    "3. What caused an increase in sales in 2017?\n",
    "4. Which customers consist of our top category/sub-category?"
   ]
  },
  {
   "cell_type": "markdown",
   "id": "c645b666-4873-4631-a4ad-a0a15c65d559",
   "metadata": {
    "jp-MarkdownHeadingCollapsed": true,
    "tags": []
   },
   "source": [
    "## Dataset Info"
   ]
  },
  {
   "cell_type": "code",
   "execution_count": 1,
   "id": "aa528b50-5404-47d7-bf63-29fbe883b2b7",
   "metadata": {
    "tags": []
   },
   "outputs": [],
   "source": [
    "import os\n",
    "import datetime\n",
    "import pandas as pd\n",
    "import numpy as np\n",
    "import matplotlib.pyplot as plt\n",
    "import matplotlib.dates as mdates\n",
    "from matplotlib.dates import DateFormatter\n",
    "\n",
    "path = os.getcwd()\n",
    "df = pd.read_csv(path + '/Formatted - Superstore.csv',parse_dates=['Order Date','Ship Date'],infer_datetime_format=True)"
   ]
  },
  {
   "cell_type": "code",
   "execution_count": 2,
   "id": "3e6c85be-2556-4514-addd-36405da8e413",
   "metadata": {
    "tags": []
   },
   "outputs": [
    {
     "data": {
      "text/plain": [
       "(9994, 23)"
      ]
     },
     "execution_count": 2,
     "metadata": {},
     "output_type": "execute_result"
    }
   ],
   "source": [
    "df.shape"
   ]
  },
  {
   "cell_type": "code",
   "execution_count": 3,
   "id": "918b25e2-d72c-4ebf-8cb1-0ca394f97514",
   "metadata": {
    "tags": []
   },
   "outputs": [],
   "source": [
    "pd.set_option('display.max_columns', 23)"
   ]
  },
  {
   "cell_type": "code",
   "execution_count": 4,
   "id": "5ded04d8-18a2-49d2-962b-fbe0b8c44251",
   "metadata": {
    "tags": []
   },
   "outputs": [
    {
     "data": {
      "text/plain": [
       "Order ID                 object\n",
       "Order Date       datetime64[ns]\n",
       "Ship Date        datetime64[ns]\n",
       "Ship Mode                object\n",
       "Customer ID              object\n",
       "Customer Name            object\n",
       "Segment                  object\n",
       "Country                  object\n",
       "City                     object\n",
       "State                    object\n",
       "Postal Code               int64\n",
       "Region                   object\n",
       "Product ID               object\n",
       "Category                 object\n",
       "Sub-Category             object\n",
       "Product Name             object\n",
       "Sales                   float64\n",
       "Quantity                  int64\n",
       "Discount                float64\n",
       "Profit                  float64\n",
       "Year                      int64\n",
       "Month                     int64\n",
       "DOW                      object\n",
       "dtype: object"
      ]
     },
     "execution_count": 4,
     "metadata": {},
     "output_type": "execute_result"
    }
   ],
   "source": [
    "df.dtypes"
   ]
  },
  {
   "cell_type": "code",
   "execution_count": 5,
   "id": "a4324811-455c-4bc7-9f70-925be824182a",
   "metadata": {
    "tags": []
   },
   "outputs": [],
   "source": [
    "df['Postal Code'] = df['Postal Code'].astype(str)"
   ]
  },
  {
   "cell_type": "code",
   "execution_count": 6,
   "id": "f68f1ed6-f89f-42a2-8315-dea1ff91b8d3",
   "metadata": {
    "tags": []
   },
   "outputs": [
    {
     "data": {
      "text/plain": [
       "Order ID         0\n",
       "Order Date       0\n",
       "Ship Date        0\n",
       "Ship Mode        0\n",
       "Customer ID      0\n",
       "Customer Name    0\n",
       "Segment          0\n",
       "Country          0\n",
       "City             0\n",
       "State            0\n",
       "Postal Code      0\n",
       "Region           0\n",
       "Product ID       0\n",
       "Category         0\n",
       "Sub-Category     0\n",
       "Product Name     0\n",
       "Sales            0\n",
       "Quantity         0\n",
       "Discount         0\n",
       "Profit           0\n",
       "Year             0\n",
       "Month            0\n",
       "DOW              0\n",
       "dtype: int64"
      ]
     },
     "execution_count": 6,
     "metadata": {},
     "output_type": "execute_result"
    }
   ],
   "source": [
    "df.isna().sum()"
   ]
  },
  {
   "cell_type": "code",
   "execution_count": 7,
   "id": "70b3bd67-aae9-49ce-aef3-fed0a24deeb6",
   "metadata": {
    "tags": []
   },
   "outputs": [
    {
     "data": {
      "text/plain": [
       "Office Supplies    6026\n",
       "Furniture          2121\n",
       "Technology         1847\n",
       "Name: Category, dtype: int64"
      ]
     },
     "execution_count": 7,
     "metadata": {},
     "output_type": "execute_result"
    }
   ],
   "source": [
    "df['Category'].value_counts()"
   ]
  },
  {
   "cell_type": "code",
   "execution_count": 8,
   "id": "04add1d8-671d-41d6-889f-33de377ac3cc",
   "metadata": {
    "tags": []
   },
   "outputs": [
    {
     "data": {
      "text/plain": [
       "Binders        1523\n",
       "Paper          1370\n",
       "Furnishings     957\n",
       "Phones          889\n",
       "Storage         846\n",
       "Art             796\n",
       "Accessories     775\n",
       "Chairs          617\n",
       "Appliances      466\n",
       "Labels          364\n",
       "Tables          319\n",
       "Envelopes       254\n",
       "Bookcases       228\n",
       "Fasteners       217\n",
       "Supplies        190\n",
       "Machines        115\n",
       "Copiers          68\n",
       "Name: Sub-Category, dtype: int64"
      ]
     },
     "execution_count": 8,
     "metadata": {},
     "output_type": "execute_result"
    }
   ],
   "source": [
    "df['Sub-Category'].value_counts()"
   ]
  },
  {
   "cell_type": "code",
   "execution_count": 9,
   "id": "99b062f1-0c6c-4b23-849b-668d9bf378e5",
   "metadata": {
    "tags": []
   },
   "outputs": [
    {
     "data": {
      "text/plain": [
       "Consumer       5191\n",
       "Corporate      3020\n",
       "Home Office    1783\n",
       "Name: Segment, dtype: int64"
      ]
     },
     "execution_count": 9,
     "metadata": {},
     "output_type": "execute_result"
    }
   ],
   "source": [
    "df['Segment'].value_counts()"
   ]
  },
  {
   "cell_type": "code",
   "execution_count": 10,
   "id": "3fc74829-af18-4662-8cb1-59ed3135c5bc",
   "metadata": {
    "tags": []
   },
   "outputs": [
    {
     "data": {
      "text/plain": [
       "1850"
      ]
     },
     "execution_count": 10,
     "metadata": {},
     "output_type": "execute_result"
    }
   ],
   "source": [
    "df['Product Name'].nunique()"
   ]
  },
  {
   "cell_type": "markdown",
   "id": "192c1c4a-27d8-4e23-a960-97e72cd6dea6",
   "metadata": {},
   "source": [
    "## 1. Revenue"
   ]
  },
  {
   "cell_type": "markdown",
   "id": "83cbb859-bcaa-4bf5-a8b6-535b4953353d",
   "metadata": {},
   "source": [
    "##### By Year & Category"
   ]
  },
  {
   "cell_type": "code",
   "execution_count": 11,
   "id": "909b0b7a-81e8-4202-bde2-809b2c00be15",
   "metadata": {},
   "outputs": [],
   "source": [
    "df_year_cat = df.groupby(['Year','Category']).sum().drop(columns=['Month','Discount'])\n",
    "df_year_cat['Year-Quantity'] = df_year_cat.groupby(level=0)['Quantity'].transform(np.sum)\n",
    "df_year_cat['Year-Profit'] = df_year_cat.groupby(level=0)['Profit'].transform(np.sum)\n",
    "df_year_cat.insert(3,'PctQtyOfYear',(df_year_cat['Quantity']/df_year_cat['Year-Quantity']))\n",
    "df_year_cat.insert(4,'PctProfitOfYear',(df_year_cat['Profit']/df_year_cat['Year-Profit']))"
   ]
  },
  {
   "cell_type": "code",
   "execution_count": 12,
   "id": "6a310fc8-e1a4-45c6-abf1-2f70289ac7fd",
   "metadata": {},
   "outputs": [
    {
     "data": {
      "text/html": [
       "<div>\n",
       "<style scoped>\n",
       "    .dataframe tbody tr th:only-of-type {\n",
       "        vertical-align: middle;\n",
       "    }\n",
       "\n",
       "    .dataframe tbody tr th {\n",
       "        vertical-align: top;\n",
       "    }\n",
       "\n",
       "    .dataframe thead th {\n",
       "        text-align: right;\n",
       "    }\n",
       "</style>\n",
       "<table border=\"1\" class=\"dataframe\">\n",
       "  <thead>\n",
       "    <tr style=\"text-align: right;\">\n",
       "      <th></th>\n",
       "      <th></th>\n",
       "      <th>Sales</th>\n",
       "      <th>Quantity</th>\n",
       "      <th>Profit</th>\n",
       "      <th>PctQtyOfYear</th>\n",
       "      <th>PctProfitOfYear</th>\n",
       "      <th>Year-Quantity</th>\n",
       "      <th>Year-Profit</th>\n",
       "    </tr>\n",
       "    <tr>\n",
       "      <th>Year</th>\n",
       "      <th>Category</th>\n",
       "      <th></th>\n",
       "      <th></th>\n",
       "      <th></th>\n",
       "      <th></th>\n",
       "      <th></th>\n",
       "      <th></th>\n",
       "      <th></th>\n",
       "    </tr>\n",
       "  </thead>\n",
       "  <tbody>\n",
       "    <tr>\n",
       "      <th rowspan=\"3\" valign=\"top\">2014</th>\n",
       "      <th>Furniture</th>\n",
       "      <td>157192.8531</td>\n",
       "      <td>1623</td>\n",
       "      <td>5457.7255</td>\n",
       "      <td>0.214088</td>\n",
       "      <td>0.110159</td>\n",
       "      <td>7581</td>\n",
       "      <td>49543.9741</td>\n",
       "    </tr>\n",
       "    <tr>\n",
       "      <th>Office Supplies</th>\n",
       "      <td>151776.4120</td>\n",
       "      <td>4569</td>\n",
       "      <td>22593.4161</td>\n",
       "      <td>0.602691</td>\n",
       "      <td>0.456028</td>\n",
       "      <td>7581</td>\n",
       "      <td>49543.9741</td>\n",
       "    </tr>\n",
       "    <tr>\n",
       "      <th>Technology</th>\n",
       "      <td>175278.2330</td>\n",
       "      <td>1389</td>\n",
       "      <td>21492.8325</td>\n",
       "      <td>0.183221</td>\n",
       "      <td>0.433813</td>\n",
       "      <td>7581</td>\n",
       "      <td>49543.9741</td>\n",
       "    </tr>\n",
       "    <tr>\n",
       "      <th rowspan=\"3\" valign=\"top\">2015</th>\n",
       "      <th>Furniture</th>\n",
       "      <td>170518.2370</td>\n",
       "      <td>1775</td>\n",
       "      <td>3015.2029</td>\n",
       "      <td>0.222459</td>\n",
       "      <td>0.048933</td>\n",
       "      <td>7979</td>\n",
       "      <td>61618.6037</td>\n",
       "    </tr>\n",
       "    <tr>\n",
       "      <th>Office Supplies</th>\n",
       "      <td>137233.4630</td>\n",
       "      <td>4715</td>\n",
       "      <td>25099.5338</td>\n",
       "      <td>0.590926</td>\n",
       "      <td>0.407337</td>\n",
       "      <td>7979</td>\n",
       "      <td>61618.6037</td>\n",
       "    </tr>\n",
       "    <tr>\n",
       "      <th>Technology</th>\n",
       "      <td>162780.8090</td>\n",
       "      <td>1489</td>\n",
       "      <td>33503.8670</td>\n",
       "      <td>0.186615</td>\n",
       "      <td>0.543730</td>\n",
       "      <td>7979</td>\n",
       "      <td>61618.6037</td>\n",
       "    </tr>\n",
       "    <tr>\n",
       "      <th rowspan=\"3\" valign=\"top\">2016</th>\n",
       "      <th>Furniture</th>\n",
       "      <td>198901.4360</td>\n",
       "      <td>2193</td>\n",
       "      <td>6959.9531</td>\n",
       "      <td>0.222934</td>\n",
       "      <td>0.085090</td>\n",
       "      <td>9837</td>\n",
       "      <td>81795.1743</td>\n",
       "    </tr>\n",
       "    <tr>\n",
       "      <th>Office Supplies</th>\n",
       "      <td>183939.9820</td>\n",
       "      <td>5946</td>\n",
       "      <td>35061.2292</td>\n",
       "      <td>0.604453</td>\n",
       "      <td>0.428647</td>\n",
       "      <td>9837</td>\n",
       "      <td>81795.1743</td>\n",
       "    </tr>\n",
       "    <tr>\n",
       "      <th>Technology</th>\n",
       "      <td>226364.1800</td>\n",
       "      <td>1698</td>\n",
       "      <td>39773.9920</td>\n",
       "      <td>0.172614</td>\n",
       "      <td>0.486263</td>\n",
       "      <td>9837</td>\n",
       "      <td>81795.1743</td>\n",
       "    </tr>\n",
       "    <tr>\n",
       "      <th rowspan=\"3\" valign=\"top\">2017</th>\n",
       "      <th>Furniture</th>\n",
       "      <td>215387.2692</td>\n",
       "      <td>2437</td>\n",
       "      <td>3018.3913</td>\n",
       "      <td>0.195335</td>\n",
       "      <td>0.032303</td>\n",
       "      <td>12476</td>\n",
       "      <td>93439.2696</td>\n",
       "    </tr>\n",
       "    <tr>\n",
       "      <th>Office Supplies</th>\n",
       "      <td>246097.1750</td>\n",
       "      <td>7676</td>\n",
       "      <td>39736.6217</td>\n",
       "      <td>0.615261</td>\n",
       "      <td>0.425267</td>\n",
       "      <td>12476</td>\n",
       "      <td>93439.2696</td>\n",
       "    </tr>\n",
       "    <tr>\n",
       "      <th>Technology</th>\n",
       "      <td>271730.8110</td>\n",
       "      <td>2363</td>\n",
       "      <td>50684.2566</td>\n",
       "      <td>0.189404</td>\n",
       "      <td>0.542430</td>\n",
       "      <td>12476</td>\n",
       "      <td>93439.2696</td>\n",
       "    </tr>\n",
       "  </tbody>\n",
       "</table>\n",
       "</div>"
      ],
      "text/plain": [
       "                            Sales  Quantity      Profit  PctQtyOfYear  \\\n",
       "Year Category                                                           \n",
       "2014 Furniture        157192.8531      1623   5457.7255      0.214088   \n",
       "     Office Supplies  151776.4120      4569  22593.4161      0.602691   \n",
       "     Technology       175278.2330      1389  21492.8325      0.183221   \n",
       "2015 Furniture        170518.2370      1775   3015.2029      0.222459   \n",
       "     Office Supplies  137233.4630      4715  25099.5338      0.590926   \n",
       "     Technology       162780.8090      1489  33503.8670      0.186615   \n",
       "2016 Furniture        198901.4360      2193   6959.9531      0.222934   \n",
       "     Office Supplies  183939.9820      5946  35061.2292      0.604453   \n",
       "     Technology       226364.1800      1698  39773.9920      0.172614   \n",
       "2017 Furniture        215387.2692      2437   3018.3913      0.195335   \n",
       "     Office Supplies  246097.1750      7676  39736.6217      0.615261   \n",
       "     Technology       271730.8110      2363  50684.2566      0.189404   \n",
       "\n",
       "                      PctProfitOfYear  Year-Quantity  Year-Profit  \n",
       "Year Category                                                      \n",
       "2014 Furniture               0.110159           7581   49543.9741  \n",
       "     Office Supplies         0.456028           7581   49543.9741  \n",
       "     Technology              0.433813           7581   49543.9741  \n",
       "2015 Furniture               0.048933           7979   61618.6037  \n",
       "     Office Supplies         0.407337           7979   61618.6037  \n",
       "     Technology              0.543730           7979   61618.6037  \n",
       "2016 Furniture               0.085090           9837   81795.1743  \n",
       "     Office Supplies         0.428647           9837   81795.1743  \n",
       "     Technology              0.486263           9837   81795.1743  \n",
       "2017 Furniture               0.032303          12476   93439.2696  \n",
       "     Office Supplies         0.425267          12476   93439.2696  \n",
       "     Technology              0.542430          12476   93439.2696  "
      ]
     },
     "execution_count": 12,
     "metadata": {},
     "output_type": "execute_result"
    }
   ],
   "source": [
    "df_year_cat"
   ]
  },
  {
   "cell_type": "code",
   "execution_count": 13,
   "id": "1a94122a-c3b5-4964-9afc-0e9ced201049",
   "metadata": {},
   "outputs": [
    {
     "data": {
      "text/plain": [
       "Category\n",
       "Furniture          157192.8531\n",
       "Office Supplies    151776.4120\n",
       "Technology         175278.2330\n",
       "Name: Sales, dtype: float64"
      ]
     },
     "execution_count": 13,
     "metadata": {},
     "output_type": "execute_result"
    }
   ],
   "source": [
    "df_year_cat.loc[2014]['Sales']"
   ]
  },
  {
   "cell_type": "code",
   "execution_count": 14,
   "id": "10237e0a-a114-4f32-8f85-9457af833487",
   "metadata": {},
   "outputs": [
    {
     "data": {
      "image/png": "[encoded data removed]",
      "text/plain": [
       "<Figure size 720x576 with 4 Axes>"
      ]
     },
     "metadata": {},
     "output_type": "display_data"
    }
   ],
   "source": [
    "plt.style.use('dark_background')\n",
    "fig, [[ax1, ax2],[ax3,ax4]] = plt.subplots(2, 2, figsize=(10,8))\n",
    "\n",
    "list_of_axes = [ax1,ax2,ax3,ax4]\n",
    "year = [2014,2015,2016,2017]\n",
    "category = ['Furniture','Office Supplies','Technology']\n",
    "i = 0\n",
    "\n",
    "for ax in list_of_axes:\n",
    "    df_year_cat_pie = df_year_cat.loc[year[i]]\n",
    "    x = df_year_cat_pie['Profit']\n",
    "    myexplode = [0, 0.2, 0]\n",
    "    _, _, autotexts = ax.pie(x,labels=category,autopct='%1.0f%%')\n",
    "    for autotext in autotexts:\n",
    "        autotext.set_color('black')\n",
    "    ax.title.set_text(year[i])\n",
    "    i = i+1\n",
    "\n",
    "fig.suptitle('Profit by Category', fontsize=24)\n",
    "\n",
    "fig.tight_layout()"
   ]
  },
  {
   "cell_type": "code",
   "execution_count": 15,
   "id": "b0b5b2b8-b997-4f49-bdce-e9434d927d72",
   "metadata": {},
   "outputs": [
    {
     "data": {
      "text/plain": [
       "Phones         889\n",
       "Accessories    775\n",
       "Machines       115\n",
       "Copiers         68\n",
       "Name: Sub-Category, dtype: int64"
      ]
     },
     "execution_count": 15,
     "metadata": {},
     "output_type": "execute_result"
    }
   ],
   "source": [
    "df[df['Category']=='Technology']['Sub-Category'].value_counts()"
   ]
  },
  {
   "cell_type": "markdown",
   "id": "12e6a155-5fb7-409a-9fa6-522bdfa18ebb",
   "metadata": {},
   "source": [
    "Technology has grown to be our most profitable catgory. It is 54% of our total revenue in 2017. The Technology category consists of \"Phones\", \"Accessories\", \"Machines\", and \"Copiers\"."
   ]
  },
  {
   "cell_type": "markdown",
   "id": "1e414ec0-d417-4eb4-8ed6-946a41e89ed0",
   "metadata": {},
   "source": [
    "##### By Year & Sub-Category"
   ]
  },
  {
   "cell_type": "code",
   "execution_count": 16,
   "id": "19ffdc4e-5ade-41eb-bfb7-b3f2efdd94a7",
   "metadata": {},
   "outputs": [],
   "source": [
    "df_year_subcat = df.groupby(['Year','Sub-Category']).sum().drop(columns=['Month','Discount'])\n",
    "df_year_subcat['Year-Profit'] = df_year_subcat.groupby(level=0)['Profit'].transform(np.sum)\n",
    "df_year_subcat.insert(3,'PctProfitOfYear',(df_year_subcat['Profit']/df_year_subcat['Year-Profit']))"
   ]
  },
  {
   "cell_type": "code",
   "execution_count": 17,
   "id": "d48f10a5-f4fc-4340-ad83-060dfdf22d45",
   "metadata": {},
   "outputs": [
    {
     "data": {
      "text/html": [
       "<div>\n",
       "<style scoped>\n",
       "    .dataframe tbody tr th:only-of-type {\n",
       "        vertical-align: middle;\n",
       "    }\n",
       "\n",
       "    .dataframe tbody tr th {\n",
       "        vertical-align: top;\n",
       "    }\n",
       "\n",
       "    .dataframe thead th {\n",
       "        text-align: right;\n",
       "    }\n",
       "</style>\n",
       "<table border=\"1\" class=\"dataframe\">\n",
       "  <thead>\n",
       "    <tr style=\"text-align: right;\">\n",
       "      <th></th>\n",
       "      <th>Sales</th>\n",
       "      <th>Quantity</th>\n",
       "      <th>Profit</th>\n",
       "      <th>PctProfitOfYear</th>\n",
       "      <th>Year-Profit</th>\n",
       "    </tr>\n",
       "    <tr>\n",
       "      <th>Sub-Category</th>\n",
       "      <th></th>\n",
       "      <th></th>\n",
       "      <th></th>\n",
       "      <th></th>\n",
       "      <th></th>\n",
       "    </tr>\n",
       "  </thead>\n",
       "  <tbody>\n",
       "    <tr>\n",
       "      <th>Copiers</th>\n",
       "      <td>62899.3880</td>\n",
       "      <td>73</td>\n",
       "      <td>25031.7902</td>\n",
       "      <td>0.267894</td>\n",
       "      <td>93439.2696</td>\n",
       "    </tr>\n",
       "    <tr>\n",
       "      <th>Accessories</th>\n",
       "      <td>59946.2320</td>\n",
       "      <td>1079</td>\n",
       "      <td>15672.3570</td>\n",
       "      <td>0.167728</td>\n",
       "      <td>93439.2696</td>\n",
       "    </tr>\n",
       "    <tr>\n",
       "      <th>Phones</th>\n",
       "      <td>105340.5160</td>\n",
       "      <td>1090</td>\n",
       "      <td>12849.3250</td>\n",
       "      <td>0.137515</td>\n",
       "      <td>93439.2696</td>\n",
       "    </tr>\n",
       "    <tr>\n",
       "      <th>Paper</th>\n",
       "      <td>27694.7180</td>\n",
       "      <td>1702</td>\n",
       "      <td>12040.8434</td>\n",
       "      <td>0.128863</td>\n",
       "      <td>93439.2696</td>\n",
       "    </tr>\n",
       "    <tr>\n",
       "      <th>Appliances</th>\n",
       "      <td>42926.9320</td>\n",
       "      <td>654</td>\n",
       "      <td>7865.2683</td>\n",
       "      <td>0.084175</td>\n",
       "      <td>93439.2696</td>\n",
       "    </tr>\n",
       "    <tr>\n",
       "      <th>Binders</th>\n",
       "      <td>72788.0450</td>\n",
       "      <td>2067</td>\n",
       "      <td>7669.7418</td>\n",
       "      <td>0.082083</td>\n",
       "      <td>93439.2696</td>\n",
       "    </tr>\n",
       "    <tr>\n",
       "      <th>Chairs</th>\n",
       "      <td>95554.3530</td>\n",
       "      <td>674</td>\n",
       "      <td>7643.5493</td>\n",
       "      <td>0.081802</td>\n",
       "      <td>93439.2696</td>\n",
       "    </tr>\n",
       "    <tr>\n",
       "      <th>Storage</th>\n",
       "      <td>69677.6180</td>\n",
       "      <td>1022</td>\n",
       "      <td>7402.8007</td>\n",
       "      <td>0.079226</td>\n",
       "      <td>93439.2696</td>\n",
       "    </tr>\n",
       "    <tr>\n",
       "      <th>Furnishings</th>\n",
       "      <td>28915.0940</td>\n",
       "      <td>1097</td>\n",
       "      <td>4099.1628</td>\n",
       "      <td>0.043870</td>\n",
       "      <td>93439.2696</td>\n",
       "    </tr>\n",
       "    <tr>\n",
       "      <th>Art</th>\n",
       "      <td>8863.0680</td>\n",
       "      <td>1101</td>\n",
       "      <td>2221.9631</td>\n",
       "      <td>0.023780</td>\n",
       "      <td>93439.2696</td>\n",
       "    </tr>\n",
       "    <tr>\n",
       "      <th>Labels</th>\n",
       "      <td>3861.2160</td>\n",
       "      <td>448</td>\n",
       "      <td>1744.6093</td>\n",
       "      <td>0.018671</td>\n",
       "      <td>93439.2696</td>\n",
       "    </tr>\n",
       "    <tr>\n",
       "      <th>Envelopes</th>\n",
       "      <td>3378.5740</td>\n",
       "      <td>241</td>\n",
       "      <td>1441.7590</td>\n",
       "      <td>0.015430</td>\n",
       "      <td>93439.2696</td>\n",
       "    </tr>\n",
       "    <tr>\n",
       "      <th>Fasteners</th>\n",
       "      <td>857.5940</td>\n",
       "      <td>249</td>\n",
       "      <td>304.9489</td>\n",
       "      <td>0.003264</td>\n",
       "      <td>93439.2696</td>\n",
       "    </tr>\n",
       "    <tr>\n",
       "      <th>Bookcases</th>\n",
       "      <td>30024.2797</td>\n",
       "      <td>276</td>\n",
       "      <td>-583.6261</td>\n",
       "      <td>-0.006246</td>\n",
       "      <td>93439.2696</td>\n",
       "    </tr>\n",
       "    <tr>\n",
       "      <th>Supplies</th>\n",
       "      <td>16049.4100</td>\n",
       "      <td>192</td>\n",
       "      <td>-955.3128</td>\n",
       "      <td>-0.010224</td>\n",
       "      <td>93439.2696</td>\n",
       "    </tr>\n",
       "    <tr>\n",
       "      <th>Machines</th>\n",
       "      <td>43544.6750</td>\n",
       "      <td>121</td>\n",
       "      <td>-2869.2156</td>\n",
       "      <td>-0.030707</td>\n",
       "      <td>93439.2696</td>\n",
       "    </tr>\n",
       "    <tr>\n",
       "      <th>Tables</th>\n",
       "      <td>60893.5425</td>\n",
       "      <td>390</td>\n",
       "      <td>-8140.6947</td>\n",
       "      <td>-0.087123</td>\n",
       "      <td>93439.2696</td>\n",
       "    </tr>\n",
       "  </tbody>\n",
       "</table>\n",
       "</div>"
      ],
      "text/plain": [
       "                    Sales  Quantity      Profit  PctProfitOfYear  Year-Profit\n",
       "Sub-Category                                                                 \n",
       "Copiers        62899.3880        73  25031.7902         0.267894   93439.2696\n",
       "Accessories    59946.2320      1079  15672.3570         0.167728   93439.2696\n",
       "Phones        105340.5160      1090  12849.3250         0.137515   93439.2696\n",
       "Paper          27694.7180      1702  12040.8434         0.128863   93439.2696\n",
       "Appliances     42926.9320       654   7865.2683         0.084175   93439.2696\n",
       "Binders        72788.0450      2067   7669.7418         0.082083   93439.2696\n",
       "Chairs         95554.3530       674   7643.5493         0.081802   93439.2696\n",
       "Storage        69677.6180      1022   7402.8007         0.079226   93439.2696\n",
       "Furnishings    28915.0940      1097   4099.1628         0.043870   93439.2696\n",
       "Art             8863.0680      1101   2221.9631         0.023780   93439.2696\n",
       "Labels          3861.2160       448   1744.6093         0.018671   93439.2696\n",
       "Envelopes       3378.5740       241   1441.7590         0.015430   93439.2696\n",
       "Fasteners        857.5940       249    304.9489         0.003264   93439.2696\n",
       "Bookcases      30024.2797       276   -583.6261        -0.006246   93439.2696\n",
       "Supplies       16049.4100       192   -955.3128        -0.010224   93439.2696\n",
       "Machines       43544.6750       121  -2869.2156        -0.030707   93439.2696\n",
       "Tables         60893.5425       390  -8140.6947        -0.087123   93439.2696"
      ]
     },
     "execution_count": 17,
     "metadata": {},
     "output_type": "execute_result"
    }
   ],
   "source": [
    "df_year_subcat.loc[2017].sort_values(by='PctProfitOfYear',ascending=False)"
   ]
  },
  {
   "cell_type": "markdown",
   "id": "88380b12-1304-4aa6-9dc6-4ea2f9362b09",
   "metadata": {},
   "source": [
    "In 2017, the top three sub-categories were from the technology category. Notably, \"Paper\", which is from the Office Supplies category, brought in 12% of sales."
   ]
  },
  {
   "cell_type": "markdown",
   "id": "45c0a485-d063-48f9-b019-366c1d9052ee",
   "metadata": {},
   "source": [
    "## 2. Negative Profit Margins"
   ]
  },
  {
   "cell_type": "code",
   "execution_count": 18,
   "id": "715eb3dc-a7d1-460f-88d4-ecdae69d3f2c",
   "metadata": {},
   "outputs": [
    {
     "data": {
      "text/html": [
       "<div>\n",
       "<style scoped>\n",
       "    .dataframe tbody tr th:only-of-type {\n",
       "        vertical-align: middle;\n",
       "    }\n",
       "\n",
       "    .dataframe tbody tr th {\n",
       "        vertical-align: top;\n",
       "    }\n",
       "\n",
       "    .dataframe thead th {\n",
       "        text-align: right;\n",
       "    }\n",
       "</style>\n",
       "<table border=\"1\" class=\"dataframe\">\n",
       "  <thead>\n",
       "    <tr style=\"text-align: right;\">\n",
       "      <th></th>\n",
       "      <th>Sales</th>\n",
       "      <th>Quantity</th>\n",
       "      <th>Profit</th>\n",
       "      <th>PctProfitOfYear</th>\n",
       "      <th>Year-Profit</th>\n",
       "    </tr>\n",
       "    <tr>\n",
       "      <th>Sub-Category</th>\n",
       "      <th></th>\n",
       "      <th></th>\n",
       "      <th></th>\n",
       "      <th></th>\n",
       "      <th></th>\n",
       "    </tr>\n",
       "  </thead>\n",
       "  <tbody>\n",
       "    <tr>\n",
       "      <th>Tables</th>\n",
       "      <td>60893.5425</td>\n",
       "      <td>390</td>\n",
       "      <td>-8140.6947</td>\n",
       "      <td>-0.087123</td>\n",
       "      <td>93439.2696</td>\n",
       "    </tr>\n",
       "    <tr>\n",
       "      <th>Machines</th>\n",
       "      <td>43544.6750</td>\n",
       "      <td>121</td>\n",
       "      <td>-2869.2156</td>\n",
       "      <td>-0.030707</td>\n",
       "      <td>93439.2696</td>\n",
       "    </tr>\n",
       "    <tr>\n",
       "      <th>Supplies</th>\n",
       "      <td>16049.4100</td>\n",
       "      <td>192</td>\n",
       "      <td>-955.3128</td>\n",
       "      <td>-0.010224</td>\n",
       "      <td>93439.2696</td>\n",
       "    </tr>\n",
       "    <tr>\n",
       "      <th>Bookcases</th>\n",
       "      <td>30024.2797</td>\n",
       "      <td>276</td>\n",
       "      <td>-583.6261</td>\n",
       "      <td>-0.006246</td>\n",
       "      <td>93439.2696</td>\n",
       "    </tr>\n",
       "    <tr>\n",
       "      <th>Fasteners</th>\n",
       "      <td>857.5940</td>\n",
       "      <td>249</td>\n",
       "      <td>304.9489</td>\n",
       "      <td>0.003264</td>\n",
       "      <td>93439.2696</td>\n",
       "    </tr>\n",
       "    <tr>\n",
       "      <th>Envelopes</th>\n",
       "      <td>3378.5740</td>\n",
       "      <td>241</td>\n",
       "      <td>1441.7590</td>\n",
       "      <td>0.015430</td>\n",
       "      <td>93439.2696</td>\n",
       "    </tr>\n",
       "    <tr>\n",
       "      <th>Labels</th>\n",
       "      <td>3861.2160</td>\n",
       "      <td>448</td>\n",
       "      <td>1744.6093</td>\n",
       "      <td>0.018671</td>\n",
       "      <td>93439.2696</td>\n",
       "    </tr>\n",
       "    <tr>\n",
       "      <th>Art</th>\n",
       "      <td>8863.0680</td>\n",
       "      <td>1101</td>\n",
       "      <td>2221.9631</td>\n",
       "      <td>0.023780</td>\n",
       "      <td>93439.2696</td>\n",
       "    </tr>\n",
       "    <tr>\n",
       "      <th>Furnishings</th>\n",
       "      <td>28915.0940</td>\n",
       "      <td>1097</td>\n",
       "      <td>4099.1628</td>\n",
       "      <td>0.043870</td>\n",
       "      <td>93439.2696</td>\n",
       "    </tr>\n",
       "    <tr>\n",
       "      <th>Storage</th>\n",
       "      <td>69677.6180</td>\n",
       "      <td>1022</td>\n",
       "      <td>7402.8007</td>\n",
       "      <td>0.079226</td>\n",
       "      <td>93439.2696</td>\n",
       "    </tr>\n",
       "    <tr>\n",
       "      <th>Chairs</th>\n",
       "      <td>95554.3530</td>\n",
       "      <td>674</td>\n",
       "      <td>7643.5493</td>\n",
       "      <td>0.081802</td>\n",
       "      <td>93439.2696</td>\n",
       "    </tr>\n",
       "    <tr>\n",
       "      <th>Binders</th>\n",
       "      <td>72788.0450</td>\n",
       "      <td>2067</td>\n",
       "      <td>7669.7418</td>\n",
       "      <td>0.082083</td>\n",
       "      <td>93439.2696</td>\n",
       "    </tr>\n",
       "    <tr>\n",
       "      <th>Appliances</th>\n",
       "      <td>42926.9320</td>\n",
       "      <td>654</td>\n",
       "      <td>7865.2683</td>\n",
       "      <td>0.084175</td>\n",
       "      <td>93439.2696</td>\n",
       "    </tr>\n",
       "    <tr>\n",
       "      <th>Paper</th>\n",
       "      <td>27694.7180</td>\n",
       "      <td>1702</td>\n",
       "      <td>12040.8434</td>\n",
       "      <td>0.128863</td>\n",
       "      <td>93439.2696</td>\n",
       "    </tr>\n",
       "    <tr>\n",
       "      <th>Phones</th>\n",
       "      <td>105340.5160</td>\n",
       "      <td>1090</td>\n",
       "      <td>12849.3250</td>\n",
       "      <td>0.137515</td>\n",
       "      <td>93439.2696</td>\n",
       "    </tr>\n",
       "    <tr>\n",
       "      <th>Accessories</th>\n",
       "      <td>59946.2320</td>\n",
       "      <td>1079</td>\n",
       "      <td>15672.3570</td>\n",
       "      <td>0.167728</td>\n",
       "      <td>93439.2696</td>\n",
       "    </tr>\n",
       "    <tr>\n",
       "      <th>Copiers</th>\n",
       "      <td>62899.3880</td>\n",
       "      <td>73</td>\n",
       "      <td>25031.7902</td>\n",
       "      <td>0.267894</td>\n",
       "      <td>93439.2696</td>\n",
       "    </tr>\n",
       "  </tbody>\n",
       "</table>\n",
       "</div>"
      ],
      "text/plain": [
       "                    Sales  Quantity      Profit  PctProfitOfYear  Year-Profit\n",
       "Sub-Category                                                                 \n",
       "Tables         60893.5425       390  -8140.6947        -0.087123   93439.2696\n",
       "Machines       43544.6750       121  -2869.2156        -0.030707   93439.2696\n",
       "Supplies       16049.4100       192   -955.3128        -0.010224   93439.2696\n",
       "Bookcases      30024.2797       276   -583.6261        -0.006246   93439.2696\n",
       "Fasteners        857.5940       249    304.9489         0.003264   93439.2696\n",
       "Envelopes       3378.5740       241   1441.7590         0.015430   93439.2696\n",
       "Labels          3861.2160       448   1744.6093         0.018671   93439.2696\n",
       "Art             8863.0680      1101   2221.9631         0.023780   93439.2696\n",
       "Furnishings    28915.0940      1097   4099.1628         0.043870   93439.2696\n",
       "Storage        69677.6180      1022   7402.8007         0.079226   93439.2696\n",
       "Chairs         95554.3530       674   7643.5493         0.081802   93439.2696\n",
       "Binders        72788.0450      2067   7669.7418         0.082083   93439.2696\n",
       "Appliances     42926.9320       654   7865.2683         0.084175   93439.2696\n",
       "Paper          27694.7180      1702  12040.8434         0.128863   93439.2696\n",
       "Phones        105340.5160      1090  12849.3250         0.137515   93439.2696\n",
       "Accessories    59946.2320      1079  15672.3570         0.167728   93439.2696\n",
       "Copiers        62899.3880        73  25031.7902         0.267894   93439.2696"
      ]
     },
     "execution_count": 18,
     "metadata": {},
     "output_type": "execute_result"
    }
   ],
   "source": [
    "df_year_subcat.loc[2017].sort_values(by='PctProfitOfYear')"
   ]
  },
  {
   "cell_type": "markdown",
   "id": "23251af9-0870-40ed-804f-340d4ab9636d",
   "metadata": {},
   "source": [
    "\"Tables\", \"Machines\", \"Supplies\", and \"Bookcases\" brought in negative profit margins in 2017."
   ]
  },
  {
   "cell_type": "markdown",
   "id": "a60b77ef-4ef5-433e-b10d-2dfd76d48070",
   "metadata": {},
   "source": [
    "## 3. Increase in 2017 Sales"
   ]
  },
  {
   "cell_type": "markdown",
   "id": "af5e2e29-c690-4950-be43-c60a7b12685f",
   "metadata": {
    "tags": []
   },
   "source": [
    "##### Setup"
   ]
  },
  {
   "cell_type": "code",
   "execution_count": 19,
   "id": "5b9b8d5c-253b-40fc-a59d-02149962864b",
   "metadata": {
    "tags": []
   },
   "outputs": [
    {
     "data": {
      "text/html": [
       "<div>\n",
       "<style scoped>\n",
       "    .dataframe tbody tr th:only-of-type {\n",
       "        vertical-align: middle;\n",
       "    }\n",
       "\n",
       "    .dataframe tbody tr th {\n",
       "        vertical-align: top;\n",
       "    }\n",
       "\n",
       "    .dataframe thead th {\n",
       "        text-align: right;\n",
       "    }\n",
       "</style>\n",
       "<table border=\"1\" class=\"dataframe\">\n",
       "  <thead>\n",
       "    <tr style=\"text-align: right;\">\n",
       "      <th></th>\n",
       "      <th>Year</th>\n",
       "      <th>Month</th>\n",
       "      <th>Sales</th>\n",
       "      <th>Quantity</th>\n",
       "      <th>Discount</th>\n",
       "      <th>Profit</th>\n",
       "      <th>Date</th>\n",
       "    </tr>\n",
       "  </thead>\n",
       "  <tbody>\n",
       "    <tr>\n",
       "      <th>0</th>\n",
       "      <td>2014</td>\n",
       "      <td>1</td>\n",
       "      <td>14236.8950</td>\n",
       "      <td>284</td>\n",
       "      <td>10.00</td>\n",
       "      <td>2450.1907</td>\n",
       "      <td>2014-01-01</td>\n",
       "    </tr>\n",
       "    <tr>\n",
       "      <th>1</th>\n",
       "      <td>2014</td>\n",
       "      <td>2</td>\n",
       "      <td>4519.8920</td>\n",
       "      <td>159</td>\n",
       "      <td>8.10</td>\n",
       "      <td>862.3084</td>\n",
       "      <td>2014-02-01</td>\n",
       "    </tr>\n",
       "    <tr>\n",
       "      <th>2</th>\n",
       "      <td>2014</td>\n",
       "      <td>3</td>\n",
       "      <td>55691.0090</td>\n",
       "      <td>585</td>\n",
       "      <td>26.30</td>\n",
       "      <td>498.7299</td>\n",
       "      <td>2014-03-01</td>\n",
       "    </tr>\n",
       "    <tr>\n",
       "      <th>3</th>\n",
       "      <td>2014</td>\n",
       "      <td>4</td>\n",
       "      <td>28295.3450</td>\n",
       "      <td>536</td>\n",
       "      <td>14.85</td>\n",
       "      <td>3488.8352</td>\n",
       "      <td>2014-04-01</td>\n",
       "    </tr>\n",
       "    <tr>\n",
       "      <th>4</th>\n",
       "      <td>2014</td>\n",
       "      <td>5</td>\n",
       "      <td>23648.2870</td>\n",
       "      <td>466</td>\n",
       "      <td>18.95</td>\n",
       "      <td>2738.7096</td>\n",
       "      <td>2014-05-01</td>\n",
       "    </tr>\n",
       "    <tr>\n",
       "      <th>5</th>\n",
       "      <td>2014</td>\n",
       "      <td>6</td>\n",
       "      <td>34595.1276</td>\n",
       "      <td>521</td>\n",
       "      <td>23.22</td>\n",
       "      <td>4976.5244</td>\n",
       "      <td>2014-06-01</td>\n",
       "    </tr>\n",
       "    <tr>\n",
       "      <th>6</th>\n",
       "      <td>2014</td>\n",
       "      <td>7</td>\n",
       "      <td>33946.3930</td>\n",
       "      <td>550</td>\n",
       "      <td>24.55</td>\n",
       "      <td>-841.4826</td>\n",
       "      <td>2014-07-01</td>\n",
       "    </tr>\n",
       "    <tr>\n",
       "      <th>7</th>\n",
       "      <td>2014</td>\n",
       "      <td>8</td>\n",
       "      <td>27909.4685</td>\n",
       "      <td>609</td>\n",
       "      <td>20.05</td>\n",
       "      <td>5318.1050</td>\n",
       "      <td>2014-08-01</td>\n",
       "    </tr>\n",
       "    <tr>\n",
       "      <th>8</th>\n",
       "      <td>2014</td>\n",
       "      <td>9</td>\n",
       "      <td>81777.3508</td>\n",
       "      <td>1000</td>\n",
       "      <td>42.87</td>\n",
       "      <td>8328.0994</td>\n",
       "      <td>2014-09-01</td>\n",
       "    </tr>\n",
       "    <tr>\n",
       "      <th>9</th>\n",
       "      <td>2014</td>\n",
       "      <td>10</td>\n",
       "      <td>31453.3930</td>\n",
       "      <td>573</td>\n",
       "      <td>25.45</td>\n",
       "      <td>3448.2573</td>\n",
       "      <td>2014-10-01</td>\n",
       "    </tr>\n",
       "  </tbody>\n",
       "</table>\n",
       "</div>"
      ],
      "text/plain": [
       "   Year  Month       Sales  Quantity  Discount     Profit       Date\n",
       "0  2014      1  14236.8950       284     10.00  2450.1907 2014-01-01\n",
       "1  2014      2   4519.8920       159      8.10   862.3084 2014-02-01\n",
       "2  2014      3  55691.0090       585     26.30   498.7299 2014-03-01\n",
       "3  2014      4  28295.3450       536     14.85  3488.8352 2014-04-01\n",
       "4  2014      5  23648.2870       466     18.95  2738.7096 2014-05-01\n",
       "5  2014      6  34595.1276       521     23.22  4976.5244 2014-06-01\n",
       "6  2014      7  33946.3930       550     24.55  -841.4826 2014-07-01\n",
       "7  2014      8  27909.4685       609     20.05  5318.1050 2014-08-01\n",
       "8  2014      9  81777.3508      1000     42.87  8328.0994 2014-09-01\n",
       "9  2014     10  31453.3930       573     25.45  3448.2573 2014-10-01"
      ]
     },
     "execution_count": 19,
     "metadata": {},
     "output_type": "execute_result"
    }
   ],
   "source": [
    "df_overall_sales = df.groupby(['Year','Month']).agg('sum').reset_index()\n",
    "df_overall_sales['Date'] = df_overall_sales['Month'].map(str)+ '-' +df_overall_sales['Year'].map(str)\n",
    "df_overall_sales['Date'] = pd.to_datetime(df_overall_sales['Date'], format='%m-%Y')#.dt.strftime('%m-%Y')\n",
    "df_overall_sales.head(10)"
   ]
  },
  {
   "cell_type": "markdown",
   "id": "a8bf929c-c20b-4594-9423-caf55ba97e3f",
   "metadata": {},
   "source": [
    "##### Year to Year data"
   ]
  },
  {
   "cell_type": "code",
   "execution_count": 20,
   "id": "639f9dfb-7758-4894-aafb-e8581d41e64a",
   "metadata": {},
   "outputs": [
    {
     "data": {
      "text/html": [
       "<div>\n",
       "<style scoped>\n",
       "    .dataframe tbody tr th:only-of-type {\n",
       "        vertical-align: middle;\n",
       "    }\n",
       "\n",
       "    .dataframe tbody tr th {\n",
       "        vertical-align: top;\n",
       "    }\n",
       "\n",
       "    .dataframe thead th {\n",
       "        text-align: right;\n",
       "    }\n",
       "</style>\n",
       "<table border=\"1\" class=\"dataframe\">\n",
       "  <thead>\n",
       "    <tr style=\"text-align: right;\">\n",
       "      <th></th>\n",
       "      <th>Sales</th>\n",
       "      <th>Quantity</th>\n",
       "      <th>Profit</th>\n",
       "    </tr>\n",
       "    <tr>\n",
       "      <th>Year</th>\n",
       "      <th></th>\n",
       "      <th></th>\n",
       "      <th></th>\n",
       "    </tr>\n",
       "  </thead>\n",
       "  <tbody>\n",
       "    <tr>\n",
       "      <th>2014</th>\n",
       "      <td>484247.50</td>\n",
       "      <td>7581</td>\n",
       "      <td>49543.97</td>\n",
       "    </tr>\n",
       "    <tr>\n",
       "      <th>2015</th>\n",
       "      <td>470532.51</td>\n",
       "      <td>7979</td>\n",
       "      <td>61618.60</td>\n",
       "    </tr>\n",
       "    <tr>\n",
       "      <th>2016</th>\n",
       "      <td>609205.60</td>\n",
       "      <td>9837</td>\n",
       "      <td>81795.17</td>\n",
       "    </tr>\n",
       "    <tr>\n",
       "      <th>2017</th>\n",
       "      <td>733215.26</td>\n",
       "      <td>12476</td>\n",
       "      <td>93439.27</td>\n",
       "    </tr>\n",
       "  </tbody>\n",
       "</table>\n",
       "</div>"
      ],
      "text/plain": [
       "          Sales  Quantity    Profit\n",
       "Year                               \n",
       "2014  484247.50      7581  49543.97\n",
       "2015  470532.51      7979  61618.60\n",
       "2016  609205.60      9837  81795.17\n",
       "2017  733215.26     12476  93439.27"
      ]
     },
     "execution_count": 20,
     "metadata": {},
     "output_type": "execute_result"
    }
   ],
   "source": [
    "df_year_sum = df.groupby('Year').sum().drop(columns=['Month','Discount']).round(2)\n",
    "df_year_sum"
   ]
  },
  {
   "cell_type": "code",
   "execution_count": 21,
   "id": "e10460bf-893a-469a-92b3-74f5c7f605ed",
   "metadata": {},
   "outputs": [
    {
     "data": {
      "text/plain": [
       "248967.76"
      ]
     },
     "execution_count": 21,
     "metadata": {},
     "output_type": "execute_result"
    }
   ],
   "source": [
    "df_tot_sales_inc = df_year_sum.loc[2017] - df_year_sum.loc[2014]\n",
    "df_tot_sales_inc = df_tot_sales_inc['Sales']\n",
    "df_tot_sales_inc"
   ]
  },
  {
   "cell_type": "markdown",
   "id": "a532d438-c16a-4151-8569-8adee1a0502c",
   "metadata": {},
   "source": [
    "##### Overall Sales Over Time"
   ]
  },
  {
   "cell_type": "code",
   "execution_count": 22,
   "id": "acaae888-48b1-46da-a559-e3b5f092879a",
   "metadata": {
    "tags": []
   },
   "outputs": [
    {
     "data": {
      "image/png": "[encoded data removed]",
      "text/plain": [
       "<Figure size 432x288 with 1 Axes>"
      ]
     },
     "metadata": {},
     "output_type": "display_data"
    }
   ],
   "source": [
    "fig, ax = plt.subplots()\n",
    "\n",
    "plt.plot(df_overall_sales['Date'], df_overall_sales['Sales'])\n",
    "plt.title('Overall Sales')\n",
    "plt.ylabel('Sales (USD)')\n",
    "fig.autofmt_xdate()\n",
    "\n",
    "plt.gca().xaxis.set_major_locator(mdates.YearLocator(1,month=1,day=1))"
   ]
  },
  {
   "cell_type": "code",
   "execution_count": 23,
   "id": "7af79d5c-2fdb-4e45-aa6c-dcd6785d3303",
   "metadata": {
    "tags": []
   },
   "outputs": [],
   "source": [
    "df_sales = df_year_subcat.reset_index()\n",
    "df_sales = pd.crosstab(df_sales['Year'],df_sales['Sub-Category'],values=df_sales['Sales'],\n",
    "                       aggfunc='sum',margins=False).round(2)\n",
    "df_sales.loc['Increase'] = df_sales.loc[2017] - df_sales.loc[2014]\n",
    "df_sales.loc['PctIncrease'] = ((df_sales.loc[2017] - df_sales.loc[2014])/df_sales.loc[2017]).round(2)\n",
    "df_sales.loc['OverallSalesPctInc'] = (df_sales.loc['Increase']/df_tot_sales_inc).round(2)"
   ]
  },
  {
   "cell_type": "code",
   "execution_count": 24,
   "id": "b251f86c-f55d-4377-ba4b-601b7c2f4e23",
   "metadata": {},
   "outputs": [
    {
     "data": {
      "image/png": "[encoded data removed]",
      "text/plain": [
       "<Figure size 1080x720 with 2 Axes>"
      ]
     },
     "metadata": {},
     "output_type": "display_data"
    }
   ],
   "source": [
    "import seaborn as sns\n",
    "fig, ax = plt.subplots(figsize=(15,10))  \n",
    "heatmap = sns.heatmap(df_sales,cmap=\"YlGnBu\",annot=True,cbar=True,ax=ax,annot_kws={'rotation': 90},fmt='g')\n"
   ]
  },
  {
   "cell_type": "markdown",
   "id": "2c04527a-fc69-4b71-ac02-97d1e9b3cf60",
   "metadata": {},
   "source": [
    "\"Copiers\" drove the increase in sales from 2014 to 2017. It was both the highest percentage increase (83%) and amount increase (~$52,049). From our previous analysis, we also know that it has the highest profit margins as well. It attributed to 21% of the overall sales increase.\n",
    "\n",
    "\"Accessories\" and \"Applicances\" has had notable increases in sales as well. \"Accessories\" increased by 58% or ~\\\\$34,932, and \"Appliances\" increased by 64% or\n",
    "~\\\\$27,613.\n",
    "\n",
    "The sub-categories of \"Copiers\", \"Accessories\", \"Binders\", \"Phones\", and \"Appliances\" consisted of 69% of the total increase in sales since 2014 (~\\\\$248,967)."
   ]
  },
  {
   "cell_type": "markdown",
   "id": "6850c87a-1158-4074-b8aa-e029a2332863",
   "metadata": {},
   "source": [
    "## 4. Customers of Technology"
   ]
  },
  {
   "cell_type": "markdown",
   "id": "1f38403d-03c6-4358-b618-ae715d2474a9",
   "metadata": {},
   "source": [
    "##### Category"
   ]
  },
  {
   "cell_type": "code",
   "execution_count": 25,
   "id": "0a65e0c2-80f6-48d3-95cc-cf11314ae1a2",
   "metadata": {},
   "outputs": [
    {
     "data": {
      "text/plain": [
       "(1847, 23)"
      ]
     },
     "execution_count": 25,
     "metadata": {},
     "output_type": "execute_result"
    }
   ],
   "source": [
    "tech = (df['Category']=='Technology')\n",
    "df_tech = df[tech]\n",
    "df_tech.shape"
   ]
  },
  {
   "cell_type": "code",
   "execution_count": 26,
   "id": "d38287cd-9863-4236-8be5-e531179318a5",
   "metadata": {},
   "outputs": [
    {
     "data": {
      "text/plain": [
       "687"
      ]
     },
     "execution_count": 26,
     "metadata": {},
     "output_type": "execute_result"
    }
   ],
   "source": [
    "df_tech['Customer ID'].nunique()"
   ]
  },
  {
   "cell_type": "code",
   "execution_count": 27,
   "id": "19b25f9f-7a4f-476f-9100-edff3610bff5",
   "metadata": {},
   "outputs": [
    {
     "data": {
      "text/html": [
       "<div>\n",
       "<style scoped>\n",
       "    .dataframe tbody tr th:only-of-type {\n",
       "        vertical-align: middle;\n",
       "    }\n",
       "\n",
       "    .dataframe tbody tr th {\n",
       "        vertical-align: top;\n",
       "    }\n",
       "\n",
       "    .dataframe thead th {\n",
       "        text-align: right;\n",
       "    }\n",
       "</style>\n",
       "<table border=\"1\" class=\"dataframe\">\n",
       "  <thead>\n",
       "    <tr style=\"text-align: right;\">\n",
       "      <th></th>\n",
       "      <th>Order ID</th>\n",
       "      <th>Order Date</th>\n",
       "      <th>Ship Date</th>\n",
       "      <th>Ship Mode</th>\n",
       "      <th>Customer ID</th>\n",
       "      <th>Customer Name</th>\n",
       "      <th>Segment</th>\n",
       "      <th>Country</th>\n",
       "      <th>City</th>\n",
       "      <th>State</th>\n",
       "      <th>Postal Code</th>\n",
       "      <th>Region</th>\n",
       "      <th>Product ID</th>\n",
       "      <th>Category</th>\n",
       "      <th>Sub-Category</th>\n",
       "      <th>Product Name</th>\n",
       "      <th>Sales</th>\n",
       "      <th>Quantity</th>\n",
       "      <th>Discount</th>\n",
       "      <th>Profit</th>\n",
       "      <th>Year</th>\n",
       "      <th>Month</th>\n",
       "      <th>DOW</th>\n",
       "    </tr>\n",
       "  </thead>\n",
       "  <tbody>\n",
       "    <tr>\n",
       "      <th>1985</th>\n",
       "      <td>CA-2014-157644</td>\n",
       "      <td>2014-12-31</td>\n",
       "      <td>2015-01-01</td>\n",
       "      <td>First Class</td>\n",
       "      <td>AH-10030</td>\n",
       "      <td>Aaron Hawkins</td>\n",
       "      <td>Corporate</td>\n",
       "      <td>United States</td>\n",
       "      <td>New York City</td>\n",
       "      <td>NY</td>\n",
       "      <td>10035</td>\n",
       "      <td>East</td>\n",
       "      <td>TEC-AC-10003614</td>\n",
       "      <td>Technology</td>\n",
       "      <td>Accessories</td>\n",
       "      <td>Verbatim 25 GB 6x Blu-ray Single Layer Recorda...</td>\n",
       "      <td>34.770</td>\n",
       "      <td>3</td>\n",
       "      <td>0.0</td>\n",
       "      <td>11.4741</td>\n",
       "      <td>2014</td>\n",
       "      <td>12</td>\n",
       "      <td>Wednesday</td>\n",
       "    </tr>\n",
       "    <tr>\n",
       "      <th>4056</th>\n",
       "      <td>CA-2015-130113</td>\n",
       "      <td>2015-12-27</td>\n",
       "      <td>2015-12-31</td>\n",
       "      <td>Standard Class</td>\n",
       "      <td>AH-10030</td>\n",
       "      <td>Aaron Hawkins</td>\n",
       "      <td>Corporate</td>\n",
       "      <td>United States</td>\n",
       "      <td>San Francisco</td>\n",
       "      <td>CA</td>\n",
       "      <td>94122</td>\n",
       "      <td>West</td>\n",
       "      <td>TEC-PH-10003505</td>\n",
       "      <td>Technology</td>\n",
       "      <td>Phones</td>\n",
       "      <td>Geemarc AmpliPOWER60</td>\n",
       "      <td>668.160</td>\n",
       "      <td>9</td>\n",
       "      <td>0.2</td>\n",
       "      <td>75.1680</td>\n",
       "      <td>2015</td>\n",
       "      <td>12</td>\n",
       "      <td>Sunday</td>\n",
       "    </tr>\n",
       "    <tr>\n",
       "      <th>6697</th>\n",
       "      <td>CA-2017-113481</td>\n",
       "      <td>2017-01-02</td>\n",
       "      <td>2017-01-04</td>\n",
       "      <td>First Class</td>\n",
       "      <td>AS-10045</td>\n",
       "      <td>Aaron Smayling</td>\n",
       "      <td>Corporate</td>\n",
       "      <td>United States</td>\n",
       "      <td>Jacksonville</td>\n",
       "      <td>NC</td>\n",
       "      <td>28540</td>\n",
       "      <td>South</td>\n",
       "      <td>TEC-MA-10002178</td>\n",
       "      <td>Technology</td>\n",
       "      <td>Machines</td>\n",
       "      <td>Cisco CP-7937G Unified IP Conference Station P...</td>\n",
       "      <td>695.700</td>\n",
       "      <td>2</td>\n",
       "      <td>0.5</td>\n",
       "      <td>-27.8280</td>\n",
       "      <td>2017</td>\n",
       "      <td>1</td>\n",
       "      <td>Monday</td>\n",
       "    </tr>\n",
       "    <tr>\n",
       "      <th>8098</th>\n",
       "      <td>CA-2017-162691</td>\n",
       "      <td>2017-08-01</td>\n",
       "      <td>2017-08-07</td>\n",
       "      <td>Standard Class</td>\n",
       "      <td>AS-10045</td>\n",
       "      <td>Aaron Smayling</td>\n",
       "      <td>Corporate</td>\n",
       "      <td>United States</td>\n",
       "      <td>Austin</td>\n",
       "      <td>TX</td>\n",
       "      <td>78745</td>\n",
       "      <td>Central</td>\n",
       "      <td>TEC-MA-10000488</td>\n",
       "      <td>Technology</td>\n",
       "      <td>Machines</td>\n",
       "      <td>Bady BDG101FRU Card Printer</td>\n",
       "      <td>1439.982</td>\n",
       "      <td>3</td>\n",
       "      <td>0.4</td>\n",
       "      <td>-263.9967</td>\n",
       "      <td>2017</td>\n",
       "      <td>8</td>\n",
       "      <td>Tuesday</td>\n",
       "    </tr>\n",
       "    <tr>\n",
       "      <th>9186</th>\n",
       "      <td>CA-2017-107174</td>\n",
       "      <td>2017-11-06</td>\n",
       "      <td>2017-11-13</td>\n",
       "      <td>Standard Class</td>\n",
       "      <td>AB-10060</td>\n",
       "      <td>Adam Bellavance</td>\n",
       "      <td>Home Office</td>\n",
       "      <td>United States</td>\n",
       "      <td>Seattle</td>\n",
       "      <td>WA</td>\n",
       "      <td>98105</td>\n",
       "      <td>West</td>\n",
       "      <td>TEC-AC-10001465</td>\n",
       "      <td>Technology</td>\n",
       "      <td>Accessories</td>\n",
       "      <td>SanDisk Cruzer 64 GB USB Flash Drive</td>\n",
       "      <td>108.960</td>\n",
       "      <td>3</td>\n",
       "      <td>0.0</td>\n",
       "      <td>32.6880</td>\n",
       "      <td>2017</td>\n",
       "      <td>11</td>\n",
       "      <td>Monday</td>\n",
       "    </tr>\n",
       "    <tr>\n",
       "      <th>...</th>\n",
       "      <td>...</td>\n",
       "      <td>...</td>\n",
       "      <td>...</td>\n",
       "      <td>...</td>\n",
       "      <td>...</td>\n",
       "      <td>...</td>\n",
       "      <td>...</td>\n",
       "      <td>...</td>\n",
       "      <td>...</td>\n",
       "      <td>...</td>\n",
       "      <td>...</td>\n",
       "      <td>...</td>\n",
       "      <td>...</td>\n",
       "      <td>...</td>\n",
       "      <td>...</td>\n",
       "      <td>...</td>\n",
       "      <td>...</td>\n",
       "      <td>...</td>\n",
       "      <td>...</td>\n",
       "      <td>...</td>\n",
       "      <td>...</td>\n",
       "      <td>...</td>\n",
       "      <td>...</td>\n",
       "    </tr>\n",
       "    <tr>\n",
       "      <th>1302</th>\n",
       "      <td>CA-2014-151995</td>\n",
       "      <td>2014-10-13</td>\n",
       "      <td>2014-10-15</td>\n",
       "      <td>First Class</td>\n",
       "      <td>ZC-21910</td>\n",
       "      <td>Zuschuss Carroll</td>\n",
       "      <td>Consumer</td>\n",
       "      <td>United States</td>\n",
       "      <td>Edmonds</td>\n",
       "      <td>WA</td>\n",
       "      <td>98026</td>\n",
       "      <td>West</td>\n",
       "      <td>TEC-AC-10001101</td>\n",
       "      <td>Technology</td>\n",
       "      <td>Accessories</td>\n",
       "      <td>Sony 16GB Class 10 Micro SDHC R40 Memory Card</td>\n",
       "      <td>25.780</td>\n",
       "      <td>2</td>\n",
       "      <td>0.0</td>\n",
       "      <td>2.5780</td>\n",
       "      <td>2014</td>\n",
       "      <td>10</td>\n",
       "      <td>Monday</td>\n",
       "    </tr>\n",
       "    <tr>\n",
       "      <th>2311</th>\n",
       "      <td>CA-2015-133452</td>\n",
       "      <td>2015-04-13</td>\n",
       "      <td>2015-04-19</td>\n",
       "      <td>Standard Class</td>\n",
       "      <td>ZC-21910</td>\n",
       "      <td>Zuschuss Carroll</td>\n",
       "      <td>Consumer</td>\n",
       "      <td>United States</td>\n",
       "      <td>Pomona</td>\n",
       "      <td>CA</td>\n",
       "      <td>91767</td>\n",
       "      <td>West</td>\n",
       "      <td>TEC-AC-10002800</td>\n",
       "      <td>Technology</td>\n",
       "      <td>Accessories</td>\n",
       "      <td>Plantronics Audio 478 Stereo USB Headset</td>\n",
       "      <td>199.960</td>\n",
       "      <td>4</td>\n",
       "      <td>0.0</td>\n",
       "      <td>69.9860</td>\n",
       "      <td>2015</td>\n",
       "      <td>4</td>\n",
       "      <td>Monday</td>\n",
       "    </tr>\n",
       "    <tr>\n",
       "      <th>5069</th>\n",
       "      <td>CA-2016-152471</td>\n",
       "      <td>2016-07-08</td>\n",
       "      <td>2016-07-08</td>\n",
       "      <td>Same Day</td>\n",
       "      <td>ZD-21925</td>\n",
       "      <td>Zuschuss Donatelli</td>\n",
       "      <td>Consumer</td>\n",
       "      <td>United States</td>\n",
       "      <td>Jacksonville</td>\n",
       "      <td>FL</td>\n",
       "      <td>32216</td>\n",
       "      <td>South</td>\n",
       "      <td>TEC-PH-10002824</td>\n",
       "      <td>Technology</td>\n",
       "      <td>Phones</td>\n",
       "      <td>Jabra SPEAK 410 Multidevice Speakerphone</td>\n",
       "      <td>823.960</td>\n",
       "      <td>5</td>\n",
       "      <td>0.2</td>\n",
       "      <td>51.4975</td>\n",
       "      <td>2016</td>\n",
       "      <td>7</td>\n",
       "      <td>Friday</td>\n",
       "    </tr>\n",
       "    <tr>\n",
       "      <th>4449</th>\n",
       "      <td>CA-2016-167682</td>\n",
       "      <td>2016-04-03</td>\n",
       "      <td>2016-04-09</td>\n",
       "      <td>Standard Class</td>\n",
       "      <td>ZD-21925</td>\n",
       "      <td>Zuschuss Donatelli</td>\n",
       "      <td>Consumer</td>\n",
       "      <td>United States</td>\n",
       "      <td>Richmond</td>\n",
       "      <td>IN</td>\n",
       "      <td>47374</td>\n",
       "      <td>Central</td>\n",
       "      <td>TEC-PH-10000673</td>\n",
       "      <td>Technology</td>\n",
       "      <td>Phones</td>\n",
       "      <td>Plantronics Voyager Pro HD - Bluetooth Headset</td>\n",
       "      <td>259.960</td>\n",
       "      <td>4</td>\n",
       "      <td>0.0</td>\n",
       "      <td>124.7808</td>\n",
       "      <td>2016</td>\n",
       "      <td>4</td>\n",
       "      <td>Sunday</td>\n",
       "    </tr>\n",
       "    <tr>\n",
       "      <th>959</th>\n",
       "      <td>CA-2014-143336</td>\n",
       "      <td>2014-08-27</td>\n",
       "      <td>2014-09-01</td>\n",
       "      <td>Second Class</td>\n",
       "      <td>ZD-21925</td>\n",
       "      <td>Zuschuss Donatelli</td>\n",
       "      <td>Consumer</td>\n",
       "      <td>United States</td>\n",
       "      <td>San Francisco</td>\n",
       "      <td>CA</td>\n",
       "      <td>94109</td>\n",
       "      <td>West</td>\n",
       "      <td>TEC-PH-10001949</td>\n",
       "      <td>Technology</td>\n",
       "      <td>Phones</td>\n",
       "      <td>Cisco SPA 501G IP Phone</td>\n",
       "      <td>213.480</td>\n",
       "      <td>3</td>\n",
       "      <td>0.2</td>\n",
       "      <td>16.0110</td>\n",
       "      <td>2014</td>\n",
       "      <td>8</td>\n",
       "      <td>Wednesday</td>\n",
       "    </tr>\n",
       "  </tbody>\n",
       "</table>\n",
       "<p>1650 rows × 23 columns</p>\n",
       "</div>"
      ],
      "text/plain": [
       "            Order ID Order Date  Ship Date       Ship Mode Customer ID  \\\n",
       "1985  CA-2014-157644 2014-12-31 2015-01-01     First Class    AH-10030   \n",
       "4056  CA-2015-130113 2015-12-27 2015-12-31  Standard Class    AH-10030   \n",
       "6697  CA-2017-113481 2017-01-02 2017-01-04     First Class    AS-10045   \n",
       "8098  CA-2017-162691 2017-08-01 2017-08-07  Standard Class    AS-10045   \n",
       "9186  CA-2017-107174 2017-11-06 2017-11-13  Standard Class    AB-10060   \n",
       "...              ...        ...        ...             ...         ...   \n",
       "1302  CA-2014-151995 2014-10-13 2014-10-15     First Class    ZC-21910   \n",
       "2311  CA-2015-133452 2015-04-13 2015-04-19  Standard Class    ZC-21910   \n",
       "5069  CA-2016-152471 2016-07-08 2016-07-08        Same Day    ZD-21925   \n",
       "4449  CA-2016-167682 2016-04-03 2016-04-09  Standard Class    ZD-21925   \n",
       "959   CA-2014-143336 2014-08-27 2014-09-01    Second Class    ZD-21925   \n",
       "\n",
       "           Customer Name      Segment        Country           City State  \\\n",
       "1985       Aaron Hawkins    Corporate  United States  New York City    NY   \n",
       "4056       Aaron Hawkins    Corporate  United States  San Francisco    CA   \n",
       "6697      Aaron Smayling    Corporate  United States   Jacksonville    NC   \n",
       "8098      Aaron Smayling    Corporate  United States         Austin    TX   \n",
       "9186     Adam Bellavance  Home Office  United States        Seattle    WA   \n",
       "...                  ...          ...            ...            ...   ...   \n",
       "1302    Zuschuss Carroll     Consumer  United States        Edmonds    WA   \n",
       "2311    Zuschuss Carroll     Consumer  United States         Pomona    CA   \n",
       "5069  Zuschuss Donatelli     Consumer  United States   Jacksonville    FL   \n",
       "4449  Zuschuss Donatelli     Consumer  United States       Richmond    IN   \n",
       "959   Zuschuss Donatelli     Consumer  United States  San Francisco    CA   \n",
       "\n",
       "     Postal Code   Region       Product ID    Category Sub-Category  \\\n",
       "1985       10035     East  TEC-AC-10003614  Technology  Accessories   \n",
       "4056       94122     West  TEC-PH-10003505  Technology       Phones   \n",
       "6697       28540    South  TEC-MA-10002178  Technology     Machines   \n",
       "8098       78745  Central  TEC-MA-10000488  Technology     Machines   \n",
       "9186       98105     West  TEC-AC-10001465  Technology  Accessories   \n",
       "...          ...      ...              ...         ...          ...   \n",
       "1302       98026     West  TEC-AC-10001101  Technology  Accessories   \n",
       "2311       91767     West  TEC-AC-10002800  Technology  Accessories   \n",
       "5069       32216    South  TEC-PH-10002824  Technology       Phones   \n",
       "4449       47374  Central  TEC-PH-10000673  Technology       Phones   \n",
       "959        94109     West  TEC-PH-10001949  Technology       Phones   \n",
       "\n",
       "                                           Product Name     Sales  Quantity  \\\n",
       "1985  Verbatim 25 GB 6x Blu-ray Single Layer Recorda...    34.770         3   \n",
       "4056                               Geemarc AmpliPOWER60   668.160         9   \n",
       "6697  Cisco CP-7937G Unified IP Conference Station P...   695.700         2   \n",
       "8098                        Bady BDG101FRU Card Printer  1439.982         3   \n",
       "9186               SanDisk Cruzer 64 GB USB Flash Drive   108.960         3   \n",
       "...                                                 ...       ...       ...   \n",
       "1302      Sony 16GB Class 10 Micro SDHC R40 Memory Card    25.780         2   \n",
       "2311           Plantronics Audio 478 Stereo USB Headset   199.960         4   \n",
       "5069           Jabra SPEAK 410 Multidevice Speakerphone   823.960         5   \n",
       "4449     Plantronics Voyager Pro HD - Bluetooth Headset   259.960         4   \n",
       "959                             Cisco SPA 501G IP Phone   213.480         3   \n",
       "\n",
       "      Discount    Profit  Year  Month        DOW  \n",
       "1985       0.0   11.4741  2014     12  Wednesday  \n",
       "4056       0.2   75.1680  2015     12     Sunday  \n",
       "6697       0.5  -27.8280  2017      1     Monday  \n",
       "8098       0.4 -263.9967  2017      8    Tuesday  \n",
       "9186       0.0   32.6880  2017     11     Monday  \n",
       "...        ...       ...   ...    ...        ...  \n",
       "1302       0.0    2.5780  2014     10     Monday  \n",
       "2311       0.0   69.9860  2015      4     Monday  \n",
       "5069       0.2   51.4975  2016      7     Friday  \n",
       "4449       0.0  124.7808  2016      4     Sunday  \n",
       "959        0.2   16.0110  2014      8  Wednesday  \n",
       "\n",
       "[1650 rows x 23 columns]"
      ]
     },
     "execution_count": 27,
     "metadata": {},
     "output_type": "execute_result"
    }
   ],
   "source": [
    "#multiple orders from same customers\n",
    "mult_order = df_tech['Customer ID']\n",
    "df_tech[mult_order.isin(mult_order[mult_order.duplicated()])].sort_values(by='Customer Name')"
   ]
  },
  {
   "cell_type": "code",
   "execution_count": 28,
   "id": "f8edb9d0-1724-485e-b088-7485f3f8da8b",
   "metadata": {},
   "outputs": [
    {
     "data": {
      "text/plain": [
       "490"
      ]
     },
     "execution_count": 28,
     "metadata": {},
     "output_type": "execute_result"
    }
   ],
   "source": [
    "df_tech[mult_order.isin(mult_order[mult_order.duplicated()])].sort_values(by='Customer Name')['Customer ID'].nunique()"
   ]
  },
  {
   "cell_type": "code",
   "execution_count": 29,
   "id": "fcfe5aa1-24c8-4449-9a38-d216dc3b8977",
   "metadata": {
    "tags": []
   },
   "outputs": [
    {
     "data": {
      "text/plain": [
       "Consumer       951\n",
       "Corporate      554\n",
       "Home Office    342\n",
       "Name: Segment, dtype: int64"
      ]
     },
     "execution_count": 29,
     "metadata": {},
     "output_type": "execute_result"
    }
   ],
   "source": [
    "df_tech['Segment'].value_counts()"
   ]
  },
  {
   "cell_type": "code",
   "execution_count": 30,
   "id": "1a8ab352-ce37-4c7e-990b-e93da4627bf6",
   "metadata": {},
   "outputs": [
    {
     "data": {
      "text/plain": [
       "Standard Class    1082\n",
       "Second Class       366\n",
       "First Class        301\n",
       "Same Day            98\n",
       "Name: Ship Mode, dtype: int64"
      ]
     },
     "execution_count": 30,
     "metadata": {},
     "output_type": "execute_result"
    }
   ],
   "source": [
    "df_tech['Ship Mode'].value_counts()"
   ]
  },
  {
   "cell_type": "markdown",
   "id": "fd4af8ac-ff44-4273-8462-1739aee72582",
   "metadata": {},
   "source": [
    "##### Sub-Category"
   ]
  },
  {
   "cell_type": "code",
   "execution_count": 31,
   "id": "c1d53ded-0d5b-4f72-87fc-67d891ad5901",
   "metadata": {},
   "outputs": [
    {
     "data": {
      "text/plain": [
       "(68, 23)"
      ]
     },
     "execution_count": 31,
     "metadata": {},
     "output_type": "execute_result"
    }
   ],
   "source": [
    "copiers = (df['Sub-Category']=='Copiers')\n",
    "df_copiers = df[copiers]\n",
    "df_copiers.shape"
   ]
  },
  {
   "cell_type": "code",
   "execution_count": 32,
   "id": "a777ba61-04ce-4165-91e9-b0c381f797e4",
   "metadata": {},
   "outputs": [
    {
     "data": {
      "text/plain": [
       "64"
      ]
     },
     "execution_count": 32,
     "metadata": {},
     "output_type": "execute_result"
    }
   ],
   "source": [
    "df_copiers['Customer ID'].nunique()"
   ]
  },
  {
   "cell_type": "code",
   "execution_count": 33,
   "id": "5ada236d-0c1d-464f-8ef9-bc1849b237e1",
   "metadata": {},
   "outputs": [
    {
     "data": {
      "text/html": [
       "<div>\n",
       "<style scoped>\n",
       "    .dataframe tbody tr th:only-of-type {\n",
       "        vertical-align: middle;\n",
       "    }\n",
       "\n",
       "    .dataframe tbody tr th {\n",
       "        vertical-align: top;\n",
       "    }\n",
       "\n",
       "    .dataframe thead th {\n",
       "        text-align: right;\n",
       "    }\n",
       "</style>\n",
       "<table border=\"1\" class=\"dataframe\">\n",
       "  <thead>\n",
       "    <tr style=\"text-align: right;\">\n",
       "      <th></th>\n",
       "      <th>Order ID</th>\n",
       "      <th>Order Date</th>\n",
       "      <th>Ship Date</th>\n",
       "      <th>Ship Mode</th>\n",
       "      <th>Customer ID</th>\n",
       "      <th>Customer Name</th>\n",
       "      <th>Segment</th>\n",
       "      <th>Country</th>\n",
       "      <th>City</th>\n",
       "      <th>State</th>\n",
       "      <th>Postal Code</th>\n",
       "      <th>Region</th>\n",
       "      <th>Product ID</th>\n",
       "      <th>Category</th>\n",
       "      <th>Sub-Category</th>\n",
       "      <th>Product Name</th>\n",
       "      <th>Sales</th>\n",
       "      <th>Quantity</th>\n",
       "      <th>Discount</th>\n",
       "      <th>Profit</th>\n",
       "      <th>Year</th>\n",
       "      <th>Month</th>\n",
       "      <th>DOW</th>\n",
       "    </tr>\n",
       "  </thead>\n",
       "  <tbody>\n",
       "    <tr>\n",
       "      <th>3680</th>\n",
       "      <td>CA-2015-105690</td>\n",
       "      <td>2015-11-21</td>\n",
       "      <td>2015-11-26</td>\n",
       "      <td>Second Class</td>\n",
       "      <td>CA-11965</td>\n",
       "      <td>Carol Adams</td>\n",
       "      <td>Corporate</td>\n",
       "      <td>United States</td>\n",
       "      <td>Port Arthur</td>\n",
       "      <td>TX</td>\n",
       "      <td>77642</td>\n",
       "      <td>Central</td>\n",
       "      <td>TEC-CO-10001571</td>\n",
       "      <td>Technology</td>\n",
       "      <td>Copiers</td>\n",
       "      <td>Sharp 1540cs Digital Laser Copier</td>\n",
       "      <td>439.992</td>\n",
       "      <td>1</td>\n",
       "      <td>0.2</td>\n",
       "      <td>164.9970</td>\n",
       "      <td>2015</td>\n",
       "      <td>11</td>\n",
       "      <td>Saturday</td>\n",
       "    </tr>\n",
       "    <tr>\n",
       "      <th>6604</th>\n",
       "      <td>CA-2016-157791</td>\n",
       "      <td>2016-12-23</td>\n",
       "      <td>2016-12-28</td>\n",
       "      <td>Second Class</td>\n",
       "      <td>CA-11965</td>\n",
       "      <td>Carol Adams</td>\n",
       "      <td>Corporate</td>\n",
       "      <td>United States</td>\n",
       "      <td>Warwick</td>\n",
       "      <td>RI</td>\n",
       "      <td>2886</td>\n",
       "      <td>East</td>\n",
       "      <td>TEC-CO-10002095</td>\n",
       "      <td>Technology</td>\n",
       "      <td>Copiers</td>\n",
       "      <td>Hewlett Packard 610 Color Digital Copier / Pri...</td>\n",
       "      <td>1999.960</td>\n",
       "      <td>4</td>\n",
       "      <td>0.0</td>\n",
       "      <td>899.9820</td>\n",
       "      <td>2016</td>\n",
       "      <td>12</td>\n",
       "      <td>Friday</td>\n",
       "    </tr>\n",
       "    <tr>\n",
       "      <th>4742</th>\n",
       "      <td>CA-2016-143714</td>\n",
       "      <td>2016-05-23</td>\n",
       "      <td>2016-05-27</td>\n",
       "      <td>Standard Class</td>\n",
       "      <td>CC-12370</td>\n",
       "      <td>Christopher Conant</td>\n",
       "      <td>Consumer</td>\n",
       "      <td>United States</td>\n",
       "      <td>Philadelphia</td>\n",
       "      <td>PA</td>\n",
       "      <td>19120</td>\n",
       "      <td>East</td>\n",
       "      <td>TEC-CO-10004722</td>\n",
       "      <td>Technology</td>\n",
       "      <td>Copiers</td>\n",
       "      <td>Canon imageCLASS 2200 Advanced Copier</td>\n",
       "      <td>8399.976</td>\n",
       "      <td>4</td>\n",
       "      <td>0.4</td>\n",
       "      <td>1119.9968</td>\n",
       "      <td>2016</td>\n",
       "      <td>5</td>\n",
       "      <td>Monday</td>\n",
       "    </tr>\n",
       "    <tr>\n",
       "      <th>5055</th>\n",
       "      <td>CA-2016-135265</td>\n",
       "      <td>2016-07-07</td>\n",
       "      <td>2016-07-09</td>\n",
       "      <td>Second Class</td>\n",
       "      <td>CC-12370</td>\n",
       "      <td>Christopher Conant</td>\n",
       "      <td>Consumer</td>\n",
       "      <td>United States</td>\n",
       "      <td>Los Angeles</td>\n",
       "      <td>CA</td>\n",
       "      <td>90045</td>\n",
       "      <td>West</td>\n",
       "      <td>TEC-CO-10003763</td>\n",
       "      <td>Technology</td>\n",
       "      <td>Copiers</td>\n",
       "      <td>Canon PC1060 Personal Laser Copier</td>\n",
       "      <td>2799.960</td>\n",
       "      <td>5</td>\n",
       "      <td>0.2</td>\n",
       "      <td>944.9865</td>\n",
       "      <td>2016</td>\n",
       "      <td>7</td>\n",
       "      <td>Thursday</td>\n",
       "    </tr>\n",
       "    <tr>\n",
       "      <th>3111</th>\n",
       "      <td>CA-2015-140984</td>\n",
       "      <td>2015-09-14</td>\n",
       "      <td>2015-09-18</td>\n",
       "      <td>Standard Class</td>\n",
       "      <td>CC-12685</td>\n",
       "      <td>Craig Carroll</td>\n",
       "      <td>Consumer</td>\n",
       "      <td>United States</td>\n",
       "      <td>New York City</td>\n",
       "      <td>NY</td>\n",
       "      <td>10011</td>\n",
       "      <td>East</td>\n",
       "      <td>TEC-CO-10001571</td>\n",
       "      <td>Technology</td>\n",
       "      <td>Copiers</td>\n",
       "      <td>Sharp 1540cs Digital Laser Copier</td>\n",
       "      <td>879.984</td>\n",
       "      <td>2</td>\n",
       "      <td>0.2</td>\n",
       "      <td>329.9940</td>\n",
       "      <td>2015</td>\n",
       "      <td>9</td>\n",
       "      <td>Monday</td>\n",
       "    </tr>\n",
       "    <tr>\n",
       "      <th>3398</th>\n",
       "      <td>CA-2015-109190</td>\n",
       "      <td>2015-10-23</td>\n",
       "      <td>2015-10-28</td>\n",
       "      <td>Standard Class</td>\n",
       "      <td>CC-12685</td>\n",
       "      <td>Craig Carroll</td>\n",
       "      <td>Consumer</td>\n",
       "      <td>United States</td>\n",
       "      <td>Lubbock</td>\n",
       "      <td>TX</td>\n",
       "      <td>79424</td>\n",
       "      <td>Central</td>\n",
       "      <td>TEC-CO-10001943</td>\n",
       "      <td>Technology</td>\n",
       "      <td>Copiers</td>\n",
       "      <td>Canon PC-428 Personal Copier</td>\n",
       "      <td>479.976</td>\n",
       "      <td>3</td>\n",
       "      <td>0.2</td>\n",
       "      <td>161.9919</td>\n",
       "      <td>2015</td>\n",
       "      <td>10</td>\n",
       "      <td>Friday</td>\n",
       "    </tr>\n",
       "    <tr>\n",
       "      <th>858</th>\n",
       "      <td>CA-2014-124478</td>\n",
       "      <td>2014-08-08</td>\n",
       "      <td>2014-08-12</td>\n",
       "      <td>Standard Class</td>\n",
       "      <td>MA-17560</td>\n",
       "      <td>Matt Abelman</td>\n",
       "      <td>Home Office</td>\n",
       "      <td>United States</td>\n",
       "      <td>Trenton</td>\n",
       "      <td>MI</td>\n",
       "      <td>48183</td>\n",
       "      <td>Central</td>\n",
       "      <td>TEC-CO-10001571</td>\n",
       "      <td>Technology</td>\n",
       "      <td>Copiers</td>\n",
       "      <td>Sharp 1540cs Digital Laser Copier</td>\n",
       "      <td>549.990</td>\n",
       "      <td>1</td>\n",
       "      <td>0.0</td>\n",
       "      <td>274.9950</td>\n",
       "      <td>2014</td>\n",
       "      <td>8</td>\n",
       "      <td>Friday</td>\n",
       "    </tr>\n",
       "    <tr>\n",
       "      <th>3873</th>\n",
       "      <td>CA-2015-143105</td>\n",
       "      <td>2015-12-10</td>\n",
       "      <td>2015-12-10</td>\n",
       "      <td>Same Day</td>\n",
       "      <td>MA-17560</td>\n",
       "      <td>Matt Abelman</td>\n",
       "      <td>Home Office</td>\n",
       "      <td>United States</td>\n",
       "      <td>New York City</td>\n",
       "      <td>NY</td>\n",
       "      <td>10024</td>\n",
       "      <td>East</td>\n",
       "      <td>TEC-CO-10002095</td>\n",
       "      <td>Technology</td>\n",
       "      <td>Copiers</td>\n",
       "      <td>Hewlett Packard 610 Color Digital Copier / Pri...</td>\n",
       "      <td>799.984</td>\n",
       "      <td>2</td>\n",
       "      <td>0.2</td>\n",
       "      <td>249.9950</td>\n",
       "      <td>2015</td>\n",
       "      <td>12</td>\n",
       "      <td>Thursday</td>\n",
       "    </tr>\n",
       "  </tbody>\n",
       "</table>\n",
       "</div>"
      ],
      "text/plain": [
       "            Order ID Order Date  Ship Date       Ship Mode Customer ID  \\\n",
       "3680  CA-2015-105690 2015-11-21 2015-11-26    Second Class    CA-11965   \n",
       "6604  CA-2016-157791 2016-12-23 2016-12-28    Second Class    CA-11965   \n",
       "4742  CA-2016-143714 2016-05-23 2016-05-27  Standard Class    CC-12370   \n",
       "5055  CA-2016-135265 2016-07-07 2016-07-09    Second Class    CC-12370   \n",
       "3111  CA-2015-140984 2015-09-14 2015-09-18  Standard Class    CC-12685   \n",
       "3398  CA-2015-109190 2015-10-23 2015-10-28  Standard Class    CC-12685   \n",
       "858   CA-2014-124478 2014-08-08 2014-08-12  Standard Class    MA-17560   \n",
       "3873  CA-2015-143105 2015-12-10 2015-12-10        Same Day    MA-17560   \n",
       "\n",
       "           Customer Name      Segment        Country           City State  \\\n",
       "3680         Carol Adams    Corporate  United States    Port Arthur    TX   \n",
       "6604         Carol Adams    Corporate  United States        Warwick    RI   \n",
       "4742  Christopher Conant     Consumer  United States   Philadelphia    PA   \n",
       "5055  Christopher Conant     Consumer  United States    Los Angeles    CA   \n",
       "3111       Craig Carroll     Consumer  United States  New York City    NY   \n",
       "3398       Craig Carroll     Consumer  United States        Lubbock    TX   \n",
       "858         Matt Abelman  Home Office  United States        Trenton    MI   \n",
       "3873        Matt Abelman  Home Office  United States  New York City    NY   \n",
       "\n",
       "     Postal Code   Region       Product ID    Category Sub-Category  \\\n",
       "3680       77642  Central  TEC-CO-10001571  Technology      Copiers   \n",
       "6604        2886     East  TEC-CO-10002095  Technology      Copiers   \n",
       "4742       19120     East  TEC-CO-10004722  Technology      Copiers   \n",
       "5055       90045     West  TEC-CO-10003763  Technology      Copiers   \n",
       "3111       10011     East  TEC-CO-10001571  Technology      Copiers   \n",
       "3398       79424  Central  TEC-CO-10001943  Technology      Copiers   \n",
       "858        48183  Central  TEC-CO-10001571  Technology      Copiers   \n",
       "3873       10024     East  TEC-CO-10002095  Technology      Copiers   \n",
       "\n",
       "                                           Product Name     Sales  Quantity  \\\n",
       "3680                  Sharp 1540cs Digital Laser Copier   439.992         1   \n",
       "6604  Hewlett Packard 610 Color Digital Copier / Pri...  1999.960         4   \n",
       "4742              Canon imageCLASS 2200 Advanced Copier  8399.976         4   \n",
       "5055                 Canon PC1060 Personal Laser Copier  2799.960         5   \n",
       "3111                  Sharp 1540cs Digital Laser Copier   879.984         2   \n",
       "3398                       Canon PC-428 Personal Copier   479.976         3   \n",
       "858                   Sharp 1540cs Digital Laser Copier   549.990         1   \n",
       "3873  Hewlett Packard 610 Color Digital Copier / Pri...   799.984         2   \n",
       "\n",
       "      Discount     Profit  Year  Month       DOW  \n",
       "3680       0.2   164.9970  2015     11  Saturday  \n",
       "6604       0.0   899.9820  2016     12    Friday  \n",
       "4742       0.4  1119.9968  2016      5    Monday  \n",
       "5055       0.2   944.9865  2016      7  Thursday  \n",
       "3111       0.2   329.9940  2015      9    Monday  \n",
       "3398       0.2   161.9919  2015     10    Friday  \n",
       "858        0.0   274.9950  2014      8    Friday  \n",
       "3873       0.2   249.9950  2015     12  Thursday  "
      ]
     },
     "execution_count": 33,
     "metadata": {},
     "output_type": "execute_result"
    }
   ],
   "source": [
    "#multiple orders from same customers\n",
    "mult_order = df_copiers['Customer ID']\n",
    "df_copiers[mult_order.isin(mult_order[mult_order.duplicated()])].sort_values(by='Customer Name')"
   ]
  },
  {
   "cell_type": "code",
   "execution_count": 34,
   "id": "31a2057d-2496-44a1-a855-480ce44d0627",
   "metadata": {},
   "outputs": [
    {
     "data": {
      "text/plain": [
       "Consumer       35\n",
       "Corporate      20\n",
       "Home Office    13\n",
       "Name: Segment, dtype: int64"
      ]
     },
     "execution_count": 34,
     "metadata": {},
     "output_type": "execute_result"
    }
   ],
   "source": [
    "df_copiers['Segment'].value_counts()"
   ]
  },
  {
   "cell_type": "code",
   "execution_count": 35,
   "id": "29e8b520-4d95-4c6f-886b-0b24c69ddf40",
   "metadata": {},
   "outputs": [
    {
     "data": {
      "text/plain": [
       "Standard Class    36\n",
       "Second Class      15\n",
       "First Class       12\n",
       "Same Day           5\n",
       "Name: Ship Mode, dtype: int64"
      ]
     },
     "execution_count": 35,
     "metadata": {},
     "output_type": "execute_result"
    }
   ],
   "source": [
    "df_copiers['Ship Mode'].value_counts()"
   ]
  },
  {
   "cell_type": "markdown",
   "id": "82ea1244-d82c-4c36-8865-311b58678334",
   "metadata": {},
   "source": [
    "The majority of technology customers and copier buyers were consumers and most used standard shipping. We had 290 technology customer with multiple purchases. There is unfortunately not enough data to make any recommendations to target more technology customers."
   ]
  },
  {
   "cell_type": "markdown",
   "id": "d44f559a-2e88-4b04-9922-3d99be6e3fd8",
   "metadata": {},
   "source": [
    "## Recommendations"
   ]
  },
  {
   "cell_type": "markdown",
   "id": "d5996d6c-6d8f-4e20-86de-0c0d134d6fe8",
   "metadata": {},
   "source": [
    "On the surface level, we should continue selling more of our products that sell well and have high profit margins:\n",
    "\n",
    "* Accessories\n",
    "* Phones\n",
    "* Paper\n",
    "\n",
    "However, copiers bring in the most revenue, but the quantity is not very high. It was the biggest driver in our increase in profits. Our sales team should focus more on selling more copiers to maximize profits. \n",
    "\n",
    "We can also start to limit inventory on our categories that bring a negative profit margin:\n",
    "\n",
    "* Tables\n",
    "* Machines\n",
    "* Supplies\n",
    "* Bookcases\n",
    "\n",
    "There can be further analysis done on which products are profitable within each sub-category."
   ]
  }
 ],
 "metadata": {
  "kernelspec": {
   "display_name": "Python 3 (ipykernel)",
   "language": "python",
   "name": "python3"
  },
  "language_info": {
   "codemirror_mode": {
    "name": "ipython",
    "version": 3
   },
   "file_extension": ".py",
   "mimetype": "text/x-python",
   "name": "python",
   "nbconvert_exporter": "python",
   "pygments_lexer": "ipython3",
   "version": "3.10.4"
  }
 },
 "nbformat": 4,
 "nbformat_minor": 5
}
